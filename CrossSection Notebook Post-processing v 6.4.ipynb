{
 "cells": [
  {
   "cell_type": "markdown",
   "metadata": {
    "ExecuteTime": {
     "end_time": "2020-06-23T10:43:59.532599Z",
     "start_time": "2020-06-23T10:43:59.485641Z"
    }
   },
   "source": [
    "# CrossSection Post-processing"
   ]
  },
  {
   "cell_type": "markdown",
   "metadata": {},
   "source": [
    "## Basics"
   ]
  },
  {
   "cell_type": "markdown",
   "metadata": {},
   "source": [
    "### Revision control"
   ]
  },
  {
   "cell_type": "markdown",
   "metadata": {},
   "source": [
    "Version 6.4\n",
    "- Combine different contact bodies\n",
    "- NOT DONE: Fix hardcoding of stress\n",
    "- NOT DONE: Fix so that file written can take different number of columns for each load case - put into dataframe and use .to_csv?\n",
    "- Read positions based on curvature gradient?\n",
    "\n",
    "Version 6.3\n",
    "- Added stress from mentat post-processing in dataframe (layer and position is hardcoded to Cauchy 11 Pref TA Inner max EF\n",
    "\n",
    "Version 6.2\n",
    "- General update of code\n",
    "- Added possibility to plot for each part in each case\n",
    "\n",
    "Version 6.1\n",
    "- Worked throught the code with updates\n",
    "- Improved readability and robustness\n",
    "\n",
    "Version 6.0\n",
    "- Based on version 5.2\n",
    "- Updated with better documentation as being used\n",
    "- Included and refreshed parts used for axisymmetric post-processing"
   ]
  },
  {
   "cell_type": "markdown",
   "metadata": {
    "ExecuteTime": {
     "end_time": "2020-06-23T10:47:19.370345Z",
     "start_time": "2020-06-23T10:47:19.367348Z"
    }
   },
   "source": [
    "### Import"
   ]
  },
  {
   "cell_type": "code",
   "execution_count": 1,
   "metadata": {
    "ExecuteTime": {
     "end_time": "2022-05-05T12:26:12.385766Z",
     "start_time": "2022-05-05T12:26:09.862667Z"
    }
   },
   "outputs": [
    {
     "data": {
      "text/html": [
       "        <script type=\"text/javascript\">\n",
       "        window.PlotlyConfig = {MathJaxConfig: 'local'};\n",
       "        if (window.MathJax) {MathJax.Hub.Config({SVG: {font: \"STIX-Web\"}});}\n",
       "        if (typeof require !== 'undefined') {\n",
       "        require.undef(\"plotly\");\n",
       "        requirejs.config({\n",
       "            paths: {\n",
       "                'plotly': ['https://cdn.plot.ly/plotly-latest.min']\n",
       "            }\n",
       "        });\n",
       "        require(['plotly'], function(Plotly) {\n",
       "            window._Plotly = Plotly;\n",
       "        });\n",
       "        }\n",
       "        </script>\n",
       "        "
      ]
     },
     "metadata": {},
     "output_type": "display_data"
    }
   ],
   "source": [
    "# Modules\n",
    "import pathlib\n",
    "import plotly\n",
    "import logging\n",
    "import re\n",
    "import os\n",
    "\n",
    "# Modules with short names\n",
    "import pandas as pd\n",
    "import plotly.graph_objs as go\n",
    "import ipywidgets.widgets as widgets\n",
    "\n",
    "# Packes from modules\n",
    "from tqdm.notebook import tqdm\n",
    "from ipywidgets import Layout\n",
    "from IPython.display import display, clear_output, HTML\n",
    "plotly.offline.init_notebook_mode(connected=True)\n",
    "\n",
    "# Initiate logging\n",
    "logging.basicConfig(filename=r'CS_posting_v2.log',\n",
    "                    level=logging.INFO, format='%(asctime)s %(levelname)s %(message)s')\n",
    "\n",
    "logging.info('STARTED')"
   ]
  },
  {
   "cell_type": "markdown",
   "metadata": {},
   "source": [
    "### Functions"
   ]
  },
  {
   "cell_type": "code",
   "execution_count": 2,
   "metadata": {
    "ExecuteTime": {
     "end_time": "2022-05-05T12:26:15.141040Z",
     "start_time": "2022-05-05T12:26:14.941219Z"
    }
   },
   "outputs": [
    {
     "ename": "NameError",
     "evalue": "name 'file_dir' is not defined",
     "output_type": "error",
     "traceback": [
      "\u001b[1;31m---------------------------------------------------------------------------\u001b[0m",
      "\u001b[1;31mNameError\u001b[0m                                 Traceback (most recent call last)",
      "\u001b[1;32m<ipython-input-2-46ca675c126a>\u001b[0m in \u001b[0;36m<module>\u001b[1;34m\u001b[0m\n\u001b[0;32m     18\u001b[0m \u001b[1;33m\u001b[0m\u001b[0m\n\u001b[0;32m     19\u001b[0m \u001b[1;31m# Specify whether to look after element set or contact body name\u001b[0m\u001b[1;33m\u001b[0m\u001b[1;33m\u001b[0m\u001b[1;33m\u001b[0m\u001b[0m\n\u001b[1;32m---> 20\u001b[1;33m \u001b[1;32mif\u001b[0m \u001b[0mos\u001b[0m\u001b[1;33m.\u001b[0m\u001b[0mpath\u001b[0m\u001b[1;33m.\u001b[0m\u001b[0misfile\u001b[0m\u001b[1;33m(\u001b[0m\u001b[0mfile_dir\u001b[0m\u001b[1;33m)\u001b[0m\u001b[1;33m:\u001b[0m\u001b[1;33m\u001b[0m\u001b[1;33m\u001b[0m\u001b[0m\n\u001b[0m\u001b[0;32m     21\u001b[0m     \u001b[1;32mif\u001b[0m \u001b[1;34m'sum'\u001b[0m \u001b[1;32min\u001b[0m \u001b[0mfile_dir\u001b[0m\u001b[1;33m.\u001b[0m\u001b[0mname\u001b[0m\u001b[1;33m:\u001b[0m\u001b[1;33m\u001b[0m\u001b[1;33m\u001b[0m\u001b[0m\n\u001b[0;32m     22\u001b[0m         \u001b[0mcs_type\u001b[0m \u001b[1;33m=\u001b[0m\u001b[1;34m'Element Set'\u001b[0m\u001b[1;33m\u001b[0m\u001b[1;33m\u001b[0m\u001b[0m\n",
      "\u001b[1;31mNameError\u001b[0m: name 'file_dir' is not defined"
     ]
    }
   ],
   "source": [
    "# file_dir = pathlib.Path(r'C:\\Projects\\1638\\Marc\\Model_EF\\SNA_2p_ef_t8_gap2_job1_10559cb.csv')\n",
    "combine = ['Flextensile1', 'Flextensile2']\n",
    "\n",
    "\"\"\"\n",
    "Reads .csv-file produced by CrossSection\n",
    "Renames columns to more readable names\n",
    "Calculates \"total force\"\n",
    "\n",
    "Input:\n",
    "- file_dir : directory of file (pathLib)\n",
    "- combine : combine all bodies matching the names in combine (list)\n",
    "\n",
    "TODO: Return von mieses\n",
    "\"\"\"\n",
    "\n",
    "# Definitions\n",
    "name, new_name = '', ''\n",
    "\n",
    "# Specify whether to look after element set or contact body name\n",
    "if os.path.isfile(file_dir):\n",
    "    if 'sum' in file_dir.name:\n",
    "        cs_type ='Element Set'\n",
    "    elif 'cb' in file_dir.name:\n",
    "        cs_type = 'Contact Body'\n",
    "    else:\n",
    "        raise Exception(f'Check {file_dir} name - should contain cb or sum')\n",
    "else:\n",
    "    raise Exception(f'cs_reader did not find {file_dir}')\n",
    "\n",
    "# Read csv file\n",
    "df = pd.read_csv(file_dir)\n",
    "df.dropna(how='all', axis=1, inplace=True) # removes columns with nan only\n",
    "\n",
    "# Combine columns\n",
    "df_combined = pd.DataFrame()\n",
    "if isinstance(combine, list):\n",
    "    for layer in combine:\n",
    "        # Find columns to combine\n",
    "        df_comb = df[[col for col in df.columns if layer in col]]\n",
    "\n",
    "        # Find properties\n",
    "        props = set(col.split('.')[0] for col in df_comb.columns)\n",
    "\n",
    "        # Iterate over properties and combine columns with match\n",
    "        for prop in props:\n",
    "            comb_match = f'{prop}.{layer}'\n",
    "            df_combined[comb_match] = df_comb[[col for col in df_comb.columns if comb_match in col]].sum(axis=1)\n",
    "\n",
    "    # Find columns that have been combined and that are excessive\n",
    "    columns_final = df_combined.columns\n",
    "    columns_all = [col for col in df.columns if any([layer in col for layer in combine])]\n",
    "    columns_excessive = list([l for l in columns_all if l not in columns_final])\n",
    "\n",
    "    # Remove excessive columns and change content in matched columns\n",
    "    df.drop(columns_excessive, inplace=True, axis=1)\n",
    "    \n",
    "    # Changes columns\n",
    "    for col in columns_final:\n",
    "        df[col] = df_combined[col]\n",
    "\n",
    "# Find element data: number, names and order\n",
    "for c in df.columns.values:\n",
    "    if cs_type in c:\n",
    "        name = df[c][1].strip()\n",
    "    if name:\n",
    "        col_name = c.split('.')[0]\n",
    "        new_name = '.'.join([col_name, name])\n",
    "        df.rename(columns={c : new_name}, inplace=True)\n",
    "\n",
    "\n",
    "# Calc additional parameters for each part\n",
    "cbodies = set([n.split('.')[-1] for n in df.columns.values if '.' in n])\n",
    "\n",
    "for p in sorted(cbodies):\n",
    "    # Total force\n",
    "    df['.'.join(['Ftot', p])] = (df['.'.join(['Fx', p])]**2 + \n",
    "                                 df['.'.join(['Fy', p])]**2 + \n",
    "                                 df['.'.join(['Fz', p])]**2).pow(1/2)\n",
    "\n",
    "    # Calc stiffness for each part\n",
    "    df['.'.join(['EI', p])] = (df['.'.join(['My', p])] / df['.'.join(['K1_2'])]).replace([np.inf], 0.0)"
   ]
  },
  {
   "cell_type": "code",
   "execution_count": 3,
   "metadata": {
    "ExecuteTime": {
     "end_time": "2022-05-05T12:26:17.562713Z",
     "start_time": "2022-05-05T12:26:17.486780Z"
    },
    "code_folding": []
   },
   "outputs": [],
   "source": [
    "def cs_reader(file_dir, combine=''):\n",
    "    \"\"\"\n",
    "    Reads .csv-file produced by CrossSection\n",
    "    Renames columns to more readable names\n",
    "    Calculates \"total force\"\n",
    "\n",
    "    Input:\n",
    "    - file_dir : directory of file (pathLib)\n",
    "    - combine : combine all bodies matching the names in combine (list)\n",
    "\n",
    "    TODO: Return von mieses\n",
    "    \"\"\"\n",
    "\n",
    "    # Definitions\n",
    "    name, new_name = '', ''\n",
    "\n",
    "    # Specify whether to look after element set or contact body name\n",
    "    if os.path.isfile(file_dir):\n",
    "        if 'sum' in file_dir.name:\n",
    "            cs_type ='Element Set'\n",
    "        elif 'cb' in file_dir.name:\n",
    "            cs_type = 'Contact Body'\n",
    "        else:\n",
    "            raise Exception(f'Check {file_dir} name - should contain cb or sum')\n",
    "    else:\n",
    "        raise Exception(f'cs_reader did not find {file_dir}')\n",
    "\n",
    "    # Read csv file\n",
    "    df = pd.read_csv(file_dir)\n",
    "    df.dropna(how='all', axis=1, inplace=True) # removes columns with nan only\n",
    "\n",
    "    # Combine columns\n",
    "    df_combined = pd.DataFrame()\n",
    "    if isinstance(combine, list):\n",
    "        for layer in combine:\n",
    "            # Find columns to combine\n",
    "            df_comb = df[[col for col in df.columns if layer in col]]\n",
    "\n",
    "            # Find properties\n",
    "            props = set(col.split('.')[0] for col in df_comb.columns)\n",
    "\n",
    "            # Iterate over properties and combine columns with match\n",
    "            for prop in props:\n",
    "                comb_match = f'{prop}.{layer}'\n",
    "                df_combined[comb_match] = df_comb[[col for col in df_comb.columns if comb_match in col]].sum(axis=1)\n",
    "\n",
    "        # Find columns that have been combined and that are excessive\n",
    "        columns_final = df_combined.columns\n",
    "        columns_all = [col for col in df.columns if any([layer in col for layer in combine])]\n",
    "        columns_excessive = list([l for l in columns_all if l not in columns_final])\n",
    "\n",
    "        # Remove excessive columns and change content in matched columns\n",
    "        df.drop(columns_excessive, inplace=True, axis=1)\n",
    "        \n",
    "        # Changes columns\n",
    "        for col in columns_final:\n",
    "            df[col] = df_combined[col]\n",
    "\n",
    "\n",
    "    # Find element data: number, names and order\n",
    "    for c in df.columns.values:\n",
    "        if cs_type in c:\n",
    "            name = df[c][1].strip()\n",
    "        if name:\n",
    "            col_name = c.split('.')[0]\n",
    "            new_name = '.'.join([col_name, name])\n",
    "            df.rename(columns={c : new_name}, inplace=True)\n",
    "\n",
    "\n",
    "    # Calc additional parameters for each part\n",
    "    cbodies = set([n.split('.')[-1] for n in df.columns.values if '.' in n])\n",
    "\n",
    "    for p in sorted(cbodies):\n",
    "        # Total force\n",
    "        df['.'.join(['Ftot', p])] = (df['.'.join(['Fx', p])]**2 + \n",
    "                                     df['.'.join(['Fy', p])]**2 + \n",
    "                                     df['.'.join(['Fz', p])]**2).pow(1/2)\n",
    "\n",
    "        # Calc stiffness for each part\n",
    "        df['.'.join(['EI', p])] = (df['.'.join(['My', p])] / df['.'.join(['K1_2'])]).replace([np.inf], 0.0)\n",
    "        \n",
    "    return df, cbodies\n",
    "\n",
    "\n",
    "def find_files(run_dir, *args):\n",
    "    '''\n",
    "    Function that finds all files with specified ending\n",
    "    \n",
    "    :param run_dir: Directory containing files\n",
    "    :param args: Arguments which run_dir must contain\n",
    "    \n",
    "    :return files: Files containing arguments\n",
    "\n",
    "    '''\n",
    "    files = []\n",
    "    \n",
    "    for arg in args:\n",
    "        file_paths = sorted(run_dir.rglob(f'*{arg}*'))\n",
    "        files += [p.relative_to(run_dir) for p in file_paths]\n",
    "    \n",
    "    return files\n",
    "\n",
    "\n",
    "def find_ranges(my_dict, x_divisor=500, y_divisor=50000):\n",
    "    '''\n",
    "    Function that finds the range of the x- and y-axis based on data in my_dict\n",
    "    \n",
    "    :dict my_dict: Dictionary to process\n",
    "    :param x_divisor: Number the x-range are rounded up to\n",
    "    :param y_divisor: Number the y-range are rounded up to\n",
    "    \n",
    "    :return x_range, y_range: Two lists with min/max\n",
    "    '''\n",
    "    \n",
    "    x_max = max(list(my_dict.values())[0].columns.values)\n",
    "    x_range = [0, ((x_max // x_divisor + 1) * x_divisor)]\n",
    "\n",
    "    y_max = 0\n",
    "    y_min = 0\n",
    "    for layer in my_dict.keys():\n",
    "        if 'SUM' not in layer:\n",
    "            for col in my_dict[layer].columns.values:\n",
    "                my_list = list(my_dict[layer][col])\n",
    "                my_min = min(my_list)\n",
    "                my_max = max(my_list)\n",
    "\n",
    "                if my_min < y_min:\n",
    "                    y_min = my_min\n",
    "\n",
    "                if my_max > y_max:\n",
    "                    y_max = my_max\n",
    "\n",
    "    y_range_max = ((y_max // y_divisor + 1) * y_divisor)\n",
    "    y_range_min = ((abs(y_min) // y_divisor + 1) * y_divisor) * -1\n",
    "\n",
    "    y_range = [y_range_min, y_range_max]\n",
    "    \n",
    "    return x_range, y_range\n",
    "\n",
    "\n",
    "def read_results(case_path, res):\n",
    "    '''\n",
    "    Function that reads all .csv-files in case_path\n",
    "    \n",
    "    :param case_pth: path with .csv-files\n",
    "    :param res: result to be extracted from csv-file\n",
    "    \n",
    "    TODO: \n",
    "    - Hva hvis det er .csv-filer som ikke inneholder resultater i mappen?\n",
    "    '''\n",
    "    \n",
    "    # Initialize vectors\n",
    "    res_dict = {}\n",
    "    temp_dict = {}\n",
    "    time = pd.DataFrame()\n",
    "    displacements = pd.DataFrame()\n",
    "    temp_df = pd.DataFrame()\n",
    "    \n",
    "    # Find .csv-files with results\n",
    "    csv_files = find_files(case_path, 'csv')\n",
    "    \n",
    "    # Find names of contact bodies\n",
    "    df = pd.read_csv(case_path / csv_files[0]) # NEW\n",
    "    names = [df[cb][0].lstrip() for cb in df.columns.values if 'Contact Body' in cb]\n",
    "    \n",
    "    # Initialize dictionary with dataframe for each layer\n",
    "    for name in names:\n",
    "        res_dict[name] = pd.DataFrame()\n",
    "    \n",
    "    # Extract desired result from each file\n",
    "    for csv_file in csv_files:\n",
    "        csv_name = csv_file.stem\n",
    "        node = csv_name.split('_')[-1].replace('cb', '')\n",
    "        \n",
    "        csv_path = case_path / csv_file\n",
    "        df = pd.read_csv(csv_path)\n",
    "        \n",
    "        temp_dict[node] = extract_results(df, res)\n",
    "    \n",
    "    # Re-format data\n",
    "    for node in temp_dict.keys():\n",
    "        displacements[node] = temp_dict[node]['X-disp']\n",
    "        \n",
    "        for name in names:\n",
    "            res_dict[name][displacements[node][0]] = temp_dict[node][name]\n",
    "        \n",
    "    res_dict['X-disp'] = displacements\n",
    "    \n",
    "    # Sort columns (with forces for axial positions along pipe) numerically for plotting\n",
    "    for name in res_dict.keys():\n",
    "        res_dict[name] = res_dict[name].sort_index(axis=1)\n",
    "    \n",
    "    return res_dict\n",
    "\n",
    "\n",
    "def extract_results(df, res):\n",
    "    '''\n",
    "    Function that extract result result from dataframe\n",
    "    \n",
    "    :param df: DataFrame wtih all results\n",
    "    :param res: Result to be extracted\n",
    "    \n",
    "    :return df_res: DataFrame with selected results\n",
    "    '''\n",
    "    \n",
    "    if not isinstance(res, str):\n",
    "        sys.exit('{} is not a string'.format(res))\n",
    "        \n",
    "    df_res = pd.DataFrame()\n",
    "    node_disp = pd.DataFrame()\n",
    "    \n",
    "    df_res['Time'] = df['time']\n",
    "    df_res['X-disp'] = df['Origo X GCS']\n",
    "    \n",
    "    names = [df[cb][0].lstrip() for cb in df.columns.values if 'Contact Body' in cb] # extract names of contact bodies\n",
    "    res_cols = [col for col in df.columns if res in col]\n",
    "\n",
    "    if len(res_cols) == len(names):\n",
    "        for i, col in enumerate(res_cols):\n",
    "            df_res[names[i]] = df[col]\n",
    "\n",
    "        return df_res\n",
    "    else:\n",
    "        sys.exit('Can not extract {} from dataframe'.format(res))\n",
    "        \n",
    "        \n",
    "def trim_list(my_list, rem_strings):\n",
    "    '''\n",
    "    Function that removes strings from a list\n",
    "    \n",
    "    :list my_list: List with strings\n",
    "    :list rem_strings: List with strings to be removed.\n",
    "    \n",
    "    :return my_list: List with strings removed\n",
    "    '''\n",
    "    \n",
    "    for s in rem_strings:\n",
    "        if s in my_list:\n",
    "            my_list.remove(s)\n",
    "    return my_list\n",
    "\n",
    "\n",
    "def strain2stress(df):\n",
    "    '''\n",
    "    Function used to show stress of material instead of strain,\n",
    "    which is given by CS as default\n",
    "    \n",
    "    df : \n",
    "        \n",
    "    '''\n",
    "    \n",
    "    df_res = {}\n",
    "    # read excel\n",
    "    mat_316 = pd.ExcelFile(os.path.join(project_folder, '1324_Material.xlsx')).parse('316')\n",
    "    \n",
    "    for case in df.keys():\n",
    "        df_stress = pd.DataFrame()\n",
    "        for col in df[case].columns.values:\n",
    "            df_stress[c] = np.interp(df[case][col], \n",
    "                                     mat_316['True plastic strain'], \n",
    "                                     mat_316['True stress'])\n",
    "\n",
    "        df_res[case] = df_stress.where(df_stress > mat_316['True stress'][0])\n",
    "        \n",
    "    return df_res\n",
    "\n",
    "\n",
    "def plot_data(x, y, res, keep='', remove='', plot_title=''):\n",
    "    \"\"\"\n",
    "    Function used to hide default input from main cell\n",
    "    \n",
    "    x : dataframe to be plotted along x-axis\n",
    "    y : dataframe to be plotted along y-axis\n",
    "    res : result to be plotted (e.g. 'Fx')\n",
    "    keep : if to keep only a selected number of sets/cbs (e.g. 'brick1', 'brick2')\n",
    "    remove : if to remove selected sets/cbs (e.g. 'none', 'liner')\n",
    "    plot_title : title of plot. default is case name\n",
    "    \"\"\"\n",
    "    \n",
    "    if not isinstance(res, str):\n",
    "        raise Exception('Error in plot_data - res not string')\n",
    "    \n",
    "    df_plot = df_filter(y, res, keep, remove)\n",
    "    \n",
    "    data = []\n",
    "    for i, plot_list in enumerate(df_plot.columns.values):\n",
    "        name = plot_list.split('.')[-1]\n",
    "        if name[0:-1] in set_explanation.keys():\n",
    "            name = set_explanation[name[0:-1]] + name[-1]\n",
    "        else:\n",
    "            name = name.capitalize()\n",
    "            \n",
    "        trace = go.Scatter(mode=line_styles[0],\n",
    "                           x = x,\n",
    "                           y = df_plot[plot_list],\n",
    "                           name = name,\n",
    "                           line = {'color' : colors_4s[i]}\n",
    "                          )\n",
    "        data.append(trace)\n",
    "                  \n",
    "    try:\n",
    "        yaxis_title = fm_units[plot_list.split('.')[0]]\n",
    "    except (KeyError, UnboundLocalError):\n",
    "        yaxis_title = 'Plastic strain [-]'\n",
    "        #yaxis_title = keep\n",
    "        \n",
    "    layout = go.Layout(title=plot_title,\n",
    "                       xaxis=dict(title='Contact force [N]'),\n",
    "                       #yaxis=dict(title='Plastic strain [-]'))\n",
    "                       yaxis=dict(title=yaxis_title))\n",
    "    \n",
    "    plotly.offline.iplot(go.Figure(data=data, layout=layout))\n",
    "\n",
    "    \n",
    "def read_excel_results(excel_file_dir, res, cases):\n",
    "    '''\n",
    "    Reads each sheet in excel_file_dir, and only columns matching 'res' will be extracted.\n",
    "    Sheet name will be changed to readable format based on dictionary 'cases'\n",
    "    \n",
    "    TODO:\n",
    "    - What if excel sheet gives multiple matches? E.g. if both Contact Force X & Y is present?\n",
    "    '''\n",
    "    df_excel = {}\n",
    "    xl = pd.ExcelFile(excel_file_dir)\n",
    "        \n",
    "    # For each sheet - this gives result on format df_excel[case][result]\n",
    "    for sheet in xl.sheet_names:\n",
    "        if any([sheet in case for case in cases.values()]):\n",
    "            df = xl.parse(sheet)\n",
    "            df.dropna(how='all', axis=1, inplace=True)\n",
    "\n",
    "            df_excel[sheet] = df\n",
    "        \n",
    "    return df_excel\n",
    "\n",
    "\n",
    "def df_filter(df, res='', keep='', remove=''):\n",
    "    \"\"\"\n",
    "    For the dataframe 'df', ONLY the result 'res' will be kept, and columns containing words in 'remove' will be removed\n",
    "    \n",
    "    df : dataframe to filter\n",
    "    res : result to be kept\n",
    "    keep : strings to be kept\n",
    "    remove : strings to be removed\n",
    "    \n",
    "    TODO: df.drop lines can def be improved wrt readability\n",
    "    \"\"\"\n",
    "    logging.info(f'{keep}')\n",
    "    # Check type - converts to lists    \n",
    "    if isinstance(res, str):\n",
    "        res = [res]\n",
    "    \n",
    "    if isinstance(remove, str):\n",
    "        remove = [remove]\n",
    "        \n",
    "    if isinstance(keep, str):\n",
    "        keep = [keep]\n",
    "\n",
    "    # Operations\n",
    "    for r in res:\n",
    "        if r != '':\n",
    "            df = df.filter(regex=r)\n",
    "            \n",
    "    if keep != ['']:\n",
    "        # Default keep\n",
    "        keep = ['inc', 'time', 'K1_2', 'Ovality Y'] + keep\n",
    "        \n",
    "        # Keep\n",
    "        logging.info(f'{list(df.columns.values)}')\n",
    "        df = df.drop([i for i in df.columns.values if not any(y for y in keep if i.lower().endswith(y.lower()))], axis=1)\n",
    "        logging.info(f'{keep}')\n",
    "    if remove != ['']:\n",
    "        # Remove\n",
    "        df = df.drop([i for i in df.columns.values if any(y for y in remove if i.lower().endswith(y.lower()))], axis=1)\n",
    "    \n",
    "    return df\n",
    "\n",
    "\n",
    "def df_combine_csv(case, excel_file, post_folder):\n",
    "    \"\"\"\n",
    "    \n",
    "    ! U N F I N I S H E D   A N D   U N U S E D !\n",
    "    \n",
    "    For cases where multiple independent cuts and sets have been run, \n",
    "    this function collects and stores all sets in a dataframe\n",
    "    \n",
    "    case : \n",
    "    excel_file : \n",
    "    post_folder : \n",
    "    \"\"\"\n",
    "    \n",
    "    df_set = pd.DataFrame()\n",
    "    xl = pd.ExcelFile(os.path.join(project_folder, excel_file))\n",
    "    \n",
    "    # extract info from excel file\n",
    "    for sheet in xl.sheet_names:\n",
    "        case_folder = os.path.join(sheet, post_folder)\n",
    "        df_excel = xl.parse(sheet)\n",
    "        \n",
    "        if case in sheet:\n",
    "            # read each csv-file and combine into one df\n",
    "            for elset, csv in zip(df_excel['set'], df_excel['csv-file']):\n",
    "                df = df_reader(case_folder, csv)\n",
    "                df_set = pd.concat([df_set, df.filter(regex=elset)], axis=1, sort=False)\n",
    "        else:\n",
    "            print('{} not in {}'.format(case, sheet))\n",
    "  \n",
    "    return df_set"
   ]
  },
  {
   "cell_type": "markdown",
   "metadata": {},
   "source": [
    "## Project Structure"
   ]
  },
  {
   "cell_type": "markdown",
   "metadata": {},
   "source": [
    "### Definitions"
   ]
  },
  {
   "cell_type": "code",
   "execution_count": 4,
   "metadata": {
    "ExecuteTime": {
     "end_time": "2022-05-05T12:26:20.263951Z",
     "start_time": "2022-05-05T12:26:20.244969Z"
    }
   },
   "outputs": [],
   "source": [
    "# Standard defintions\n",
    "# TODO : can be written to {'Fx' : {'Force X' : 'Force [N]'}} and refer to ass fm['Fx'].key \n",
    "fm = {'EI' : 'Stiffness', 'Fx' : 'Axial Force X', 'Fy' : 'Transverse Force Y', 'Fz' : 'Shear Force Z', 'Ftot' : 'Total force',\n",
    "      'Mx' : 'Torque', 'My' : 'Moment Y', 'Mz' : 'Moment Z', 'K1_2' : 'Curvature', 'K3_4' : 'Curvature', 'Ovality Y' : 'Ovality', 'Iyy' : 'Iyy', 'Iyz' : 'Iyz', 'Izz' : 'Izz',\n",
    "      'Av Pl Strain' : 'Average plastic strain', 'Stress' : 'Stress',\n",
    "      'Max Pl Strain' : 'Max plastic strain'}\n",
    "\n",
    "fm_units = {'EI' : 'Stiffness [Nmm2]',  'Fx' : 'Force [N]', 'Fy' : 'Force [N]', 'Fz' : 'Force [N]', 'Ftot' : 'Total Force [N]',\n",
    "            'Mx' : 'Moment [Nmm]', 'My' : 'Moment [Nmm]', 'Mz' : 'Moment [Nmm]', 'K1_2' : 'Curvature [1/m]', 'K3_4' : 'Curvature [1/m]', 'Ovality Y' : 'Ovality [-]',\n",
    "            'Av Pl Strain' : 'Plastic strain [-]', 'Stress' : 'Stress (MPa)', 'Iyy' : 'Iyy', 'Iyz' : 'Iyz', 'Izz' : 'Izz',\n",
    "            'Max Pl Strain' : 'Plastic strain [-]'}\n",
    "\n",
    "# Names used in plot instead of names used in model, e.g. {'model_name' : 'Plot name'}\n",
    "set_explanation = {'fbr' : 'Front brick tooth',\n",
    "                   'flh' : 'Front liner holder'\n",
    "                  }\n",
    "\n",
    "colors_4s = ['#00a0b0', '#f3776f', '#012b5d', '#009ddc', '#00a88f', '#faa634', '#c0c1ba', '#f8ed9b',\n",
    "             '#00a0b0', '#f3776f', '#012b5d', '#009ddc', '#00a88f', '#faa634', '#c0c1ba', '#f8ed9b']\n",
    "\n",
    "line_styles = ['lines', 'lines+markers', 'markers', 'lines', 'lines+markers', 'markers', 'lines', 'lines+markers', 'markers']"
   ]
  },
  {
   "cell_type": "markdown",
   "metadata": {},
   "source": [
    "### Input"
   ]
  },
  {
   "cell_type": "code",
   "execution_count": 5,
   "metadata": {
    "ExecuteTime": {
     "end_time": "2022-05-05T12:32:59.130451Z",
     "start_time": "2022-05-05T12:32:59.120458Z"
    }
   },
   "outputs": [],
   "source": [
    "# Input\n",
    "project = r'D:\\Projects\\1978_BP_Tortue_EF_Torque\\Phase1'\n",
    "runs = ['Analysis'] # Folder with runs\n",
    "\n",
    "# Case names ('marc_name_job1' : 'Explaining text in plot')\n",
    "cases = {'full_t6_job1' : '3D both layers<br>Negative direction',\n",
    "         'full_t8_oppo_job1' : '3D both layers<br>Positive direction'\n",
    "        }\n",
    "\n",
    "\n",
    "# Optional - cases to be excluded from post-processing\n",
    "exclude_cases = []\n",
    "\n",
    "# Optional - (here : local cases) to refer to in plots\n",
    "cases_local = {'Sag_3_pitch' : 'gk_sag_t6_3p_local_t3'}\n",
    "\n",
    "\n",
    "# Generate paths\n",
    "project_folder = pathlib.Path(r'C:\\Projects', project)"
   ]
  },
  {
   "cell_type": "markdown",
   "metadata": {},
   "source": [
    "## 3D"
   ]
  },
  {
   "cell_type": "markdown",
   "metadata": {},
   "source": [
    "### Read data from excel file"
   ]
  },
  {
   "cell_type": "code",
   "execution_count": 161,
   "metadata": {
    "ExecuteTime": {
     "end_time": "2021-10-25T17:56:47.710102Z",
     "start_time": "2021-10-25T17:56:47.696612Z"
    }
   },
   "outputs": [],
   "source": [
    "if True == False:\n",
    "    # Excel file with results to be read\n",
    "    excel_file = '1639_global_results.xlsx'\n",
    "    extract_results = ['Time', 'Contact Force', 'Stress', 'Bending Moment']\n",
    "    excel_file_dir = project_folder / excel_file\n",
    "\n",
    "    # Extract results\n",
    "    try:\n",
    "        df_results = read_excel_results(excel_file_dir, extract_results, cases)\n",
    "    except Exception:\n",
    "        pass\n",
    "\n",
    "    # OPTIONAL - extract local results\n",
    "    try:\n",
    "        if isinstance(cases_local, dict):\n",
    "            df_local = read_excel_results(excel_file_dir, extract_results, cases_local)\n",
    "    except Exception as e:\n",
    "        logging.warning(f'{e}')\n",
    "        print(f'{e}')\n",
    "        pass\n",
    "\n",
    "    # # Plot each case in df_results['Contact Force']\n",
    "    # data = []\n",
    "    # for i, case in enumerate(df_results.keys()):\n",
    "    #     trace = go.Scatter(mode=line_styles[0],\n",
    "    #                        x = df_results[case]['Time'],\n",
    "    #                        y = df_results[case]['Contact Force'],\n",
    "    #                        name = case,\n",
    "    #                        line = {'color' : colors_4s[i]}\n",
    "    #                       )\n",
    "    #     data.append(trace)\n",
    "\n",
    "    # # Define layout of plot\n",
    "    # layout = go.Layout(title='Contact force comparison',\n",
    "    #                    xaxis=dict(title='Time [s]', range=[1.2, 1.8]),\n",
    "    #                    yaxis=dict(title='Contact force [N]', range=[0, 300000]))\n",
    "\n",
    "    # # plotly.offline.iplot(go.Figure(data=data, layout=layout))"
   ]
  },
  {
   "cell_type": "markdown",
   "metadata": {},
   "source": [
    "### Read data from csv-files"
   ]
  },
  {
   "cell_type": "markdown",
   "metadata": {},
   "source": [
    "Intention of following cell: Read all CrossSection files in specified directory and sort them to correct model. All .csv- files which has a corresponding cb.res files are taken as cs -files"
   ]
  },
  {
   "cell_type": "code",
   "execution_count": 28,
   "metadata": {
    "ExecuteTime": {
     "end_time": "2022-05-05T13:07:18.869274Z",
     "start_time": "2022-05-05T13:07:15.721108Z"
    }
   },
   "outputs": [
    {
     "data": {
      "application/vnd.jupyter.widget-view+json": {
       "model_id": "",
       "version_major": 2,
       "version_minor": 0
      },
      "text/plain": [
       "HBox(children=(FloatProgress(value=0.0, max=6.0), HTML(value='')))"
      ]
     },
     "metadata": {},
     "output_type": "display_data"
    },
    {
     "data": {
      "application/vnd.jupyter.widget-view+json": {
       "model_id": "",
       "version_major": 2,
       "version_minor": 0
      },
      "text/plain": [
       "HBox(children=(FloatProgress(value=0.0, max=8.0), HTML(value='')))"
      ]
     },
     "metadata": {},
     "output_type": "display_data"
    },
    {
     "data": {
      "application/vnd.jupyter.widget-view+json": {
       "model_id": "",
       "version_major": 2,
       "version_minor": 0
      },
      "text/plain": [
       "HBox(children=(FloatProgress(value=0.0, max=12.0), HTML(value='')))"
      ]
     },
     "metadata": {},
     "output_type": "display_data"
    },
    {
     "data": {
      "application/vnd.jupyter.widget-view+json": {
       "model_id": "",
       "version_major": 2,
       "version_minor": 0
      },
      "text/plain": [
       "HBox(children=(FloatProgress(value=0.0, max=12.0), HTML(value='')))"
      ]
     },
     "metadata": {},
     "output_type": "display_data"
    },
    {
     "data": {
      "application/vnd.jupyter.widget-view+json": {
       "model_id": "",
       "version_major": 2,
       "version_minor": 0
      },
      "text/plain": [
       "HBox(children=(FloatProgress(value=0.0, max=12.0), HTML(value='')))"
      ]
     },
     "metadata": {},
     "output_type": "display_data"
    },
    {
     "data": {
      "application/vnd.jupyter.widget-view+json": {
       "model_id": "",
       "version_major": 2,
       "version_minor": 0
      },
      "text/plain": [
       "HBox(children=(FloatProgress(value=0.0, max=6.0), HTML(value='')))"
      ]
     },
     "metadata": {},
     "output_type": "display_data"
    },
    {
     "data": {
      "application/vnd.jupyter.widget-view+json": {
       "model_id": "",
       "version_major": 2,
       "version_minor": 0
      },
      "text/plain": [
       "HBox(children=(FloatProgress(value=0.0, max=8.0), HTML(value='')))"
      ]
     },
     "metadata": {},
     "output_type": "display_data"
    }
   ],
   "source": [
    "# Initialization\n",
    "sorted_csv, df_case, df_stress, increments, cbodies = {}, {}, {}, {}, {}\n",
    "a=0\n",
    "# Find csv files\n",
    "csv_files, history_list = [], []\n",
    "for run in runs:\n",
    "    \n",
    "    run_folder = project_folder / run\n",
    "    \n",
    "    # Find csv files\n",
    "    all_csv_files = [run_folder / f.lower() for f in os.listdir(run_folder) if len(re.findall(r'\\d+cb.csv', f)) == 1]\n",
    "    csv_files += [f for f in all_csv_files if os.path.isfile(run_folder / str(f).replace('cb.csv', 'cb.res'))] # correct\n",
    "#     csv_files += [f for f in all_csv_files if os.path.isfile(run_folder / str(f).replace('cb.csv', 'cb.csv'))]\n",
    "    \n",
    "    # Find histroy files\n",
    "    history_list += run_folder.glob('History-plot*')\n",
    "    \n",
    "history_files = {hf.stem.lower() : hf for hf in history_list}\n",
    "\n",
    "# Remove cases to be exluded\n",
    "csv_files = [csv for csv in csv_files if not any([ex.lower() in csv.stem.lower() for ex in exclude_cases])]\n",
    "\n",
    "# Sort csv so that csv-files are tied to correct model\n",
    "for csv_file in csv_files:\n",
    "    csv_info = csv_file.stem.rpartition('_')\n",
    "    model, csv = csv_file.parent / csv_info[0], csv_info[2]\n",
    "    \n",
    "    if model not in sorted_csv.keys():\n",
    "        sorted_csv[model] = [csv]\n",
    "    else:\n",
    "        sorted_csv[model].append(csv)\n",
    "\n",
    "# Get dataframe for each case\n",
    "for case in tqdm(sorted_csv.keys(), leave=False):\n",
    "    \n",
    "#     if not any([ntag in str(case) for ntag in ['t13', 't14', 't15']]):\n",
    "#         continue\n",
    "        \n",
    "    # For each case file / CS cut\n",
    "    df_csv = {}\n",
    "    for csv_file in tqdm(sorted_csv[case], leave=False):\n",
    "\n",
    "        # Find directory to csv and read csv file\n",
    "        csv_file_dir = case.parent / ''.join([case.stem, '_', csv_file, '.csv'])\n",
    "        \n",
    "        try:\n",
    "            df_temp, cbodies[case.stem.lower()] = cs_reader(csv_file_dir)\n",
    "            # combine=['Epoxy_inner1', 'Epoxy_inner2', 'Epoxy_outer1', 'Epoxy_outer2', 'Epoxy_outer3']\n",
    "        except Exception as e:\n",
    "            logging.warning(f'{e} : {csv_file_dir} is empty')\n",
    "            continue\n",
    "\n",
    "        # If global case is also run locally, and local run results exists: Add stress\n",
    "        try:\n",
    "            case_run_local = cases_local[case]\n",
    "            if all([case in cases_local.keys(), case_run_local in df_local.keys()]):\n",
    "                # Add stress\n",
    "                df_temp['Stress.Pressure_armour'] = np.interp(df_results[case_run]['Time'],\n",
    "                                                              df_local[case_run_local]['Time'].dropna(),\n",
    "                                                              df_local[case_run_local]['Stress'].dropna())\n",
    "        except (KeyError, NameError):\n",
    "            pass\n",
    "\n",
    "        # One df for each position\n",
    "        pos = df_temp['Origo X GCS'][0]\n",
    "        df_csv[f'{pos:.0f}'] = df_temp\n",
    "        df_case[case.stem] = df_csv\n",
    "        \n",
    "        # Extract increments\n",
    "        if case.stem not in increments:\n",
    "            increments[case.stem] = df_temp['inc'].iloc[-1]\n",
    "            \n",
    "        \n",
    "    # Add stress\n",
    "    hf = f'history-plot_' + str(case.stem)\n",
    "    if hf in history_files.keys():\n",
    "        history_file = history_files[hf]\n",
    "        \n",
    "        # Read crossection data and use same time step\n",
    "        dfs = pd.read_csv(history_file)\n",
    "        dfs = dfs.loc[dfs['Time'].round(3).isin(df_temp['time'].round(3))]\n",
    "\n",
    "        # For now, only takes Comp 11 cauchy and Tensile inner (max - EF)\n",
    "        dfs = dfs[['Time'] + [col for col in dfs.columns.values if 'Comp 11 of Cauchy Stress in Preferred Sys' in col]]\n",
    "        if any(['Tensile inner (max - EF)' in col for col in dfs.columns.values]):\n",
    "            df_stress[case.stem.lower()] = pd.DataFrame()\n",
    "            df_stress[case.stem.lower()]['time'] = dfs['Time']\n",
    "            df_stress[case.stem.lower()][f'Stress.Flextensile1'] = dfs[[col for col in dfs.columns if 'Tensile inner (max - EF)' in col]].max(axis=1)\n",
    "            df_stress[case.stem.lower()].reset_index(inplace=True)\n",
    "\n",
    "#     if 't12' in str(case.stem):\n",
    "#         break\n",
    "# Resulting format is df_case[case][position][result]\n",
    "\n",
    "\n",
    "# INDEX ON DF_STRESS IS WRONG - WHY?"
   ]
  },
  {
   "cell_type": "markdown",
   "metadata": {},
   "source": [
    "#### Init"
   ]
  },
  {
   "cell_type": "code",
   "execution_count": 29,
   "metadata": {
    "ExecuteTime": {
     "end_time": "2022-05-05T13:07:22.092847Z",
     "start_time": "2022-05-05T13:07:21.952815Z"
    },
    "code_folding": []
   },
   "outputs": [],
   "source": [
    "# Plot info\n",
    "max_increments = max([inc for inc in increments.values()])\n",
    "\n",
    "x_axis_options = ['Time', 'Curvature', 'Length']\n",
    "\n",
    "# Positions\n",
    "positions_all, cbodies_all = [], []\n",
    "for case in df_case.keys():\n",
    "    # Get positions for this case\n",
    "    positions_all += [f'{int(p)}' for p in df_case[case].keys()]\n",
    "    \n",
    "    # Get cbodies\n",
    "    try:\n",
    "        cbodies_all += cbodies[case]\n",
    "    except KeyError:\n",
    "        pass\n",
    "\n",
    "positions_all = list(set(positions_all))\n",
    "positions_all.sort(key = int)\n",
    "\n",
    "cbodies_all = list(set(cbodies_all))\n",
    "\n",
    "# W I D G E T S\n",
    "\n",
    "# Cases\n",
    "rows_widgets = max([len(x) for x in [df_case.keys(), cbodies_all]])\n",
    "wg_cases = widgets.SelectMultiple(options = list(df_case.keys()),\n",
    "                                  value = list(df_case.keys()),\n",
    "                                  rows = rows_widgets,\n",
    "                                  disable = False,\n",
    "                                  layout = Layout(width = '100%')\n",
    "                                  )\n",
    "\n",
    "# X-axis\n",
    "wg_xaxis = widgets.Select(options = x_axis_options,\n",
    "                          value = x_axis_options[0],\n",
    "                          rows = rows_widgets,\n",
    "                          disable = False,\n",
    "                          layout = Layout(width = '100%')\n",
    "                          )\n",
    "\n",
    "# Y-axis\n",
    "wg_yaxis = widgets.Select(options = sorted(fm.keys(), key = lambda s: (len(s), str.lower)),\n",
    "                          rows = rows_widgets,\n",
    "                          value = 'K1_2',\n",
    "                          disable = False,\n",
    "                          layout = Layout(width = '100%')\n",
    "                          )\n",
    "\n",
    "# Contact bodies\n",
    "# FOR NOW: Remove not relevant files\n",
    "remove_cbodies = ['End_plate', 'None']\n",
    "cbodies_all = [cb for cb in cbodies_all if not any([rb in cb for rb in remove_cbodies])]\n",
    "cbodies_all.sort()\n",
    "cbodies_all.sort(key=len)\n",
    "\n",
    "wg_cbodies = widgets.SelectMultiple(options = list(cbodies_all),\n",
    "                                    value = ['SUM'],\n",
    "                                    rows = rows_widgets,\n",
    "                                    disable = False,\n",
    "                                    layout = Layout(width = '100%')\n",
    "                                    )\n",
    "\n",
    "# Toggle color\n",
    "toggle_color = widgets.ToggleButtons(options=['Cases', 'Layers'],\n",
    "                                     description='Color:',\n",
    "                                     disabled=False,\n",
    "#                                      layout=Layout(width='40%'),\n",
    "                                     tooltips=['Different color for each case', \n",
    "                                               'Different color for each component'])\n",
    "\n",
    "# Toggle markers\n",
    "toggle_markers = widgets.ToggleButtons(options = ['lines', 'lines+markers'],\n",
    "                                       description='Style',\n",
    "                                       disabled=False,\n",
    "                                       tooltips=['Markers on', 'Markers off']\n",
    "#                                        layout=Layout(width = '60%')\n",
    "                                      )\n",
    "\n",
    "\n",
    "# Toggle curv vs timestep\n",
    "toggle_curv = widgets.ToggleButtons(options=['Curvature', 'Time step'],\n",
    "                                    description='\\t',\n",
    "                                    value='Time step'\n",
    "#                                     layout = Layout(width = '60%')\n",
    "                                    )\n",
    "toggle_color.style.button_width=toggle_markers.style.button_width=toggle_curv.style.button_width='110px'\n",
    "\n",
    "\n",
    "# Tabs for naming of plot\n",
    "tab = widgets.Tab()\n",
    "plot_names = [cases[name] if name in cases.keys() else name for name in df_case.keys()]\n",
    "tab.children = [widgets.Text(value=cases[name], placeholder=name) if name in cases.keys() \n",
    "                else widgets.Text(value=name, placeholder=name) for name in df_case.keys()]\n",
    "\n",
    "for i, name in enumerate(df_case.keys()):\n",
    "        tab.set_title(i, name)\n",
    "        \n",
    "# Position and curvature\n",
    "wg_curv = widgets.BoundedFloatText(value=0.8,\n",
    "                                   min=0,\n",
    "                                   max=1,\n",
    "                                   step=.01,\n",
    "                                   description='Curvature',\n",
    "                                   disabled=False\n",
    "                                  )\n",
    "\n",
    "wg_timestep = widgets.BoundedFloatText(value=2.0,\n",
    "                                       min=0.0,\n",
    "                                       max=2.0,\n",
    "                                       step=0.01,\n",
    "                                       description='Timestep',\n",
    "                                       disabled=False\n",
    "                                       )\n",
    "\n",
    "wg_pos = widgets.Dropdown(value=positions_all[-2],\n",
    "                          options=positions_all,\n",
    "                          description='Position',\n",
    "                          disabled=False\n",
    "                          )\n",
    "\n",
    "# Make boxes\n",
    "ui_box1 = widgets.HBox([wg_cases, wg_cbodies, wg_xaxis, wg_yaxis])\n",
    "ui_box2 = widgets.HBox([toggle_color, toggle_markers, toggle_curv])\n",
    "ui_box3 = widgets.HBox([wg_pos, wg_curv, wg_timestep])"
   ]
  },
  {
   "cell_type": "markdown",
   "metadata": {},
   "source": [
    "#### Plot"
   ]
  },
  {
   "cell_type": "code",
   "execution_count": 30,
   "metadata": {
    "ExecuteTime": {
     "end_time": "2022-05-05T13:07:23.456257Z",
     "start_time": "2022-05-05T13:07:23.293402Z"
    },
    "scrolled": false
   },
   "outputs": [
    {
     "data": {
      "application/vnd.plotly.v1+json": {
       "config": {
        "linkText": "Export to plot.ly",
        "plotlyServerURL": "https://plot.ly",
        "showLink": false
       },
       "data": [
        {
         "line": {
          "color": "#00a0b0"
         },
         "marker": {
          "color": "#00a0b0",
          "size": 7,
          "symbol": 0
         },
         "mode": "lines",
         "name": "full_t13_oppo_job1<br>(Tensile wire inner)",
         "type": "scatter",
         "x": [
          30,
          100,
          184,
          265,
          344,
          423,
          503,
          573,
          660,
          739,
          819,
          899
         ],
         "y": [
          -95271.53,
          -168764.53,
          -164134.19,
          -150230.08,
          -126061.38,
          -114455.69,
          -101274.75,
          -87763.75,
          -70669.6,
          -54274.64,
          -52433.66,
          -65505.39
         ]
        },
        {
         "line": {
          "color": "#f3776f"
         },
         "marker": {
          "color": "#f3776f",
          "size": 7,
          "symbol": 0
         },
         "mode": "lines",
         "name": "full_t13_oppo_job1<br>(Tensile wire outer)",
         "type": "scatter",
         "x": [
          30,
          100,
          184,
          265,
          344,
          423,
          503,
          573,
          660,
          739,
          819,
          899
         ],
         "y": [
          243861.57,
          317701.43,
          203643.44,
          197143.48,
          194471.17,
          190915.15,
          153066.83,
          118550.75,
          110308.11,
          99084.49,
          100647.28,
          105178.85
         ]
        }
       ],
       "layout": {
        "template": {
         "data": {
          "bar": [
           {
            "error_x": {
             "color": "#2a3f5f"
            },
            "error_y": {
             "color": "#2a3f5f"
            },
            "marker": {
             "line": {
              "color": "#E5ECF6",
              "width": 0.5
             }
            },
            "type": "bar"
           }
          ],
          "barpolar": [
           {
            "marker": {
             "line": {
              "color": "#E5ECF6",
              "width": 0.5
             }
            },
            "type": "barpolar"
           }
          ],
          "carpet": [
           {
            "aaxis": {
             "endlinecolor": "#2a3f5f",
             "gridcolor": "white",
             "linecolor": "white",
             "minorgridcolor": "white",
             "startlinecolor": "#2a3f5f"
            },
            "baxis": {
             "endlinecolor": "#2a3f5f",
             "gridcolor": "white",
             "linecolor": "white",
             "minorgridcolor": "white",
             "startlinecolor": "#2a3f5f"
            },
            "type": "carpet"
           }
          ],
          "choropleth": [
           {
            "colorbar": {
             "outlinewidth": 0,
             "ticks": ""
            },
            "type": "choropleth"
           }
          ],
          "contour": [
           {
            "colorbar": {
             "outlinewidth": 0,
             "ticks": ""
            },
            "colorscale": [
             [
              0,
              "#0d0887"
             ],
             [
              0.1111111111111111,
              "#46039f"
             ],
             [
              0.2222222222222222,
              "#7201a8"
             ],
             [
              0.3333333333333333,
              "#9c179e"
             ],
             [
              0.4444444444444444,
              "#bd3786"
             ],
             [
              0.5555555555555556,
              "#d8576b"
             ],
             [
              0.6666666666666666,
              "#ed7953"
             ],
             [
              0.7777777777777778,
              "#fb9f3a"
             ],
             [
              0.8888888888888888,
              "#fdca26"
             ],
             [
              1,
              "#f0f921"
             ]
            ],
            "type": "contour"
           }
          ],
          "contourcarpet": [
           {
            "colorbar": {
             "outlinewidth": 0,
             "ticks": ""
            },
            "type": "contourcarpet"
           }
          ],
          "heatmap": [
           {
            "colorbar": {
             "outlinewidth": 0,
             "ticks": ""
            },
            "colorscale": [
             [
              0,
              "#0d0887"
             ],
             [
              0.1111111111111111,
              "#46039f"
             ],
             [
              0.2222222222222222,
              "#7201a8"
             ],
             [
              0.3333333333333333,
              "#9c179e"
             ],
             [
              0.4444444444444444,
              "#bd3786"
             ],
             [
              0.5555555555555556,
              "#d8576b"
             ],
             [
              0.6666666666666666,
              "#ed7953"
             ],
             [
              0.7777777777777778,
              "#fb9f3a"
             ],
             [
              0.8888888888888888,
              "#fdca26"
             ],
             [
              1,
              "#f0f921"
             ]
            ],
            "type": "heatmap"
           }
          ],
          "heatmapgl": [
           {
            "colorbar": {
             "outlinewidth": 0,
             "ticks": ""
            },
            "colorscale": [
             [
              0,
              "#0d0887"
             ],
             [
              0.1111111111111111,
              "#46039f"
             ],
             [
              0.2222222222222222,
              "#7201a8"
             ],
             [
              0.3333333333333333,
              "#9c179e"
             ],
             [
              0.4444444444444444,
              "#bd3786"
             ],
             [
              0.5555555555555556,
              "#d8576b"
             ],
             [
              0.6666666666666666,
              "#ed7953"
             ],
             [
              0.7777777777777778,
              "#fb9f3a"
             ],
             [
              0.8888888888888888,
              "#fdca26"
             ],
             [
              1,
              "#f0f921"
             ]
            ],
            "type": "heatmapgl"
           }
          ],
          "histogram": [
           {
            "marker": {
             "colorbar": {
              "outlinewidth": 0,
              "ticks": ""
             }
            },
            "type": "histogram"
           }
          ],
          "histogram2d": [
           {
            "colorbar": {
             "outlinewidth": 0,
             "ticks": ""
            },
            "colorscale": [
             [
              0,
              "#0d0887"
             ],
             [
              0.1111111111111111,
              "#46039f"
             ],
             [
              0.2222222222222222,
              "#7201a8"
             ],
             [
              0.3333333333333333,
              "#9c179e"
             ],
             [
              0.4444444444444444,
              "#bd3786"
             ],
             [
              0.5555555555555556,
              "#d8576b"
             ],
             [
              0.6666666666666666,
              "#ed7953"
             ],
             [
              0.7777777777777778,
              "#fb9f3a"
             ],
             [
              0.8888888888888888,
              "#fdca26"
             ],
             [
              1,
              "#f0f921"
             ]
            ],
            "type": "histogram2d"
           }
          ],
          "histogram2dcontour": [
           {
            "colorbar": {
             "outlinewidth": 0,
             "ticks": ""
            },
            "colorscale": [
             [
              0,
              "#0d0887"
             ],
             [
              0.1111111111111111,
              "#46039f"
             ],
             [
              0.2222222222222222,
              "#7201a8"
             ],
             [
              0.3333333333333333,
              "#9c179e"
             ],
             [
              0.4444444444444444,
              "#bd3786"
             ],
             [
              0.5555555555555556,
              "#d8576b"
             ],
             [
              0.6666666666666666,
              "#ed7953"
             ],
             [
              0.7777777777777778,
              "#fb9f3a"
             ],
             [
              0.8888888888888888,
              "#fdca26"
             ],
             [
              1,
              "#f0f921"
             ]
            ],
            "type": "histogram2dcontour"
           }
          ],
          "mesh3d": [
           {
            "colorbar": {
             "outlinewidth": 0,
             "ticks": ""
            },
            "type": "mesh3d"
           }
          ],
          "parcoords": [
           {
            "line": {
             "colorbar": {
              "outlinewidth": 0,
              "ticks": ""
             }
            },
            "type": "parcoords"
           }
          ],
          "pie": [
           {
            "automargin": true,
            "type": "pie"
           }
          ],
          "scatter": [
           {
            "marker": {
             "colorbar": {
              "outlinewidth": 0,
              "ticks": ""
             }
            },
            "type": "scatter"
           }
          ],
          "scatter3d": [
           {
            "line": {
             "colorbar": {
              "outlinewidth": 0,
              "ticks": ""
             }
            },
            "marker": {
             "colorbar": {
              "outlinewidth": 0,
              "ticks": ""
             }
            },
            "type": "scatter3d"
           }
          ],
          "scattercarpet": [
           {
            "marker": {
             "colorbar": {
              "outlinewidth": 0,
              "ticks": ""
             }
            },
            "type": "scattercarpet"
           }
          ],
          "scattergeo": [
           {
            "marker": {
             "colorbar": {
              "outlinewidth": 0,
              "ticks": ""
             }
            },
            "type": "scattergeo"
           }
          ],
          "scattergl": [
           {
            "marker": {
             "colorbar": {
              "outlinewidth": 0,
              "ticks": ""
             }
            },
            "type": "scattergl"
           }
          ],
          "scattermapbox": [
           {
            "marker": {
             "colorbar": {
              "outlinewidth": 0,
              "ticks": ""
             }
            },
            "type": "scattermapbox"
           }
          ],
          "scatterpolar": [
           {
            "marker": {
             "colorbar": {
              "outlinewidth": 0,
              "ticks": ""
             }
            },
            "type": "scatterpolar"
           }
          ],
          "scatterpolargl": [
           {
            "marker": {
             "colorbar": {
              "outlinewidth": 0,
              "ticks": ""
             }
            },
            "type": "scatterpolargl"
           }
          ],
          "scatterternary": [
           {
            "marker": {
             "colorbar": {
              "outlinewidth": 0,
              "ticks": ""
             }
            },
            "type": "scatterternary"
           }
          ],
          "surface": [
           {
            "colorbar": {
             "outlinewidth": 0,
             "ticks": ""
            },
            "colorscale": [
             [
              0,
              "#0d0887"
             ],
             [
              0.1111111111111111,
              "#46039f"
             ],
             [
              0.2222222222222222,
              "#7201a8"
             ],
             [
              0.3333333333333333,
              "#9c179e"
             ],
             [
              0.4444444444444444,
              "#bd3786"
             ],
             [
              0.5555555555555556,
              "#d8576b"
             ],
             [
              0.6666666666666666,
              "#ed7953"
             ],
             [
              0.7777777777777778,
              "#fb9f3a"
             ],
             [
              0.8888888888888888,
              "#fdca26"
             ],
             [
              1,
              "#f0f921"
             ]
            ],
            "type": "surface"
           }
          ],
          "table": [
           {
            "cells": {
             "fill": {
              "color": "#EBF0F8"
             },
             "line": {
              "color": "white"
             }
            },
            "header": {
             "fill": {
              "color": "#C8D4E3"
             },
             "line": {
              "color": "white"
             }
            },
            "type": "table"
           }
          ]
         },
         "layout": {
          "annotationdefaults": {
           "arrowcolor": "#2a3f5f",
           "arrowhead": 0,
           "arrowwidth": 1
          },
          "coloraxis": {
           "colorbar": {
            "outlinewidth": 0,
            "ticks": ""
           }
          },
          "colorscale": {
           "diverging": [
            [
             0,
             "#8e0152"
            ],
            [
             0.1,
             "#c51b7d"
            ],
            [
             0.2,
             "#de77ae"
            ],
            [
             0.3,
             "#f1b6da"
            ],
            [
             0.4,
             "#fde0ef"
            ],
            [
             0.5,
             "#f7f7f7"
            ],
            [
             0.6,
             "#e6f5d0"
            ],
            [
             0.7,
             "#b8e186"
            ],
            [
             0.8,
             "#7fbc41"
            ],
            [
             0.9,
             "#4d9221"
            ],
            [
             1,
             "#276419"
            ]
           ],
           "sequential": [
            [
             0,
             "#0d0887"
            ],
            [
             0.1111111111111111,
             "#46039f"
            ],
            [
             0.2222222222222222,
             "#7201a8"
            ],
            [
             0.3333333333333333,
             "#9c179e"
            ],
            [
             0.4444444444444444,
             "#bd3786"
            ],
            [
             0.5555555555555556,
             "#d8576b"
            ],
            [
             0.6666666666666666,
             "#ed7953"
            ],
            [
             0.7777777777777778,
             "#fb9f3a"
            ],
            [
             0.8888888888888888,
             "#fdca26"
            ],
            [
             1,
             "#f0f921"
            ]
           ],
           "sequentialminus": [
            [
             0,
             "#0d0887"
            ],
            [
             0.1111111111111111,
             "#46039f"
            ],
            [
             0.2222222222222222,
             "#7201a8"
            ],
            [
             0.3333333333333333,
             "#9c179e"
            ],
            [
             0.4444444444444444,
             "#bd3786"
            ],
            [
             0.5555555555555556,
             "#d8576b"
            ],
            [
             0.6666666666666666,
             "#ed7953"
            ],
            [
             0.7777777777777778,
             "#fb9f3a"
            ],
            [
             0.8888888888888888,
             "#fdca26"
            ],
            [
             1,
             "#f0f921"
            ]
           ]
          },
          "colorway": [
           "#636efa",
           "#EF553B",
           "#00cc96",
           "#ab63fa",
           "#FFA15A",
           "#19d3f3",
           "#FF6692",
           "#B6E880",
           "#FF97FF",
           "#FECB52"
          ],
          "font": {
           "color": "#2a3f5f"
          },
          "geo": {
           "bgcolor": "white",
           "lakecolor": "white",
           "landcolor": "#E5ECF6",
           "showlakes": true,
           "showland": true,
           "subunitcolor": "white"
          },
          "hoverlabel": {
           "align": "left"
          },
          "hovermode": "closest",
          "mapbox": {
           "style": "light"
          },
          "paper_bgcolor": "white",
          "plot_bgcolor": "#E5ECF6",
          "polar": {
           "angularaxis": {
            "gridcolor": "white",
            "linecolor": "white",
            "ticks": ""
           },
           "bgcolor": "#E5ECF6",
           "radialaxis": {
            "gridcolor": "white",
            "linecolor": "white",
            "ticks": ""
           }
          },
          "scene": {
           "xaxis": {
            "backgroundcolor": "#E5ECF6",
            "gridcolor": "white",
            "gridwidth": 2,
            "linecolor": "white",
            "showbackground": true,
            "ticks": "",
            "zerolinecolor": "white"
           },
           "yaxis": {
            "backgroundcolor": "#E5ECF6",
            "gridcolor": "white",
            "gridwidth": 2,
            "linecolor": "white",
            "showbackground": true,
            "ticks": "",
            "zerolinecolor": "white"
           },
           "zaxis": {
            "backgroundcolor": "#E5ECF6",
            "gridcolor": "white",
            "gridwidth": 2,
            "linecolor": "white",
            "showbackground": true,
            "ticks": "",
            "zerolinecolor": "white"
           }
          },
          "shapedefaults": {
           "line": {
            "color": "#2a3f5f"
           }
          },
          "ternary": {
           "aaxis": {
            "gridcolor": "white",
            "linecolor": "white",
            "ticks": ""
           },
           "baxis": {
            "gridcolor": "white",
            "linecolor": "white",
            "ticks": ""
           },
           "bgcolor": "#E5ECF6",
           "caxis": {
            "gridcolor": "white",
            "linecolor": "white",
            "ticks": ""
           }
          },
          "title": {
           "x": 0.05
          },
          "xaxis": {
           "automargin": true,
           "gridcolor": "white",
           "linecolor": "white",
           "ticks": "",
           "title": {
            "standoff": 15
           },
           "zerolinecolor": "white",
           "zerolinewidth": 2
          },
          "yaxis": {
           "automargin": true,
           "gridcolor": "white",
           "linecolor": "white",
           "ticks": "",
           "title": {
            "standoff": 15
           },
           "zerolinecolor": "white",
           "zerolinewidth": 2
          }
         }
        },
        "title": {
         "text": "12\" GP riser - Axial Force X",
         "x": 0.5
        },
        "xaxis": {
         "range": [
          0,
          1000
         ],
         "title": {
          "text": "Length [mm]"
         }
        },
        "yaxis": {
         "title": {
          "text": "Force [N]"
         }
        }
       }
      },
      "text/html": [
       "<div>\n",
       "        \n",
       "        \n",
       "            <div id=\"52687beb-9b7e-45d1-af6a-1a3b4b1f2bb0\" class=\"plotly-graph-div\" style=\"height:525px; width:100%;\"></div>\n",
       "            <script type=\"text/javascript\">\n",
       "                require([\"plotly\"], function(Plotly) {\n",
       "                    window.PLOTLYENV=window.PLOTLYENV || {};\n",
       "                    \n",
       "                if (document.getElementById(\"52687beb-9b7e-45d1-af6a-1a3b4b1f2bb0\")) {\n",
       "                    Plotly.newPlot(\n",
       "                        '52687beb-9b7e-45d1-af6a-1a3b4b1f2bb0',\n",
       "                        [{\"line\": {\"color\": \"#00a0b0\"}, \"marker\": {\"color\": \"#00a0b0\", \"size\": 7, \"symbol\": 0}, \"mode\": \"lines\", \"name\": \"full_t13_oppo_job1<br>(Tensile wire inner)\", \"type\": \"scatter\", \"x\": [30, 100, 184, 265, 344, 423, 503, 573, 660, 739, 819, 899], \"y\": [-95271.53, -168764.53, -164134.19, -150230.08, -126061.38, -114455.69, -101274.75, -87763.75, -70669.6, -54274.64, -52433.66, -65505.39]}, {\"line\": {\"color\": \"#f3776f\"}, \"marker\": {\"color\": \"#f3776f\", \"size\": 7, \"symbol\": 0}, \"mode\": \"lines\", \"name\": \"full_t13_oppo_job1<br>(Tensile wire outer)\", \"type\": \"scatter\", \"x\": [30, 100, 184, 265, 344, 423, 503, 573, 660, 739, 819, 899], \"y\": [243861.57, 317701.43, 203643.44, 197143.48, 194471.17, 190915.15, 153066.83, 118550.75, 110308.11, 99084.49, 100647.28, 105178.85]}],\n",
       "                        {\"template\": {\"data\": {\"bar\": [{\"error_x\": {\"color\": \"#2a3f5f\"}, \"error_y\": {\"color\": \"#2a3f5f\"}, \"marker\": {\"line\": {\"color\": \"#E5ECF6\", \"width\": 0.5}}, \"type\": \"bar\"}], \"barpolar\": [{\"marker\": {\"line\": {\"color\": \"#E5ECF6\", \"width\": 0.5}}, \"type\": \"barpolar\"}], \"carpet\": [{\"aaxis\": {\"endlinecolor\": \"#2a3f5f\", \"gridcolor\": \"white\", \"linecolor\": \"white\", \"minorgridcolor\": \"white\", \"startlinecolor\": \"#2a3f5f\"}, \"baxis\": {\"endlinecolor\": \"#2a3f5f\", \"gridcolor\": \"white\", \"linecolor\": \"white\", \"minorgridcolor\": \"white\", \"startlinecolor\": \"#2a3f5f\"}, \"type\": \"carpet\"}], \"choropleth\": [{\"colorbar\": {\"outlinewidth\": 0, \"ticks\": \"\"}, \"type\": \"choropleth\"}], \"contour\": [{\"colorbar\": {\"outlinewidth\": 0, \"ticks\": \"\"}, \"colorscale\": [[0.0, \"#0d0887\"], [0.1111111111111111, \"#46039f\"], [0.2222222222222222, \"#7201a8\"], [0.3333333333333333, \"#9c179e\"], [0.4444444444444444, \"#bd3786\"], [0.5555555555555556, \"#d8576b\"], [0.6666666666666666, \"#ed7953\"], [0.7777777777777778, \"#fb9f3a\"], [0.8888888888888888, \"#fdca26\"], [1.0, \"#f0f921\"]], \"type\": \"contour\"}], \"contourcarpet\": [{\"colorbar\": {\"outlinewidth\": 0, \"ticks\": \"\"}, \"type\": \"contourcarpet\"}], \"heatmap\": [{\"colorbar\": {\"outlinewidth\": 0, \"ticks\": \"\"}, \"colorscale\": [[0.0, \"#0d0887\"], [0.1111111111111111, \"#46039f\"], [0.2222222222222222, \"#7201a8\"], [0.3333333333333333, \"#9c179e\"], [0.4444444444444444, \"#bd3786\"], [0.5555555555555556, \"#d8576b\"], [0.6666666666666666, \"#ed7953\"], [0.7777777777777778, \"#fb9f3a\"], [0.8888888888888888, \"#fdca26\"], [1.0, \"#f0f921\"]], \"type\": \"heatmap\"}], \"heatmapgl\": [{\"colorbar\": {\"outlinewidth\": 0, \"ticks\": \"\"}, \"colorscale\": [[0.0, \"#0d0887\"], [0.1111111111111111, \"#46039f\"], [0.2222222222222222, \"#7201a8\"], [0.3333333333333333, \"#9c179e\"], [0.4444444444444444, \"#bd3786\"], [0.5555555555555556, \"#d8576b\"], [0.6666666666666666, \"#ed7953\"], [0.7777777777777778, \"#fb9f3a\"], [0.8888888888888888, \"#fdca26\"], [1.0, \"#f0f921\"]], \"type\": \"heatmapgl\"}], \"histogram\": [{\"marker\": {\"colorbar\": {\"outlinewidth\": 0, \"ticks\": \"\"}}, \"type\": \"histogram\"}], \"histogram2d\": [{\"colorbar\": {\"outlinewidth\": 0, \"ticks\": \"\"}, \"colorscale\": [[0.0, \"#0d0887\"], [0.1111111111111111, \"#46039f\"], [0.2222222222222222, \"#7201a8\"], [0.3333333333333333, \"#9c179e\"], [0.4444444444444444, \"#bd3786\"], [0.5555555555555556, \"#d8576b\"], [0.6666666666666666, \"#ed7953\"], [0.7777777777777778, \"#fb9f3a\"], [0.8888888888888888, \"#fdca26\"], [1.0, \"#f0f921\"]], \"type\": \"histogram2d\"}], \"histogram2dcontour\": [{\"colorbar\": {\"outlinewidth\": 0, \"ticks\": \"\"}, \"colorscale\": [[0.0, \"#0d0887\"], [0.1111111111111111, \"#46039f\"], [0.2222222222222222, \"#7201a8\"], [0.3333333333333333, \"#9c179e\"], [0.4444444444444444, \"#bd3786\"], [0.5555555555555556, \"#d8576b\"], [0.6666666666666666, \"#ed7953\"], [0.7777777777777778, \"#fb9f3a\"], [0.8888888888888888, \"#fdca26\"], [1.0, \"#f0f921\"]], \"type\": \"histogram2dcontour\"}], \"mesh3d\": [{\"colorbar\": {\"outlinewidth\": 0, \"ticks\": \"\"}, \"type\": \"mesh3d\"}], \"parcoords\": [{\"line\": {\"colorbar\": {\"outlinewidth\": 0, \"ticks\": \"\"}}, \"type\": \"parcoords\"}], \"pie\": [{\"automargin\": true, \"type\": \"pie\"}], \"scatter\": [{\"marker\": {\"colorbar\": {\"outlinewidth\": 0, \"ticks\": \"\"}}, \"type\": \"scatter\"}], \"scatter3d\": [{\"line\": {\"colorbar\": {\"outlinewidth\": 0, \"ticks\": \"\"}}, \"marker\": {\"colorbar\": {\"outlinewidth\": 0, \"ticks\": \"\"}}, \"type\": \"scatter3d\"}], \"scattercarpet\": [{\"marker\": {\"colorbar\": {\"outlinewidth\": 0, \"ticks\": \"\"}}, \"type\": \"scattercarpet\"}], \"scattergeo\": [{\"marker\": {\"colorbar\": {\"outlinewidth\": 0, \"ticks\": \"\"}}, \"type\": \"scattergeo\"}], \"scattergl\": [{\"marker\": {\"colorbar\": {\"outlinewidth\": 0, \"ticks\": \"\"}}, \"type\": \"scattergl\"}], \"scattermapbox\": [{\"marker\": {\"colorbar\": {\"outlinewidth\": 0, \"ticks\": \"\"}}, \"type\": \"scattermapbox\"}], \"scatterpolar\": [{\"marker\": {\"colorbar\": {\"outlinewidth\": 0, \"ticks\": \"\"}}, \"type\": \"scatterpolar\"}], \"scatterpolargl\": [{\"marker\": {\"colorbar\": {\"outlinewidth\": 0, \"ticks\": \"\"}}, \"type\": \"scatterpolargl\"}], \"scatterternary\": [{\"marker\": {\"colorbar\": {\"outlinewidth\": 0, \"ticks\": \"\"}}, \"type\": \"scatterternary\"}], \"surface\": [{\"colorbar\": {\"outlinewidth\": 0, \"ticks\": \"\"}, \"colorscale\": [[0.0, \"#0d0887\"], [0.1111111111111111, \"#46039f\"], [0.2222222222222222, \"#7201a8\"], [0.3333333333333333, \"#9c179e\"], [0.4444444444444444, \"#bd3786\"], [0.5555555555555556, \"#d8576b\"], [0.6666666666666666, \"#ed7953\"], [0.7777777777777778, \"#fb9f3a\"], [0.8888888888888888, \"#fdca26\"], [1.0, \"#f0f921\"]], \"type\": \"surface\"}], \"table\": [{\"cells\": {\"fill\": {\"color\": \"#EBF0F8\"}, \"line\": {\"color\": \"white\"}}, \"header\": {\"fill\": {\"color\": \"#C8D4E3\"}, \"line\": {\"color\": \"white\"}}, \"type\": \"table\"}]}, \"layout\": {\"annotationdefaults\": {\"arrowcolor\": \"#2a3f5f\", \"arrowhead\": 0, \"arrowwidth\": 1}, \"coloraxis\": {\"colorbar\": {\"outlinewidth\": 0, \"ticks\": \"\"}}, \"colorscale\": {\"diverging\": [[0, \"#8e0152\"], [0.1, \"#c51b7d\"], [0.2, \"#de77ae\"], [0.3, \"#f1b6da\"], [0.4, \"#fde0ef\"], [0.5, \"#f7f7f7\"], [0.6, \"#e6f5d0\"], [0.7, \"#b8e186\"], [0.8, \"#7fbc41\"], [0.9, \"#4d9221\"], [1, \"#276419\"]], \"sequential\": [[0.0, \"#0d0887\"], [0.1111111111111111, \"#46039f\"], [0.2222222222222222, \"#7201a8\"], [0.3333333333333333, \"#9c179e\"], [0.4444444444444444, \"#bd3786\"], [0.5555555555555556, \"#d8576b\"], [0.6666666666666666, \"#ed7953\"], [0.7777777777777778, \"#fb9f3a\"], [0.8888888888888888, \"#fdca26\"], [1.0, \"#f0f921\"]], \"sequentialminus\": [[0.0, \"#0d0887\"], [0.1111111111111111, \"#46039f\"], [0.2222222222222222, \"#7201a8\"], [0.3333333333333333, \"#9c179e\"], [0.4444444444444444, \"#bd3786\"], [0.5555555555555556, \"#d8576b\"], [0.6666666666666666, \"#ed7953\"], [0.7777777777777778, \"#fb9f3a\"], [0.8888888888888888, \"#fdca26\"], [1.0, \"#f0f921\"]]}, \"colorway\": [\"#636efa\", \"#EF553B\", \"#00cc96\", \"#ab63fa\", \"#FFA15A\", \"#19d3f3\", \"#FF6692\", \"#B6E880\", \"#FF97FF\", \"#FECB52\"], \"font\": {\"color\": \"#2a3f5f\"}, \"geo\": {\"bgcolor\": \"white\", \"lakecolor\": \"white\", \"landcolor\": \"#E5ECF6\", \"showlakes\": true, \"showland\": true, \"subunitcolor\": \"white\"}, \"hoverlabel\": {\"align\": \"left\"}, \"hovermode\": \"closest\", \"mapbox\": {\"style\": \"light\"}, \"paper_bgcolor\": \"white\", \"plot_bgcolor\": \"#E5ECF6\", \"polar\": {\"angularaxis\": {\"gridcolor\": \"white\", \"linecolor\": \"white\", \"ticks\": \"\"}, \"bgcolor\": \"#E5ECF6\", \"radialaxis\": {\"gridcolor\": \"white\", \"linecolor\": \"white\", \"ticks\": \"\"}}, \"scene\": {\"xaxis\": {\"backgroundcolor\": \"#E5ECF6\", \"gridcolor\": \"white\", \"gridwidth\": 2, \"linecolor\": \"white\", \"showbackground\": true, \"ticks\": \"\", \"zerolinecolor\": \"white\"}, \"yaxis\": {\"backgroundcolor\": \"#E5ECF6\", \"gridcolor\": \"white\", \"gridwidth\": 2, \"linecolor\": \"white\", \"showbackground\": true, \"ticks\": \"\", \"zerolinecolor\": \"white\"}, \"zaxis\": {\"backgroundcolor\": \"#E5ECF6\", \"gridcolor\": \"white\", \"gridwidth\": 2, \"linecolor\": \"white\", \"showbackground\": true, \"ticks\": \"\", \"zerolinecolor\": \"white\"}}, \"shapedefaults\": {\"line\": {\"color\": \"#2a3f5f\"}}, \"ternary\": {\"aaxis\": {\"gridcolor\": \"white\", \"linecolor\": \"white\", \"ticks\": \"\"}, \"baxis\": {\"gridcolor\": \"white\", \"linecolor\": \"white\", \"ticks\": \"\"}, \"bgcolor\": \"#E5ECF6\", \"caxis\": {\"gridcolor\": \"white\", \"linecolor\": \"white\", \"ticks\": \"\"}}, \"title\": {\"x\": 0.05}, \"xaxis\": {\"automargin\": true, \"gridcolor\": \"white\", \"linecolor\": \"white\", \"ticks\": \"\", \"title\": {\"standoff\": 15}, \"zerolinecolor\": \"white\", \"zerolinewidth\": 2}, \"yaxis\": {\"automargin\": true, \"gridcolor\": \"white\", \"linecolor\": \"white\", \"ticks\": \"\", \"title\": {\"standoff\": 15}, \"zerolinecolor\": \"white\", \"zerolinewidth\": 2}}}, \"title\": {\"text\": \"12\\\" GP riser - Axial Force X\", \"x\": 0.5}, \"xaxis\": {\"range\": [0, 1000], \"title\": {\"text\": \"Length [mm]\"}}, \"yaxis\": {\"title\": {\"text\": \"Force [N]\"}}},\n",
       "                        {\"responsive\": true}\n",
       "                    ).then(function(){\n",
       "                            \n",
       "var gd = document.getElementById('52687beb-9b7e-45d1-af6a-1a3b4b1f2bb0');\n",
       "var x = new MutationObserver(function (mutations, observer) {{\n",
       "        var display = window.getComputedStyle(gd).display;\n",
       "        if (!display || display === 'none') {{\n",
       "            console.log([gd, 'removed!']);\n",
       "            Plotly.purge(gd);\n",
       "            observer.disconnect();\n",
       "        }}\n",
       "}});\n",
       "\n",
       "// Listen for the removal of the full notebook cells\n",
       "var notebookContainer = gd.closest('#notebook-container');\n",
       "if (notebookContainer) {{\n",
       "    x.observe(notebookContainer, {childList: true});\n",
       "}}\n",
       "\n",
       "// Listen for the clearing of the current output cell\n",
       "var outputEl = gd.closest('.output');\n",
       "if (outputEl) {{\n",
       "    x.observe(outputEl, {childList: true});\n",
       "}}\n",
       "\n",
       "                        })\n",
       "                };\n",
       "                });\n",
       "            </script>\n",
       "        </div>"
      ]
     },
     "metadata": {},
     "output_type": "display_data"
    },
    {
     "data": {
      "application/vnd.jupyter.widget-view+json": {
       "model_id": "1ba479c6578d44179c73c028feb8d7f5",
       "version_major": 2,
       "version_minor": 0
      },
      "text/plain": [
       "Button(description='Show below selection', layout=Layout(width='99%'), style=ButtonStyle())"
      ]
     },
     "metadata": {},
     "output_type": "display_data"
    },
    {
     "data": {
      "application/vnd.jupyter.widget-view+json": {
       "model_id": "6757821eec1642529219cc6c9240874b",
       "version_major": 2,
       "version_minor": 0
      },
      "text/plain": [
       "HBox(children=(Dropdown(description='Position', index=19, options=('30', '46', '100', '161', '184', '241', '26…"
      ]
     },
     "metadata": {},
     "output_type": "display_data"
    },
    {
     "data": {
      "application/vnd.jupyter.widget-view+json": {
       "model_id": "9600672155da4523a859fbe07652de8b",
       "version_major": 2,
       "version_minor": 0
      },
      "text/plain": [
       "HBox(children=(SelectMultiple(index=(3,), layout=Layout(width='100%'), options=('full_t10_oppo_v4_fric_job1', …"
      ]
     },
     "metadata": {},
     "output_type": "display_data"
    },
    {
     "data": {
      "application/vnd.jupyter.widget-view+json": {
       "model_id": "950c2ffdb35942d985f2d251f815930f",
       "version_major": 2,
       "version_minor": 0
      },
      "text/plain": [
       "Tab(children=(Text(value='full_t10_oppo_v4_fric_job1', placeholder='full_t10_oppo_v4_fric_job1'), Text(value='…"
      ]
     },
     "metadata": {},
     "output_type": "display_data"
    },
    {
     "data": {
      "application/vnd.jupyter.widget-view+json": {
       "model_id": "5d13710c69d144c0bae5d9f05866249f",
       "version_major": 2,
       "version_minor": 0
      },
      "text/plain": [
       "HBox(children=(ToggleButtons(description='Color:', index=1, options=('Cases', 'Layers'), style=ToggleButtonsSt…"
      ]
     },
     "metadata": {},
     "output_type": "display_data"
    }
   ],
   "source": [
    "# Main\n",
    "run_button = widgets.Button(description='Show below selection',\n",
    "                            layout=Layout(width = '99%'))\n",
    "\n",
    "# # Create/clear file for writing results\n",
    "# res_file= project_folder / 'CS_print_res.csv'\n",
    "# with open(res_file, 'w') as fo: pass\n",
    "val = '' # TEST\n",
    "\n",
    "def run_on_click(a):\n",
    "    \n",
    "    '''\n",
    "    Format of dataframes results are picked from:\n",
    "     - df with full cross section results = df_case[case][pos]\n",
    "     - df with excel results = df_results[case]\n",
    "     - length plot : df_plot consists of one row with results for each position\n",
    "    \n",
    "    # Todo: find max inc position\n",
    "    \n",
    "    '''\n",
    "    \n",
    "    # Create/clear file for writing results\n",
    "    res_file = project_folder / 'CROSSECTION_post-processing.csv'\n",
    "    df_write = pd.DataFrame()\n",
    "    with open(res_file, 'w') as fo: pass\n",
    "    \n",
    "    # Read position and curvature from widgets\n",
    "    curvature = wg_curv.value\n",
    "    position = wg_pos.value\n",
    "    timestep = wg_timestep.value\n",
    "    \n",
    "    # Initialization\n",
    "    data = []\n",
    "    clear_output()\n",
    "        \n",
    "    # Find increment with critical curvature\n",
    "    curv_inc = {}\n",
    "\n",
    "    for case in wg_cases.value:\n",
    "#         try:\n",
    "        df = df_case[case][position]\n",
    "        curv_inc[case] = (df['K1_2'].abs()-curvature).abs().argsort()[0]\n",
    "#         except KeyError:\n",
    "#             pass\n",
    "    \n",
    "    # Extract case names from tabs\n",
    "    case_names = {}\n",
    "    for c in tab.children:\n",
    "        case_names[c.placeholder] = c.value\n",
    "    \n",
    "    # Plot each case\n",
    "    for i, case in enumerate(wg_cases.value):\n",
    "        \n",
    "        # Create empty dataframe \n",
    "        df_plot = pd.DataFrame()\n",
    "        \n",
    "        # Get positions for this case\n",
    "        positions = sorted([int(p) for p in df_case[case].keys()])\n",
    "        \n",
    "        #  L E N G T H\n",
    "        if wg_xaxis.value == 'Length':\n",
    "            \n",
    "            # Function of length for given inc - only when curvature not timestep\n",
    "            inc = curv_inc[case]\n",
    "            \n",
    "            for pos in positions:\n",
    "                # Extract df with only relevant columns (to limit size)\n",
    "                df_pos = df_filter(df_case[case][str(pos)], keep=list(wg_cbodies.value), remove=remove_cbodies)\n",
    "                \n",
    "                # If for specific curvature\n",
    "                if toggle_curv.value == 'Curvature':\n",
    "                    df_inc = df_pos.iloc[inc:inc+1].reset_index(drop=True) # extract current increment\n",
    "                else:\n",
    "                    # If for specific time step - SHOULD FIND NEAREST TIME STEP IF NO MATCH\n",
    "                    df_inc = df_pos[np.round(df_pos['time'], 2)==timestep].reset_index(drop=True)\n",
    "#                     df_inc = df_pos[np.round(df_pos['time'], 3)==0.240].reset_index(drop=True)\n",
    "                \n",
    "                # For both                \n",
    "                df_res = pd.concat([pd.DataFrame({'Position' : [pos]}), df_inc], axis=1) # concat pos and inc\n",
    "                df_plot = pd.concat([df_plot, df_res], axis=0, ignore_index=True) # add new pos to bottom\n",
    "#                 print(df_plot)\n",
    "\n",
    "            df_plot.drop(['inc', 'time'], axis=1, inplace=True)\n",
    "        \n",
    "        #  T I M E\n",
    "        elif any([wg_xaxis.value == 'Time', wg_xaxis.value == 'Curvature']):\n",
    "            \n",
    "            # Position to plot is based on user input\n",
    "            pos = wg_pos.value\n",
    "            keep_cbodies = [f'{wg_yaxis.value}.{cb}' for cb in wg_cbodies.value]\n",
    "            df_plot = df_filter(df_case[case][str(pos)], keep=keep_cbodies, remove=remove_cbodies)\n",
    "            \n",
    "            # Add stress if desired\n",
    "            if wg_yaxis.value == 'Stress':\n",
    "                df_plot['Stress'] = df_stress[case]['Stress.Flextensile1']\n",
    "#                 print(df_stress[case])\n",
    "                # THIS IS A QUICK FIX - ALSO CHECK SAME NUMBER OF TIME STEPS?\n",
    "                # ONLY ADDS FLEXTENSILE1 HARDCODED\n",
    "        \n",
    "        #  O T H E R\n",
    "        else:\n",
    "            df_plot = df_filter(df_case[case][position], keep='sum', remove=['none', 'frc'])\n",
    "\n",
    "\n",
    "        # Plot each part\n",
    "        for k, val in enumerate([l for l in df_plot.columns.values if wg_yaxis.value in l]):\n",
    "            # Generate name\n",
    "            try:\n",
    "                part_name = val.split('.')[1].replace('_', ' ').capitalize()\n",
    "            except IndexError:\n",
    "                part_name = val\n",
    "\n",
    "            # Define color\n",
    "            line_type = []\n",
    "            if toggle_color.value == 'Cases':\n",
    "                line_color, line_symbol = i, k\n",
    "            else:\n",
    "                line_color, line_symbol = k, i\n",
    "\n",
    "            # X-axis options\n",
    "            \n",
    "            try:\n",
    "                case_name = case_names[case]\n",
    "            except Exception:\n",
    "                case_name = case\n",
    "            \n",
    "            if wg_xaxis.value == 'Curvature':\n",
    "                plot_name = f'{case_name}<br>({part_name})'\n",
    "                x_vals = df_plot['K1_2'].abs()\n",
    "                x_title = 'Curvature [1/m]'\n",
    "                x_range = [0, 1.0]\n",
    "                plot_loc = wg_pos.value\n",
    "                \n",
    "            elif wg_xaxis.value == 'Time':\n",
    "                plot_name = f'{part_name}<br>({case_name})'\n",
    "                x_vals = df_plot['time']\n",
    "                x_title = 'Time [s]'\n",
    "                x_range = [0, 2]\n",
    "                plot_loc = wg_pos.value\n",
    "\n",
    "            elif wg_xaxis.value == 'Length':\n",
    "                plot_name = f'{case_name}<br>({part_name})'\n",
    "                x_vals = df_plot['Position']\n",
    "                x_title = 'Length [mm]'\n",
    "                x_range = [0, 1000]\n",
    "                \n",
    "                if wg_curv.disabled == False:\n",
    "                    plot_loc = wg_curv.value\n",
    "                else:\n",
    "                    plot_loc = wg_timestep.value\n",
    "                \n",
    "            else:\n",
    "                x_vals = df_results[case_file]['Contact Force']\n",
    "                x_title = 'Contact force [N]'\n",
    "                x_range = [0, 300000]          \n",
    "            \n",
    "            # Make trace\n",
    "            trace = go.Scatter(mode=toggle_markers.value,\n",
    "                               x = x_vals,\n",
    "#                                y = abs(df_plot[val]),\n",
    "                               y = df_plot[val],\n",
    "                               name = plot_name,\n",
    "                               line = {'color' : colors_4s[line_color]},\n",
    "                               marker = {'color' : colors_4s[line_color], \n",
    "                                         'symbol' : line_symbol, 'size' : 7}\n",
    "                              )\n",
    "            data.append(trace)\n",
    "#             print(len(x_vals))\n",
    "#             print(list(df_plot[val]))\n",
    "            \n",
    "#             # Write to result file\n",
    "#             try:\n",
    "#                 csv_file = pd.read_csv(res_file, sep='\\t')\n",
    "#             except Exception:\n",
    "#                 csv_file = pd.DataFrame()\n",
    "                \n",
    "            col_name = f'{case_name.replace(\"<br>\", \" - \")} - {plot_loc}'\n",
    "#             csv_file[f'{col_name} x'] = x_vals\n",
    "#             csv_file[f'{col_name}'] = df_plot[val]\n",
    "# #             csv_file.to_csv(res_file, index=False, sep='\\t')\n",
    "            \n",
    "            # CREATE DF_WRITE INSTEAD\n",
    "            df_write = pd.concat([df_write, \n",
    "                                  pd.DataFrame({f'{col_name}' : x_vals}),\n",
    "                                  pd.DataFrame({f'{col_name} - {val}' : df_plot[val]})], axis=1)\n",
    "\n",
    "\n",
    "    # Write to csv file\n",
    "    df_write.fillna('')\n",
    "    df_write.to_csv(res_file, index=False, sep='\\t')\n",
    "            \n",
    "            \n",
    "    # Y-axis title\n",
    "    try:\n",
    "        y_title = fm_units[val.split('.')[0]]\n",
    "    except (KeyError, UnboundLocalError):\n",
    "        y_title = val # If here : df_filter keep might be set to 'sum' which removes some variables\n",
    "\n",
    "    # Change range if desireable\n",
    "    if wg_yaxis.value == 'EI':\n",
    "        y_axis_dict = dict(title=y_title, range=[-30e6, 30e6])\n",
    "    else:\n",
    "        y_axis_dict = dict(title=y_title)\n",
    "   \n",
    "    # Layout of plot\n",
    "    layout = go.Layout(title=f'12\" GP riser - {fm[val.split(\".\")[0]]}',\n",
    "                       title_x=0.5,\n",
    "                       xaxis=dict(title=x_title, range=x_range),\n",
    "                       yaxis=y_axis_dict)\n",
    "    \n",
    "    fig1 = dict(data=data, layout=layout)\n",
    "    plotly.offline.iplot(go.Figure(fig1))\n",
    "    display(run_button, ui_box3, ui_box1, tab, ui_box2)\n",
    "\n",
    "run_button.on_click(run_on_click)\n",
    "\n",
    "display(run_button, ui_box3, ui_box1, tab, ui_box2)"
   ]
  },
  {
   "cell_type": "code",
   "execution_count": 31,
   "metadata": {
    "ExecuteTime": {
     "end_time": "2022-05-05T13:07:24.845212Z",
     "start_time": "2022-05-05T13:07:24.824232Z"
    }
   },
   "outputs": [
    {
     "ename": "KeyError",
     "evalue": "'899'",
     "output_type": "error",
     "traceback": [
      "\u001b[1;31m---------------------------------------------------------------------------\u001b[0m",
      "\u001b[1;31mKeyError\u001b[0m                                  Traceback (most recent call last)",
      "\u001b[1;32m<ipython-input-31-ae662198dabe>\u001b[0m in \u001b[0;36m<module>\u001b[1;34m\u001b[0m\n\u001b[0;32m     13\u001b[0m \u001b[1;32mfor\u001b[0m \u001b[0mcase\u001b[0m \u001b[1;32min\u001b[0m \u001b[0mwg_cases\u001b[0m\u001b[1;33m.\u001b[0m\u001b[0mvalue\u001b[0m\u001b[1;33m:\u001b[0m\u001b[1;33m\u001b[0m\u001b[1;33m\u001b[0m\u001b[0m\n\u001b[0;32m     14\u001b[0m \u001b[1;31m#         try:\u001b[0m\u001b[1;33m\u001b[0m\u001b[1;33m\u001b[0m\u001b[1;33m\u001b[0m\u001b[0m\n\u001b[1;32m---> 15\u001b[1;33m     \u001b[0mdf\u001b[0m \u001b[1;33m=\u001b[0m \u001b[0mdf_case\u001b[0m\u001b[1;33m[\u001b[0m\u001b[0mcase\u001b[0m\u001b[1;33m]\u001b[0m\u001b[1;33m[\u001b[0m\u001b[0mposition\u001b[0m\u001b[1;33m]\u001b[0m\u001b[1;33m\u001b[0m\u001b[1;33m\u001b[0m\u001b[0m\n\u001b[0m\u001b[0;32m     16\u001b[0m     \u001b[0mcurv_inc\u001b[0m\u001b[1;33m[\u001b[0m\u001b[0mcase\u001b[0m\u001b[1;33m]\u001b[0m \u001b[1;33m=\u001b[0m \u001b[1;33m(\u001b[0m\u001b[0mdf\u001b[0m\u001b[1;33m[\u001b[0m\u001b[1;34m'K1_2'\u001b[0m\u001b[1;33m]\u001b[0m\u001b[1;33m.\u001b[0m\u001b[0mabs\u001b[0m\u001b[1;33m(\u001b[0m\u001b[1;33m)\u001b[0m\u001b[1;33m-\u001b[0m\u001b[0mcurvature\u001b[0m\u001b[1;33m)\u001b[0m\u001b[1;33m.\u001b[0m\u001b[0mabs\u001b[0m\u001b[1;33m(\u001b[0m\u001b[1;33m)\u001b[0m\u001b[1;33m.\u001b[0m\u001b[0margsort\u001b[0m\u001b[1;33m(\u001b[0m\u001b[1;33m)\u001b[0m\u001b[1;33m[\u001b[0m\u001b[1;36m0\u001b[0m\u001b[1;33m]\u001b[0m\u001b[1;33m\u001b[0m\u001b[1;33m\u001b[0m\u001b[0m\n\u001b[0;32m     17\u001b[0m \u001b[1;31m#         except KeyError:\u001b[0m\u001b[1;33m\u001b[0m\u001b[1;33m\u001b[0m\u001b[1;33m\u001b[0m\u001b[0m\n",
      "\u001b[1;31mKeyError\u001b[0m: '899'"
     ]
    }
   ],
   "source": [
    "# Read position and curvature from widgets\n",
    "curvature = wg_curv.value\n",
    "position = wg_pos.value\n",
    "timestep = wg_timestep.value\n",
    "\n",
    "# Initialization\n",
    "data = []\n",
    "clear_output()\n",
    "\n",
    "# Find increment with critical curvature\n",
    "curv_inc = {}\n",
    "\n",
    "for case in wg_cases.value:\n",
    "#         try:\n",
    "    df = df_case[case][position]\n",
    "    curv_inc[case] = (df['K1_2'].abs()-curvature).abs().argsort()[0]\n",
    "#         except KeyError:\n",
    "#             pass\n",
    "\n",
    "# Extract case names from tabs\n",
    "case_names = {}\n",
    "for c in tab.children:\n",
    "    case_names[c.placeholder] = c.value\n",
    "\n",
    "# Plot each case\n",
    "for i, case in enumerate(wg_cases.value):\n",
    "\n",
    "    # Create empty dataframe \n",
    "    df_plot = pd.DataFrame()\n",
    "\n",
    "    # Get positions for this case\n",
    "    positions = sorted([int(p) for p in df_case[case].keys()])\n",
    "\n",
    "    #  L E N G T H\n",
    "    if wg_xaxis.value == 'Length':\n",
    "\n",
    "        # Function of length for given inc - only when curvature not timestep\n",
    "        inc = curv_inc[case]\n",
    "\n",
    "        for pos in positions:\n",
    "            # Extract df with only relevant columns (to limit size)\n",
    "            df_pos = df_filter(df_case[case][str(pos)], keep=list(wg_cbodies.value), remove=remove_cbodies)\n",
    "\n",
    "            # If for specific curvature\n",
    "            if toggle_curv.value == 'Curvature':\n",
    "                df_inc = df_pos.iloc[inc:inc+1].reset_index(drop=True) # extract current increment\n",
    "            else:\n",
    "                # If for specific time step - SHOULD FIND NEAREST TIME STEP IF NO MATCH\n",
    "                df_inc = df_pos[np.round(df_pos['time'], 2)==timestep].reset_index(drop=True)\n",
    "#                     df_inc = df_pos[np.round(df_pos['time'], 3)==0.240].reset_index(drop=True)"
   ]
  },
  {
   "cell_type": "code",
   "execution_count": null,
   "metadata": {
    "ExecuteTime": {
     "end_time": "2021-04-12T11:58:27.756343Z",
     "start_time": "2021-04-12T11:58:27.750347Z"
    }
   },
   "outputs": [],
   "source": [
    "df_stress.keys()"
   ]
  },
  {
   "cell_type": "code",
   "execution_count": null,
   "metadata": {
    "ExecuteTime": {
     "end_time": "2021-03-27T15:04:13.005243Z",
     "start_time": "2021-03-27T15:04:12.946297Z"
    }
   },
   "outputs": [],
   "source": [
    "df = pd.DataFrame([(.21, .32), (.01, .67), (.66, .03), (.21, .18)],\n",
    "                  columns=['dogs', 'cats'])\n",
    "df2 = pd.DataFrame([(.21, .32), (.01, .67), (.66, .03), (.21, .18), (.34, .17)],\n",
    "                  columns=['dogs1', 'cats1'])\n",
    "\n",
    "d = pd.DataFrame()\n",
    "for data in [df, df2]:\n",
    "    d = pd.concat([d, pd.DataFrame({data.columns[0] : data.columns[0]})], axis=1)\n",
    "#     d[data.colummns[0]] = data[data.columns[0]]"
   ]
  },
  {
   "cell_type": "code",
   "execution_count": null,
   "metadata": {
    "ExecuteTime": {
     "end_time": "2021-03-27T15:06:21.066655Z",
     "start_time": "2021-03-27T15:06:21.038680Z"
    }
   },
   "outputs": [],
   "source": [
    "df = pd.DataFrame([(.21, .32), (.01, .67), (.66, .03), (.21, .18)],\n",
    "                  columns=['dogs', 'cats'])\n",
    "df2 = pd.DataFrame([(.21, .32), (.01, .67), (.66, .03), (.21, .18), (.34, .17)],\n",
    "                  columns=['dogs1', 'cats1'])\n",
    "\n",
    "d = pd.DataFrame()\n",
    "for data in [df, df2]:\n",
    "    d = pd.concat([d, pd.DataFrame({data.columns[0] : data[data.columns[0]]})], axis=1)\n",
    "#     d[data.colummns[0]] = data[data.columns[0]]"
   ]
  },
  {
   "cell_type": "code",
   "execution_count": null,
   "metadata": {
    "ExecuteTime": {
     "end_time": "2021-03-29T09:27:53.018112Z",
     "start_time": "2021-03-29T09:27:53.000129Z"
    }
   },
   "outputs": [],
   "source": [
    "d = [1, 2, 3]"
   ]
  },
  {
   "cell_type": "code",
   "execution_count": null,
   "metadata": {
    "ExecuteTime": {
     "end_time": "2021-03-29T09:27:56.773736Z",
     "start_time": "2021-03-29T09:27:56.759749Z"
    }
   },
   "outputs": [],
   "source": []
  },
  {
   "cell_type": "code",
   "execution_count": null,
   "metadata": {
    "ExecuteTime": {
     "end_time": "2021-03-27T14:57:34.076401Z",
     "start_time": "2021-03-27T14:57:34.063413Z"
    }
   },
   "outputs": [],
   "source": [
    "df.columns[0]"
   ]
  },
  {
   "cell_type": "markdown",
   "metadata": {
    "heading_collapsed": true
   },
   "source": [
    "#### Time plot V2"
   ]
  },
  {
   "cell_type": "code",
   "execution_count": null,
   "metadata": {
    "hidden": true
   },
   "outputs": [],
   "source": [
    "# To be checked"
   ]
  },
  {
   "cell_type": "code",
   "execution_count": null,
   "metadata": {
    "hidden": true
   },
   "outputs": [],
   "source": [
    "# Settings\n",
    "fm = {'Fx' : 'Force X', 'Fy' : 'Force Y', 'Fz' : 'Force Z',\n",
    "      'Mx' : 'Moment X', 'My' : 'Moment Y', 'Mz' : 'Moment Z',\n",
    "      'Av Pl Strain' : 'Average plastic strain',\n",
    "      'Max Pl Strain' : 'Max plastic strain'}\n",
    "\n",
    "colors_4s = ['#00a0b0', '#f3776f', '#012b5d', '#009ddc', '#00a88f', '#faa634', '#c0c1ba', '#f8ed9b',\n",
    "             '#00a0b0', '#f3776f', '#012b5d', '#009ddc', '#00a88f', '#faa634', '#c0c1ba', '#f8ed9b']\n",
    "line_styles = ['lines', 'lines+markers', 'markers', 'lines', 'lines+markers', 'markers', 'lines', 'lines+markers', 'markers']"
   ]
  },
  {
   "cell_type": "code",
   "execution_count": null,
   "metadata": {
    "hidden": true
   },
   "outputs": [],
   "source": [
    "# Input\n",
    "folder = r'C:\\Projects\\1324_NOV_end-fitting_FE_analyses\\Analysis\\Volve_new'\n",
    "model_name = 'Volve_liner_holder_new_v2_t2_job' #'Volve_liner_holder_new_v2_t2_6teeth'\n",
    "case_description = {'case01' : '6 teeth engaging', 'case02' : 'Carcass as eq. cylinder', \n",
    "                    'new' : 'Base case'}\n",
    "\n",
    "element_sets = {'fbr' : 'Front brick right', 'fbl' : 'Front brick left',\n",
    "                'rbr' : 'Rear brick right',  'rbl' : 'Rear brick left'}\n",
    "\n",
    "#find csv files\n",
    "csv_files = find_files(folder, model_name, 'elset_sum', '.csv')\n",
    "df_dict = {} # format is {node : dataframe}\n",
    "csv_names = []\n",
    "\n",
    "#read csv files into data frame\n",
    "for csv_file in csv_files:\n",
    "    csv_name = [f.replace('elset', '') for f in  csv_file.split('_') if 'elset' in f][0]\n",
    "    csv_names.append(csv_name)\n",
    "    df = pd.read_csv(os.path.join(folder, csv_file))\n",
    "    \n",
    "    # Find element data: number, names and order\n",
    "    df_columns = df.columns.values\n",
    "    elsets = [e for e in df_columns if 'Element Set' in e]\n",
    "    no_elsets = len(elsets)\n",
    "    name_elsets = [df[el][1] for el in elsets]\n",
    "    \n",
    "    #change title with elset names\n",
    "    \n",
    "    # first find columns that occur more than once\n",
    "    df_columns_count = collections.Counter([i.split('.')[0] for i in df_columns])\n",
    "    df_columns_multiple = [c for c, i in df_columns_count.iteritems() if i > 1]\n",
    "    \n",
    "    #then for each column, if name occur \n",
    "    \n",
    "    df_columns_new = []\n",
    "    for col in df_columns:\n",
    "        if col in df_columns_multiple: # only true for first element set\n",
    "            df_columns_new.append('_'.join([col, name_elsets[0]]))\n",
    "        elif len(col.split('.')) == 2: # only true for remaining element sets\n",
    "            current_elset = int(col.split('.')[1])\n",
    "            df_columns_new.append('_'.join([col, name_elsets[current_elset]]))\n",
    "        else:\n",
    "            df_columns_new.append(col)\n",
    "    \n",
    "    df.columns = df_columns_new\n",
    "    \n",
    "    df_dict[csv_name] = df\n",
    "    \n",
    "# Widgets\n",
    "cases = widgets.SelectMultiple(options = csv_names,\n",
    "                               value = csv_names,\n",
    "                               disable = False,\n",
    "                               layout = Layout(width = '100%')\n",
    "                               )\n",
    "\n",
    "plot_fm = widgets.SelectMultiple(options = fm.keys(),\n",
    "                                 value = fm.keys(),\n",
    "                                 disable = False,\n",
    "                                 layout = Layout(width = '100%')\n",
    "                                 )\n",
    "\n",
    "run_button = widgets.Button(description='Show below selection', \n",
    "                            layout=Layout(width = '97%')\n",
    "                           )\n",
    "\n",
    "ui = widgets.HBox([cases, plot_fm])\n",
    "display(run_button, ui)\n",
    "\n",
    "df_force = pd.read_csv(os.path.join(folder, 'v2_t2_reaction_forcy_y.csv'))\n",
    "\n",
    "#plot\n",
    "def run_on_click(a):\n",
    "    data = []\n",
    "    clear_output()\n",
    "    \n",
    "    for i, case in enumerate(cases.value): # plot each case\n",
    "        for j, plotme in enumerate(plot_fm.value): # plot each results (only one?)\n",
    "            for k, val in enumerate([l for l in df_dict[case].columns.values if plotme in l]): # plot each element set\n",
    "                elset_name = [val.split('_')[-1].replace(ro, rn) for ro, rn in element_sets.iteritems() if ro in val.split('_')[-1]][0]\n",
    "                trace = go.Scatter(mode=line_styles[i],\n",
    "                                   x = df_force['0'],\n",
    "                                   y = df_dict[case][val],\n",
    "                                   name = '{} <br>{}'.format(fm[plotme], elset_name),\n",
    "                                   line = {'color' : colors_4s[k]})\n",
    "                data.append(trace)\n",
    "\n",
    "    layout = go.Layout(xaxis=dict(title='Pull force [N]'),\n",
    "                       yaxis=dict(title='Force [N]'))#' / Moment [Nmm] / Strain [-]'))\n",
    "    \n",
    "    plotly.offline.iplot(go.Figure(data=data, layout=layout))\n",
    "    display(run_button, ui)\n",
    "\n",
    "run_button.on_click(run_on_click)"
   ]
  },
  {
   "cell_type": "markdown",
   "metadata": {
    "heading_collapsed": true
   },
   "source": [
    "#### Another plot"
   ]
  },
  {
   "cell_type": "code",
   "execution_count": null,
   "metadata": {
    "hidden": true
   },
   "outputs": [],
   "source": [
    "# Excel file with results to be read\n",
    "excel_file = '1535_csv_new.xlsx'\n",
    "extract_results = ['Time', 'Contact Force', 'Stress', 'Moment']\n",
    "excel_file_dir = project_folder / excel_file\n",
    "\n",
    "# Extract results\n",
    "df_results = read_excel_results(excel_file_dir, extract_results, cases)\n",
    "\n",
    "# OPTIONAL - extract local results\n",
    "try:\n",
    "    if isinstance(cases_local, dict):\n",
    "        df_local = read_excel_results(excel_file_dir, extract_results, cases_local)\n",
    "except NameError:\n",
    "    pass\n",
    "\n",
    "# Plot each case in df_results['Contact Force']\n",
    "data = []\n",
    "for i, case in enumerate(df_results.keys()):\n",
    "    trace = go.Scatter(mode=line_styles[0],\n",
    "                       x = df_results[case]['Time'],\n",
    "                       y = df_results[case]['Contact Force'],\n",
    "                       name = case,\n",
    "                       line = {'color' : colors_4s[i]}\n",
    "                      )\n",
    "    data.append(trace)\n",
    "\n",
    "# Define layout of plot\n",
    "layout = go.Layout(title='Contact force comparison',\n",
    "                   xaxis=dict(title='Time [s]', range=[1.2, 1.8]),\n",
    "                   yaxis=dict(title='Contact force [N]', range=[0, 300000]))\n",
    "\n",
    "# plotly.offline.iplot(go.Figure(data=data, layout=layout))"
   ]
  },
  {
   "cell_type": "code",
   "execution_count": null,
   "metadata": {
    "hidden": true
   },
   "outputs": [],
   "source": []
  },
  {
   "cell_type": "code",
   "execution_count": null,
   "metadata": {
    "hidden": true
   },
   "outputs": [],
   "source": []
  },
  {
   "cell_type": "code",
   "execution_count": null,
   "metadata": {
    "hidden": true
   },
   "outputs": [],
   "source": []
  },
  {
   "cell_type": "code",
   "execution_count": null,
   "metadata": {
    "hidden": true
   },
   "outputs": [],
   "source": []
  },
  {
   "cell_type": "markdown",
   "metadata": {
    "ExecuteTime": {
     "end_time": "2020-06-23T10:50:58.418722Z",
     "start_time": "2020-06-23T10:50:58.415703Z"
    }
   },
   "source": [
    "## Axisymmetric"
   ]
  },
  {
   "cell_type": "markdown",
   "metadata": {
    "ExecuteTime": {
     "end_time": "2020-06-23T10:51:15.962411Z",
     "start_time": "2020-06-23T10:51:15.959414Z"
    }
   },
   "source": [
    "### Time plot"
   ]
  },
  {
   "cell_type": "code",
   "execution_count": null,
   "metadata": {
    "ExecuteTime": {
     "end_time": "2021-02-12T16:08:33.250238Z",
     "start_time": "2021-02-12T16:08:33.236251Z"
    }
   },
   "outputs": [],
   "source": [
    "df = pd.DataFrame([[0, 1, 2, 3], [3, 4, 5, 6]], columns = ['t', 'a', 'b', 'c'])\n",
    "df[df['t']==3]"
   ]
  },
  {
   "cell_type": "code",
   "execution_count": null,
   "metadata": {},
   "outputs": [],
   "source": []
  },
  {
   "cell_type": "code",
   "execution_count": null,
   "metadata": {
    "ExecuteTime": {
     "end_time": "2020-06-24T13:30:51.921324Z",
     "start_time": "2020-06-24T13:30:51.918326Z"
    }
   },
   "outputs": [],
   "source": [
    "# Layers to remove from plot\n",
    "rem_layers = ['SUM', 'Carcass']\n",
    "\n",
    "# Input\n",
    "diff_pres = 500 # differential pressure\n",
    "skip_incs = 10 # number of increments in pre load case"
   ]
  },
  {
   "cell_type": "code",
   "execution_count": null,
   "metadata": {
    "ExecuteTime": {
     "end_time": "2020-06-24T14:11:40.326919Z",
     "start_time": "2020-06-24T14:11:40.259980Z"
    }
   },
   "outputs": [],
   "source": [
    "# Sort of list with name of runs\n",
    "runs = find_files(folder_path, 'csv') # find files containing .csv files in subfolder\n",
    "runs = sorted(set([r.parts[0] for r in runs])) # sort out run names\n",
    "\n",
    "# Make buttons with names of list\n",
    "run_list = wg.ToggleButtons(\n",
    "    options=runs,\n",
    "    disabled=False,\n",
    "    button_style='',\n",
    "    layout=Layout(width = '75%')\n",
    ")\n",
    "\n",
    "# Make run button to run post-processing\n",
    "run_button = wg.Button(description='Run post-processing', \n",
    "                            layout=Layout(width = '75%'))\n",
    "run_button.style.button_color='#23DFAC'\n",
    "\n",
    "# Display buttons\n",
    "ui = wg.VBox([run_button, run_list])\n",
    "display(ui)\n",
    "\n",
    "# Define function that should run on click\n",
    "def run_on_click(a):    \n",
    "    # input\n",
    "    case_path = folder_path / run_list.value\n",
    "    \n",
    "    # make figure\n",
    "    clear_output()\n",
    "    figure = {\n",
    "        'data': [],\n",
    "        'layout': {},\n",
    "        'frames': []\n",
    "    }\n",
    "    \n",
    "    # read csv-file and axial forces from file\n",
    "    force = read_results(case_path, 'Fx')\n",
    "\n",
    "    # definitions\n",
    "    time_steps = list(next(iter(force.values())).count())[0] - skip_incs # skip inc 0 and X increments\n",
    "    pressures = list(np.round([x / (time_steps-1) * diff_pres for x in range(0, time_steps)], 0))\n",
    "    pressures= [int(l) for l in pressures] # Can not be float decimal number\n",
    "    layers = trim_list(list(force.keys()), rem_layers)\n",
    "    \n",
    "    # ranges\n",
    "    x_range, y_range = find_ranges(force)\n",
    "    #y_range[0] = 0\n",
    "    \n",
    "    # define sliders\n",
    "    sliders_layout, sliders_dict = make_sliders(pressures)\n",
    "\n",
    "    # fill in most of layout\n",
    "    figure['layout'] = dict(title = run_list.value,\n",
    "                            xaxis = {'range': x_range, \n",
    "                                     'title': 'Position [mm]'},\n",
    "                            yaxis = {'range': y_range, 'title': \n",
    "                                     'Axial Force [N]'},\n",
    "                            height = 650,\n",
    "                            hovermode = 'closest',\n",
    "                            sliders = sliders_layout,\n",
    "                            updatemenus = add_play_pause()\n",
    "                           )\n",
    "  \n",
    "    # make data\n",
    "    for layer in layers:\n",
    "        # skipping first 10 inc (before differential pressure is applied)\n",
    "        data_dict = dict(x=list(force[layer].columns),\n",
    "                         y=list(force[layer].loc[skip_incs]),\n",
    "                         name=layer\n",
    "                        )\n",
    "        data_dict\n",
    "        figure['data'].append(data_dict)\n",
    "\n",
    "    # make frames\n",
    "    for i, pressure in enumerate(pressures, skip_incs):\n",
    "        frame = dict(data=[],\n",
    "                     name=pressure)\n",
    "\n",
    "        for layer in layers:\n",
    "            data_dict = dict(x=list(force[layer].columns),\n",
    "                             y=list(force[layer].loc[i]),\n",
    "                             name=layer\n",
    "                            )\n",
    "            frame['data'].append(data_dict)\n",
    "\n",
    "        figure['frames'].append(frame)\n",
    "\n",
    "        slider_step = {'args': [\n",
    "            [pressure],\n",
    "            {'frame': {'duration': 300, 'redraw': False},\n",
    "             'mode': 'immediate',\n",
    "           'transition': {'duration': 300}}\n",
    "         ],\n",
    "         'label': str(pressure) + ' bar',\n",
    "         'method': 'animate'}\n",
    "        \n",
    "        sliders_dict['steps'].append(slider_step)\n",
    "\n",
    "    figure['layout']['sliders'] = [sliders_dict]\n",
    "    \n",
    "    # Display buttons and figure\n",
    "    plotly.offline.iplot(figure)\n",
    "    display(ui)\n",
    "    \n",
    "run_button.on_click(run_on_click)"
   ]
  },
  {
   "cell_type": "code",
   "execution_count": null,
   "metadata": {},
   "outputs": [],
   "source": [
    "sorted(run_dir.rglob(f'*{arg}*')"
   ]
  },
  {
   "cell_type": "markdown",
   "metadata": {
    "ExecuteTime": {
     "end_time": "2021-01-29T13:33:28.553114Z",
     "start_time": "2021-01-29T13:33:28.531131Z"
    },
    "heading_collapsed": true
   },
   "source": [
    "## Old"
   ]
  },
  {
   "cell_type": "markdown",
   "metadata": {
    "heading_collapsed": true,
    "hidden": true
   },
   "source": [
    "### From 1324 project"
   ]
  },
  {
   "cell_type": "code",
   "execution_count": null,
   "metadata": {
    "hidden": true
   },
   "outputs": [],
   "source": [
    "import os\n",
    "import pandas as pd\n",
    "import plotly\n",
    "import plotly.graph_objs as go\n",
    "import collections\n",
    "plotly.offline.init_notebook_mode(connected=True)\n",
    "\n",
    "# increase width of screen\n",
    "from IPython.core.display import display, HTML\n",
    "display(HTML(\"<style>.container { width:76% !important; }</style>\"))\n",
    "\n",
    "# 4s colors\n",
    "colors_4s = ['#00a0b0', '#f3776f', '#012b5d', '#009ddc', '#00a88f', '#faa634', '#c0c1ba', '#f8ed9b',\n",
    "             '#00a0b0', '#f3776f', '#012b5d', '#009ddc', '#00a88f', '#faa634', '#c0c1ba', '#f8ed9b']\n",
    "\n",
    "\n",
    "def find_files(run_dir, *args):\n",
    "    '''\n",
    "    Function that finds all files containing arguments in directory\n",
    "    \n",
    "    :param run_dir: Directory containing files\n",
    "    :param args: Arguments which run_dir must contain\n",
    "    \n",
    "    :return files: Files containing arguments\n",
    "    '''\n",
    "    files = []\n",
    "    \n",
    "    for (dir_path, dir_names, file_names) in os.walk(run_dir):\n",
    "        for file in file_names:\n",
    "            file_path = os.path.relpath(os.path.join(dir_path, file), run_dir)\n",
    "            \n",
    "            # Filter to paths containing arg\n",
    "            if all(arg.lower() in file_path.lower() for arg in args):\n",
    "                files.append(file_path)\n",
    "    \n",
    "    return files\n",
    "\n",
    "\n",
    "def filter_files(file_list, filter_list):\n",
    "    return [l for l in file_list if not any([s in l for s in filter_list])]\n",
    "\n",
    "\n",
    "def get_max_min(df, get):\n",
    "    \n",
    "    if get.lower() == 'max':\n",
    "        val_loc = list(df.max()).index(max(df.max()))\n",
    "    elif get.lower() == 'min':\n",
    "        val_loc = list(df.min()).index(min(df.min()))\n",
    "    else:\n",
    "        return False\n",
    "    \n",
    "    val_name = df.columns[val_loc].split('.')[0]\n",
    "    return_df = df.iloc[:, val_loc]\n",
    "    \n",
    "    return val_name, return_df\n",
    "    \n",
    "    \n",
    "def remove_after(var, symbol):\n",
    "    if symbol in var:\n",
    "        var_split = var.split(symbol)\n",
    "        var = symbol.join(var_split[:-1])\n",
    "    return var\n",
    "\n",
    "\n",
    "def rename_cols(columns):\n",
    "    rename_cols = {}\n",
    "    for col in columns:\n",
    "        col_val = col.replace(title, '').replace('.', '')\n",
    "        try:\n",
    "            col_val = int(col_val) + 1\n",
    "        except ValueError:\n",
    "            if col_val == '':\n",
    "                col_val = 1\n",
    "            else:\n",
    "                pass\n",
    "        rename_cols[col] = col_val\n",
    "    return rename_cols\n",
    "\n",
    "# input\n",
    "folder = r'C:\\Projects\\1324_NOV_end-fitting_FE_analyses\\Previous_project\\3D_FE_capacity_Aasgard\\temp_pos12'\n",
    "model_name = 'asgard_3d_liner_holder_pos12_new' # extract results from ALL models with this name\n",
    "read_names = {'asgard_3d' : 'Aasgard 12deg'} # change name to readable name (order dependent)\n",
    "contact_bodies = {}\n",
    "filter_strings = ['t1', 't3_job1'] # names that files should not contain\n",
    "\n",
    "# initialize variables to be used\n",
    "data = []\n",
    "cs_results = {}\n",
    "post_results = {}\n",
    "results = {}\n",
    "\n",
    "# Sort of list with name of runs\n",
    "runs = find_files(folder, 'wire', '.csv') # find files containing .csv files in subfolder\n",
    "runs = sorted(set([r.split('\\\\')[0] for r in runs])) # sort out run names\n",
    "\n",
    "files = find_files(folder, model_name, 'wire_cb')\n",
    "files = filter_files(files, filter_strings)\n",
    "models = list(set(['_'.join(f.split('_')[0:-4]) for f in files]))\n",
    "models = filter_files(models, filter_strings)\n",
    "\n",
    "# Looping through each FE model results files\n",
    "for model in models:\n",
    "    # initialize variable and find .csv files\n",
    "    post_res = pd.DataFrame()\n",
    "    files = [f for f in files if model in f]\n",
    "    \n",
    "    # Looping through each contact body\n",
    "    for file in files:\n",
    "        dict_res = {}\n",
    "        # find number of contact body and corresponding name \n",
    "        cb_number = file[file.find('wire_cb')+7:file.find('wire_cb')+9].replace('.','')\n",
    "        cb_name = contact_bodies[cb_number]\n",
    "        \n",
    "        # find columns containing stress and unique names\n",
    "        df = pd.read_csv(os.path.join(folder, file))\n",
    "        df_stress = df.loc[:, df.columns.str.contains('Stress')]\n",
    "        # stresses = list(set([l.split('.')[0] for l in df_stress.columns.values])) # if to find max in each corner\n",
    "        stresses = ['Stress'] # if to find max of all corners\n",
    "        \n",
    "        post_res['Time'] = df['time']\n",
    "        post_res['Curvature'] = df['Curvature K2']\n",
    "        \n",
    "        for stress in stresses:\n",
    "            df_post = df_stress.loc[:, df_stress.columns.str.contains(stress)]\n",
    "    \n",
    "            for var in ['Max', 'Min']:\n",
    "                var_name, df_post = get_max_min(df, var)\n",
    "                df_name = ' '.join([cb_name, '<br>', var_name, '-', var])\n",
    "                post_res[df_name] = df_post\n",
    "\n",
    "        # THIS READS IN A BIT MORE TIDY WAY: results[model][contact_body][variable] = df with values\n",
    "        column_titles = [remove_after(name, '.') for name in df.columns.values]\n",
    "        titles = collections.Counter(column_titles)\n",
    "        for title, count in titles.items():\n",
    "            if 'Curvature' in title:\n",
    "                df_temp = df.loc[:, df.columns == title]\n",
    "            else:\n",
    "                df_temp = df.loc[:, df.columns.str.contains(title)]\n",
    "            dict_res[title] = df_temp.rename(columns=rename_cols(df_temp.columns))\n",
    "        \n",
    "        results[' '.join([model, cb_name])] = dict_res\n",
    "    post_results[model] = post_res\n",
    "\n",
    "# Plotting\n",
    "for case, df in post_results.items():\n",
    "    for res in df.columns.values:\n",
    "        if any(w in res.lower() for w in ['max', 'min']):\n",
    "            # if multiple models - incldue name and change name to readable name if possible\n",
    "            if len(post_results.keys()) > 0:\n",
    "                for key, val in read_names.items():\n",
    "                    if key in case:\n",
    "                        read_name = val\n",
    "                        break\n",
    "                    else:\n",
    "                        read_name = case\n",
    "                name = '<br>'.join([read_name, res])\n",
    "            else:\n",
    "                name = res\n",
    "            \n",
    "            # make plot\n",
    "            trace = go.Scatter(\n",
    "                mode='lines',\n",
    "                x=[abs(m) for m in df['Curvature']],\n",
    "                y=df[res],\n",
    "                name=name,\n",
    "                line = {'color' : colors_4s}\n",
    "            )\n",
    "            data.append(trace)\n",
    "\n",
    "layout = go.Layout(title = 'Stress in tensile armour',\n",
    "                   xaxis=dict(title='Curvature [1/m]'),\n",
    "                   yaxis=dict(title='Stress [MPa]'),\n",
    "                   height=650)\n",
    "\n",
    "\n",
    "plotly.offline.iplot(go.Figure(data=data, layout=layout))"
   ]
  },
  {
   "cell_type": "markdown",
   "metadata": {
    "heading_collapsed": true,
    "hidden": true
   },
   "source": [
    "### Animation related functions"
   ]
  },
  {
   "cell_type": "code",
   "execution_count": null,
   "metadata": {
    "hidden": true
   },
   "outputs": [],
   "source": [
    "def make_sliders(pressures):\n",
    "    '''\n",
    "    Function that defines the sliders\n",
    "    \n",
    "    :list pressures: List with pressure for each increment\n",
    "    \n",
    "    :return sliders_layout: Dictionary with layout for slider\n",
    "    :return sliders_dict: Dictionary with slider information\n",
    "    '''\n",
    "    incs = list(range(0, len(pressures)))\n",
    "    sliders_layout = {\n",
    "        'args': [\n",
    "            'transition', {\n",
    "                'duration': 400,\n",
    "                'easing': 'cubic-in-out'\n",
    "            }\n",
    "        ],\n",
    "        'initialValue': '0.0',\n",
    "        'plotlycommand': 'animate',\n",
    "        'values': pressures,\n",
    "        'visible': True\n",
    "    }\n",
    "    \n",
    "    sliders_dict = {\n",
    "        'active': 0,\n",
    "        'yanchor': 'top',\n",
    "        'xanchor': 'left',\n",
    "        'currentvalue': {\n",
    "            'font': {'size': 20},\n",
    "            'prefix': 'Differential pressure: ',\n",
    "            'visible': True,\n",
    "            'xanchor': 'right'\n",
    "        },\n",
    "        'transition': {'duration': 500, 'easing': 'cubic-in-out'},\n",
    "        'pad': {'b': 10, 't': 50},\n",
    "        'len': 0.9,\n",
    "        'x': 0.1,\n",
    "        'y': 0,\n",
    "        'steps': []\n",
    "    }\n",
    "    \n",
    "    return sliders_layout, sliders_dict\n",
    "\n",
    "\n",
    "def add_play_pause():\n",
    "    '''\n",
    "    Function that adds play and pause buttons to plot\n",
    "    \n",
    "    :return play_pause_buttons: list with information about play and pause buttons.    \n",
    "    '''\n",
    "    play_pause_buttons = [\n",
    "        {\n",
    "            'buttons': [\n",
    "                {\n",
    "                    'args': [None, {'frame': {'duration': 500, 'redraw': False},\n",
    "                             'fromcurrent': True, 'transition': {'duration': 300, 'easing': 'quadratic-in-out'}}],\n",
    "                    'label': 'Play',\n",
    "                    'method': 'animate'\n",
    "                },\n",
    "                {\n",
    "                    'args': [[None], {'frame': {'duration': 0, 'redraw': False}, 'mode': 'immediate',\n",
    "                    'transition': {'duration': 0}}],\n",
    "                    'label': 'Pause',\n",
    "                    'method': 'animate'\n",
    "                }\n",
    "            ],\n",
    "            'direction': 'left',\n",
    "            'pad': {'r': 10, 't': 87},\n",
    "            'showactive': False,\n",
    "            'type': 'buttons',\n",
    "            'x': 0.1,\n",
    "            'xanchor': 'right',\n",
    "            'y': 0,\n",
    "            'yanchor': 'top'\n",
    "        }\n",
    "    ]\n",
    "    \n",
    "    return play_pause_buttons"
   ]
  }
 ],
 "metadata": {
  "kernelspec": {
   "display_name": "Python 3",
   "language": "python",
   "name": "python3"
  },
  "language_info": {
   "codemirror_mode": {
    "name": "ipython",
    "version": 3
   },
   "file_extension": ".py",
   "mimetype": "text/x-python",
   "name": "python",
   "nbconvert_exporter": "python",
   "pygments_lexer": "ipython3",
   "version": "3.7.9"
  },
  "toc": {
   "base_numbering": 1,
   "nav_menu": {},
   "number_sections": true,
   "sideBar": true,
   "skip_h1_title": true,
   "title_cell": "Table of Contents",
   "title_sidebar": "Contents",
   "toc_cell": false,
   "toc_position": {
    "height": "calc(100% - 180px)",
    "left": "10px",
    "top": "150px",
    "width": "223.797px"
   },
   "toc_section_display": true,
   "toc_window_display": true
  },
  "varInspector": {
   "cols": {
    "lenName": 16,
    "lenType": 16,
    "lenVar": 40
   },
   "kernels_config": {
    "python": {
     "delete_cmd_postfix": "",
     "delete_cmd_prefix": "del ",
     "library": "var_list.py",
     "varRefreshCmd": "print(var_dic_list())"
    },
    "r": {
     "delete_cmd_postfix": ") ",
     "delete_cmd_prefix": "rm(",
     "library": "var_list.r",
     "varRefreshCmd": "cat(var_dic_list()) "
    }
   },
   "types_to_exclude": [
    "module",
    "function",
    "builtin_function_or_method",
    "instance",
    "_Feature"
   ],
   "window_display": false
  }
 },
 "nbformat": 4,
 "nbformat_minor": 4
}

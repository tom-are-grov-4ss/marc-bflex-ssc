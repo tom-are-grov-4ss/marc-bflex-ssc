{
 "cells": [
  {
   "cell_type": "markdown",
   "id": "655ef8b7",
   "metadata": {
    "ExecuteTime": {
     "end_time": "2022-01-12T14:33:54.844078Z",
     "start_time": "2022-01-12T14:33:54.826199Z"
    }
   },
   "source": [
    "# Marc tools"
   ]
  },
  {
   "cell_type": "markdown",
   "id": "2ccf6f8c",
   "metadata": {
    "ExecuteTime": {
     "end_time": "2022-01-12T14:34:06.585963Z",
     "start_time": "2022-01-12T14:34:06.576972Z"
    }
   },
   "source": [
    "## Import"
   ]
  },
  {
   "cell_type": "code",
   "execution_count": null,
   "id": "6aca0cb9",
   "metadata": {},
   "outputs": [],
   "source": [
    "import os\n",
    "import plotly\n",
    "import importlib\n",
    "import re\n",
    "import h5py\n",
    "\n",
    "import numpy as np\n",
    "import pandas as pd\n",
    "import plotly.io as pio\n",
    "import plotly.graph_objs as go\n",
    "import marc_tools as mt\n",
    "import plotly.express as px\n",
    "\n",
    "from pathlib import Path\n",
    "from IPython.display import clear_output\n",
    "\n",
    "# Set up plotly\n",
    "plotly.offline.init_notebook_mode()\n",
    "\n",
    "pio.templates['custom'] = go.layout.Template(\n",
    "    layout_paper_bgcolor='rgba(0,0,0,0)',\n",
    "    layout_plot_bgcolor='rgba(0,0,0,0)',\n",
    "    ) \n",
    "\n",
    "# Change background color if using VSC\n",
    "if 'VSCODE_CWD' in os.environ:\n",
    "    pio.templates.default = 'plotly+custom'\n",
    "\n",
    "# Pandas decimal precision\n",
    "pd.set_option(\"display.precision\", 2)"
   ]
  },
  {
   "cell_type": "code",
   "execution_count": null,
   "id": "dfe76fdb",
   "metadata": {},
   "outputs": [],
   "source": [
    "# Define folders\n",
    "project_dir = Path(r'C:\\Projects\\1993_Pierce_GI_riser')\n",
    "bflex_dir = project_dir / 'Bflex/Local/Top_300bar'"
   ]
  },
  {
   "cell_type": "markdown",
   "id": "719e4163",
   "metadata": {},
   "source": [
    "### BFLEX - Stress and curvature"
   ]
  },
  {
   "cell_type": "code",
   "execution_count": null,
   "id": "15b5db74",
   "metadata": {},
   "outputs": [],
   "source": [
    "# Find curvature\n",
    "for curv in bflex_dir.glob(r'*elcurvY.mpf'):\n",
    "    df_curv = mt.bflex.mpf_reader(curv)\n",
    "\n",
    "df_curv.columns = ['curv']\n",
    "\n",
    "# Find mpf_files\n",
    "df_mpf = pd.DataFrame()\n",
    "\n",
    "for mpf in bflex_dir.glob(r'*nosl?.mpf'):\n",
    "    \n",
    "    df_temp = mt.bflex.mpf_reader(mpf)\n",
    "    df_mpf = pd.concat([df_mpf, df_temp], axis=1)\n",
    "\n",
    "# Manipulate df\n",
    "df = pd.DataFrame()\n",
    "\n",
    "for i in range(17, 33):\n",
    "    df[f'P{i}'] = df_mpf.filter(regex=f'{i}').max(axis=1)\n",
    "\n",
    "df_stress = pd.concat([df_curv, df], axis=1)\n",
    "\n",
    "# Interpolate curvature\n",
    "df = pd.DataFrame({'curv' : [i/100 for i in range(0, 21)]})\n",
    "\n",
    "for col in df_stress.columns[1:]:\n",
    "    df[col] = np.interp(df.curv, df_stress.curv, df_stress[col])\n",
    "\n",
    "# df_new.columns = ['Curvature'] + [i*22.5 for i in range(0, 16)]\n",
    "pd.set_option(\"display.precision\", 2)\n",
    "df_bflex = df"
   ]
  },
  {
   "cell_type": "code",
   "execution_count": null,
   "id": "e9c7e6d8",
   "metadata": {},
   "outputs": [],
   "source": [
    "# Plotting\n",
    "fig_bf = go.Figure()\n",
    "\n",
    "for inc in range(0, 21, 5):\n",
    "    fig_bf.add_trace(go.Scatterpolar(r=df.iloc[inc, 1:],\n",
    "                                  theta=[-90 + 22.5*i for i in range(0, 17, 1)],\n",
    "                                  fill='toself',\n",
    "                                  name=f'Curv {df.curv.loc[inc]}'\n",
    "                                  ))\n",
    "\n",
    "fig_bf.update_layout(\n",
    "    polar=dict(\n",
    "        radialaxis=dict(\n",
    "            visible=True,\n",
    "            range=[0, 600]\n",
    "        )),\n",
    "    showlegend=True\n",
    ")\n",
    "\n",
    "fig_bf.update_layout(title='Stress BFLEX',\n",
    "                  autosize=False,\n",
    "                  font=dict(color='white'),\n",
    "                  width=1000, height=800)\n",
    "\n",
    "fig_bf.show()"
   ]
  },
  {
   "cell_type": "markdown",
   "id": "2444f3b1",
   "metadata": {},
   "source": [
    "### Marc"
   ]
  },
  {
   "cell_type": "markdown",
   "id": "7834217a",
   "metadata": {},
   "source": [
    "#### Stress"
   ]
  },
  {
   "cell_type": "code",
   "execution_count": 660,
   "id": "c99eb00f",
   "metadata": {},
   "outputs": [],
   "source": [
    "# Bad incs\n",
    "bad_incs = [26, 28, 29, 38, 39, 40, 46, 47, 51, 57, 64, 65, 67]\n",
    "\n",
    "# Read Marc files\n",
    "marc_dir = Path(r'\\\\nas-ask-001\\Projects\\1993_Pierce_GIR_fatigue\\Marc\\jupyter_notebook')\n",
    "marc_files = marc_dir.glob('*stresses_inner_ta_inc*[0-9].csv*')\n",
    "\n",
    "# Read list with coordinates per node\n",
    "df_list = pd.read_csv(marc_dir / 'angles.csv').iloc[:,1:]\n",
    "df_list.drop('node_index', axis=1, inplace=True)\n",
    "\n",
    "# Iterate over files and create dataframe\n",
    "df = pd.DataFrame()\n",
    "\n",
    "for mf in marc_files:\n",
    "    # Read increment\n",
    "    inc = int(re.findall(r'\\d+', mf.stem)[0])\n",
    "\n",
    "    if inc in bad_incs:\n",
    "        continue\n",
    "    \n",
    "    # Read dataframe and add x, y and z coordinate\n",
    "    df_read = pd.read_csv(mf, index_col=None).iloc[:,1:]\n",
    "\n",
    "    if all(df_read['node'] == df_list['node_id']):\n",
    "        df_read = pd.concat([df_read, df_list[['z', 'theta']]], axis=1)\n",
    "\n",
    "    df = pd.concat([df, df_read], axis=0)\n",
    "\n",
    "df.sort_values(['inc', 'z', 'theta'], inplace=True)\n"
   ]
  },
  {
   "cell_type": "code",
   "execution_count": null,
   "id": "afe87eb9",
   "metadata": {},
   "outputs": [],
   "source": [
    "dfn['diff'] = dfn.groupby(['inc', 'z'])['theta'].diff().gt(3).cumsum()\n",
    "\n",
    "dfg = dfn.groupby(['inc', 'z', 'diff']).max()\n",
    "dfg.reset_index(inplace=True)\n",
    "dfg.drop(['diff'], axis=1, inplace=True)"
   ]
  },
  {
   "cell_type": "markdown",
   "id": "10f135f1",
   "metadata": {},
   "source": [
    "### 241 posisjoner og 46 wire"
   ]
  },
  {
   "cell_type": "code",
   "execution_count": 783,
   "id": "91b9364d",
   "metadata": {},
   "outputs": [],
   "source": [
    "dfn = df[df.inc==70]\n",
    "# dfn\n",
    "# sorted(list(set(dfn.z)))"
   ]
  },
  {
   "cell_type": "code",
   "execution_count": 784,
   "id": "378d0dfa",
   "metadata": {},
   "outputs": [],
   "source": [
    "# Combine groups where difference in z positions is < 10 - check sort on z\n",
    "dfn['diff_z'] = dfn.groupby(['inc'])['z'].diff().gt(10).cumsum()\n",
    "\n",
    "# Sort dataframe based on diff_z and theta to allow .diff to work\n",
    "dfn.sort_values(['diff_z', 'theta'], inplace=True)\n",
    "\n",
    "# Combine groups where difference in theta is < 3\n",
    "dfn['diff_th'] = dfn.groupby(['inc', 'diff_z'])['theta'].diff().gt(3).cumsum()"
   ]
  },
  {
   "cell_type": "code",
   "execution_count": 813,
   "id": "fbe3d5c0",
   "metadata": {},
   "outputs": [],
   "source": []
  },
  {
   "cell_type": "code",
   "execution_count": null,
   "id": "9cc86f44",
   "metadata": {},
   "outputs": [],
   "source": [
    "df_marc = pd.DataFrame()\n",
    "\n",
    "for inc in range(0, 70, 10):\n",
    "    print(inc)\n",
    "    \n",
    "    if inc < 10:\n",
    "        inc_start = inc\n",
    "        inc_end = inc + 10\n",
    "    else:\n",
    "        inc_start = inc + 1\n",
    "        inc_end = inc + 10\n",
    "\n",
    "    # print(f'Checking increments {inc_start} <= inc <= {inc_end}')\n",
    "\n",
    "    dfn = df[(df.inc <= inc_end) & (df.inc >= inc_start)]\n",
    "    print('1')\n",
    "    # Combine groups where difference in z positions is < 10 - check sort on z\n",
    "    dfn['diff_z'] = dfn.groupby(['inc'])['z'].diff().gt(10).cumsum()\n",
    "    print('2')\n",
    "\n",
    "    # Sort dataframe based on diff_z and theta to allow .diff to work\n",
    "    dfn.sort_values(['diff_z', 'theta'], inplace=True)\n",
    "    print('3')\n",
    "\n",
    "    # Combine groups where difference in theta is < 3\n",
    "    dfn['diff_th'] = dfn.groupby(['inc', 'diff_z'])['theta'].diff().gt(3).cumsum()\n",
    "    print('4')\n",
    "\n",
    "    # Sort by diff and take max for each group\n",
    "    dfg = dfn.groupby(['diff_z', 'diff_th']).max()\n",
    "    dfg.reset_index(inplace=True).drop(columns=['diff_z', 'diff_th'],\n",
    "                                       inplace=True)\n",
    "\n",
    "    # dfg = dfn.groupby(['inc', 'z', 'diff']).max()\n",
    "    # dfg.reset_index(inplace=True)\n",
    "    # dfg.drop(['diff'], axis=1, inplace=True)\n",
    "\n",
    "    df_marc = pd.concat([df_marc, dfg], axis=0)\n",
    "\n",
    "# Turn around 90 degrees to orient with bflex\n",
    "df_marc['theta'] = df_marc['theta'] - 90\n",
    "\n",
    "# Round z\n",
    "df_marc['z'] = [int(i) for i in np.round(list(df_marc['z']))]\n",
    "df_marc['inc'] = [int(i) for i in df_marc['inc']]\n",
    "df_marc['node'] = [int(i) for i in df_marc['node']]\n",
    "\n",
    "# Space saving\n",
    "df_marc = df_marc.astype({'theta': 'float32', 'stress': 'float32'})"
   ]
  },
  {
   "cell_type": "code",
   "execution_count": 828,
   "id": "73fe7d87",
   "metadata": {},
   "outputs": [],
   "source": [
    "test = dfn[dfn.inc<1]\n",
    "test['diff_th'] = test.groupby(['inc', 'diff_z'])['theta'].diff().gt(3).cumsum()"
   ]
  },
  {
   "cell_type": "code",
   "execution_count": null,
   "id": "a50ff007",
   "metadata": {},
   "outputs": [],
   "source": [
    "# Plotting\n",
    "fig_marc = go.Figure()\n",
    "\n",
    "for inc in range(0, 71, 10):\n",
    "    df_plot = df_marc[(df_marc.inc==inc) & (df_marc.z==2209)]\n",
    "    fig_marc.add_trace(go.Scatterpolar(r=df_plot['stress'][::3],\n",
    "                                  theta=df_plot['theta'][::3],\n",
    "                                  fill='toself',\n",
    "                                  name=f'Inc {inc}'\n",
    "                                  ))\n",
    "\n",
    "fig_marc.update_layout(\n",
    "    polar=dict(\n",
    "        radialaxis=dict(\n",
    "            visible=True,\n",
    "            range=[0, 500]\n",
    "        )),\n",
    "    showlegend=True\n",
    ")\n",
    "\n",
    "fig_marc.update_layout(title='Stress Marc',\n",
    "                  autosize=False,\n",
    "                  font=dict(color='white'),\n",
    "                  width=1000, height=800)\n",
    "\n",
    "fig_marc.show()"
   ]
  },
  {
   "cell_type": "markdown",
   "id": "fe01b1e8",
   "metadata": {},
   "source": [
    "## CrossSection - Read files"
   ]
  },
  {
   "cell_type": "code",
   "execution_count": 619,
   "id": "435c0223",
   "metadata": {},
   "outputs": [],
   "source": [
    "project_folder = Path(r'V:\\1993_Pierce_GIR_fatigue\\Marc\\analysis')\n",
    "runs = ['CS'] # Folder with runs\n",
    "exclude_cases = [] # optional - cases to be excluded from post-processing\n",
    "\n",
    "df_case = mt.crossection.df_cs(project_folder, runs, positions='start')"
   ]
  },
  {
   "cell_type": "code",
   "execution_count": 621,
   "id": "6d49868e",
   "metadata": {},
   "outputs": [
    {
     "name": "stdout",
     "output_type": "stream",
     "text": [
      "100 %\n"
     ]
    }
   ],
   "source": [
    "# Marc list\n",
    "marc_list = sorted(list(set(df_marc['z'])))\n",
    "\n",
    "# Cross section list\n",
    "cs_list = [int(k) for k in df_case['nov_8inch_gir_3p_with_bs_g3_job1'].keys()]\n",
    "\n",
    "# Find closest values\n",
    "cs_dict = {}\n",
    "for cs in cs_list:\n",
    "    cs_dict[cs] = min(marc_list, key=lambda x: abs(x - cs))\n",
    "\n",
    "# Add column\n",
    "df_marc['curv'] = np.nan\n",
    "\n",
    "# Reduce dataframe to points where CS data is available\n",
    "for i, (cs_pos, marc_pos) in enumerate(cs_dict.items(), 1):\n",
    "    print(f'{i/len(cs_dict)*100:.0f} %')\n",
    "    for inc in range(0, 71, 1):\n",
    "        df_marc.loc[(df_marc.z==marc_pos) & (df_marc.inc==inc), 'curv'] = df_case['nov_8inch_gir_3p_with_bs_g3_job1'][str(cs_pos)]['K3_4'][inc]\n",
    "    clear_output(wait=True)\n",
    "\n",
    "# Remove rows where curv is na\n",
    "df_marc = df_marc[df_marc.curv.notna()]"
   ]
  },
  {
   "cell_type": "markdown",
   "id": "e1754d6e",
   "metadata": {},
   "source": [
    "### Create SCF"
   ]
  },
  {
   "cell_type": "code",
   "execution_count": 624,
   "id": "10ca42e5",
   "metadata": {},
   "outputs": [
    {
     "name": "stdout",
     "output_type": "stream",
     "text": [
      "Pos 89 of 89\n"
     ]
    }
   ],
   "source": [
    "df_scf = pd.DataFrame()\n",
    "bflex_name = {-90 + 22.5*i: f'P{17+i}' for i in range(0, 16, 1)}\n",
    "\n",
    "for i, marc_pos in enumerate(sorted(list(set(df_marc['z']))), 1):\n",
    "    print(f'Pos {i} of {len(list(set(df_marc[\"z\"])))}')\n",
    "\n",
    "    # Find dictionary with bflex vs marc angles\n",
    "    theta_dict = {}\n",
    "    dft = df_marc[(df_marc.z==marc_pos) & (df_marc.inc==0)]\n",
    "\n",
    "    for bf_angle in [-90 + 22.5*i for i in range(0, 16, 1)]:\n",
    "        theta_dict[bf_angle] = min(dft.theta, key=lambda x: abs(x - bf_angle))\n",
    "\n",
    "    for inc in range(0, 71, 1):\n",
    "        # Dont go through bad increments (no input?)\n",
    "        if inc in bad_incs:\n",
    "            continue\n",
    "\n",
    "        # Create dataframe containing specific position and inc only\n",
    "        dft = df_marc[(df_marc.z==marc_pos) & (df_marc.inc==inc)]\n",
    "\n",
    "        # Find stress for correct curvature and angle\n",
    "        df_temp = dft[dft.theta.isin(theta_dict.values())]\n",
    "\n",
    "        # Find corresponding bflex stress\n",
    "        curv = df_temp.curv.iloc[0]\n",
    "        df_interp = df_bflex.iloc[(df_bflex.curv - curv).abs().argsort()[:2]]\n",
    "        y1, y2 = df_interp.iloc[0,1:], df_interp.iloc[1,1:]\n",
    "\n",
    "        linfit = scipy.interpolate.interp1d(df_interp.curv, np.vstack([y1, y2]), axis=0)\n",
    "        df_temp['stress_bflex'] = linfit(curv)\n",
    "\n",
    "        # Calculate the SCF\n",
    "        df_temp['scf'] = df_temp.stress / df_temp.stress_bflex\n",
    "\n",
    "        df_scf = pd.concat([df_scf,\n",
    "                            df_temp[['inc', 'z', 'theta', 'curv', 'stress',\n",
    "                                     'stress_bflex', 'scf']]\n",
    "                            .reset_index(drop=True)], axis=0)\n",
    "        clear_output(wait=True)\n"
   ]
  },
  {
   "cell_type": "code",
   "execution_count": null,
   "id": "0e845d68",
   "metadata": {},
   "outputs": [],
   "source": [
    "df_scf[(df_scf.inc==0) & (df_scf.z==positions[pos])]"
   ]
  },
  {
   "cell_type": "code",
   "execution_count": 658,
   "id": "e9cd14c8",
   "metadata": {},
   "outputs": [
    {
     "data": {
      "application/vnd.plotly.v1+json": {
       "config": {
        "plotlyServerURL": "https://plot.ly"
       },
       "data": [
        {
         "fill": "toself",
         "name": "Curvature 0.00 (0)",
         "r": [
          0,
          0,
          0,
          0,
          0,
          0,
          0,
          0,
          0,
          0,
          0,
          0,
          0,
          0,
          0,
          0,
          0
         ],
         "theta": [
          -88.47667694091797,
          -64.9984130859375,
          -41.5201530456543,
          -25.86798095703125,
          -2.389719247817993,
          21.088542938232422,
          44.566802978515625,
          68.0450668334961,
          91.52332305908203,
          115.0015869140625,
          138.47984313964844,
          154.13201904296875,
          177.6102752685547,
          201.0885467529297,
          224.56680297851562,
          248.04505920410156,
          -88.47667694091797
         ],
         "type": "scatterpolar"
        },
        {
         "fill": "toself",
         "name": "Curvature 0.00 (10)",
         "r": [
          0.9480674631129125,
          0.9478085210296562,
          0.9474701453397922,
          0.9469275722324121,
          0.946606859679839,
          0.946254507218203,
          0.9460387596954507,
          0.9460843869038854,
          0.9460380595334602,
          0.9459213241276413,
          0.9460393722357486,
          0.9461471431655897,
          0.9466236388409829,
          0.9470316121628624,
          0.9474783499437027,
          0.9479743189102418,
          0.9480674631129125
         ],
         "theta": [
          -88.47667694091797,
          -64.9984130859375,
          -41.5201530456543,
          -25.86798095703125,
          -2.389719247817993,
          21.088542938232422,
          44.566802978515625,
          68.0450668334961,
          91.52332305908203,
          115.0015869140625,
          138.47984313964844,
          154.13201904296875,
          177.6102752685547,
          201.0885467529297,
          224.56680297851562,
          248.04505920410156,
          -88.47667694091797
         ],
         "type": "scatterpolar"
        },
        {
         "fill": "toself",
         "name": "Curvature 0.01 (20)",
         "r": [
          0.9994267283383603,
          0.9221133380125501,
          0.8545687617700114,
          0.7950875937063557,
          0.7676209374135847,
          0.7940280206616361,
          0.8091535214053038,
          0.8349962628198399,
          0.8785967420438442,
          0.8888589789715109,
          0.9192916940790472,
          0.959094276564558,
          0.9964501349542892,
          0.9816555125566966,
          0.9972029834401637,
          1.0083027379134595,
          0.9994267283383603
         ],
         "theta": [
          -88.47667694091797,
          -64.9984130859375,
          -41.5201530456543,
          -25.86798095703125,
          -2.389719247817993,
          21.088542938232422,
          44.566802978515625,
          68.0450668334961,
          91.52332305908203,
          115.0015869140625,
          138.47984313964844,
          154.13201904296875,
          177.6102752685547,
          201.0885467529297,
          224.56680297851562,
          248.04505920410156,
          -88.47667694091797
         ],
         "type": "scatterpolar"
        },
        {
         "fill": "toself",
         "name": "Curvature 0.03 (30)",
         "r": [
          0.8083204521779034,
          0.703085721980171,
          0.6577095017124879,
          0.6286634953783939,
          0.656108947819716,
          0.7200250790615249,
          0.7940857421908827,
          0.8699276029988812,
          0.9646758475695383,
          0.9363811876717213,
          0.9271462173200318,
          0.9267312587332219,
          0.9347011031763878,
          0.9032541861932863,
          0.8526775313196641,
          0.8189170055389207,
          0.8083204521779034
         ],
         "theta": [
          -88.47667694091797,
          -64.9984130859375,
          -41.5201530456543,
          -25.86798095703125,
          -2.389719247817993,
          21.088542938232422,
          44.566802978515625,
          68.0450668334961,
          91.52332305908203,
          115.0015869140625,
          138.47984313964844,
          154.13201904296875,
          177.6102752685547,
          201.0885467529297,
          224.56680297851562,
          248.04505920410156,
          -88.47667694091797
         ],
         "type": "scatterpolar"
        },
        {
         "fill": "toself",
         "name": "Curvature 0.05 (41)",
         "r": [
          0.602399929727202,
          0.49623555930567337,
          0.48759412559233817,
          0.4934668403714438,
          0.5806314614724579,
          0.6831802189712977,
          0.7987130444578009,
          0.9221933474477025,
          1.0561128683225225,
          0.9878566572629299,
          0.9349276876214806,
          0.8970821654139307,
          0.8395561433325871,
          0.7975899019476406,
          0.686602164885678,
          0.6244957161511756,
          0.602399929727202
         ],
         "theta": [
          -88.47667694091797,
          -64.9984130859375,
          -41.5201530456543,
          -25.86798095703125,
          -2.389719247817993,
          21.088542938232422,
          44.566802978515625,
          68.0450668334961,
          91.52332305908203,
          115.0015869140625,
          138.47984313964844,
          154.13201904296875,
          177.6102752685547,
          201.0885467529297,
          224.56680297851562,
          248.04505920410156,
          -88.47667694091797
         ],
         "type": "scatterpolar"
        },
        {
         "fill": "toself",
         "name": "Curvature 0.06 (50)",
         "r": [
          0.4419421808331719,
          0.35667857174770334,
          0.37764339434227057,
          0.40662115052943937,
          0.5351333028534546,
          0.6638579351832087,
          0.8080733253287703,
          0.9607648107438987,
          1.133501831487223,
          1.029101021629427,
          0.9469012464046966,
          0.8830194901895118,
          0.7857593287862001,
          0.7207842326474738,
          0.5754165923700053,
          0.4899318415297307,
          0.4419421808331719
         ],
         "theta": [
          -88.47667694091797,
          -64.9984130859375,
          -41.5201530456543,
          -25.86798095703125,
          -2.389719247817993,
          21.088542938232422,
          44.566802978515625,
          68.0450668334961,
          91.52332305908203,
          115.0015869140625,
          138.47984313964844,
          154.13201904296875,
          177.6102752685547,
          201.0885467529297,
          224.56680297851562,
          248.04505920410156,
          -88.47667694091797
         ],
         "type": "scatterpolar"
        },
        {
         "fill": "toself",
         "name": "Curvature 0.08 (60)",
         "r": [
          0.2883765309176227,
          0.2343438901988167,
          0.28413734979789584,
          0.3306985989669477,
          0.48769198825827,
          0.6500201733872708,
          0.8252991644390031,
          0.9965914168433565,
          1.2116284679349487,
          1.067706054005474,
          0.957436695342213,
          0.8710857093876038,
          0.7473651466213557,
          0.65206811226063,
          0.47839657232582,
          0.3688540394275925,
          0.2883765309176227
         ],
         "theta": [
          -88.47667694091797,
          -64.9984130859375,
          -41.5201530456543,
          -25.86798095703125,
          -2.389719247817993,
          21.088542938232422,
          44.566802978515625,
          68.0450668334961,
          91.52332305908203,
          115.0015869140625,
          138.47984313964844,
          154.13201904296875,
          177.6102752685547,
          201.0885467529297,
          224.56680297851562,
          248.04505920410156,
          -88.47667694091797
         ],
         "type": "scatterpolar"
        },
        {
         "fill": "toself",
         "name": "Curvature 0.10 (70)",
         "r": [
          0.15338761757015085,
          0.13404383636628295,
          0.2125633303983709,
          0.2774078021576684,
          0.45460276953817924,
          0.6416401079591998,
          0.8366723108422397,
          1.0274958124246443,
          1.2864116288388725,
          1.1062413985464978,
          0.9669519929546606,
          0.8636135102836239,
          0.7254223764963373,
          0.5927156327027406,
          0.4032031506333165,
          0.27051093590087316,
          0.15338761757015085
         ],
         "theta": [
          -88.47667694091797,
          -64.9984130859375,
          -41.5201530456543,
          -25.86798095703125,
          -2.389719247817993,
          21.088542938232422,
          44.566802978515625,
          68.0450668334961,
          91.52332305908203,
          115.0015869140625,
          138.47984313964844,
          154.13201904296875,
          177.6102752685547,
          201.0885467529297,
          224.56680297851562,
          248.04505920410156,
          -88.47667694091797
         ],
         "type": "scatterpolar"
        }
       ],
       "layout": {
        "autosize": false,
        "font": {
         "color": "white"
        },
        "height": 800,
        "polar": {
         "radialaxis": {
          "range": [
           0,
           1.5
          ],
          "visible": true
         }
        },
        "showlegend": true,
        "template": {
         "data": {
          "bar": [
           {
            "error_x": {
             "color": "#2a3f5f"
            },
            "error_y": {
             "color": "#2a3f5f"
            },
            "marker": {
             "line": {
              "color": "#E5ECF6",
              "width": 0.5
             },
             "pattern": {
              "fillmode": "overlay",
              "size": 10,
              "solidity": 0.2
             }
            },
            "type": "bar"
           }
          ],
          "barpolar": [
           {
            "marker": {
             "line": {
              "color": "#E5ECF6",
              "width": 0.5
             },
             "pattern": {
              "fillmode": "overlay",
              "size": 10,
              "solidity": 0.2
             }
            },
            "type": "barpolar"
           }
          ],
          "carpet": [
           {
            "aaxis": {
             "endlinecolor": "#2a3f5f",
             "gridcolor": "white",
             "linecolor": "white",
             "minorgridcolor": "white",
             "startlinecolor": "#2a3f5f"
            },
            "baxis": {
             "endlinecolor": "#2a3f5f",
             "gridcolor": "white",
             "linecolor": "white",
             "minorgridcolor": "white",
             "startlinecolor": "#2a3f5f"
            },
            "type": "carpet"
           }
          ],
          "choropleth": [
           {
            "colorbar": {
             "outlinewidth": 0,
             "ticks": ""
            },
            "type": "choropleth"
           }
          ],
          "contour": [
           {
            "colorbar": {
             "outlinewidth": 0,
             "ticks": ""
            },
            "colorscale": [
             [
              0,
              "#0d0887"
             ],
             [
              0.1111111111111111,
              "#46039f"
             ],
             [
              0.2222222222222222,
              "#7201a8"
             ],
             [
              0.3333333333333333,
              "#9c179e"
             ],
             [
              0.4444444444444444,
              "#bd3786"
             ],
             [
              0.5555555555555556,
              "#d8576b"
             ],
             [
              0.6666666666666666,
              "#ed7953"
             ],
             [
              0.7777777777777778,
              "#fb9f3a"
             ],
             [
              0.8888888888888888,
              "#fdca26"
             ],
             [
              1,
              "#f0f921"
             ]
            ],
            "type": "contour"
           }
          ],
          "contourcarpet": [
           {
            "colorbar": {
             "outlinewidth": 0,
             "ticks": ""
            },
            "type": "contourcarpet"
           }
          ],
          "heatmap": [
           {
            "colorbar": {
             "outlinewidth": 0,
             "ticks": ""
            },
            "colorscale": [
             [
              0,
              "#0d0887"
             ],
             [
              0.1111111111111111,
              "#46039f"
             ],
             [
              0.2222222222222222,
              "#7201a8"
             ],
             [
              0.3333333333333333,
              "#9c179e"
             ],
             [
              0.4444444444444444,
              "#bd3786"
             ],
             [
              0.5555555555555556,
              "#d8576b"
             ],
             [
              0.6666666666666666,
              "#ed7953"
             ],
             [
              0.7777777777777778,
              "#fb9f3a"
             ],
             [
              0.8888888888888888,
              "#fdca26"
             ],
             [
              1,
              "#f0f921"
             ]
            ],
            "type": "heatmap"
           }
          ],
          "heatmapgl": [
           {
            "colorbar": {
             "outlinewidth": 0,
             "ticks": ""
            },
            "colorscale": [
             [
              0,
              "#0d0887"
             ],
             [
              0.1111111111111111,
              "#46039f"
             ],
             [
              0.2222222222222222,
              "#7201a8"
             ],
             [
              0.3333333333333333,
              "#9c179e"
             ],
             [
              0.4444444444444444,
              "#bd3786"
             ],
             [
              0.5555555555555556,
              "#d8576b"
             ],
             [
              0.6666666666666666,
              "#ed7953"
             ],
             [
              0.7777777777777778,
              "#fb9f3a"
             ],
             [
              0.8888888888888888,
              "#fdca26"
             ],
             [
              1,
              "#f0f921"
             ]
            ],
            "type": "heatmapgl"
           }
          ],
          "histogram": [
           {
            "marker": {
             "pattern": {
              "fillmode": "overlay",
              "size": 10,
              "solidity": 0.2
             }
            },
            "type": "histogram"
           }
          ],
          "histogram2d": [
           {
            "colorbar": {
             "outlinewidth": 0,
             "ticks": ""
            },
            "colorscale": [
             [
              0,
              "#0d0887"
             ],
             [
              0.1111111111111111,
              "#46039f"
             ],
             [
              0.2222222222222222,
              "#7201a8"
             ],
             [
              0.3333333333333333,
              "#9c179e"
             ],
             [
              0.4444444444444444,
              "#bd3786"
             ],
             [
              0.5555555555555556,
              "#d8576b"
             ],
             [
              0.6666666666666666,
              "#ed7953"
             ],
             [
              0.7777777777777778,
              "#fb9f3a"
             ],
             [
              0.8888888888888888,
              "#fdca26"
             ],
             [
              1,
              "#f0f921"
             ]
            ],
            "type": "histogram2d"
           }
          ],
          "histogram2dcontour": [
           {
            "colorbar": {
             "outlinewidth": 0,
             "ticks": ""
            },
            "colorscale": [
             [
              0,
              "#0d0887"
             ],
             [
              0.1111111111111111,
              "#46039f"
             ],
             [
              0.2222222222222222,
              "#7201a8"
             ],
             [
              0.3333333333333333,
              "#9c179e"
             ],
             [
              0.4444444444444444,
              "#bd3786"
             ],
             [
              0.5555555555555556,
              "#d8576b"
             ],
             [
              0.6666666666666666,
              "#ed7953"
             ],
             [
              0.7777777777777778,
              "#fb9f3a"
             ],
             [
              0.8888888888888888,
              "#fdca26"
             ],
             [
              1,
              "#f0f921"
             ]
            ],
            "type": "histogram2dcontour"
           }
          ],
          "mesh3d": [
           {
            "colorbar": {
             "outlinewidth": 0,
             "ticks": ""
            },
            "type": "mesh3d"
           }
          ],
          "parcoords": [
           {
            "line": {
             "colorbar": {
              "outlinewidth": 0,
              "ticks": ""
             }
            },
            "type": "parcoords"
           }
          ],
          "pie": [
           {
            "automargin": true,
            "type": "pie"
           }
          ],
          "scatter": [
           {
            "marker": {
             "colorbar": {
              "outlinewidth": 0,
              "ticks": ""
             }
            },
            "type": "scatter"
           }
          ],
          "scatter3d": [
           {
            "line": {
             "colorbar": {
              "outlinewidth": 0,
              "ticks": ""
             }
            },
            "marker": {
             "colorbar": {
              "outlinewidth": 0,
              "ticks": ""
             }
            },
            "type": "scatter3d"
           }
          ],
          "scattercarpet": [
           {
            "marker": {
             "colorbar": {
              "outlinewidth": 0,
              "ticks": ""
             }
            },
            "type": "scattercarpet"
           }
          ],
          "scattergeo": [
           {
            "marker": {
             "colorbar": {
              "outlinewidth": 0,
              "ticks": ""
             }
            },
            "type": "scattergeo"
           }
          ],
          "scattergl": [
           {
            "marker": {
             "colorbar": {
              "outlinewidth": 0,
              "ticks": ""
             }
            },
            "type": "scattergl"
           }
          ],
          "scattermapbox": [
           {
            "marker": {
             "colorbar": {
              "outlinewidth": 0,
              "ticks": ""
             }
            },
            "type": "scattermapbox"
           }
          ],
          "scatterpolar": [
           {
            "marker": {
             "colorbar": {
              "outlinewidth": 0,
              "ticks": ""
             }
            },
            "type": "scatterpolar"
           }
          ],
          "scatterpolargl": [
           {
            "marker": {
             "colorbar": {
              "outlinewidth": 0,
              "ticks": ""
             }
            },
            "type": "scatterpolargl"
           }
          ],
          "scatterternary": [
           {
            "marker": {
             "colorbar": {
              "outlinewidth": 0,
              "ticks": ""
             }
            },
            "type": "scatterternary"
           }
          ],
          "surface": [
           {
            "colorbar": {
             "outlinewidth": 0,
             "ticks": ""
            },
            "colorscale": [
             [
              0,
              "#0d0887"
             ],
             [
              0.1111111111111111,
              "#46039f"
             ],
             [
              0.2222222222222222,
              "#7201a8"
             ],
             [
              0.3333333333333333,
              "#9c179e"
             ],
             [
              0.4444444444444444,
              "#bd3786"
             ],
             [
              0.5555555555555556,
              "#d8576b"
             ],
             [
              0.6666666666666666,
              "#ed7953"
             ],
             [
              0.7777777777777778,
              "#fb9f3a"
             ],
             [
              0.8888888888888888,
              "#fdca26"
             ],
             [
              1,
              "#f0f921"
             ]
            ],
            "type": "surface"
           }
          ],
          "table": [
           {
            "cells": {
             "fill": {
              "color": "#EBF0F8"
             },
             "line": {
              "color": "white"
             }
            },
            "header": {
             "fill": {
              "color": "#C8D4E3"
             },
             "line": {
              "color": "white"
             }
            },
            "type": "table"
           }
          ]
         },
         "layout": {
          "annotationdefaults": {
           "arrowcolor": "#2a3f5f",
           "arrowhead": 0,
           "arrowwidth": 1
          },
          "autotypenumbers": "strict",
          "coloraxis": {
           "colorbar": {
            "outlinewidth": 0,
            "ticks": ""
           }
          },
          "colorscale": {
           "diverging": [
            [
             0,
             "#8e0152"
            ],
            [
             0.1,
             "#c51b7d"
            ],
            [
             0.2,
             "#de77ae"
            ],
            [
             0.3,
             "#f1b6da"
            ],
            [
             0.4,
             "#fde0ef"
            ],
            [
             0.5,
             "#f7f7f7"
            ],
            [
             0.6,
             "#e6f5d0"
            ],
            [
             0.7,
             "#b8e186"
            ],
            [
             0.8,
             "#7fbc41"
            ],
            [
             0.9,
             "#4d9221"
            ],
            [
             1,
             "#276419"
            ]
           ],
           "sequential": [
            [
             0,
             "#0d0887"
            ],
            [
             0.1111111111111111,
             "#46039f"
            ],
            [
             0.2222222222222222,
             "#7201a8"
            ],
            [
             0.3333333333333333,
             "#9c179e"
            ],
            [
             0.4444444444444444,
             "#bd3786"
            ],
            [
             0.5555555555555556,
             "#d8576b"
            ],
            [
             0.6666666666666666,
             "#ed7953"
            ],
            [
             0.7777777777777778,
             "#fb9f3a"
            ],
            [
             0.8888888888888888,
             "#fdca26"
            ],
            [
             1,
             "#f0f921"
            ]
           ],
           "sequentialminus": [
            [
             0,
             "#0d0887"
            ],
            [
             0.1111111111111111,
             "#46039f"
            ],
            [
             0.2222222222222222,
             "#7201a8"
            ],
            [
             0.3333333333333333,
             "#9c179e"
            ],
            [
             0.4444444444444444,
             "#bd3786"
            ],
            [
             0.5555555555555556,
             "#d8576b"
            ],
            [
             0.6666666666666666,
             "#ed7953"
            ],
            [
             0.7777777777777778,
             "#fb9f3a"
            ],
            [
             0.8888888888888888,
             "#fdca26"
            ],
            [
             1,
             "#f0f921"
            ]
           ]
          },
          "colorway": [
           "#636efa",
           "#EF553B",
           "#00cc96",
           "#ab63fa",
           "#FFA15A",
           "#19d3f3",
           "#FF6692",
           "#B6E880",
           "#FF97FF",
           "#FECB52"
          ],
          "font": {
           "color": "#2a3f5f"
          },
          "geo": {
           "bgcolor": "white",
           "lakecolor": "white",
           "landcolor": "#E5ECF6",
           "showlakes": true,
           "showland": true,
           "subunitcolor": "white"
          },
          "hoverlabel": {
           "align": "left"
          },
          "hovermode": "closest",
          "mapbox": {
           "style": "light"
          },
          "paper_bgcolor": "rgba(0,0,0,0)",
          "plot_bgcolor": "rgba(0,0,0,0)",
          "polar": {
           "angularaxis": {
            "gridcolor": "white",
            "linecolor": "white",
            "ticks": ""
           },
           "bgcolor": "#E5ECF6",
           "radialaxis": {
            "gridcolor": "white",
            "linecolor": "white",
            "ticks": ""
           }
          },
          "scene": {
           "xaxis": {
            "backgroundcolor": "#E5ECF6",
            "gridcolor": "white",
            "gridwidth": 2,
            "linecolor": "white",
            "showbackground": true,
            "ticks": "",
            "zerolinecolor": "white"
           },
           "yaxis": {
            "backgroundcolor": "#E5ECF6",
            "gridcolor": "white",
            "gridwidth": 2,
            "linecolor": "white",
            "showbackground": true,
            "ticks": "",
            "zerolinecolor": "white"
           },
           "zaxis": {
            "backgroundcolor": "#E5ECF6",
            "gridcolor": "white",
            "gridwidth": 2,
            "linecolor": "white",
            "showbackground": true,
            "ticks": "",
            "zerolinecolor": "white"
           }
          },
          "shapedefaults": {
           "line": {
            "color": "#2a3f5f"
           }
          },
          "ternary": {
           "aaxis": {
            "gridcolor": "white",
            "linecolor": "white",
            "ticks": ""
           },
           "baxis": {
            "gridcolor": "white",
            "linecolor": "white",
            "ticks": ""
           },
           "bgcolor": "#E5ECF6",
           "caxis": {
            "gridcolor": "white",
            "linecolor": "white",
            "ticks": ""
           }
          },
          "title": {
           "x": 0.05
          },
          "xaxis": {
           "automargin": true,
           "gridcolor": "white",
           "linecolor": "white",
           "ticks": "",
           "title": {
            "standoff": 15
           },
           "zerolinecolor": "white",
           "zerolinewidth": 2
          },
          "yaxis": {
           "automargin": true,
           "gridcolor": "white",
           "linecolor": "white",
           "ticks": "",
           "title": {
            "standoff": 15
           },
           "zerolinecolor": "white",
           "zerolinewidth": 2
          }
         }
        },
        "title": {
         "text": "Stress correction factor @ 1426 mm"
        },
        "width": 1000
       }
      },
      "text/html": [
       "<div>                            <div id=\"55fc50c3-e312-4560-9add-dddca1b68271\" class=\"plotly-graph-div\" style=\"height:800px; width:1000px;\"></div>            <script type=\"text/javascript\">                require([\"plotly\"], function(Plotly) {                    window.PLOTLYENV=window.PLOTLYENV || {};                                    if (document.getElementById(\"55fc50c3-e312-4560-9add-dddca1b68271\")) {                    Plotly.newPlot(                        \"55fc50c3-e312-4560-9add-dddca1b68271\",                        [{\"fill\":\"toself\",\"name\":\"Curvature 0.00 (0)\",\"r\":[0.0,0.0,0.0,0.0,0.0,0.0,0.0,0.0,0.0,0.0,0.0,0.0,0.0,0.0,0.0,0.0,0.0],\"theta\":[-88.47667694091797,-64.9984130859375,-41.5201530456543,-25.86798095703125,-2.389719247817993,21.088542938232422,44.566802978515625,68.0450668334961,91.52332305908203,115.0015869140625,138.47984313964844,154.13201904296875,177.6102752685547,201.0885467529297,224.56680297851562,248.04505920410156,-88.47667694091797],\"type\":\"scatterpolar\"},{\"fill\":\"toself\",\"name\":\"Curvature 0.00 (10)\",\"r\":[0.9480674631129125,0.9478085210296562,0.9474701453397922,0.9469275722324121,0.946606859679839,0.946254507218203,0.9460387596954507,0.9460843869038854,0.9460380595334602,0.9459213241276413,0.9460393722357486,0.9461471431655897,0.9466236388409829,0.9470316121628624,0.9474783499437027,0.9479743189102418,0.9480674631129125],\"theta\":[-88.47667694091797,-64.9984130859375,-41.5201530456543,-25.86798095703125,-2.389719247817993,21.088542938232422,44.566802978515625,68.0450668334961,91.52332305908203,115.0015869140625,138.47984313964844,154.13201904296875,177.6102752685547,201.0885467529297,224.56680297851562,248.04505920410156,-88.47667694091797],\"type\":\"scatterpolar\"},{\"fill\":\"toself\",\"name\":\"Curvature 0.01 (20)\",\"r\":[0.9994267283383603,0.9221133380125501,0.8545687617700114,0.7950875937063557,0.7676209374135847,0.7940280206616361,0.8091535214053038,0.8349962628198399,0.8785967420438442,0.8888589789715109,0.9192916940790472,0.959094276564558,0.9964501349542892,0.9816555125566966,0.9972029834401637,1.0083027379134595,0.9994267283383603],\"theta\":[-88.47667694091797,-64.9984130859375,-41.5201530456543,-25.86798095703125,-2.389719247817993,21.088542938232422,44.566802978515625,68.0450668334961,91.52332305908203,115.0015869140625,138.47984313964844,154.13201904296875,177.6102752685547,201.0885467529297,224.56680297851562,248.04505920410156,-88.47667694091797],\"type\":\"scatterpolar\"},{\"fill\":\"toself\",\"name\":\"Curvature 0.03 (30)\",\"r\":[0.8083204521779034,0.703085721980171,0.6577095017124879,0.6286634953783939,0.656108947819716,0.7200250790615249,0.7940857421908827,0.8699276029988812,0.9646758475695383,0.9363811876717213,0.9271462173200318,0.9267312587332219,0.9347011031763878,0.9032541861932863,0.8526775313196641,0.8189170055389207,0.8083204521779034],\"theta\":[-88.47667694091797,-64.9984130859375,-41.5201530456543,-25.86798095703125,-2.389719247817993,21.088542938232422,44.566802978515625,68.0450668334961,91.52332305908203,115.0015869140625,138.47984313964844,154.13201904296875,177.6102752685547,201.0885467529297,224.56680297851562,248.04505920410156,-88.47667694091797],\"type\":\"scatterpolar\"},{\"fill\":\"toself\",\"name\":\"Curvature 0.05 (41)\",\"r\":[0.602399929727202,0.49623555930567337,0.48759412559233817,0.4934668403714438,0.5806314614724579,0.6831802189712977,0.7987130444578009,0.9221933474477025,1.0561128683225225,0.9878566572629299,0.9349276876214806,0.8970821654139307,0.8395561433325871,0.7975899019476406,0.686602164885678,0.6244957161511756,0.602399929727202],\"theta\":[-88.47667694091797,-64.9984130859375,-41.5201530456543,-25.86798095703125,-2.389719247817993,21.088542938232422,44.566802978515625,68.0450668334961,91.52332305908203,115.0015869140625,138.47984313964844,154.13201904296875,177.6102752685547,201.0885467529297,224.56680297851562,248.04505920410156,-88.47667694091797],\"type\":\"scatterpolar\"},{\"fill\":\"toself\",\"name\":\"Curvature 0.06 (50)\",\"r\":[0.4419421808331719,0.35667857174770334,0.37764339434227057,0.40662115052943937,0.5351333028534546,0.6638579351832087,0.8080733253287703,0.9607648107438987,1.133501831487223,1.029101021629427,0.9469012464046966,0.8830194901895118,0.7857593287862001,0.7207842326474738,0.5754165923700053,0.4899318415297307,0.4419421808331719],\"theta\":[-88.47667694091797,-64.9984130859375,-41.5201530456543,-25.86798095703125,-2.389719247817993,21.088542938232422,44.566802978515625,68.0450668334961,91.52332305908203,115.0015869140625,138.47984313964844,154.13201904296875,177.6102752685547,201.0885467529297,224.56680297851562,248.04505920410156,-88.47667694091797],\"type\":\"scatterpolar\"},{\"fill\":\"toself\",\"name\":\"Curvature 0.08 (60)\",\"r\":[0.2883765309176227,0.2343438901988167,0.28413734979789584,0.3306985989669477,0.48769198825827,0.6500201733872708,0.8252991644390031,0.9965914168433565,1.2116284679349487,1.067706054005474,0.957436695342213,0.8710857093876038,0.7473651466213557,0.65206811226063,0.47839657232582,0.3688540394275925,0.2883765309176227],\"theta\":[-88.47667694091797,-64.9984130859375,-41.5201530456543,-25.86798095703125,-2.389719247817993,21.088542938232422,44.566802978515625,68.0450668334961,91.52332305908203,115.0015869140625,138.47984313964844,154.13201904296875,177.6102752685547,201.0885467529297,224.56680297851562,248.04505920410156,-88.47667694091797],\"type\":\"scatterpolar\"},{\"fill\":\"toself\",\"name\":\"Curvature 0.10 (70)\",\"r\":[0.15338761757015085,0.13404383636628295,0.2125633303983709,0.2774078021576684,0.45460276953817924,0.6416401079591998,0.8366723108422397,1.0274958124246443,1.2864116288388725,1.1062413985464978,0.9669519929546606,0.8636135102836239,0.7254223764963373,0.5927156327027406,0.4032031506333165,0.27051093590087316,0.15338761757015085],\"theta\":[-88.47667694091797,-64.9984130859375,-41.5201530456543,-25.86798095703125,-2.389719247817993,21.088542938232422,44.566802978515625,68.0450668334961,91.52332305908203,115.0015869140625,138.47984313964844,154.13201904296875,177.6102752685547,201.0885467529297,224.56680297851562,248.04505920410156,-88.47667694091797],\"type\":\"scatterpolar\"}],                        {\"template\":{\"data\":{\"barpolar\":[{\"marker\":{\"line\":{\"color\":\"#E5ECF6\",\"width\":0.5},\"pattern\":{\"fillmode\":\"overlay\",\"size\":10,\"solidity\":0.2}},\"type\":\"barpolar\"}],\"bar\":[{\"error_x\":{\"color\":\"#2a3f5f\"},\"error_y\":{\"color\":\"#2a3f5f\"},\"marker\":{\"line\":{\"color\":\"#E5ECF6\",\"width\":0.5},\"pattern\":{\"fillmode\":\"overlay\",\"size\":10,\"solidity\":0.2}},\"type\":\"bar\"}],\"carpet\":[{\"aaxis\":{\"endlinecolor\":\"#2a3f5f\",\"gridcolor\":\"white\",\"linecolor\":\"white\",\"minorgridcolor\":\"white\",\"startlinecolor\":\"#2a3f5f\"},\"baxis\":{\"endlinecolor\":\"#2a3f5f\",\"gridcolor\":\"white\",\"linecolor\":\"white\",\"minorgridcolor\":\"white\",\"startlinecolor\":\"#2a3f5f\"},\"type\":\"carpet\"}],\"choropleth\":[{\"colorbar\":{\"outlinewidth\":0,\"ticks\":\"\"},\"type\":\"choropleth\"}],\"contourcarpet\":[{\"colorbar\":{\"outlinewidth\":0,\"ticks\":\"\"},\"type\":\"contourcarpet\"}],\"contour\":[{\"colorbar\":{\"outlinewidth\":0,\"ticks\":\"\"},\"colorscale\":[[0.0,\"#0d0887\"],[0.1111111111111111,\"#46039f\"],[0.2222222222222222,\"#7201a8\"],[0.3333333333333333,\"#9c179e\"],[0.4444444444444444,\"#bd3786\"],[0.5555555555555556,\"#d8576b\"],[0.6666666666666666,\"#ed7953\"],[0.7777777777777778,\"#fb9f3a\"],[0.8888888888888888,\"#fdca26\"],[1.0,\"#f0f921\"]],\"type\":\"contour\"}],\"heatmapgl\":[{\"colorbar\":{\"outlinewidth\":0,\"ticks\":\"\"},\"colorscale\":[[0.0,\"#0d0887\"],[0.1111111111111111,\"#46039f\"],[0.2222222222222222,\"#7201a8\"],[0.3333333333333333,\"#9c179e\"],[0.4444444444444444,\"#bd3786\"],[0.5555555555555556,\"#d8576b\"],[0.6666666666666666,\"#ed7953\"],[0.7777777777777778,\"#fb9f3a\"],[0.8888888888888888,\"#fdca26\"],[1.0,\"#f0f921\"]],\"type\":\"heatmapgl\"}],\"heatmap\":[{\"colorbar\":{\"outlinewidth\":0,\"ticks\":\"\"},\"colorscale\":[[0.0,\"#0d0887\"],[0.1111111111111111,\"#46039f\"],[0.2222222222222222,\"#7201a8\"],[0.3333333333333333,\"#9c179e\"],[0.4444444444444444,\"#bd3786\"],[0.5555555555555556,\"#d8576b\"],[0.6666666666666666,\"#ed7953\"],[0.7777777777777778,\"#fb9f3a\"],[0.8888888888888888,\"#fdca26\"],[1.0,\"#f0f921\"]],\"type\":\"heatmap\"}],\"histogram2dcontour\":[{\"colorbar\":{\"outlinewidth\":0,\"ticks\":\"\"},\"colorscale\":[[0.0,\"#0d0887\"],[0.1111111111111111,\"#46039f\"],[0.2222222222222222,\"#7201a8\"],[0.3333333333333333,\"#9c179e\"],[0.4444444444444444,\"#bd3786\"],[0.5555555555555556,\"#d8576b\"],[0.6666666666666666,\"#ed7953\"],[0.7777777777777778,\"#fb9f3a\"],[0.8888888888888888,\"#fdca26\"],[1.0,\"#f0f921\"]],\"type\":\"histogram2dcontour\"}],\"histogram2d\":[{\"colorbar\":{\"outlinewidth\":0,\"ticks\":\"\"},\"colorscale\":[[0.0,\"#0d0887\"],[0.1111111111111111,\"#46039f\"],[0.2222222222222222,\"#7201a8\"],[0.3333333333333333,\"#9c179e\"],[0.4444444444444444,\"#bd3786\"],[0.5555555555555556,\"#d8576b\"],[0.6666666666666666,\"#ed7953\"],[0.7777777777777778,\"#fb9f3a\"],[0.8888888888888888,\"#fdca26\"],[1.0,\"#f0f921\"]],\"type\":\"histogram2d\"}],\"histogram\":[{\"marker\":{\"pattern\":{\"fillmode\":\"overlay\",\"size\":10,\"solidity\":0.2}},\"type\":\"histogram\"}],\"mesh3d\":[{\"colorbar\":{\"outlinewidth\":0,\"ticks\":\"\"},\"type\":\"mesh3d\"}],\"parcoords\":[{\"line\":{\"colorbar\":{\"outlinewidth\":0,\"ticks\":\"\"}},\"type\":\"parcoords\"}],\"pie\":[{\"automargin\":true,\"type\":\"pie\"}],\"scatter3d\":[{\"line\":{\"colorbar\":{\"outlinewidth\":0,\"ticks\":\"\"}},\"marker\":{\"colorbar\":{\"outlinewidth\":0,\"ticks\":\"\"}},\"type\":\"scatter3d\"}],\"scattercarpet\":[{\"marker\":{\"colorbar\":{\"outlinewidth\":0,\"ticks\":\"\"}},\"type\":\"scattercarpet\"}],\"scattergeo\":[{\"marker\":{\"colorbar\":{\"outlinewidth\":0,\"ticks\":\"\"}},\"type\":\"scattergeo\"}],\"scattergl\":[{\"marker\":{\"colorbar\":{\"outlinewidth\":0,\"ticks\":\"\"}},\"type\":\"scattergl\"}],\"scattermapbox\":[{\"marker\":{\"colorbar\":{\"outlinewidth\":0,\"ticks\":\"\"}},\"type\":\"scattermapbox\"}],\"scatterpolargl\":[{\"marker\":{\"colorbar\":{\"outlinewidth\":0,\"ticks\":\"\"}},\"type\":\"scatterpolargl\"}],\"scatterpolar\":[{\"marker\":{\"colorbar\":{\"outlinewidth\":0,\"ticks\":\"\"}},\"type\":\"scatterpolar\"}],\"scatter\":[{\"marker\":{\"colorbar\":{\"outlinewidth\":0,\"ticks\":\"\"}},\"type\":\"scatter\"}],\"scatterternary\":[{\"marker\":{\"colorbar\":{\"outlinewidth\":0,\"ticks\":\"\"}},\"type\":\"scatterternary\"}],\"surface\":[{\"colorbar\":{\"outlinewidth\":0,\"ticks\":\"\"},\"colorscale\":[[0.0,\"#0d0887\"],[0.1111111111111111,\"#46039f\"],[0.2222222222222222,\"#7201a8\"],[0.3333333333333333,\"#9c179e\"],[0.4444444444444444,\"#bd3786\"],[0.5555555555555556,\"#d8576b\"],[0.6666666666666666,\"#ed7953\"],[0.7777777777777778,\"#fb9f3a\"],[0.8888888888888888,\"#fdca26\"],[1.0,\"#f0f921\"]],\"type\":\"surface\"}],\"table\":[{\"cells\":{\"fill\":{\"color\":\"#EBF0F8\"},\"line\":{\"color\":\"white\"}},\"header\":{\"fill\":{\"color\":\"#C8D4E3\"},\"line\":{\"color\":\"white\"}},\"type\":\"table\"}]},\"layout\":{\"annotationdefaults\":{\"arrowcolor\":\"#2a3f5f\",\"arrowhead\":0,\"arrowwidth\":1},\"autotypenumbers\":\"strict\",\"coloraxis\":{\"colorbar\":{\"outlinewidth\":0,\"ticks\":\"\"}},\"colorscale\":{\"diverging\":[[0,\"#8e0152\"],[0.1,\"#c51b7d\"],[0.2,\"#de77ae\"],[0.3,\"#f1b6da\"],[0.4,\"#fde0ef\"],[0.5,\"#f7f7f7\"],[0.6,\"#e6f5d0\"],[0.7,\"#b8e186\"],[0.8,\"#7fbc41\"],[0.9,\"#4d9221\"],[1,\"#276419\"]],\"sequential\":[[0.0,\"#0d0887\"],[0.1111111111111111,\"#46039f\"],[0.2222222222222222,\"#7201a8\"],[0.3333333333333333,\"#9c179e\"],[0.4444444444444444,\"#bd3786\"],[0.5555555555555556,\"#d8576b\"],[0.6666666666666666,\"#ed7953\"],[0.7777777777777778,\"#fb9f3a\"],[0.8888888888888888,\"#fdca26\"],[1.0,\"#f0f921\"]],\"sequentialminus\":[[0.0,\"#0d0887\"],[0.1111111111111111,\"#46039f\"],[0.2222222222222222,\"#7201a8\"],[0.3333333333333333,\"#9c179e\"],[0.4444444444444444,\"#bd3786\"],[0.5555555555555556,\"#d8576b\"],[0.6666666666666666,\"#ed7953\"],[0.7777777777777778,\"#fb9f3a\"],[0.8888888888888888,\"#fdca26\"],[1.0,\"#f0f921\"]]},\"colorway\":[\"#636efa\",\"#EF553B\",\"#00cc96\",\"#ab63fa\",\"#FFA15A\",\"#19d3f3\",\"#FF6692\",\"#B6E880\",\"#FF97FF\",\"#FECB52\"],\"font\":{\"color\":\"#2a3f5f\"},\"geo\":{\"bgcolor\":\"white\",\"lakecolor\":\"white\",\"landcolor\":\"#E5ECF6\",\"showlakes\":true,\"showland\":true,\"subunitcolor\":\"white\"},\"hoverlabel\":{\"align\":\"left\"},\"hovermode\":\"closest\",\"mapbox\":{\"style\":\"light\"},\"paper_bgcolor\":\"rgba(0,0,0,0)\",\"plot_bgcolor\":\"rgba(0,0,0,0)\",\"polar\":{\"angularaxis\":{\"gridcolor\":\"white\",\"linecolor\":\"white\",\"ticks\":\"\"},\"bgcolor\":\"#E5ECF6\",\"radialaxis\":{\"gridcolor\":\"white\",\"linecolor\":\"white\",\"ticks\":\"\"}},\"scene\":{\"xaxis\":{\"backgroundcolor\":\"#E5ECF6\",\"gridcolor\":\"white\",\"gridwidth\":2,\"linecolor\":\"white\",\"showbackground\":true,\"ticks\":\"\",\"zerolinecolor\":\"white\"},\"yaxis\":{\"backgroundcolor\":\"#E5ECF6\",\"gridcolor\":\"white\",\"gridwidth\":2,\"linecolor\":\"white\",\"showbackground\":true,\"ticks\":\"\",\"zerolinecolor\":\"white\"},\"zaxis\":{\"backgroundcolor\":\"#E5ECF6\",\"gridcolor\":\"white\",\"gridwidth\":2,\"linecolor\":\"white\",\"showbackground\":true,\"ticks\":\"\",\"zerolinecolor\":\"white\"}},\"shapedefaults\":{\"line\":{\"color\":\"#2a3f5f\"}},\"ternary\":{\"aaxis\":{\"gridcolor\":\"white\",\"linecolor\":\"white\",\"ticks\":\"\"},\"baxis\":{\"gridcolor\":\"white\",\"linecolor\":\"white\",\"ticks\":\"\"},\"bgcolor\":\"#E5ECF6\",\"caxis\":{\"gridcolor\":\"white\",\"linecolor\":\"white\",\"ticks\":\"\"}},\"title\":{\"x\":0.05},\"xaxis\":{\"automargin\":true,\"gridcolor\":\"white\",\"linecolor\":\"white\",\"ticks\":\"\",\"title\":{\"standoff\":15},\"zerolinecolor\":\"white\",\"zerolinewidth\":2},\"yaxis\":{\"automargin\":true,\"gridcolor\":\"white\",\"linecolor\":\"white\",\"ticks\":\"\",\"title\":{\"standoff\":15},\"zerolinecolor\":\"white\",\"zerolinewidth\":2}}},\"polar\":{\"radialaxis\":{\"visible\":true,\"range\":[0,1.5]}},\"showlegend\":true,\"font\":{\"color\":\"white\"},\"title\":{\"text\":\"Stress correction factor @ 1426 mm\"},\"autosize\":false,\"width\":1000,\"height\":800},                        {\"responsive\": true}                    ).then(function(){\n",
       "                            \n",
       "var gd = document.getElementById('55fc50c3-e312-4560-9add-dddca1b68271');\n",
       "var x = new MutationObserver(function (mutations, observer) {{\n",
       "        var display = window.getComputedStyle(gd).display;\n",
       "        if (!display || display === 'none') {{\n",
       "            console.log([gd, 'removed!']);\n",
       "            Plotly.purge(gd);\n",
       "            observer.disconnect();\n",
       "        }}\n",
       "}});\n",
       "\n",
       "// Listen for the removal of the full notebook cells\n",
       "var notebookContainer = gd.closest('#notebook-container');\n",
       "if (notebookContainer) {{\n",
       "    x.observe(notebookContainer, {childList: true});\n",
       "}}\n",
       "\n",
       "// Listen for the clearing of the current output cell\n",
       "var outputEl = gd.closest('.output');\n",
       "if (outputEl) {{\n",
       "    x.observe(outputEl, {childList: true});\n",
       "}}\n",
       "\n",
       "                        })                };                });            </script>        </div>"
      ]
     },
     "metadata": {},
     "output_type": "display_data"
    }
   ],
   "source": [
    "# Plotting\n",
    "fig_scf = go.Figure()\n",
    "positions = sorted(list(set(df_scf.z)))\n",
    "pos = 25\n",
    "\n",
    "for inc in range(0, 71, 10):\n",
    "\n",
    "    while inc in bad_incs:\n",
    "        inc += 1\n",
    "    \n",
    "    # Extrat specific positinos\n",
    "    df_plot = df_scf[(df_scf.inc==inc) & (df_scf.z==positions[pos])]\n",
    "    df_plot = df_plot.append(df_plot.iloc[0]).reset_index()\n",
    "\n",
    "    # Find curvature\n",
    "    curv = df_plot.curv.iloc[0]\n",
    "\n",
    "    # Plot\n",
    "    fig_scf.add_trace(go.Scatterpolar(r=df_plot['scf'],\n",
    "                                  theta=df_plot['theta'],\n",
    "                                  fill='toself',\n",
    "                                  name=f'Curvature {curv:.2f} ({inc})'\n",
    "                                  ))\n",
    "\n",
    "fig_scf.update_layout(\n",
    "    polar=dict(\n",
    "        radialaxis=dict(\n",
    "            visible=True,\n",
    "            range=[0, 1.5]\n",
    "        )),\n",
    "    showlegend=True\n",
    ")\n",
    "\n",
    "\n",
    "fig_scf.update_layout(title=f'Stress correction factor @ {positions[pos]} mm',\n",
    "                      autosize=False,\n",
    "                      font=dict(color='white'),\n",
    "                      width=1000, height=800)\n",
    "\n",
    "fig_scf.show()"
   ]
  },
  {
   "cell_type": "code",
   "execution_count": 659,
   "id": "db4bf08d",
   "metadata": {},
   "outputs": [
    {
     "data": {
      "text/html": [
       "<div>\n",
       "<style scoped>\n",
       "    .dataframe tbody tr th:only-of-type {\n",
       "        vertical-align: middle;\n",
       "    }\n",
       "\n",
       "    .dataframe tbody tr th {\n",
       "        vertical-align: top;\n",
       "    }\n",
       "\n",
       "    .dataframe thead th {\n",
       "        text-align: right;\n",
       "    }\n",
       "</style>\n",
       "<table border=\"1\" class=\"dataframe\">\n",
       "  <thead>\n",
       "    <tr style=\"text-align: right;\">\n",
       "      <th></th>\n",
       "      <th>index</th>\n",
       "      <th>inc</th>\n",
       "      <th>z</th>\n",
       "      <th>theta</th>\n",
       "      <th>curv</th>\n",
       "      <th>stress</th>\n",
       "      <th>stress_bflex</th>\n",
       "      <th>scf</th>\n",
       "    </tr>\n",
       "  </thead>\n",
       "  <tbody>\n",
       "    <tr>\n",
       "      <th>0</th>\n",
       "      <td>0</td>\n",
       "      <td>70.0</td>\n",
       "      <td>1426.0</td>\n",
       "      <td>-88.48</td>\n",
       "      <td>0.1</td>\n",
       "      <td>29.35</td>\n",
       "      <td>191.36</td>\n",
       "      <td>0.15</td>\n",
       "    </tr>\n",
       "    <tr>\n",
       "      <th>1</th>\n",
       "      <td>1</td>\n",
       "      <td>70.0</td>\n",
       "      <td>1426.0</td>\n",
       "      <td>-65.00</td>\n",
       "      <td>0.1</td>\n",
       "      <td>33.88</td>\n",
       "      <td>252.76</td>\n",
       "      <td>0.13</td>\n",
       "    </tr>\n",
       "    <tr>\n",
       "      <th>2</th>\n",
       "      <td>2</td>\n",
       "      <td>70.0</td>\n",
       "      <td>1426.0</td>\n",
       "      <td>-41.52</td>\n",
       "      <td>0.1</td>\n",
       "      <td>64.52</td>\n",
       "      <td>303.53</td>\n",
       "      <td>0.21</td>\n",
       "    </tr>\n",
       "    <tr>\n",
       "      <th>3</th>\n",
       "      <td>3</td>\n",
       "      <td>70.0</td>\n",
       "      <td>1426.0</td>\n",
       "      <td>-25.87</td>\n",
       "      <td>0.1</td>\n",
       "      <td>93.19</td>\n",
       "      <td>335.93</td>\n",
       "      <td>0.28</td>\n",
       "    </tr>\n",
       "    <tr>\n",
       "      <th>4</th>\n",
       "      <td>4</td>\n",
       "      <td>70.0</td>\n",
       "      <td>1426.0</td>\n",
       "      <td>-2.39</td>\n",
       "      <td>0.1</td>\n",
       "      <td>156.89</td>\n",
       "      <td>345.10</td>\n",
       "      <td>0.45</td>\n",
       "    </tr>\n",
       "    <tr>\n",
       "      <th>5</th>\n",
       "      <td>5</td>\n",
       "      <td>70.0</td>\n",
       "      <td>1426.0</td>\n",
       "      <td>21.09</td>\n",
       "      <td>0.1</td>\n",
       "      <td>230.04</td>\n",
       "      <td>358.52</td>\n",
       "      <td>0.64</td>\n",
       "    </tr>\n",
       "    <tr>\n",
       "      <th>6</th>\n",
       "      <td>6</td>\n",
       "      <td>70.0</td>\n",
       "      <td>1426.0</td>\n",
       "      <td>44.57</td>\n",
       "      <td>0.1</td>\n",
       "      <td>288.82</td>\n",
       "      <td>345.20</td>\n",
       "      <td>0.84</td>\n",
       "    </tr>\n",
       "    <tr>\n",
       "      <th>7</th>\n",
       "      <td>7</td>\n",
       "      <td>70.0</td>\n",
       "      <td>1426.0</td>\n",
       "      <td>68.05</td>\n",
       "      <td>0.1</td>\n",
       "      <td>315.62</td>\n",
       "      <td>307.18</td>\n",
       "      <td>1.03</td>\n",
       "    </tr>\n",
       "    <tr>\n",
       "      <th>8</th>\n",
       "      <td>8</td>\n",
       "      <td>70.0</td>\n",
       "      <td>1426.0</td>\n",
       "      <td>91.52</td>\n",
       "      <td>0.1</td>\n",
       "      <td>322.32</td>\n",
       "      <td>250.56</td>\n",
       "      <td>1.29</td>\n",
       "    </tr>\n",
       "    <tr>\n",
       "      <th>9</th>\n",
       "      <td>9</td>\n",
       "      <td>70.0</td>\n",
       "      <td>1426.0</td>\n",
       "      <td>115.00</td>\n",
       "      <td>0.1</td>\n",
       "      <td>340.11</td>\n",
       "      <td>307.45</td>\n",
       "      <td>1.11</td>\n",
       "    </tr>\n",
       "    <tr>\n",
       "      <th>10</th>\n",
       "      <td>10</td>\n",
       "      <td>70.0</td>\n",
       "      <td>1426.0</td>\n",
       "      <td>138.48</td>\n",
       "      <td>0.1</td>\n",
       "      <td>333.97</td>\n",
       "      <td>345.38</td>\n",
       "      <td>0.97</td>\n",
       "    </tr>\n",
       "    <tr>\n",
       "      <th>11</th>\n",
       "      <td>11</td>\n",
       "      <td>70.0</td>\n",
       "      <td>1426.0</td>\n",
       "      <td>154.13</td>\n",
       "      <td>0.1</td>\n",
       "      <td>309.67</td>\n",
       "      <td>358.58</td>\n",
       "      <td>0.86</td>\n",
       "    </tr>\n",
       "    <tr>\n",
       "      <th>12</th>\n",
       "      <td>12</td>\n",
       "      <td>70.0</td>\n",
       "      <td>1426.0</td>\n",
       "      <td>177.61</td>\n",
       "      <td>0.1</td>\n",
       "      <td>250.34</td>\n",
       "      <td>345.10</td>\n",
       "      <td>0.73</td>\n",
       "    </tr>\n",
       "    <tr>\n",
       "      <th>13</th>\n",
       "      <td>13</td>\n",
       "      <td>70.0</td>\n",
       "      <td>1426.0</td>\n",
       "      <td>201.09</td>\n",
       "      <td>0.1</td>\n",
       "      <td>199.07</td>\n",
       "      <td>335.87</td>\n",
       "      <td>0.59</td>\n",
       "    </tr>\n",
       "    <tr>\n",
       "      <th>14</th>\n",
       "      <td>14</td>\n",
       "      <td>70.0</td>\n",
       "      <td>1426.0</td>\n",
       "      <td>224.57</td>\n",
       "      <td>0.1</td>\n",
       "      <td>122.31</td>\n",
       "      <td>303.35</td>\n",
       "      <td>0.40</td>\n",
       "    </tr>\n",
       "    <tr>\n",
       "      <th>15</th>\n",
       "      <td>15</td>\n",
       "      <td>70.0</td>\n",
       "      <td>1426.0</td>\n",
       "      <td>248.05</td>\n",
       "      <td>0.1</td>\n",
       "      <td>68.30</td>\n",
       "      <td>252.49</td>\n",
       "      <td>0.27</td>\n",
       "    </tr>\n",
       "    <tr>\n",
       "      <th>16</th>\n",
       "      <td>0</td>\n",
       "      <td>70.0</td>\n",
       "      <td>1426.0</td>\n",
       "      <td>-88.48</td>\n",
       "      <td>0.1</td>\n",
       "      <td>29.35</td>\n",
       "      <td>191.36</td>\n",
       "      <td>0.15</td>\n",
       "    </tr>\n",
       "  </tbody>\n",
       "</table>\n",
       "</div>"
      ],
      "text/plain": [
       "    index   inc       z   theta  curv  stress  stress_bflex   scf\n",
       "0       0  70.0  1426.0  -88.48   0.1   29.35        191.36  0.15\n",
       "1       1  70.0  1426.0  -65.00   0.1   33.88        252.76  0.13\n",
       "2       2  70.0  1426.0  -41.52   0.1   64.52        303.53  0.21\n",
       "3       3  70.0  1426.0  -25.87   0.1   93.19        335.93  0.28\n",
       "4       4  70.0  1426.0   -2.39   0.1  156.89        345.10  0.45\n",
       "5       5  70.0  1426.0   21.09   0.1  230.04        358.52  0.64\n",
       "6       6  70.0  1426.0   44.57   0.1  288.82        345.20  0.84\n",
       "7       7  70.0  1426.0   68.05   0.1  315.62        307.18  1.03\n",
       "8       8  70.0  1426.0   91.52   0.1  322.32        250.56  1.29\n",
       "9       9  70.0  1426.0  115.00   0.1  340.11        307.45  1.11\n",
       "10     10  70.0  1426.0  138.48   0.1  333.97        345.38  0.97\n",
       "11     11  70.0  1426.0  154.13   0.1  309.67        358.58  0.86\n",
       "12     12  70.0  1426.0  177.61   0.1  250.34        345.10  0.73\n",
       "13     13  70.0  1426.0  201.09   0.1  199.07        335.87  0.59\n",
       "14     14  70.0  1426.0  224.57   0.1  122.31        303.35  0.40\n",
       "15     15  70.0  1426.0  248.05   0.1   68.30        252.49  0.27\n",
       "16      0  70.0  1426.0  -88.48   0.1   29.35        191.36  0.15"
      ]
     },
     "execution_count": 659,
     "metadata": {},
     "output_type": "execute_result"
    }
   ],
   "source": [
    "df_plot"
   ]
  },
  {
   "cell_type": "code",
   "execution_count": 655,
   "id": "a4086424",
   "metadata": {},
   "outputs": [
    {
     "data": {
      "text/html": [
       "<div>\n",
       "<style scoped>\n",
       "    .dataframe tbody tr th:only-of-type {\n",
       "        vertical-align: middle;\n",
       "    }\n",
       "\n",
       "    .dataframe tbody tr th {\n",
       "        vertical-align: top;\n",
       "    }\n",
       "\n",
       "    .dataframe thead th {\n",
       "        text-align: right;\n",
       "    }\n",
       "</style>\n",
       "<table border=\"1\" class=\"dataframe\">\n",
       "  <thead>\n",
       "    <tr style=\"text-align: right;\">\n",
       "      <th></th>\n",
       "      <th>index</th>\n",
       "      <th>inc</th>\n",
       "      <th>z</th>\n",
       "      <th>theta</th>\n",
       "      <th>curv</th>\n",
       "      <th>stress</th>\n",
       "      <th>stress_bflex</th>\n",
       "      <th>scf</th>\n",
       "    </tr>\n",
       "  </thead>\n",
       "  <tbody>\n",
       "    <tr>\n",
       "      <th>0</th>\n",
       "      <td>0</td>\n",
       "      <td>70.0</td>\n",
       "      <td>1426.0</td>\n",
       "      <td>-88.48</td>\n",
       "      <td>0.1</td>\n",
       "      <td>29.35</td>\n",
       "      <td>191.36</td>\n",
       "      <td>0.15</td>\n",
       "    </tr>\n",
       "    <tr>\n",
       "      <th>1</th>\n",
       "      <td>1</td>\n",
       "      <td>70.0</td>\n",
       "      <td>1426.0</td>\n",
       "      <td>-65.00</td>\n",
       "      <td>0.1</td>\n",
       "      <td>33.88</td>\n",
       "      <td>252.76</td>\n",
       "      <td>0.13</td>\n",
       "    </tr>\n",
       "    <tr>\n",
       "      <th>2</th>\n",
       "      <td>2</td>\n",
       "      <td>70.0</td>\n",
       "      <td>1426.0</td>\n",
       "      <td>-41.52</td>\n",
       "      <td>0.1</td>\n",
       "      <td>64.52</td>\n",
       "      <td>303.53</td>\n",
       "      <td>0.21</td>\n",
       "    </tr>\n",
       "    <tr>\n",
       "      <th>3</th>\n",
       "      <td>3</td>\n",
       "      <td>70.0</td>\n",
       "      <td>1426.0</td>\n",
       "      <td>-25.87</td>\n",
       "      <td>0.1</td>\n",
       "      <td>93.19</td>\n",
       "      <td>335.93</td>\n",
       "      <td>0.28</td>\n",
       "    </tr>\n",
       "    <tr>\n",
       "      <th>4</th>\n",
       "      <td>4</td>\n",
       "      <td>70.0</td>\n",
       "      <td>1426.0</td>\n",
       "      <td>-2.39</td>\n",
       "      <td>0.1</td>\n",
       "      <td>156.89</td>\n",
       "      <td>345.10</td>\n",
       "      <td>0.45</td>\n",
       "    </tr>\n",
       "    <tr>\n",
       "      <th>5</th>\n",
       "      <td>5</td>\n",
       "      <td>70.0</td>\n",
       "      <td>1426.0</td>\n",
       "      <td>21.09</td>\n",
       "      <td>0.1</td>\n",
       "      <td>230.04</td>\n",
       "      <td>358.52</td>\n",
       "      <td>0.64</td>\n",
       "    </tr>\n",
       "    <tr>\n",
       "      <th>6</th>\n",
       "      <td>6</td>\n",
       "      <td>70.0</td>\n",
       "      <td>1426.0</td>\n",
       "      <td>44.57</td>\n",
       "      <td>0.1</td>\n",
       "      <td>288.82</td>\n",
       "      <td>345.20</td>\n",
       "      <td>0.84</td>\n",
       "    </tr>\n",
       "    <tr>\n",
       "      <th>7</th>\n",
       "      <td>7</td>\n",
       "      <td>70.0</td>\n",
       "      <td>1426.0</td>\n",
       "      <td>68.05</td>\n",
       "      <td>0.1</td>\n",
       "      <td>315.62</td>\n",
       "      <td>307.18</td>\n",
       "      <td>1.03</td>\n",
       "    </tr>\n",
       "    <tr>\n",
       "      <th>8</th>\n",
       "      <td>8</td>\n",
       "      <td>70.0</td>\n",
       "      <td>1426.0</td>\n",
       "      <td>91.52</td>\n",
       "      <td>0.1</td>\n",
       "      <td>322.32</td>\n",
       "      <td>250.56</td>\n",
       "      <td>1.29</td>\n",
       "    </tr>\n",
       "    <tr>\n",
       "      <th>9</th>\n",
       "      <td>9</td>\n",
       "      <td>70.0</td>\n",
       "      <td>1426.0</td>\n",
       "      <td>115.00</td>\n",
       "      <td>0.1</td>\n",
       "      <td>340.11</td>\n",
       "      <td>307.45</td>\n",
       "      <td>1.11</td>\n",
       "    </tr>\n",
       "    <tr>\n",
       "      <th>10</th>\n",
       "      <td>10</td>\n",
       "      <td>70.0</td>\n",
       "      <td>1426.0</td>\n",
       "      <td>138.48</td>\n",
       "      <td>0.1</td>\n",
       "      <td>333.97</td>\n",
       "      <td>345.38</td>\n",
       "      <td>0.97</td>\n",
       "    </tr>\n",
       "    <tr>\n",
       "      <th>11</th>\n",
       "      <td>11</td>\n",
       "      <td>70.0</td>\n",
       "      <td>1426.0</td>\n",
       "      <td>154.13</td>\n",
       "      <td>0.1</td>\n",
       "      <td>309.67</td>\n",
       "      <td>358.58</td>\n",
       "      <td>0.86</td>\n",
       "    </tr>\n",
       "    <tr>\n",
       "      <th>12</th>\n",
       "      <td>12</td>\n",
       "      <td>70.0</td>\n",
       "      <td>1426.0</td>\n",
       "      <td>177.61</td>\n",
       "      <td>0.1</td>\n",
       "      <td>250.34</td>\n",
       "      <td>345.10</td>\n",
       "      <td>0.73</td>\n",
       "    </tr>\n",
       "    <tr>\n",
       "      <th>13</th>\n",
       "      <td>13</td>\n",
       "      <td>70.0</td>\n",
       "      <td>1426.0</td>\n",
       "      <td>201.09</td>\n",
       "      <td>0.1</td>\n",
       "      <td>199.07</td>\n",
       "      <td>335.87</td>\n",
       "      <td>0.59</td>\n",
       "    </tr>\n",
       "    <tr>\n",
       "      <th>14</th>\n",
       "      <td>14</td>\n",
       "      <td>70.0</td>\n",
       "      <td>1426.0</td>\n",
       "      <td>224.57</td>\n",
       "      <td>0.1</td>\n",
       "      <td>122.31</td>\n",
       "      <td>303.35</td>\n",
       "      <td>0.40</td>\n",
       "    </tr>\n",
       "    <tr>\n",
       "      <th>15</th>\n",
       "      <td>15</td>\n",
       "      <td>70.0</td>\n",
       "      <td>1426.0</td>\n",
       "      <td>248.05</td>\n",
       "      <td>0.1</td>\n",
       "      <td>68.30</td>\n",
       "      <td>252.49</td>\n",
       "      <td>0.27</td>\n",
       "    </tr>\n",
       "    <tr>\n",
       "      <th>16</th>\n",
       "      <td>0</td>\n",
       "      <td>70.0</td>\n",
       "      <td>1426.0</td>\n",
       "      <td>-88.48</td>\n",
       "      <td>0.1</td>\n",
       "      <td>29.35</td>\n",
       "      <td>191.36</td>\n",
       "      <td>0.15</td>\n",
       "    </tr>\n",
       "  </tbody>\n",
       "</table>\n",
       "</div>"
      ],
      "text/plain": [
       "    index   inc       z   theta  curv  stress  stress_bflex   scf\n",
       "0       0  70.0  1426.0  -88.48   0.1   29.35        191.36  0.15\n",
       "1       1  70.0  1426.0  -65.00   0.1   33.88        252.76  0.13\n",
       "2       2  70.0  1426.0  -41.52   0.1   64.52        303.53  0.21\n",
       "3       3  70.0  1426.0  -25.87   0.1   93.19        335.93  0.28\n",
       "4       4  70.0  1426.0   -2.39   0.1  156.89        345.10  0.45\n",
       "5       5  70.0  1426.0   21.09   0.1  230.04        358.52  0.64\n",
       "6       6  70.0  1426.0   44.57   0.1  288.82        345.20  0.84\n",
       "7       7  70.0  1426.0   68.05   0.1  315.62        307.18  1.03\n",
       "8       8  70.0  1426.0   91.52   0.1  322.32        250.56  1.29\n",
       "9       9  70.0  1426.0  115.00   0.1  340.11        307.45  1.11\n",
       "10     10  70.0  1426.0  138.48   0.1  333.97        345.38  0.97\n",
       "11     11  70.0  1426.0  154.13   0.1  309.67        358.58  0.86\n",
       "12     12  70.0  1426.0  177.61   0.1  250.34        345.10  0.73\n",
       "13     13  70.0  1426.0  201.09   0.1  199.07        335.87  0.59\n",
       "14     14  70.0  1426.0  224.57   0.1  122.31        303.35  0.40\n",
       "15     15  70.0  1426.0  248.05   0.1   68.30        252.49  0.27\n",
       "16      0  70.0  1426.0  -88.48   0.1   29.35        191.36  0.15"
      ]
     },
     "execution_count": 655,
     "metadata": {},
     "output_type": "execute_result"
    }
   ],
   "source": [
    "df_plot.append(df_plot.iloc[0]).reset_index()\n"
   ]
  },
  {
   "cell_type": "markdown",
   "id": "4e67dcca",
   "metadata": {},
   "source": [
    "## Examples"
   ]
  },
  {
   "cell_type": "code",
   "execution_count": null,
   "id": "6e596c72",
   "metadata": {},
   "outputs": [],
   "source": [
    "# Plotly 3d surface with color - Example\n",
    "df_plot = df_marc.where(df_marc['inc']==60).dropna()\n",
    "\n",
    "df_plot['x'] = 200.0 * np.sin(df_plot['theta'])\n",
    "df_plot['y'] = 200.0 * np.cos(df_plot['theta'])\n",
    "\n",
    "fig = go.Figure()\n",
    "\n",
    "fig.add_trace(go.Surface(\n",
    "    x=df_plot['x'].tolist()[0:100],\n",
    "    y=df_plot['y'].tolist()[0:100],\n",
    "    z=[df_plot['z'].tolist()[0:100]]*100,\n",
    "    surfacecolor=df_plot['stress'].tolist()[0:10]\n",
    "))\n",
    "fig.update_layout(title='Stress', autosize=True,\n",
    "                  width=1000, height=800)\n",
    "\n",
    "fig.update_layout(scene=dict(xaxis=dict(range=[-200, 200]),\n",
    "                             yaxis=dict(range=[-200, 200]),\n",
    "                             zaxis=dict(range=[0, 4000])\n",
    "))\n",
    "fig.show()"
   ]
  },
  {
   "cell_type": "code",
   "execution_count": null,
   "id": "0a3c24ef",
   "metadata": {},
   "outputs": [],
   "source": [
    "# Plotly express\n",
    "fig = px.line_polar(df_marc, r='stress', theta='theta', line_close=True)\n",
    "fig.update_traces(fill='toself')\n",
    "fig.show()"
   ]
  },
  {
   "cell_type": "markdown",
   "id": "a4fca5db",
   "metadata": {},
   "source": [
    "## Read marc input"
   ]
  },
  {
   "cell_type": "code",
   "execution_count": null,
   "id": "d07e947a",
   "metadata": {},
   "outputs": [],
   "source": [
    "mf = Path(r'\\\\nas-ask-001\\Projects\\1993_Pierce_GIR_fatigue\\Marc\\analysis\\NOV_8inch_GIR_3p_with_bs_g3_job1.h5')\n",
    "\n",
    "with h5py.File(mf, 'r') as f:\n",
    "    print(f'Keys {f[\"Marc\"][\"Results\"][\"Element\"][\"Tensor\"][\"Cauchy Stress in Preferred Sys\"].keys()}')\n"
   ]
  },
  {
   "cell_type": "code",
   "execution_count": null,
   "id": "a313007a",
   "metadata": {},
   "outputs": [],
   "source": []
  }
 ],
 "metadata": {
  "interpreter": {
   "hash": "1baa965d5efe3ac65b79dfc60c0d706280b1da80fedb7760faf2759126c4f253"
  },
  "kernelspec": {
   "display_name": "marc-tools",
   "language": "python",
   "name": "python3"
  },
  "language_info": {
   "codemirror_mode": {
    "name": "ipython",
    "version": 3
   },
   "file_extension": ".py",
   "mimetype": "text/x-python",
   "name": "python",
   "nbconvert_exporter": "python",
   "pygments_lexer": "ipython3",
   "version": "3.8.10"
  },
  "toc": {
   "base_numbering": 1,
   "nav_menu": {},
   "number_sections": true,
   "sideBar": true,
   "skip_h1_title": false,
   "title_cell": "Table of Contents",
   "title_sidebar": "Contents",
   "toc_cell": false,
   "toc_position": {},
   "toc_section_display": true,
   "toc_window_display": false
  },
  "varInspector": {
   "cols": {
    "lenName": 16,
    "lenType": 16,
    "lenVar": 40
   },
   "kernels_config": {
    "python": {
     "delete_cmd_postfix": "",
     "delete_cmd_prefix": "del ",
     "library": "var_list.py",
     "varRefreshCmd": "print(var_dic_list())"
    },
    "r": {
     "delete_cmd_postfix": ") ",
     "delete_cmd_prefix": "rm(",
     "library": "var_list.r",
     "varRefreshCmd": "cat(var_dic_list()) "
    }
   },
   "types_to_exclude": [
    "module",
    "function",
    "builtin_function_or_method",
    "instance",
    "_Feature"
   ],
   "window_display": false
  }
 },
 "nbformat": 4,
 "nbformat_minor": 5
}

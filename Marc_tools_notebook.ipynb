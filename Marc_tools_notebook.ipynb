{
 "cells": [
  {
   "cell_type": "markdown",
   "id": "655ef8b7",
   "metadata": {
    "ExecuteTime": {
     "end_time": "2022-01-12T14:33:54.844078Z",
     "start_time": "2022-01-12T14:33:54.826199Z"
    }
   },
   "source": [
    "# Marc tools"
   ]
  },
  {
   "cell_type": "markdown",
   "id": "2ccf6f8c",
   "metadata": {
    "ExecuteTime": {
     "end_time": "2022-01-12T14:34:06.585963Z",
     "start_time": "2022-01-12T14:34:06.576972Z"
    }
   },
   "source": [
    "## Import"
   ]
  },
  {
   "cell_type": "code",
   "execution_count": null,
   "id": "6aca0cb9",
   "metadata": {},
   "outputs": [],
   "source": [
    "import os\n",
    "import plotly\n",
    "import importlib\n",
    "import re\n",
    "import h5py\n",
    "\n",
    "import numpy as np\n",
    "import pandas as pd\n",
    "import plotly.io as pio\n",
    "import plotly.graph_objs as go\n",
    "import marc_tools as mt\n",
    "import plotly.express as px\n",
    "\n",
    "from pathlib import Path\n",
    "from IPython.display import clear_output\n",
    "\n",
    "# Set up plotly\n",
    "plotly.offline.init_notebook_mode()\n",
    "\n",
    "pio.templates['custom'] = go.layout.Template(\n",
    "    layout_paper_bgcolor='rgba(0,0,0,0)',\n",
    "    layout_plot_bgcolor='rgba(0,0,0,0)',\n",
    "    ) \n",
    "\n",
    "# Change background color if using VSC\n",
    "if 'VSCODE_CWD' in os.environ:\n",
    "    pio.templates.default = 'plotly+custom'\n",
    "\n",
    "# Pandas decimal precision\n",
    "pd.set_option(\"display.precision\", 2)"
   ]
  },
  {
   "cell_type": "code",
   "execution_count": null,
   "id": "dfe76fdb",
   "metadata": {},
   "outputs": [],
   "source": [
    "# Define folders\n",
    "project_dir = Path(r'C:\\Projects\\1993_Pierce_GI_riser')\n",
    "bflex_dir = project_dir / 'Bflex/Local/Top_300bar'"
   ]
  },
  {
   "cell_type": "markdown",
   "id": "719e4163",
   "metadata": {},
   "source": [
    "### BFLEX - Stress and curvature"
   ]
  },
  {
   "cell_type": "code",
   "execution_count": 1001,
   "id": "15b5db74",
   "metadata": {},
   "outputs": [],
   "source": [
    "# Find curvature\n",
    "for curv in bflex_dir.glob(r'*elcurvY.mpf'):\n",
    "    df_curv = mt.bflex.mpf_reader(curv)\n",
    "\n",
    "df_curv.columns = ['curv']\n",
    "\n",
    "# Find mpf_files\n",
    "df_mpf = pd.DataFrame()\n",
    "\n",
    "for mpf in bflex_dir.glob(r'*nosl?.mpf'):\n",
    "    \n",
    "    df_temp = mt.bflex.mpf_reader(mpf)\n",
    "    df_mpf = pd.concat([df_mpf, df_temp], axis=1)\n",
    "\n",
    "# Manipulate df\n",
    "df = pd.DataFrame()\n",
    "\n",
    "for i in range(17, 33):\n",
    "    df[f'P{i}'] = df_mpf.filter(regex=f'{i}').max(axis=1)\n",
    "\n",
    "df_stress = pd.concat([df_curv, df], axis=1)\n",
    "\n",
    "# Interpolate curvature\n",
    "df = pd.DataFrame({'curv' : [i/100 for i in range(0, 21)]})\n",
    "\n",
    "for col in df_stress.columns[1:]:\n",
    "    df[col] = np.interp(df.curv, df_stress.curv, df_stress[col])\n",
    "\n",
    "# df_new.columns = ['Curvature'] + [i*22.5 for i in range(0, 16)]\n",
    "pd.set_option(\"display.precision\", 2)\n",
    "df_bflex = df"
   ]
  },
  {
   "cell_type": "code",
   "execution_count": 1002,
   "id": "e9c7e6d8",
   "metadata": {},
   "outputs": [
    {
     "data": {
      "application/vnd.plotly.v1+json": {
       "config": {
        "plotlyServerURL": "https://plot.ly"
       },
       "data": [
        {
         "fill": "toself",
         "name": "Curv 0.0",
         "r": [
          182.899,
          182.899,
          182.899,
          182.899,
          182.899,
          182.899,
          182.899,
          182.899,
          182.899,
          182.899,
          182.899,
          182.899,
          182.899,
          182.899,
          182.899,
          182.899
         ],
         "theta": [
          -90,
          -67.5,
          -45,
          -22.5,
          0,
          22.5,
          45,
          67.5,
          90,
          112.5,
          135,
          157.5,
          180,
          202.5,
          225,
          247.5,
          270
         ],
         "type": "scatterpolar"
        },
        {
         "fill": "toself",
         "name": "Curv 0.05",
         "r": [
          172.91537947589518,
          205.60710122024406,
          234.84188337667533,
          256.16832326465294,
          266.38018903780755,
          278.77431106221246,
          276.5718833766753,
          260.10908901780357,
          232.06039167833566,
          260.24910122024403,
          276.6608955791158,
          278.7993232646529,
          266.37718903780757,
          256.13732326465293,
          234.74788337667533,
          205.46508901780356
         ],
         "theta": [
          -90,
          -67.5,
          -45,
          -22.5,
          0,
          22.5,
          45,
          67.5,
          90,
          112.5,
          135,
          157.5,
          180,
          202.5,
          225,
          247.5,
          270
         ],
         "type": "scatterpolar"
        },
        {
         "fill": "toself",
         "name": "Curv 0.1",
         "r": [
          192.47881870877472,
          255.61229262442535,
          307.6758980611633,
          340.7437745352789,
          349.8595286827903,
          363.3397991205277,
          349.3498980611633,
          310.0192680391765,
          251.67381870877475,
          310.30029262442537,
          349.53092264641214,
          363.39379912052766,
          349.8565286827903,
          340.68477453527885,
          307.4908980611633,
          255.3292680391765
         ],
         "theta": [
          -90,
          -67.5,
          -45,
          -22.5,
          0,
          22.5,
          45,
          67.5,
          90,
          112.5,
          135,
          157.5,
          180,
          202.5,
          225,
          247.5,
          270
         ],
         "type": "scatterpolar"
        },
        {
         "fill": "toself",
         "name": "Curv 0.15",
         "r": [
          212.042056,
          305.61699999999996,
          380.510208,
          425.31842,
          433.33806,
          447.90545599999996,
          422.12817199999995,
          359.929964,
          271.286056,
          360.351,
          422.400208,
          447.98745599999995,
          433.33602399999995,
          425.23142,
          380.233208,
          305.193964
         ],
         "theta": [
          -90,
          -67.5,
          -45,
          -22.5,
          0,
          22.5,
          45,
          67.5,
          90,
          112.5,
          135,
          157.5,
          180,
          202.5,
          225,
          247.5,
          270
         ],
         "type": "scatterpolar"
        },
        {
         "fill": "toself",
         "name": "Curv 0.2",
         "r": [
          231.596,
          355.599,
          453.309,
          509.852,
          516.777,
          532.431,
          494.871,
          409.816,
          290.89,
          410.378,
          495.234,
          532.541,
          516.775,
          509.737,
          452.942,
          355.035
         ],
         "theta": [
          -90,
          -67.5,
          -45,
          -22.5,
          0,
          22.5,
          45,
          67.5,
          90,
          112.5,
          135,
          157.5,
          180,
          202.5,
          225,
          247.5,
          270
         ],
         "type": "scatterpolar"
        }
       ],
       "layout": {
        "autosize": false,
        "font": {
         "color": "white"
        },
        "height": 800,
        "polar": {
         "radialaxis": {
          "range": [
           0,
           600
          ],
          "visible": true
         }
        },
        "showlegend": true,
        "template": {
         "data": {
          "bar": [
           {
            "error_x": {
             "color": "#2a3f5f"
            },
            "error_y": {
             "color": "#2a3f5f"
            },
            "marker": {
             "line": {
              "color": "#E5ECF6",
              "width": 0.5
             },
             "pattern": {
              "fillmode": "overlay",
              "size": 10,
              "solidity": 0.2
             }
            },
            "type": "bar"
           }
          ],
          "barpolar": [
           {
            "marker": {
             "line": {
              "color": "#E5ECF6",
              "width": 0.5
             },
             "pattern": {
              "fillmode": "overlay",
              "size": 10,
              "solidity": 0.2
             }
            },
            "type": "barpolar"
           }
          ],
          "carpet": [
           {
            "aaxis": {
             "endlinecolor": "#2a3f5f",
             "gridcolor": "white",
             "linecolor": "white",
             "minorgridcolor": "white",
             "startlinecolor": "#2a3f5f"
            },
            "baxis": {
             "endlinecolor": "#2a3f5f",
             "gridcolor": "white",
             "linecolor": "white",
             "minorgridcolor": "white",
             "startlinecolor": "#2a3f5f"
            },
            "type": "carpet"
           }
          ],
          "choropleth": [
           {
            "colorbar": {
             "outlinewidth": 0,
             "ticks": ""
            },
            "type": "choropleth"
           }
          ],
          "contour": [
           {
            "colorbar": {
             "outlinewidth": 0,
             "ticks": ""
            },
            "colorscale": [
             [
              0,
              "#0d0887"
             ],
             [
              0.1111111111111111,
              "#46039f"
             ],
             [
              0.2222222222222222,
              "#7201a8"
             ],
             [
              0.3333333333333333,
              "#9c179e"
             ],
             [
              0.4444444444444444,
              "#bd3786"
             ],
             [
              0.5555555555555556,
              "#d8576b"
             ],
             [
              0.6666666666666666,
              "#ed7953"
             ],
             [
              0.7777777777777778,
              "#fb9f3a"
             ],
             [
              0.8888888888888888,
              "#fdca26"
             ],
             [
              1,
              "#f0f921"
             ]
            ],
            "type": "contour"
           }
          ],
          "contourcarpet": [
           {
            "colorbar": {
             "outlinewidth": 0,
             "ticks": ""
            },
            "type": "contourcarpet"
           }
          ],
          "heatmap": [
           {
            "colorbar": {
             "outlinewidth": 0,
             "ticks": ""
            },
            "colorscale": [
             [
              0,
              "#0d0887"
             ],
             [
              0.1111111111111111,
              "#46039f"
             ],
             [
              0.2222222222222222,
              "#7201a8"
             ],
             [
              0.3333333333333333,
              "#9c179e"
             ],
             [
              0.4444444444444444,
              "#bd3786"
             ],
             [
              0.5555555555555556,
              "#d8576b"
             ],
             [
              0.6666666666666666,
              "#ed7953"
             ],
             [
              0.7777777777777778,
              "#fb9f3a"
             ],
             [
              0.8888888888888888,
              "#fdca26"
             ],
             [
              1,
              "#f0f921"
             ]
            ],
            "type": "heatmap"
           }
          ],
          "heatmapgl": [
           {
            "colorbar": {
             "outlinewidth": 0,
             "ticks": ""
            },
            "colorscale": [
             [
              0,
              "#0d0887"
             ],
             [
              0.1111111111111111,
              "#46039f"
             ],
             [
              0.2222222222222222,
              "#7201a8"
             ],
             [
              0.3333333333333333,
              "#9c179e"
             ],
             [
              0.4444444444444444,
              "#bd3786"
             ],
             [
              0.5555555555555556,
              "#d8576b"
             ],
             [
              0.6666666666666666,
              "#ed7953"
             ],
             [
              0.7777777777777778,
              "#fb9f3a"
             ],
             [
              0.8888888888888888,
              "#fdca26"
             ],
             [
              1,
              "#f0f921"
             ]
            ],
            "type": "heatmapgl"
           }
          ],
          "histogram": [
           {
            "marker": {
             "pattern": {
              "fillmode": "overlay",
              "size": 10,
              "solidity": 0.2
             }
            },
            "type": "histogram"
           }
          ],
          "histogram2d": [
           {
            "colorbar": {
             "outlinewidth": 0,
             "ticks": ""
            },
            "colorscale": [
             [
              0,
              "#0d0887"
             ],
             [
              0.1111111111111111,
              "#46039f"
             ],
             [
              0.2222222222222222,
              "#7201a8"
             ],
             [
              0.3333333333333333,
              "#9c179e"
             ],
             [
              0.4444444444444444,
              "#bd3786"
             ],
             [
              0.5555555555555556,
              "#d8576b"
             ],
             [
              0.6666666666666666,
              "#ed7953"
             ],
             [
              0.7777777777777778,
              "#fb9f3a"
             ],
             [
              0.8888888888888888,
              "#fdca26"
             ],
             [
              1,
              "#f0f921"
             ]
            ],
            "type": "histogram2d"
           }
          ],
          "histogram2dcontour": [
           {
            "colorbar": {
             "outlinewidth": 0,
             "ticks": ""
            },
            "colorscale": [
             [
              0,
              "#0d0887"
             ],
             [
              0.1111111111111111,
              "#46039f"
             ],
             [
              0.2222222222222222,
              "#7201a8"
             ],
             [
              0.3333333333333333,
              "#9c179e"
             ],
             [
              0.4444444444444444,
              "#bd3786"
             ],
             [
              0.5555555555555556,
              "#d8576b"
             ],
             [
              0.6666666666666666,
              "#ed7953"
             ],
             [
              0.7777777777777778,
              "#fb9f3a"
             ],
             [
              0.8888888888888888,
              "#fdca26"
             ],
             [
              1,
              "#f0f921"
             ]
            ],
            "type": "histogram2dcontour"
           }
          ],
          "mesh3d": [
           {
            "colorbar": {
             "outlinewidth": 0,
             "ticks": ""
            },
            "type": "mesh3d"
           }
          ],
          "parcoords": [
           {
            "line": {
             "colorbar": {
              "outlinewidth": 0,
              "ticks": ""
             }
            },
            "type": "parcoords"
           }
          ],
          "pie": [
           {
            "automargin": true,
            "type": "pie"
           }
          ],
          "scatter": [
           {
            "marker": {
             "colorbar": {
              "outlinewidth": 0,
              "ticks": ""
             }
            },
            "type": "scatter"
           }
          ],
          "scatter3d": [
           {
            "line": {
             "colorbar": {
              "outlinewidth": 0,
              "ticks": ""
             }
            },
            "marker": {
             "colorbar": {
              "outlinewidth": 0,
              "ticks": ""
             }
            },
            "type": "scatter3d"
           }
          ],
          "scattercarpet": [
           {
            "marker": {
             "colorbar": {
              "outlinewidth": 0,
              "ticks": ""
             }
            },
            "type": "scattercarpet"
           }
          ],
          "scattergeo": [
           {
            "marker": {
             "colorbar": {
              "outlinewidth": 0,
              "ticks": ""
             }
            },
            "type": "scattergeo"
           }
          ],
          "scattergl": [
           {
            "marker": {
             "colorbar": {
              "outlinewidth": 0,
              "ticks": ""
             }
            },
            "type": "scattergl"
           }
          ],
          "scattermapbox": [
           {
            "marker": {
             "colorbar": {
              "outlinewidth": 0,
              "ticks": ""
             }
            },
            "type": "scattermapbox"
           }
          ],
          "scatterpolar": [
           {
            "marker": {
             "colorbar": {
              "outlinewidth": 0,
              "ticks": ""
             }
            },
            "type": "scatterpolar"
           }
          ],
          "scatterpolargl": [
           {
            "marker": {
             "colorbar": {
              "outlinewidth": 0,
              "ticks": ""
             }
            },
            "type": "scatterpolargl"
           }
          ],
          "scatterternary": [
           {
            "marker": {
             "colorbar": {
              "outlinewidth": 0,
              "ticks": ""
             }
            },
            "type": "scatterternary"
           }
          ],
          "surface": [
           {
            "colorbar": {
             "outlinewidth": 0,
             "ticks": ""
            },
            "colorscale": [
             [
              0,
              "#0d0887"
             ],
             [
              0.1111111111111111,
              "#46039f"
             ],
             [
              0.2222222222222222,
              "#7201a8"
             ],
             [
              0.3333333333333333,
              "#9c179e"
             ],
             [
              0.4444444444444444,
              "#bd3786"
             ],
             [
              0.5555555555555556,
              "#d8576b"
             ],
             [
              0.6666666666666666,
              "#ed7953"
             ],
             [
              0.7777777777777778,
              "#fb9f3a"
             ],
             [
              0.8888888888888888,
              "#fdca26"
             ],
             [
              1,
              "#f0f921"
             ]
            ],
            "type": "surface"
           }
          ],
          "table": [
           {
            "cells": {
             "fill": {
              "color": "#EBF0F8"
             },
             "line": {
              "color": "white"
             }
            },
            "header": {
             "fill": {
              "color": "#C8D4E3"
             },
             "line": {
              "color": "white"
             }
            },
            "type": "table"
           }
          ]
         },
         "layout": {
          "annotationdefaults": {
           "arrowcolor": "#2a3f5f",
           "arrowhead": 0,
           "arrowwidth": 1
          },
          "autotypenumbers": "strict",
          "coloraxis": {
           "colorbar": {
            "outlinewidth": 0,
            "ticks": ""
           }
          },
          "colorscale": {
           "diverging": [
            [
             0,
             "#8e0152"
            ],
            [
             0.1,
             "#c51b7d"
            ],
            [
             0.2,
             "#de77ae"
            ],
            [
             0.3,
             "#f1b6da"
            ],
            [
             0.4,
             "#fde0ef"
            ],
            [
             0.5,
             "#f7f7f7"
            ],
            [
             0.6,
             "#e6f5d0"
            ],
            [
             0.7,
             "#b8e186"
            ],
            [
             0.8,
             "#7fbc41"
            ],
            [
             0.9,
             "#4d9221"
            ],
            [
             1,
             "#276419"
            ]
           ],
           "sequential": [
            [
             0,
             "#0d0887"
            ],
            [
             0.1111111111111111,
             "#46039f"
            ],
            [
             0.2222222222222222,
             "#7201a8"
            ],
            [
             0.3333333333333333,
             "#9c179e"
            ],
            [
             0.4444444444444444,
             "#bd3786"
            ],
            [
             0.5555555555555556,
             "#d8576b"
            ],
            [
             0.6666666666666666,
             "#ed7953"
            ],
            [
             0.7777777777777778,
             "#fb9f3a"
            ],
            [
             0.8888888888888888,
             "#fdca26"
            ],
            [
             1,
             "#f0f921"
            ]
           ],
           "sequentialminus": [
            [
             0,
             "#0d0887"
            ],
            [
             0.1111111111111111,
             "#46039f"
            ],
            [
             0.2222222222222222,
             "#7201a8"
            ],
            [
             0.3333333333333333,
             "#9c179e"
            ],
            [
             0.4444444444444444,
             "#bd3786"
            ],
            [
             0.5555555555555556,
             "#d8576b"
            ],
            [
             0.6666666666666666,
             "#ed7953"
            ],
            [
             0.7777777777777778,
             "#fb9f3a"
            ],
            [
             0.8888888888888888,
             "#fdca26"
            ],
            [
             1,
             "#f0f921"
            ]
           ]
          },
          "colorway": [
           "#636efa",
           "#EF553B",
           "#00cc96",
           "#ab63fa",
           "#FFA15A",
           "#19d3f3",
           "#FF6692",
           "#B6E880",
           "#FF97FF",
           "#FECB52"
          ],
          "font": {
           "color": "#2a3f5f"
          },
          "geo": {
           "bgcolor": "white",
           "lakecolor": "white",
           "landcolor": "#E5ECF6",
           "showlakes": true,
           "showland": true,
           "subunitcolor": "white"
          },
          "hoverlabel": {
           "align": "left"
          },
          "hovermode": "closest",
          "mapbox": {
           "style": "light"
          },
          "paper_bgcolor": "rgba(0,0,0,0)",
          "plot_bgcolor": "rgba(0,0,0,0)",
          "polar": {
           "angularaxis": {
            "gridcolor": "white",
            "linecolor": "white",
            "ticks": ""
           },
           "bgcolor": "#E5ECF6",
           "radialaxis": {
            "gridcolor": "white",
            "linecolor": "white",
            "ticks": ""
           }
          },
          "scene": {
           "xaxis": {
            "backgroundcolor": "#E5ECF6",
            "gridcolor": "white",
            "gridwidth": 2,
            "linecolor": "white",
            "showbackground": true,
            "ticks": "",
            "zerolinecolor": "white"
           },
           "yaxis": {
            "backgroundcolor": "#E5ECF6",
            "gridcolor": "white",
            "gridwidth": 2,
            "linecolor": "white",
            "showbackground": true,
            "ticks": "",
            "zerolinecolor": "white"
           },
           "zaxis": {
            "backgroundcolor": "#E5ECF6",
            "gridcolor": "white",
            "gridwidth": 2,
            "linecolor": "white",
            "showbackground": true,
            "ticks": "",
            "zerolinecolor": "white"
           }
          },
          "shapedefaults": {
           "line": {
            "color": "#2a3f5f"
           }
          },
          "ternary": {
           "aaxis": {
            "gridcolor": "white",
            "linecolor": "white",
            "ticks": ""
           },
           "baxis": {
            "gridcolor": "white",
            "linecolor": "white",
            "ticks": ""
           },
           "bgcolor": "#E5ECF6",
           "caxis": {
            "gridcolor": "white",
            "linecolor": "white",
            "ticks": ""
           }
          },
          "title": {
           "x": 0.05
          },
          "xaxis": {
           "automargin": true,
           "gridcolor": "white",
           "linecolor": "white",
           "ticks": "",
           "title": {
            "standoff": 15
           },
           "zerolinecolor": "white",
           "zerolinewidth": 2
          },
          "yaxis": {
           "automargin": true,
           "gridcolor": "white",
           "linecolor": "white",
           "ticks": "",
           "title": {
            "standoff": 15
           },
           "zerolinecolor": "white",
           "zerolinewidth": 2
          }
         }
        },
        "title": {
         "text": "Stress BFLEX"
        },
        "width": 1000
       }
      },
      "text/html": [
       "<div>                            <div id=\"1e603c76-3b86-4de6-b02a-c60d636d4cb8\" class=\"plotly-graph-div\" style=\"height:800px; width:1000px;\"></div>            <script type=\"text/javascript\">                require([\"plotly\"], function(Plotly) {                    window.PLOTLYENV=window.PLOTLYENV || {};                                    if (document.getElementById(\"1e603c76-3b86-4de6-b02a-c60d636d4cb8\")) {                    Plotly.newPlot(                        \"1e603c76-3b86-4de6-b02a-c60d636d4cb8\",                        [{\"fill\":\"toself\",\"name\":\"Curv 0.0\",\"r\":[182.899,182.899,182.899,182.899,182.899,182.899,182.899,182.899,182.899,182.899,182.899,182.899,182.899,182.899,182.899,182.899],\"theta\":[-90.0,-67.5,-45.0,-22.5,0.0,22.5,45.0,67.5,90.0,112.5,135.0,157.5,180.0,202.5,225.0,247.5,270.0],\"type\":\"scatterpolar\"},{\"fill\":\"toself\",\"name\":\"Curv 0.05\",\"r\":[172.91537947589518,205.60710122024406,234.84188337667533,256.16832326465294,266.38018903780755,278.77431106221246,276.5718833766753,260.10908901780357,232.06039167833566,260.24910122024403,276.6608955791158,278.7993232646529,266.37718903780757,256.13732326465293,234.74788337667533,205.46508901780356],\"theta\":[-90.0,-67.5,-45.0,-22.5,0.0,22.5,45.0,67.5,90.0,112.5,135.0,157.5,180.0,202.5,225.0,247.5,270.0],\"type\":\"scatterpolar\"},{\"fill\":\"toself\",\"name\":\"Curv 0.1\",\"r\":[192.47881870877472,255.61229262442535,307.6758980611633,340.7437745352789,349.8595286827903,363.3397991205277,349.3498980611633,310.0192680391765,251.67381870877475,310.30029262442537,349.53092264641214,363.39379912052766,349.8565286827903,340.68477453527885,307.4908980611633,255.3292680391765],\"theta\":[-90.0,-67.5,-45.0,-22.5,0.0,22.5,45.0,67.5,90.0,112.5,135.0,157.5,180.0,202.5,225.0,247.5,270.0],\"type\":\"scatterpolar\"},{\"fill\":\"toself\",\"name\":\"Curv 0.15\",\"r\":[212.042056,305.61699999999996,380.510208,425.31842,433.33806,447.90545599999996,422.12817199999995,359.929964,271.286056,360.351,422.400208,447.98745599999995,433.33602399999995,425.23142,380.233208,305.193964],\"theta\":[-90.0,-67.5,-45.0,-22.5,0.0,22.5,45.0,67.5,90.0,112.5,135.0,157.5,180.0,202.5,225.0,247.5,270.0],\"type\":\"scatterpolar\"},{\"fill\":\"toself\",\"name\":\"Curv 0.2\",\"r\":[231.596,355.599,453.309,509.852,516.777,532.431,494.871,409.816,290.89,410.378,495.234,532.541,516.775,509.737,452.942,355.035],\"theta\":[-90.0,-67.5,-45.0,-22.5,0.0,22.5,45.0,67.5,90.0,112.5,135.0,157.5,180.0,202.5,225.0,247.5,270.0],\"type\":\"scatterpolar\"}],                        {\"template\":{\"data\":{\"barpolar\":[{\"marker\":{\"line\":{\"color\":\"#E5ECF6\",\"width\":0.5},\"pattern\":{\"fillmode\":\"overlay\",\"size\":10,\"solidity\":0.2}},\"type\":\"barpolar\"}],\"bar\":[{\"error_x\":{\"color\":\"#2a3f5f\"},\"error_y\":{\"color\":\"#2a3f5f\"},\"marker\":{\"line\":{\"color\":\"#E5ECF6\",\"width\":0.5},\"pattern\":{\"fillmode\":\"overlay\",\"size\":10,\"solidity\":0.2}},\"type\":\"bar\"}],\"carpet\":[{\"aaxis\":{\"endlinecolor\":\"#2a3f5f\",\"gridcolor\":\"white\",\"linecolor\":\"white\",\"minorgridcolor\":\"white\",\"startlinecolor\":\"#2a3f5f\"},\"baxis\":{\"endlinecolor\":\"#2a3f5f\",\"gridcolor\":\"white\",\"linecolor\":\"white\",\"minorgridcolor\":\"white\",\"startlinecolor\":\"#2a3f5f\"},\"type\":\"carpet\"}],\"choropleth\":[{\"colorbar\":{\"outlinewidth\":0,\"ticks\":\"\"},\"type\":\"choropleth\"}],\"contourcarpet\":[{\"colorbar\":{\"outlinewidth\":0,\"ticks\":\"\"},\"type\":\"contourcarpet\"}],\"contour\":[{\"colorbar\":{\"outlinewidth\":0,\"ticks\":\"\"},\"colorscale\":[[0.0,\"#0d0887\"],[0.1111111111111111,\"#46039f\"],[0.2222222222222222,\"#7201a8\"],[0.3333333333333333,\"#9c179e\"],[0.4444444444444444,\"#bd3786\"],[0.5555555555555556,\"#d8576b\"],[0.6666666666666666,\"#ed7953\"],[0.7777777777777778,\"#fb9f3a\"],[0.8888888888888888,\"#fdca26\"],[1.0,\"#f0f921\"]],\"type\":\"contour\"}],\"heatmapgl\":[{\"colorbar\":{\"outlinewidth\":0,\"ticks\":\"\"},\"colorscale\":[[0.0,\"#0d0887\"],[0.1111111111111111,\"#46039f\"],[0.2222222222222222,\"#7201a8\"],[0.3333333333333333,\"#9c179e\"],[0.4444444444444444,\"#bd3786\"],[0.5555555555555556,\"#d8576b\"],[0.6666666666666666,\"#ed7953\"],[0.7777777777777778,\"#fb9f3a\"],[0.8888888888888888,\"#fdca26\"],[1.0,\"#f0f921\"]],\"type\":\"heatmapgl\"}],\"heatmap\":[{\"colorbar\":{\"outlinewidth\":0,\"ticks\":\"\"},\"colorscale\":[[0.0,\"#0d0887\"],[0.1111111111111111,\"#46039f\"],[0.2222222222222222,\"#7201a8\"],[0.3333333333333333,\"#9c179e\"],[0.4444444444444444,\"#bd3786\"],[0.5555555555555556,\"#d8576b\"],[0.6666666666666666,\"#ed7953\"],[0.7777777777777778,\"#fb9f3a\"],[0.8888888888888888,\"#fdca26\"],[1.0,\"#f0f921\"]],\"type\":\"heatmap\"}],\"histogram2dcontour\":[{\"colorbar\":{\"outlinewidth\":0,\"ticks\":\"\"},\"colorscale\":[[0.0,\"#0d0887\"],[0.1111111111111111,\"#46039f\"],[0.2222222222222222,\"#7201a8\"],[0.3333333333333333,\"#9c179e\"],[0.4444444444444444,\"#bd3786\"],[0.5555555555555556,\"#d8576b\"],[0.6666666666666666,\"#ed7953\"],[0.7777777777777778,\"#fb9f3a\"],[0.8888888888888888,\"#fdca26\"],[1.0,\"#f0f921\"]],\"type\":\"histogram2dcontour\"}],\"histogram2d\":[{\"colorbar\":{\"outlinewidth\":0,\"ticks\":\"\"},\"colorscale\":[[0.0,\"#0d0887\"],[0.1111111111111111,\"#46039f\"],[0.2222222222222222,\"#7201a8\"],[0.3333333333333333,\"#9c179e\"],[0.4444444444444444,\"#bd3786\"],[0.5555555555555556,\"#d8576b\"],[0.6666666666666666,\"#ed7953\"],[0.7777777777777778,\"#fb9f3a\"],[0.8888888888888888,\"#fdca26\"],[1.0,\"#f0f921\"]],\"type\":\"histogram2d\"}],\"histogram\":[{\"marker\":{\"pattern\":{\"fillmode\":\"overlay\",\"size\":10,\"solidity\":0.2}},\"type\":\"histogram\"}],\"mesh3d\":[{\"colorbar\":{\"outlinewidth\":0,\"ticks\":\"\"},\"type\":\"mesh3d\"}],\"parcoords\":[{\"line\":{\"colorbar\":{\"outlinewidth\":0,\"ticks\":\"\"}},\"type\":\"parcoords\"}],\"pie\":[{\"automargin\":true,\"type\":\"pie\"}],\"scatter3d\":[{\"line\":{\"colorbar\":{\"outlinewidth\":0,\"ticks\":\"\"}},\"marker\":{\"colorbar\":{\"outlinewidth\":0,\"ticks\":\"\"}},\"type\":\"scatter3d\"}],\"scattercarpet\":[{\"marker\":{\"colorbar\":{\"outlinewidth\":0,\"ticks\":\"\"}},\"type\":\"scattercarpet\"}],\"scattergeo\":[{\"marker\":{\"colorbar\":{\"outlinewidth\":0,\"ticks\":\"\"}},\"type\":\"scattergeo\"}],\"scattergl\":[{\"marker\":{\"colorbar\":{\"outlinewidth\":0,\"ticks\":\"\"}},\"type\":\"scattergl\"}],\"scattermapbox\":[{\"marker\":{\"colorbar\":{\"outlinewidth\":0,\"ticks\":\"\"}},\"type\":\"scattermapbox\"}],\"scatterpolargl\":[{\"marker\":{\"colorbar\":{\"outlinewidth\":0,\"ticks\":\"\"}},\"type\":\"scatterpolargl\"}],\"scatterpolar\":[{\"marker\":{\"colorbar\":{\"outlinewidth\":0,\"ticks\":\"\"}},\"type\":\"scatterpolar\"}],\"scatter\":[{\"marker\":{\"colorbar\":{\"outlinewidth\":0,\"ticks\":\"\"}},\"type\":\"scatter\"}],\"scatterternary\":[{\"marker\":{\"colorbar\":{\"outlinewidth\":0,\"ticks\":\"\"}},\"type\":\"scatterternary\"}],\"surface\":[{\"colorbar\":{\"outlinewidth\":0,\"ticks\":\"\"},\"colorscale\":[[0.0,\"#0d0887\"],[0.1111111111111111,\"#46039f\"],[0.2222222222222222,\"#7201a8\"],[0.3333333333333333,\"#9c179e\"],[0.4444444444444444,\"#bd3786\"],[0.5555555555555556,\"#d8576b\"],[0.6666666666666666,\"#ed7953\"],[0.7777777777777778,\"#fb9f3a\"],[0.8888888888888888,\"#fdca26\"],[1.0,\"#f0f921\"]],\"type\":\"surface\"}],\"table\":[{\"cells\":{\"fill\":{\"color\":\"#EBF0F8\"},\"line\":{\"color\":\"white\"}},\"header\":{\"fill\":{\"color\":\"#C8D4E3\"},\"line\":{\"color\":\"white\"}},\"type\":\"table\"}]},\"layout\":{\"annotationdefaults\":{\"arrowcolor\":\"#2a3f5f\",\"arrowhead\":0,\"arrowwidth\":1},\"autotypenumbers\":\"strict\",\"coloraxis\":{\"colorbar\":{\"outlinewidth\":0,\"ticks\":\"\"}},\"colorscale\":{\"diverging\":[[0,\"#8e0152\"],[0.1,\"#c51b7d\"],[0.2,\"#de77ae\"],[0.3,\"#f1b6da\"],[0.4,\"#fde0ef\"],[0.5,\"#f7f7f7\"],[0.6,\"#e6f5d0\"],[0.7,\"#b8e186\"],[0.8,\"#7fbc41\"],[0.9,\"#4d9221\"],[1,\"#276419\"]],\"sequential\":[[0.0,\"#0d0887\"],[0.1111111111111111,\"#46039f\"],[0.2222222222222222,\"#7201a8\"],[0.3333333333333333,\"#9c179e\"],[0.4444444444444444,\"#bd3786\"],[0.5555555555555556,\"#d8576b\"],[0.6666666666666666,\"#ed7953\"],[0.7777777777777778,\"#fb9f3a\"],[0.8888888888888888,\"#fdca26\"],[1.0,\"#f0f921\"]],\"sequentialminus\":[[0.0,\"#0d0887\"],[0.1111111111111111,\"#46039f\"],[0.2222222222222222,\"#7201a8\"],[0.3333333333333333,\"#9c179e\"],[0.4444444444444444,\"#bd3786\"],[0.5555555555555556,\"#d8576b\"],[0.6666666666666666,\"#ed7953\"],[0.7777777777777778,\"#fb9f3a\"],[0.8888888888888888,\"#fdca26\"],[1.0,\"#f0f921\"]]},\"colorway\":[\"#636efa\",\"#EF553B\",\"#00cc96\",\"#ab63fa\",\"#FFA15A\",\"#19d3f3\",\"#FF6692\",\"#B6E880\",\"#FF97FF\",\"#FECB52\"],\"font\":{\"color\":\"#2a3f5f\"},\"geo\":{\"bgcolor\":\"white\",\"lakecolor\":\"white\",\"landcolor\":\"#E5ECF6\",\"showlakes\":true,\"showland\":true,\"subunitcolor\":\"white\"},\"hoverlabel\":{\"align\":\"left\"},\"hovermode\":\"closest\",\"mapbox\":{\"style\":\"light\"},\"paper_bgcolor\":\"rgba(0,0,0,0)\",\"plot_bgcolor\":\"rgba(0,0,0,0)\",\"polar\":{\"angularaxis\":{\"gridcolor\":\"white\",\"linecolor\":\"white\",\"ticks\":\"\"},\"bgcolor\":\"#E5ECF6\",\"radialaxis\":{\"gridcolor\":\"white\",\"linecolor\":\"white\",\"ticks\":\"\"}},\"scene\":{\"xaxis\":{\"backgroundcolor\":\"#E5ECF6\",\"gridcolor\":\"white\",\"gridwidth\":2,\"linecolor\":\"white\",\"showbackground\":true,\"ticks\":\"\",\"zerolinecolor\":\"white\"},\"yaxis\":{\"backgroundcolor\":\"#E5ECF6\",\"gridcolor\":\"white\",\"gridwidth\":2,\"linecolor\":\"white\",\"showbackground\":true,\"ticks\":\"\",\"zerolinecolor\":\"white\"},\"zaxis\":{\"backgroundcolor\":\"#E5ECF6\",\"gridcolor\":\"white\",\"gridwidth\":2,\"linecolor\":\"white\",\"showbackground\":true,\"ticks\":\"\",\"zerolinecolor\":\"white\"}},\"shapedefaults\":{\"line\":{\"color\":\"#2a3f5f\"}},\"ternary\":{\"aaxis\":{\"gridcolor\":\"white\",\"linecolor\":\"white\",\"ticks\":\"\"},\"baxis\":{\"gridcolor\":\"white\",\"linecolor\":\"white\",\"ticks\":\"\"},\"bgcolor\":\"#E5ECF6\",\"caxis\":{\"gridcolor\":\"white\",\"linecolor\":\"white\",\"ticks\":\"\"}},\"title\":{\"x\":0.05},\"xaxis\":{\"automargin\":true,\"gridcolor\":\"white\",\"linecolor\":\"white\",\"ticks\":\"\",\"title\":{\"standoff\":15},\"zerolinecolor\":\"white\",\"zerolinewidth\":2},\"yaxis\":{\"automargin\":true,\"gridcolor\":\"white\",\"linecolor\":\"white\",\"ticks\":\"\",\"title\":{\"standoff\":15},\"zerolinecolor\":\"white\",\"zerolinewidth\":2}}},\"polar\":{\"radialaxis\":{\"visible\":true,\"range\":[0,600]}},\"showlegend\":true,\"font\":{\"color\":\"white\"},\"title\":{\"text\":\"Stress BFLEX\"},\"autosize\":false,\"width\":1000,\"height\":800},                        {\"responsive\": true}                    ).then(function(){\n",
       "                            \n",
       "var gd = document.getElementById('1e603c76-3b86-4de6-b02a-c60d636d4cb8');\n",
       "var x = new MutationObserver(function (mutations, observer) {{\n",
       "        var display = window.getComputedStyle(gd).display;\n",
       "        if (!display || display === 'none') {{\n",
       "            console.log([gd, 'removed!']);\n",
       "            Plotly.purge(gd);\n",
       "            observer.disconnect();\n",
       "        }}\n",
       "}});\n",
       "\n",
       "// Listen for the removal of the full notebook cells\n",
       "var notebookContainer = gd.closest('#notebook-container');\n",
       "if (notebookContainer) {{\n",
       "    x.observe(notebookContainer, {childList: true});\n",
       "}}\n",
       "\n",
       "// Listen for the clearing of the current output cell\n",
       "var outputEl = gd.closest('.output');\n",
       "if (outputEl) {{\n",
       "    x.observe(outputEl, {childList: true});\n",
       "}}\n",
       "\n",
       "                        })                };                });            </script>        </div>"
      ]
     },
     "metadata": {},
     "output_type": "display_data"
    }
   ],
   "source": [
    "# Plotting\n",
    "fig_bf = go.Figure()\n",
    "\n",
    "for inc in range(0, 21, 5):\n",
    "    fig_bf.add_trace(go.Scatterpolar(r=df.iloc[inc, 1:],\n",
    "                                  theta=[-90 + 22.5*i for i in range(0, 17, 1)],\n",
    "                                  fill='toself',\n",
    "                                  name=f'Curv {df.curv.loc[inc]}'\n",
    "                                  ))\n",
    "\n",
    "fig_bf.update_layout(\n",
    "    polar=dict(\n",
    "        radialaxis=dict(\n",
    "            visible=True,\n",
    "            range=[0, 600]\n",
    "        )),\n",
    "    showlegend=True\n",
    ")\n",
    "\n",
    "fig_bf.update_layout(title='Stress BFLEX',\n",
    "                  autosize=False,\n",
    "                  font=dict(color='white'),\n",
    "                  width=1000, height=800)\n",
    "\n",
    "fig_bf.show()"
   ]
  },
  {
   "cell_type": "markdown",
   "id": "2444f3b1",
   "metadata": {},
   "source": [
    "### Marc"
   ]
  },
  {
   "cell_type": "markdown",
   "id": "7834217a",
   "metadata": {},
   "source": [
    "#### Stress"
   ]
  },
  {
   "cell_type": "code",
   "execution_count": 949,
   "id": "c99eb00f",
   "metadata": {},
   "outputs": [],
   "source": [
    "# Bad incs\n",
    "bad_incs = [26, 28, 29, 38, 39, 40, 46, 47, 51, 57, 64, 65, 67]\n",
    "\n",
    "# Read Marc files\n",
    "marc_dir = Path(r'\\\\nas-ask-001\\Projects\\1993_Pierce_GIR_fatigue\\Marc\\jupyter_notebook')\n",
    "marc_files = marc_dir.glob('*stresses_inner_ta_inc*[0-9].csv*')\n",
    "\n",
    "# Read list with coordinates per node\n",
    "df_list = pd.read_csv(marc_dir / 'angles.csv', delimiter='\\t').iloc[:,1:]\n",
    "df_list.drop('node_index', axis=1, inplace=True)\n",
    "\n",
    "# Iterate over files and create dataframe\n",
    "df = pd.DataFrame()\n",
    "\n",
    "for mf in marc_files:\n",
    "    # Read increment\n",
    "    inc = int(re.findall(r'\\d+', mf.stem)[0])\n",
    "\n",
    "    if inc in bad_incs:\n",
    "        continue\n",
    "    \n",
    "    # Read dataframe and add x, y and z coordinate\n",
    "    df_read = pd.read_csv(mf, index_col=None).iloc[:,1:]\n",
    "\n",
    "    if all(df_read['node'] == df_list['node_id']):\n",
    "        df_read = pd.concat([df_read, df_list[['z', 'theta']]], axis=1)\n",
    "\n",
    "    df = pd.concat([df, df_read], axis=0)\n",
    "\n",
    "df.sort_values(['inc', 'z', 'theta'], inplace=True)\n"
   ]
  },
  {
   "cell_type": "code",
   "execution_count": 994,
   "id": "9cc86f44",
   "metadata": {},
   "outputs": [],
   "source": [
    "df_marc = pd.DataFrame()\n",
    "\n",
    "for inc in range(0, 71, 1):\n",
    "    print(f'{inc/70*100:.0f} %')\n",
    "    if inc in bad_incs:\n",
    "        continue\n",
    "\n",
    "    dfn = df[df.inc==inc]\n",
    "\n",
    "    # Combine groups where difference in z positions is < 10 - check sort on z\n",
    "    dfn['diff_z'] = dfn.groupby(['inc'])['z'].diff().gt(10).cumsum()\n",
    "\n",
    "    # Sort dataframe based on diff_z and theta to allow .diff to work\n",
    "    dfn.sort_values(['diff_z', 'theta'], inplace=True)\n",
    "\n",
    "    # Combine groups where difference in theta is < 3\n",
    "    dfn['diff_th'] = dfn.groupby(['inc', 'diff_z'])['theta'].diff().gt(3).cumsum()\n",
    "\n",
    "    # Sort by diff and take max for each group\n",
    "    dfg = dfn.groupby(['diff_z', 'diff_th']).max()\n",
    "    dfg.reset_index(inplace=True)\n",
    "    dfg.drop(columns=['diff_z', 'diff_th'], inplace=True)\n",
    "\n",
    "    # dfg = dfn.groupby(['inc', 'z', 'diff']).max()\n",
    "    # dfg.reset_index(inplace=True)\n",
    "    # dfg.drop(['diff'], axis=1, inplace=True)\n",
    "\n",
    "    df_marc = pd.concat([df_marc, dfg], axis=0)\n",
    "    clear_output(wait=True)\n",
    "\n",
    "# Round z\n",
    "df_marc['z'] = [int(i) for i in np.round(list(df_marc['z']))]\n",
    "df_marc['inc'] = [int(i) for i in df_marc['inc']]\n",
    "df_marc['node'] = [int(i) for i in df_marc['node']]\n",
    "\n",
    "# Space saving\n",
    "df_marc = df_marc.astype({'theta': 'float32', 'stress': 'float32'})\n",
    "clear_output()"
   ]
  },
  {
   "cell_type": "code",
   "execution_count": 1012,
   "id": "a50ff007",
   "metadata": {},
   "outputs": [
    {
     "data": {
      "application/vnd.plotly.v1+json": {
       "config": {
        "plotlyServerURL": "https://plot.ly"
       },
       "data": [
        {
         "fill": "toself",
         "name": "Inc 10",
         "r": [
          175.3833770751953,
          175.45631408691406,
          175.40435791015625,
          175.38131713867188,
          175.44281005859375,
          175.4038543701172,
          175.4066162109375,
          175.36199951171875,
          175.40487670898438,
          175.43360900878906,
          175.38253784179688,
          175.39828491210938,
          175.41854858398438,
          175.38380432128906,
          175.41281127929688,
          175.37954711914062,
          175.3833770751953
         ],
         "theta": [
          5.7983856201171875,
          29.276647567749023,
          52.754905700683594,
          76.23316955566406,
          99.71142578125,
          123.18968963623047,
          146.66795349121094,
          170.14620971679688,
          193.6244659423828,
          217.1027374267578,
          240.58099365234375,
          264.05926513671875,
          287.5375061035156,
          311.0157775878906,
          334.4940490722656,
          357.9722900390625,
          5.7983856201171875
         ],
         "type": "scatterpolar"
        },
        {
         "fill": "toself",
         "name": "Inc 20",
         "r": [
          192.1562957763672,
          195.52127075195312,
          198.5533447265625,
          200.38377380371094,
          197.5049591064453,
          199.84214782714844,
          195.4650115966797,
          193.04641723632812,
          187.83236694335938,
          181.12684631347656,
          174.30136108398438,
          163.01910400390625,
          166.03887939453125,
          176.47177124023438,
          183.6813507080078,
          190.4564208984375,
          192.1562957763672
         ],
         "theta": [
          5.7983856201171875,
          29.276647567749023,
          52.754905700683594,
          76.23316955566406,
          99.71142578125,
          123.18968963623047,
          146.66795349121094,
          170.14620971679688,
          193.6244659423828,
          217.1027374267578,
          240.58099365234375,
          264.05926513671875,
          287.5375061035156,
          311.0157775878906,
          334.4940490722656,
          357.9722900390625,
          5.7983856201171875
         ],
         "type": "scatterpolar"
        },
        {
         "fill": "toself",
         "name": "Inc 30",
         "r": [
          218.9891357421875,
          220.74057006835938,
          222.27523803710938,
          217.2808380126953,
          222.19058227539062,
          227.07667541503906,
          227.88851928710938,
          224.24966430664062,
          217.91537475585938,
          204.9657745361328,
          185.6490020751953,
          157.57342529296875,
          169.15109252929688,
          188.80078125,
          206.84579467773438,
          216.98023986816406,
          218.9891357421875
         ],
         "theta": [
          5.7983856201171875,
          29.276647567749023,
          52.754905700683594,
          76.23316955566406,
          99.71142578125,
          123.18968963623047,
          146.66795349121094,
          170.14620971679688,
          193.6244659423828,
          217.1027374267578,
          240.58099365234375,
          264.05926513671875,
          287.5375061035156,
          311.0157775878906,
          334.4940490722656,
          357.9722900390625,
          5.7983856201171875
         ],
         "type": "scatterpolar"
        },
        {
         "fill": "toself",
         "name": "Inc 41",
         "r": [
          250.06700134277344,
          254.27117919921875,
          250.83447265625,
          234.273193359375,
          236.52151489257812,
          254.30743408203125,
          260.5274963378906,
          256.22216796875,
          250.5332794189453,
          234.46275329589844,
          206.8251953125,
          163.35433959960938,
          181.7757110595703,
          211.97642517089844,
          237.4620819091797,
          248.51634216308594,
          250.06700134277344
         ],
         "theta": [
          5.7983856201171875,
          29.276647567749023,
          52.754905700683594,
          76.23316955566406,
          99.71142578125,
          123.18968963623047,
          146.66795349121094,
          170.14620971679688,
          193.6244659423828,
          217.1027374267578,
          240.58099365234375,
          264.05926513671875,
          287.5375061035156,
          311.0157775878906,
          334.4940490722656,
          357.9722900390625,
          5.7983856201171875
         ],
         "type": "scatterpolar"
        },
        {
         "fill": "toself",
         "name": "Inc 50",
         "r": [
          275.041015625,
          281.59661865234375,
          275.94293212890625,
          249.82513427734375,
          248.7705078125,
          276.8830871582031,
          286.5934143066406,
          280.97149658203125,
          275.92230224609375,
          258.9258728027344,
          224.79556274414062,
          170.09765625,
          193.70655822753906,
          232.93136596679688,
          263.4920654296875,
          274.208984375,
          275.041015625
         ],
         "theta": [
          5.7983856201171875,
          29.276647567749023,
          52.754905700683594,
          76.23316955566406,
          99.71142578125,
          123.18968963623047,
          146.66795349121094,
          170.14620971679688,
          193.6244659423828,
          217.1027374267578,
          240.58099365234375,
          264.05926513671875,
          287.5375061035156,
          311.0157775878906,
          334.4940490722656,
          357.9722900390625,
          5.7983856201171875
         ],
         "type": "scatterpolar"
        },
        {
         "fill": "toself",
         "name": "Inc 60",
         "r": [
          301.5426330566406,
          312.11773681640625,
          303.3433532714844,
          268.4593811035156,
          262.0013427734375,
          300.4250793457031,
          313.4268798828125,
          306.50732421875,
          303.93359375,
          287.31842041015625,
          248.51803588867188,
          181.00717163085938,
          205.7232208251953,
          256.50030517578125,
          290.5025634765625,
          302.52703857421875,
          301.5426330566406
         ],
         "theta": [
          5.7983856201171875,
          29.276647567749023,
          52.754905700683594,
          76.23316955566406,
          99.71142578125,
          123.18968963623047,
          146.66795349121094,
          170.14620971679688,
          193.6244659423828,
          217.1027374267578,
          240.58099365234375,
          264.05926513671875,
          287.5375061035156,
          311.0157775878906,
          334.4940490722656,
          357.9722900390625,
          5.7983856201171875
         ],
         "type": "scatterpolar"
        },
        {
         "fill": "toself",
         "name": "Inc 70",
         "r": [
          328.72430419921875,
          343.101318359375,
          331.8262023925781,
          290.2765808105469,
          276.1375427246094,
          324.3443603515625,
          339.8721618652344,
          331.421875,
          333.086181640625,
          317.0916748046875,
          272.1589660644531,
          198.62301635742188,
          218.5900115966797,
          283.14892578125,
          319.3096923828125,
          330.13360595703125,
          328.72430419921875
         ],
         "theta": [
          5.7983856201171875,
          29.276647567749023,
          52.754905700683594,
          76.23316955566406,
          99.71142578125,
          123.18968963623047,
          146.66795349121094,
          170.14620971679688,
          193.6244659423828,
          217.1027374267578,
          240.58099365234375,
          264.05926513671875,
          287.5375061035156,
          311.0157775878906,
          334.4940490722656,
          357.9722900390625,
          5.7983856201171875
         ],
         "type": "scatterpolar"
        }
       ],
       "layout": {
        "autosize": false,
        "font": {
         "color": "white"
        },
        "height": 800,
        "polar": {
         "radialaxis": {
          "range": [
           0,
           500
          ],
          "visible": true
         }
        },
        "showlegend": true,
        "template": {
         "data": {
          "bar": [
           {
            "error_x": {
             "color": "#2a3f5f"
            },
            "error_y": {
             "color": "#2a3f5f"
            },
            "marker": {
             "line": {
              "color": "#E5ECF6",
              "width": 0.5
             },
             "pattern": {
              "fillmode": "overlay",
              "size": 10,
              "solidity": 0.2
             }
            },
            "type": "bar"
           }
          ],
          "barpolar": [
           {
            "marker": {
             "line": {
              "color": "#E5ECF6",
              "width": 0.5
             },
             "pattern": {
              "fillmode": "overlay",
              "size": 10,
              "solidity": 0.2
             }
            },
            "type": "barpolar"
           }
          ],
          "carpet": [
           {
            "aaxis": {
             "endlinecolor": "#2a3f5f",
             "gridcolor": "white",
             "linecolor": "white",
             "minorgridcolor": "white",
             "startlinecolor": "#2a3f5f"
            },
            "baxis": {
             "endlinecolor": "#2a3f5f",
             "gridcolor": "white",
             "linecolor": "white",
             "minorgridcolor": "white",
             "startlinecolor": "#2a3f5f"
            },
            "type": "carpet"
           }
          ],
          "choropleth": [
           {
            "colorbar": {
             "outlinewidth": 0,
             "ticks": ""
            },
            "type": "choropleth"
           }
          ],
          "contour": [
           {
            "colorbar": {
             "outlinewidth": 0,
             "ticks": ""
            },
            "colorscale": [
             [
              0,
              "#0d0887"
             ],
             [
              0.1111111111111111,
              "#46039f"
             ],
             [
              0.2222222222222222,
              "#7201a8"
             ],
             [
              0.3333333333333333,
              "#9c179e"
             ],
             [
              0.4444444444444444,
              "#bd3786"
             ],
             [
              0.5555555555555556,
              "#d8576b"
             ],
             [
              0.6666666666666666,
              "#ed7953"
             ],
             [
              0.7777777777777778,
              "#fb9f3a"
             ],
             [
              0.8888888888888888,
              "#fdca26"
             ],
             [
              1,
              "#f0f921"
             ]
            ],
            "type": "contour"
           }
          ],
          "contourcarpet": [
           {
            "colorbar": {
             "outlinewidth": 0,
             "ticks": ""
            },
            "type": "contourcarpet"
           }
          ],
          "heatmap": [
           {
            "colorbar": {
             "outlinewidth": 0,
             "ticks": ""
            },
            "colorscale": [
             [
              0,
              "#0d0887"
             ],
             [
              0.1111111111111111,
              "#46039f"
             ],
             [
              0.2222222222222222,
              "#7201a8"
             ],
             [
              0.3333333333333333,
              "#9c179e"
             ],
             [
              0.4444444444444444,
              "#bd3786"
             ],
             [
              0.5555555555555556,
              "#d8576b"
             ],
             [
              0.6666666666666666,
              "#ed7953"
             ],
             [
              0.7777777777777778,
              "#fb9f3a"
             ],
             [
              0.8888888888888888,
              "#fdca26"
             ],
             [
              1,
              "#f0f921"
             ]
            ],
            "type": "heatmap"
           }
          ],
          "heatmapgl": [
           {
            "colorbar": {
             "outlinewidth": 0,
             "ticks": ""
            },
            "colorscale": [
             [
              0,
              "#0d0887"
             ],
             [
              0.1111111111111111,
              "#46039f"
             ],
             [
              0.2222222222222222,
              "#7201a8"
             ],
             [
              0.3333333333333333,
              "#9c179e"
             ],
             [
              0.4444444444444444,
              "#bd3786"
             ],
             [
              0.5555555555555556,
              "#d8576b"
             ],
             [
              0.6666666666666666,
              "#ed7953"
             ],
             [
              0.7777777777777778,
              "#fb9f3a"
             ],
             [
              0.8888888888888888,
              "#fdca26"
             ],
             [
              1,
              "#f0f921"
             ]
            ],
            "type": "heatmapgl"
           }
          ],
          "histogram": [
           {
            "marker": {
             "pattern": {
              "fillmode": "overlay",
              "size": 10,
              "solidity": 0.2
             }
            },
            "type": "histogram"
           }
          ],
          "histogram2d": [
           {
            "colorbar": {
             "outlinewidth": 0,
             "ticks": ""
            },
            "colorscale": [
             [
              0,
              "#0d0887"
             ],
             [
              0.1111111111111111,
              "#46039f"
             ],
             [
              0.2222222222222222,
              "#7201a8"
             ],
             [
              0.3333333333333333,
              "#9c179e"
             ],
             [
              0.4444444444444444,
              "#bd3786"
             ],
             [
              0.5555555555555556,
              "#d8576b"
             ],
             [
              0.6666666666666666,
              "#ed7953"
             ],
             [
              0.7777777777777778,
              "#fb9f3a"
             ],
             [
              0.8888888888888888,
              "#fdca26"
             ],
             [
              1,
              "#f0f921"
             ]
            ],
            "type": "histogram2d"
           }
          ],
          "histogram2dcontour": [
           {
            "colorbar": {
             "outlinewidth": 0,
             "ticks": ""
            },
            "colorscale": [
             [
              0,
              "#0d0887"
             ],
             [
              0.1111111111111111,
              "#46039f"
             ],
             [
              0.2222222222222222,
              "#7201a8"
             ],
             [
              0.3333333333333333,
              "#9c179e"
             ],
             [
              0.4444444444444444,
              "#bd3786"
             ],
             [
              0.5555555555555556,
              "#d8576b"
             ],
             [
              0.6666666666666666,
              "#ed7953"
             ],
             [
              0.7777777777777778,
              "#fb9f3a"
             ],
             [
              0.8888888888888888,
              "#fdca26"
             ],
             [
              1,
              "#f0f921"
             ]
            ],
            "type": "histogram2dcontour"
           }
          ],
          "mesh3d": [
           {
            "colorbar": {
             "outlinewidth": 0,
             "ticks": ""
            },
            "type": "mesh3d"
           }
          ],
          "parcoords": [
           {
            "line": {
             "colorbar": {
              "outlinewidth": 0,
              "ticks": ""
             }
            },
            "type": "parcoords"
           }
          ],
          "pie": [
           {
            "automargin": true,
            "type": "pie"
           }
          ],
          "scatter": [
           {
            "marker": {
             "colorbar": {
              "outlinewidth": 0,
              "ticks": ""
             }
            },
            "type": "scatter"
           }
          ],
          "scatter3d": [
           {
            "line": {
             "colorbar": {
              "outlinewidth": 0,
              "ticks": ""
             }
            },
            "marker": {
             "colorbar": {
              "outlinewidth": 0,
              "ticks": ""
             }
            },
            "type": "scatter3d"
           }
          ],
          "scattercarpet": [
           {
            "marker": {
             "colorbar": {
              "outlinewidth": 0,
              "ticks": ""
             }
            },
            "type": "scattercarpet"
           }
          ],
          "scattergeo": [
           {
            "marker": {
             "colorbar": {
              "outlinewidth": 0,
              "ticks": ""
             }
            },
            "type": "scattergeo"
           }
          ],
          "scattergl": [
           {
            "marker": {
             "colorbar": {
              "outlinewidth": 0,
              "ticks": ""
             }
            },
            "type": "scattergl"
           }
          ],
          "scattermapbox": [
           {
            "marker": {
             "colorbar": {
              "outlinewidth": 0,
              "ticks": ""
             }
            },
            "type": "scattermapbox"
           }
          ],
          "scatterpolar": [
           {
            "marker": {
             "colorbar": {
              "outlinewidth": 0,
              "ticks": ""
             }
            },
            "type": "scatterpolar"
           }
          ],
          "scatterpolargl": [
           {
            "marker": {
             "colorbar": {
              "outlinewidth": 0,
              "ticks": ""
             }
            },
            "type": "scatterpolargl"
           }
          ],
          "scatterternary": [
           {
            "marker": {
             "colorbar": {
              "outlinewidth": 0,
              "ticks": ""
             }
            },
            "type": "scatterternary"
           }
          ],
          "surface": [
           {
            "colorbar": {
             "outlinewidth": 0,
             "ticks": ""
            },
            "colorscale": [
             [
              0,
              "#0d0887"
             ],
             [
              0.1111111111111111,
              "#46039f"
             ],
             [
              0.2222222222222222,
              "#7201a8"
             ],
             [
              0.3333333333333333,
              "#9c179e"
             ],
             [
              0.4444444444444444,
              "#bd3786"
             ],
             [
              0.5555555555555556,
              "#d8576b"
             ],
             [
              0.6666666666666666,
              "#ed7953"
             ],
             [
              0.7777777777777778,
              "#fb9f3a"
             ],
             [
              0.8888888888888888,
              "#fdca26"
             ],
             [
              1,
              "#f0f921"
             ]
            ],
            "type": "surface"
           }
          ],
          "table": [
           {
            "cells": {
             "fill": {
              "color": "#EBF0F8"
             },
             "line": {
              "color": "white"
             }
            },
            "header": {
             "fill": {
              "color": "#C8D4E3"
             },
             "line": {
              "color": "white"
             }
            },
            "type": "table"
           }
          ]
         },
         "layout": {
          "annotationdefaults": {
           "arrowcolor": "#2a3f5f",
           "arrowhead": 0,
           "arrowwidth": 1
          },
          "autotypenumbers": "strict",
          "coloraxis": {
           "colorbar": {
            "outlinewidth": 0,
            "ticks": ""
           }
          },
          "colorscale": {
           "diverging": [
            [
             0,
             "#8e0152"
            ],
            [
             0.1,
             "#c51b7d"
            ],
            [
             0.2,
             "#de77ae"
            ],
            [
             0.3,
             "#f1b6da"
            ],
            [
             0.4,
             "#fde0ef"
            ],
            [
             0.5,
             "#f7f7f7"
            ],
            [
             0.6,
             "#e6f5d0"
            ],
            [
             0.7,
             "#b8e186"
            ],
            [
             0.8,
             "#7fbc41"
            ],
            [
             0.9,
             "#4d9221"
            ],
            [
             1,
             "#276419"
            ]
           ],
           "sequential": [
            [
             0,
             "#0d0887"
            ],
            [
             0.1111111111111111,
             "#46039f"
            ],
            [
             0.2222222222222222,
             "#7201a8"
            ],
            [
             0.3333333333333333,
             "#9c179e"
            ],
            [
             0.4444444444444444,
             "#bd3786"
            ],
            [
             0.5555555555555556,
             "#d8576b"
            ],
            [
             0.6666666666666666,
             "#ed7953"
            ],
            [
             0.7777777777777778,
             "#fb9f3a"
            ],
            [
             0.8888888888888888,
             "#fdca26"
            ],
            [
             1,
             "#f0f921"
            ]
           ],
           "sequentialminus": [
            [
             0,
             "#0d0887"
            ],
            [
             0.1111111111111111,
             "#46039f"
            ],
            [
             0.2222222222222222,
             "#7201a8"
            ],
            [
             0.3333333333333333,
             "#9c179e"
            ],
            [
             0.4444444444444444,
             "#bd3786"
            ],
            [
             0.5555555555555556,
             "#d8576b"
            ],
            [
             0.6666666666666666,
             "#ed7953"
            ],
            [
             0.7777777777777778,
             "#fb9f3a"
            ],
            [
             0.8888888888888888,
             "#fdca26"
            ],
            [
             1,
             "#f0f921"
            ]
           ]
          },
          "colorway": [
           "#636efa",
           "#EF553B",
           "#00cc96",
           "#ab63fa",
           "#FFA15A",
           "#19d3f3",
           "#FF6692",
           "#B6E880",
           "#FF97FF",
           "#FECB52"
          ],
          "font": {
           "color": "#2a3f5f"
          },
          "geo": {
           "bgcolor": "white",
           "lakecolor": "white",
           "landcolor": "#E5ECF6",
           "showlakes": true,
           "showland": true,
           "subunitcolor": "white"
          },
          "hoverlabel": {
           "align": "left"
          },
          "hovermode": "closest",
          "mapbox": {
           "style": "light"
          },
          "paper_bgcolor": "rgba(0,0,0,0)",
          "plot_bgcolor": "rgba(0,0,0,0)",
          "polar": {
           "angularaxis": {
            "gridcolor": "white",
            "linecolor": "white",
            "ticks": ""
           },
           "bgcolor": "#E5ECF6",
           "radialaxis": {
            "gridcolor": "white",
            "linecolor": "white",
            "ticks": ""
           }
          },
          "scene": {
           "xaxis": {
            "backgroundcolor": "#E5ECF6",
            "gridcolor": "white",
            "gridwidth": 2,
            "linecolor": "white",
            "showbackground": true,
            "ticks": "",
            "zerolinecolor": "white"
           },
           "yaxis": {
            "backgroundcolor": "#E5ECF6",
            "gridcolor": "white",
            "gridwidth": 2,
            "linecolor": "white",
            "showbackground": true,
            "ticks": "",
            "zerolinecolor": "white"
           },
           "zaxis": {
            "backgroundcolor": "#E5ECF6",
            "gridcolor": "white",
            "gridwidth": 2,
            "linecolor": "white",
            "showbackground": true,
            "ticks": "",
            "zerolinecolor": "white"
           }
          },
          "shapedefaults": {
           "line": {
            "color": "#2a3f5f"
           }
          },
          "ternary": {
           "aaxis": {
            "gridcolor": "white",
            "linecolor": "white",
            "ticks": ""
           },
           "baxis": {
            "gridcolor": "white",
            "linecolor": "white",
            "ticks": ""
           },
           "bgcolor": "#E5ECF6",
           "caxis": {
            "gridcolor": "white",
            "linecolor": "white",
            "ticks": ""
           }
          },
          "title": {
           "x": 0.05
          },
          "xaxis": {
           "automargin": true,
           "gridcolor": "white",
           "linecolor": "white",
           "ticks": "",
           "title": {
            "standoff": 15
           },
           "zerolinecolor": "white",
           "zerolinewidth": 2
          },
          "yaxis": {
           "automargin": true,
           "gridcolor": "white",
           "linecolor": "white",
           "ticks": "",
           "title": {
            "standoff": 15
           },
           "zerolinecolor": "white",
           "zerolinewidth": 2
          }
         }
        },
        "title": {
         "text": "Stress Marc @ 1488"
        },
        "width": 1000
       }
      },
      "text/html": [
       "<div>                            <div id=\"1eda4911-8873-43ea-ac15-d6172f0f6a63\" class=\"plotly-graph-div\" style=\"height:800px; width:1000px;\"></div>            <script type=\"text/javascript\">                require([\"plotly\"], function(Plotly) {                    window.PLOTLYENV=window.PLOTLYENV || {};                                    if (document.getElementById(\"1eda4911-8873-43ea-ac15-d6172f0f6a63\")) {                    Plotly.newPlot(                        \"1eda4911-8873-43ea-ac15-d6172f0f6a63\",                        [{\"fill\":\"toself\",\"name\":\"Inc 10\",\"r\":[175.3833770751953,175.45631408691406,175.40435791015625,175.38131713867188,175.44281005859375,175.4038543701172,175.4066162109375,175.36199951171875,175.40487670898438,175.43360900878906,175.38253784179688,175.39828491210938,175.41854858398438,175.38380432128906,175.41281127929688,175.37954711914062,175.3833770751953],\"theta\":[5.7983856201171875,29.276647567749023,52.754905700683594,76.23316955566406,99.71142578125,123.18968963623047,146.66795349121094,170.14620971679688,193.6244659423828,217.1027374267578,240.58099365234375,264.05926513671875,287.5375061035156,311.0157775878906,334.4940490722656,357.9722900390625,5.7983856201171875],\"type\":\"scatterpolar\"},{\"fill\":\"toself\",\"name\":\"Inc 20\",\"r\":[192.1562957763672,195.52127075195312,198.5533447265625,200.38377380371094,197.5049591064453,199.84214782714844,195.4650115966797,193.04641723632812,187.83236694335938,181.12684631347656,174.30136108398438,163.01910400390625,166.03887939453125,176.47177124023438,183.6813507080078,190.4564208984375,192.1562957763672],\"theta\":[5.7983856201171875,29.276647567749023,52.754905700683594,76.23316955566406,99.71142578125,123.18968963623047,146.66795349121094,170.14620971679688,193.6244659423828,217.1027374267578,240.58099365234375,264.05926513671875,287.5375061035156,311.0157775878906,334.4940490722656,357.9722900390625,5.7983856201171875],\"type\":\"scatterpolar\"},{\"fill\":\"toself\",\"name\":\"Inc 30\",\"r\":[218.9891357421875,220.74057006835938,222.27523803710938,217.2808380126953,222.19058227539062,227.07667541503906,227.88851928710938,224.24966430664062,217.91537475585938,204.9657745361328,185.6490020751953,157.57342529296875,169.15109252929688,188.80078125,206.84579467773438,216.98023986816406,218.9891357421875],\"theta\":[5.7983856201171875,29.276647567749023,52.754905700683594,76.23316955566406,99.71142578125,123.18968963623047,146.66795349121094,170.14620971679688,193.6244659423828,217.1027374267578,240.58099365234375,264.05926513671875,287.5375061035156,311.0157775878906,334.4940490722656,357.9722900390625,5.7983856201171875],\"type\":\"scatterpolar\"},{\"fill\":\"toself\",\"name\":\"Inc 41\",\"r\":[250.06700134277344,254.27117919921875,250.83447265625,234.273193359375,236.52151489257812,254.30743408203125,260.5274963378906,256.22216796875,250.5332794189453,234.46275329589844,206.8251953125,163.35433959960938,181.7757110595703,211.97642517089844,237.4620819091797,248.51634216308594,250.06700134277344],\"theta\":[5.7983856201171875,29.276647567749023,52.754905700683594,76.23316955566406,99.71142578125,123.18968963623047,146.66795349121094,170.14620971679688,193.6244659423828,217.1027374267578,240.58099365234375,264.05926513671875,287.5375061035156,311.0157775878906,334.4940490722656,357.9722900390625,5.7983856201171875],\"type\":\"scatterpolar\"},{\"fill\":\"toself\",\"name\":\"Inc 50\",\"r\":[275.041015625,281.59661865234375,275.94293212890625,249.82513427734375,248.7705078125,276.8830871582031,286.5934143066406,280.97149658203125,275.92230224609375,258.9258728027344,224.79556274414062,170.09765625,193.70655822753906,232.93136596679688,263.4920654296875,274.208984375,275.041015625],\"theta\":[5.7983856201171875,29.276647567749023,52.754905700683594,76.23316955566406,99.71142578125,123.18968963623047,146.66795349121094,170.14620971679688,193.6244659423828,217.1027374267578,240.58099365234375,264.05926513671875,287.5375061035156,311.0157775878906,334.4940490722656,357.9722900390625,5.7983856201171875],\"type\":\"scatterpolar\"},{\"fill\":\"toself\",\"name\":\"Inc 60\",\"r\":[301.5426330566406,312.11773681640625,303.3433532714844,268.4593811035156,262.0013427734375,300.4250793457031,313.4268798828125,306.50732421875,303.93359375,287.31842041015625,248.51803588867188,181.00717163085938,205.7232208251953,256.50030517578125,290.5025634765625,302.52703857421875,301.5426330566406],\"theta\":[5.7983856201171875,29.276647567749023,52.754905700683594,76.23316955566406,99.71142578125,123.18968963623047,146.66795349121094,170.14620971679688,193.6244659423828,217.1027374267578,240.58099365234375,264.05926513671875,287.5375061035156,311.0157775878906,334.4940490722656,357.9722900390625,5.7983856201171875],\"type\":\"scatterpolar\"},{\"fill\":\"toself\",\"name\":\"Inc 70\",\"r\":[328.72430419921875,343.101318359375,331.8262023925781,290.2765808105469,276.1375427246094,324.3443603515625,339.8721618652344,331.421875,333.086181640625,317.0916748046875,272.1589660644531,198.62301635742188,218.5900115966797,283.14892578125,319.3096923828125,330.13360595703125,328.72430419921875],\"theta\":[5.7983856201171875,29.276647567749023,52.754905700683594,76.23316955566406,99.71142578125,123.18968963623047,146.66795349121094,170.14620971679688,193.6244659423828,217.1027374267578,240.58099365234375,264.05926513671875,287.5375061035156,311.0157775878906,334.4940490722656,357.9722900390625,5.7983856201171875],\"type\":\"scatterpolar\"}],                        {\"template\":{\"data\":{\"barpolar\":[{\"marker\":{\"line\":{\"color\":\"#E5ECF6\",\"width\":0.5},\"pattern\":{\"fillmode\":\"overlay\",\"size\":10,\"solidity\":0.2}},\"type\":\"barpolar\"}],\"bar\":[{\"error_x\":{\"color\":\"#2a3f5f\"},\"error_y\":{\"color\":\"#2a3f5f\"},\"marker\":{\"line\":{\"color\":\"#E5ECF6\",\"width\":0.5},\"pattern\":{\"fillmode\":\"overlay\",\"size\":10,\"solidity\":0.2}},\"type\":\"bar\"}],\"carpet\":[{\"aaxis\":{\"endlinecolor\":\"#2a3f5f\",\"gridcolor\":\"white\",\"linecolor\":\"white\",\"minorgridcolor\":\"white\",\"startlinecolor\":\"#2a3f5f\"},\"baxis\":{\"endlinecolor\":\"#2a3f5f\",\"gridcolor\":\"white\",\"linecolor\":\"white\",\"minorgridcolor\":\"white\",\"startlinecolor\":\"#2a3f5f\"},\"type\":\"carpet\"}],\"choropleth\":[{\"colorbar\":{\"outlinewidth\":0,\"ticks\":\"\"},\"type\":\"choropleth\"}],\"contourcarpet\":[{\"colorbar\":{\"outlinewidth\":0,\"ticks\":\"\"},\"type\":\"contourcarpet\"}],\"contour\":[{\"colorbar\":{\"outlinewidth\":0,\"ticks\":\"\"},\"colorscale\":[[0.0,\"#0d0887\"],[0.1111111111111111,\"#46039f\"],[0.2222222222222222,\"#7201a8\"],[0.3333333333333333,\"#9c179e\"],[0.4444444444444444,\"#bd3786\"],[0.5555555555555556,\"#d8576b\"],[0.6666666666666666,\"#ed7953\"],[0.7777777777777778,\"#fb9f3a\"],[0.8888888888888888,\"#fdca26\"],[1.0,\"#f0f921\"]],\"type\":\"contour\"}],\"heatmapgl\":[{\"colorbar\":{\"outlinewidth\":0,\"ticks\":\"\"},\"colorscale\":[[0.0,\"#0d0887\"],[0.1111111111111111,\"#46039f\"],[0.2222222222222222,\"#7201a8\"],[0.3333333333333333,\"#9c179e\"],[0.4444444444444444,\"#bd3786\"],[0.5555555555555556,\"#d8576b\"],[0.6666666666666666,\"#ed7953\"],[0.7777777777777778,\"#fb9f3a\"],[0.8888888888888888,\"#fdca26\"],[1.0,\"#f0f921\"]],\"type\":\"heatmapgl\"}],\"heatmap\":[{\"colorbar\":{\"outlinewidth\":0,\"ticks\":\"\"},\"colorscale\":[[0.0,\"#0d0887\"],[0.1111111111111111,\"#46039f\"],[0.2222222222222222,\"#7201a8\"],[0.3333333333333333,\"#9c179e\"],[0.4444444444444444,\"#bd3786\"],[0.5555555555555556,\"#d8576b\"],[0.6666666666666666,\"#ed7953\"],[0.7777777777777778,\"#fb9f3a\"],[0.8888888888888888,\"#fdca26\"],[1.0,\"#f0f921\"]],\"type\":\"heatmap\"}],\"histogram2dcontour\":[{\"colorbar\":{\"outlinewidth\":0,\"ticks\":\"\"},\"colorscale\":[[0.0,\"#0d0887\"],[0.1111111111111111,\"#46039f\"],[0.2222222222222222,\"#7201a8\"],[0.3333333333333333,\"#9c179e\"],[0.4444444444444444,\"#bd3786\"],[0.5555555555555556,\"#d8576b\"],[0.6666666666666666,\"#ed7953\"],[0.7777777777777778,\"#fb9f3a\"],[0.8888888888888888,\"#fdca26\"],[1.0,\"#f0f921\"]],\"type\":\"histogram2dcontour\"}],\"histogram2d\":[{\"colorbar\":{\"outlinewidth\":0,\"ticks\":\"\"},\"colorscale\":[[0.0,\"#0d0887\"],[0.1111111111111111,\"#46039f\"],[0.2222222222222222,\"#7201a8\"],[0.3333333333333333,\"#9c179e\"],[0.4444444444444444,\"#bd3786\"],[0.5555555555555556,\"#d8576b\"],[0.6666666666666666,\"#ed7953\"],[0.7777777777777778,\"#fb9f3a\"],[0.8888888888888888,\"#fdca26\"],[1.0,\"#f0f921\"]],\"type\":\"histogram2d\"}],\"histogram\":[{\"marker\":{\"pattern\":{\"fillmode\":\"overlay\",\"size\":10,\"solidity\":0.2}},\"type\":\"histogram\"}],\"mesh3d\":[{\"colorbar\":{\"outlinewidth\":0,\"ticks\":\"\"},\"type\":\"mesh3d\"}],\"parcoords\":[{\"line\":{\"colorbar\":{\"outlinewidth\":0,\"ticks\":\"\"}},\"type\":\"parcoords\"}],\"pie\":[{\"automargin\":true,\"type\":\"pie\"}],\"scatter3d\":[{\"line\":{\"colorbar\":{\"outlinewidth\":0,\"ticks\":\"\"}},\"marker\":{\"colorbar\":{\"outlinewidth\":0,\"ticks\":\"\"}},\"type\":\"scatter3d\"}],\"scattercarpet\":[{\"marker\":{\"colorbar\":{\"outlinewidth\":0,\"ticks\":\"\"}},\"type\":\"scattercarpet\"}],\"scattergeo\":[{\"marker\":{\"colorbar\":{\"outlinewidth\":0,\"ticks\":\"\"}},\"type\":\"scattergeo\"}],\"scattergl\":[{\"marker\":{\"colorbar\":{\"outlinewidth\":0,\"ticks\":\"\"}},\"type\":\"scattergl\"}],\"scattermapbox\":[{\"marker\":{\"colorbar\":{\"outlinewidth\":0,\"ticks\":\"\"}},\"type\":\"scattermapbox\"}],\"scatterpolargl\":[{\"marker\":{\"colorbar\":{\"outlinewidth\":0,\"ticks\":\"\"}},\"type\":\"scatterpolargl\"}],\"scatterpolar\":[{\"marker\":{\"colorbar\":{\"outlinewidth\":0,\"ticks\":\"\"}},\"type\":\"scatterpolar\"}],\"scatter\":[{\"marker\":{\"colorbar\":{\"outlinewidth\":0,\"ticks\":\"\"}},\"type\":\"scatter\"}],\"scatterternary\":[{\"marker\":{\"colorbar\":{\"outlinewidth\":0,\"ticks\":\"\"}},\"type\":\"scatterternary\"}],\"surface\":[{\"colorbar\":{\"outlinewidth\":0,\"ticks\":\"\"},\"colorscale\":[[0.0,\"#0d0887\"],[0.1111111111111111,\"#46039f\"],[0.2222222222222222,\"#7201a8\"],[0.3333333333333333,\"#9c179e\"],[0.4444444444444444,\"#bd3786\"],[0.5555555555555556,\"#d8576b\"],[0.6666666666666666,\"#ed7953\"],[0.7777777777777778,\"#fb9f3a\"],[0.8888888888888888,\"#fdca26\"],[1.0,\"#f0f921\"]],\"type\":\"surface\"}],\"table\":[{\"cells\":{\"fill\":{\"color\":\"#EBF0F8\"},\"line\":{\"color\":\"white\"}},\"header\":{\"fill\":{\"color\":\"#C8D4E3\"},\"line\":{\"color\":\"white\"}},\"type\":\"table\"}]},\"layout\":{\"annotationdefaults\":{\"arrowcolor\":\"#2a3f5f\",\"arrowhead\":0,\"arrowwidth\":1},\"autotypenumbers\":\"strict\",\"coloraxis\":{\"colorbar\":{\"outlinewidth\":0,\"ticks\":\"\"}},\"colorscale\":{\"diverging\":[[0,\"#8e0152\"],[0.1,\"#c51b7d\"],[0.2,\"#de77ae\"],[0.3,\"#f1b6da\"],[0.4,\"#fde0ef\"],[0.5,\"#f7f7f7\"],[0.6,\"#e6f5d0\"],[0.7,\"#b8e186\"],[0.8,\"#7fbc41\"],[0.9,\"#4d9221\"],[1,\"#276419\"]],\"sequential\":[[0.0,\"#0d0887\"],[0.1111111111111111,\"#46039f\"],[0.2222222222222222,\"#7201a8\"],[0.3333333333333333,\"#9c179e\"],[0.4444444444444444,\"#bd3786\"],[0.5555555555555556,\"#d8576b\"],[0.6666666666666666,\"#ed7953\"],[0.7777777777777778,\"#fb9f3a\"],[0.8888888888888888,\"#fdca26\"],[1.0,\"#f0f921\"]],\"sequentialminus\":[[0.0,\"#0d0887\"],[0.1111111111111111,\"#46039f\"],[0.2222222222222222,\"#7201a8\"],[0.3333333333333333,\"#9c179e\"],[0.4444444444444444,\"#bd3786\"],[0.5555555555555556,\"#d8576b\"],[0.6666666666666666,\"#ed7953\"],[0.7777777777777778,\"#fb9f3a\"],[0.8888888888888888,\"#fdca26\"],[1.0,\"#f0f921\"]]},\"colorway\":[\"#636efa\",\"#EF553B\",\"#00cc96\",\"#ab63fa\",\"#FFA15A\",\"#19d3f3\",\"#FF6692\",\"#B6E880\",\"#FF97FF\",\"#FECB52\"],\"font\":{\"color\":\"#2a3f5f\"},\"geo\":{\"bgcolor\":\"white\",\"lakecolor\":\"white\",\"landcolor\":\"#E5ECF6\",\"showlakes\":true,\"showland\":true,\"subunitcolor\":\"white\"},\"hoverlabel\":{\"align\":\"left\"},\"hovermode\":\"closest\",\"mapbox\":{\"style\":\"light\"},\"paper_bgcolor\":\"rgba(0,0,0,0)\",\"plot_bgcolor\":\"rgba(0,0,0,0)\",\"polar\":{\"angularaxis\":{\"gridcolor\":\"white\",\"linecolor\":\"white\",\"ticks\":\"\"},\"bgcolor\":\"#E5ECF6\",\"radialaxis\":{\"gridcolor\":\"white\",\"linecolor\":\"white\",\"ticks\":\"\"}},\"scene\":{\"xaxis\":{\"backgroundcolor\":\"#E5ECF6\",\"gridcolor\":\"white\",\"gridwidth\":2,\"linecolor\":\"white\",\"showbackground\":true,\"ticks\":\"\",\"zerolinecolor\":\"white\"},\"yaxis\":{\"backgroundcolor\":\"#E5ECF6\",\"gridcolor\":\"white\",\"gridwidth\":2,\"linecolor\":\"white\",\"showbackground\":true,\"ticks\":\"\",\"zerolinecolor\":\"white\"},\"zaxis\":{\"backgroundcolor\":\"#E5ECF6\",\"gridcolor\":\"white\",\"gridwidth\":2,\"linecolor\":\"white\",\"showbackground\":true,\"ticks\":\"\",\"zerolinecolor\":\"white\"}},\"shapedefaults\":{\"line\":{\"color\":\"#2a3f5f\"}},\"ternary\":{\"aaxis\":{\"gridcolor\":\"white\",\"linecolor\":\"white\",\"ticks\":\"\"},\"baxis\":{\"gridcolor\":\"white\",\"linecolor\":\"white\",\"ticks\":\"\"},\"bgcolor\":\"#E5ECF6\",\"caxis\":{\"gridcolor\":\"white\",\"linecolor\":\"white\",\"ticks\":\"\"}},\"title\":{\"x\":0.05},\"xaxis\":{\"automargin\":true,\"gridcolor\":\"white\",\"linecolor\":\"white\",\"ticks\":\"\",\"title\":{\"standoff\":15},\"zerolinecolor\":\"white\",\"zerolinewidth\":2},\"yaxis\":{\"automargin\":true,\"gridcolor\":\"white\",\"linecolor\":\"white\",\"ticks\":\"\",\"title\":{\"standoff\":15},\"zerolinecolor\":\"white\",\"zerolinewidth\":2}}},\"polar\":{\"radialaxis\":{\"visible\":true,\"range\":[0,500]}},\"showlegend\":true,\"font\":{\"color\":\"white\"},\"title\":{\"text\":\"Stress Marc @ 1488\"},\"autosize\":false,\"width\":1000,\"height\":800},                        {\"responsive\": true}                    ).then(function(){\n",
       "                            \n",
       "var gd = document.getElementById('1eda4911-8873-43ea-ac15-d6172f0f6a63');\n",
       "var x = new MutationObserver(function (mutations, observer) {{\n",
       "        var display = window.getComputedStyle(gd).display;\n",
       "        if (!display || display === 'none') {{\n",
       "            console.log([gd, 'removed!']);\n",
       "            Plotly.purge(gd);\n",
       "            observer.disconnect();\n",
       "        }}\n",
       "}});\n",
       "\n",
       "// Listen for the removal of the full notebook cells\n",
       "var notebookContainer = gd.closest('#notebook-container');\n",
       "if (notebookContainer) {{\n",
       "    x.observe(notebookContainer, {childList: true});\n",
       "}}\n",
       "\n",
       "// Listen for the clearing of the current output cell\n",
       "var outputEl = gd.closest('.output');\n",
       "if (outputEl) {{\n",
       "    x.observe(outputEl, {childList: true});\n",
       "}}\n",
       "\n",
       "                        })                };                });            </script>        </div>"
      ]
     },
     "metadata": {},
     "output_type": "display_data"
    }
   ],
   "source": [
    "# Plotting\n",
    "fig_marc = go.Figure()\n",
    "pos = 26\n",
    "marc_pos = sorted(list(set(df_marc.z)))\n",
    "\n",
    "for inc in range(10, 71, 10):\n",
    "    \n",
    "    # Skip bad increments\n",
    "    while inc in bad_incs:\n",
    "        inc += 1\n",
    "\n",
    "    # Only plot relevant and duplicate frist row last to close loop\n",
    "    df_plot = df_marc[(df_marc.inc==inc) & (df_marc.z==marc_pos[pos])]\n",
    "\n",
    "    # Drop every n'th row (for plotting purposes)\n",
    "    df_plot = df_plot.iloc[::3]\n",
    "    df_plot = df_plot.append(df_plot.reset_index(drop=True).iloc[0]).reset_index(drop=True)\n",
    "\n",
    "    # Plot polar plot\n",
    "    fig_marc.add_trace(go.Scatterpolar(r=df_plot['stress'],\n",
    "                                  theta=df_plot['theta'],\n",
    "                                  fill='toself',\n",
    "                                  name=f'Inc {inc}'\n",
    "                                  ))\n",
    "\n",
    "fig_marc.update_layout(\n",
    "    polar=dict(\n",
    "        radialaxis=dict(\n",
    "            visible=True,\n",
    "            range=[0, 500]\n",
    "        )),\n",
    "    showlegend=True\n",
    ")\n",
    "\n",
    "fig_marc.update_layout(title=f'Stress Marc @ {marc_pos[pos]}',\n",
    "                  autosize=False,\n",
    "                  font=dict(color='white'),\n",
    "                  width=1000, height=800)\n",
    "\n",
    "fig_marc.show()"
   ]
  },
  {
   "cell_type": "markdown",
   "id": "fe01b1e8",
   "metadata": {},
   "source": [
    "## CrossSection - Read files"
   ]
  },
  {
   "cell_type": "code",
   "execution_count": 997,
   "id": "435c0223",
   "metadata": {},
   "outputs": [],
   "source": [
    "case_name = r'nov_8inch_gir_3p_with_bs_g3_job1'\n",
    "project_folder = Path(r'V:\\1993_Pierce_GIR_fatigue\\Marc\\analysis')\n",
    "\n",
    "runs = ['CS'] # Folder with runs\n",
    "exclude_cases = [] # optional - cases to be excluded from post-processing\n",
    "\n",
    "df_case = mt.crossection.df_cs(project_folder, runs, positions='start')"
   ]
  },
  {
   "cell_type": "code",
   "execution_count": 998,
   "id": "6d49868e",
   "metadata": {},
   "outputs": [
    {
     "name": "stdout",
     "output_type": "stream",
     "text": [
      "100 %\n"
     ]
    }
   ],
   "source": [
    "# Marc list\n",
    "marc_list = sorted(list(set(df_marc.z)))\n",
    "\n",
    "# Cross section list\n",
    "cs_list = [int(k) for k in df_case[case_name].keys()]\n",
    "\n",
    "# Find closest values\n",
    "cs_dict = {}\n",
    "for cs in cs_list:\n",
    "    cs_dict[cs] = min(marc_list, key=lambda x: abs(x - cs))\n",
    "\n",
    "# Add column\n",
    "df_marc['curv'] = np.nan\n",
    "\n",
    "# Reduce dataframe to points where CS data is available\n",
    "for i, (cs_pos, marc_pos) in enumerate(cs_dict.items(), 1):\n",
    "    print(f'{i/len(cs_dict)*100:.0f} %')\n",
    "    for inc in range(0, 71, 1):\n",
    "        df_marc.loc[(df_marc.z==marc_pos) & (df_marc.inc==inc), 'curv'] = df_case[case_name][str(cs_pos)]['K3_4'][inc]\n",
    "    clear_output(wait=True)\n",
    "\n",
    "# Remove rows where curv is na\n",
    "df_marc = df_marc[df_marc.curv.notna()]\n",
    "# clear_output()"
   ]
  },
  {
   "cell_type": "markdown",
   "id": "e1754d6e",
   "metadata": {},
   "source": [
    "### Calculate SCF"
   ]
  },
  {
   "cell_type": "code",
   "execution_count": 999,
   "id": "10ca42e5",
   "metadata": {},
   "outputs": [
    {
     "name": "stdout",
     "output_type": "stream",
     "text": [
      "ValueError at [388, 718, 821, 1213, 1543, 1646, 2037, 2367, 2862, 3192, 3295, 3686, 4016, 4511, 4841] mm\n"
     ]
    }
   ],
   "source": [
    "# Initialize data frame\n",
    "df_scf = pd.DataFrame()\n",
    "valer = []\n",
    "\n",
    "# Dictionary translating degrees to bflex position name\n",
    "bflex_name = {-90 + 22.5*i: f'P{17+i}' for i in range(0, 16, 1)}\n",
    "\n",
    "for i, marc_pos in enumerate(sorted(list(set(df_marc.z))), 1):\n",
    "    print(f'Pos {i} of {len(list(set(df_marc.z)))}')\n",
    "\n",
    "    # Find dictionary with bflex vs marc angles\n",
    "    theta_dict = {}\n",
    "    dft = df_marc[(df_marc.z==marc_pos) & (df_marc.inc==0)]\n",
    "\n",
    "    for bf_angle in [22.5*i for i in range(0, 16, 1)]:\n",
    "        theta_dict[bf_angle] = min(dft.theta, key=lambda x: abs(x - bf_angle))\n",
    "\n",
    "    # Loop through increments\n",
    "    for inc in range(0, 71, 10):\n",
    "        # Skip inrements with bad input\n",
    "        # if inc in bad_incs:\n",
    "        #     continue\n",
    "\n",
    "        while inc in bad_incs:\n",
    "            inc+=1\n",
    "\n",
    "        # Create dataframe containing specific position and inc only\n",
    "        dft = df_marc[(df_marc.z==marc_pos) & (df_marc.inc==inc)]\n",
    "\n",
    "        # Find stress for correct curvature and angle\n",
    "        df_temp = dft[dft.theta.isin(theta_dict.values())]\n",
    "\n",
    "        # Find corresponding bflex stress\n",
    "        curv = df_temp.curv.iloc[0]\n",
    "        df_interp = df_bflex.iloc[(df_bflex.curv - curv).abs().argsort()[:2]]\n",
    "        y1, y2 = df_interp.iloc[0,1:], df_interp.iloc[1,1:]\n",
    "\n",
    "        # Interpolate marc stress\n",
    "        linfit = scipy.interpolate.interp1d(df_interp.curv, np.vstack([y1, y2]), axis=0)\n",
    "\n",
    "        try:\n",
    "            df_temp['stress_bflex'] = linfit(curv)\n",
    "        except ValueError:\n",
    "            valer.append(marc_pos)\n",
    "            continue\n",
    "\n",
    "        # Calculate the SCF\n",
    "        df_temp['scf'] = df_temp.stress / df_temp.stress_bflex\n",
    "\n",
    "        df_scf = pd.concat([df_scf,\n",
    "                            df_temp[['inc', 'z', 'theta', 'curv', 'stress',\n",
    "                                     'stress_bflex', 'scf']]\n",
    "                            .reset_index(drop=True)], axis=0)\n",
    "        clear_output(wait=True)\n",
    "print(f'ValueError at {sorted(list(set(valer)))} mm')"
   ]
  },
  {
   "cell_type": "code",
   "execution_count": 1005,
   "id": "e9cd14c8",
   "metadata": {},
   "outputs": [
    {
     "data": {
      "application/vnd.plotly.v1+json": {
       "config": {
        "plotlyServerURL": "https://plot.ly"
       },
       "data": [
        {
         "fill": "toself",
         "name": "Curvature 0.00 (0)",
         "r": [
          0,
          0,
          0,
          0,
          0,
          0,
          0,
          0,
          0,
          0,
          0,
          0,
          0,
          0,
          0,
          0,
          0
         ],
         "theta": [
          5.7983856201171875,
          21.450559616088867,
          44.92881774902344,
          68.4070816040039,
          91.88534545898438,
          115.36360168457031,
          138.84185791015625,
          154.49403381347656,
          177.97230529785156,
          201.4505615234375,
          224.92881774902344,
          248.40707397460938,
          271.8853454589844,
          295.36358642578125,
          318.84185791015625,
          334.4940490722656,
          5.7983856201171875
         ],
         "type": "scatterpolar"
        },
        {
         "fill": "toself",
         "name": "Curvature 0.00 (10)",
         "r": [
          0.9589928835359443,
          0.9592596507419017,
          0.9590193053937239,
          0.9589191294771626,
          0.9591177323426187,
          0.9590380162451264,
          0.958874537968332,
          0.9589441618252181,
          0.9587920604814555,
          0.9590768721729953,
          0.9588697304163428,
          0.9588624087072595,
          0.9591144053243033,
          0.9591090329838573,
          0.959005605540936,
          0.9591264214836652,
          0.9589928835359443
         ],
         "theta": [
          5.7983856201171875,
          21.450559616088867,
          44.92881774902344,
          68.4070816040039,
          91.88534545898438,
          115.36360168457031,
          138.84185791015625,
          154.49403381347656,
          177.97230529785156,
          201.4505615234375,
          224.92881774902344,
          248.40707397460938,
          271.8853454589844,
          295.36358642578125,
          318.84185791015625,
          334.4940490722656,
          5.7983856201171875
         ],
         "type": "scatterpolar"
        },
        {
         "fill": "toself",
         "name": "Curvature 0.01 (20)",
         "r": [
          1.2215239943282787,
          1.1747708573347448,
          1.1165374129861154,
          1.063851020783829,
          0.9779916790342353,
          0.9483655327186401,
          0.9021860336854745,
          0.885098509410826,
          0.8856105949302407,
          0.8432316459040574,
          0.819002195052306,
          0.8118054698170976,
          0.7909165964998519,
          0.9038095380143232,
          1.0124902231770283,
          1.1086123376777877,
          1.2215239943282787
         ],
         "theta": [
          5.7983856201171875,
          21.450559616088867,
          44.92881774902344,
          68.4070816040039,
          91.88534545898438,
          115.36360168457031,
          138.84185791015625,
          154.49403381347656,
          177.97230529785156,
          201.4505615234375,
          224.92881774902344,
          248.40707397460938,
          271.8853454589844,
          295.36358642578125,
          318.84185791015625,
          334.4940490722656,
          5.7983856201171875
         ],
         "type": "scatterpolar"
        },
        {
         "fill": "toself",
         "name": "Curvature 0.03 (30)",
         "r": [
          1.3356288252310127,
          1.200663395575346,
          1.1060425967974201,
          1.0141585458071982,
          0.9537410023148298,
          0.9363238876534623,
          0.9386390854895017,
          0.9556583344730492,
          0.9996548402630416,
          0.907366681078158,
          0.8199137539481862,
          0.7362440124139893,
          0.6784111362257182,
          0.8063907762651736,
          0.9691043507474535,
          1.1325400144983753,
          1.3356288252310127
         ],
         "theta": [
          5.7983856201171875,
          21.450559616088867,
          44.92881774902344,
          68.4070816040039,
          91.88534545898438,
          115.36360168457031,
          138.84185791015625,
          154.49403381347656,
          177.97230529785156,
          201.4505615234375,
          224.92881774902344,
          248.40707397460938,
          271.8853454589844,
          295.36358642578125,
          318.84185791015625,
          334.4940490722656,
          5.7983856201171875
         ],
         "type": "scatterpolar"
        },
        {
         "fill": "toself",
         "name": "Curvature 0.05 (41)",
         "r": [
          1.454804906132746,
          1.236606405383745,
          1.100257468323476,
          0.9661836619211447,
          0.8947295725674402,
          0.9074315562553387,
          0.9533639885164319,
          1.0107502811300797,
          1.1094016627342962,
          0.9628122843773353,
          0.8314999550105088,
          0.7036538982387259,
          0.600863985620333,
          0.7574958491794274,
          0.9563662923516141,
          1.1706154400042297,
          1.454804906132746
         ],
         "theta": [
          5.7983856201171875,
          21.450559616088867,
          44.92881774902344,
          68.4070816040039,
          91.88534545898438,
          115.36360168457031,
          138.84185791015625,
          154.49403381347656,
          177.97230529785156,
          201.4505615234375,
          224.92881774902344,
          248.40707397460938,
          271.8853454589844,
          295.36358642578125,
          318.84185791015625,
          334.4940490722656,
          5.7983856201171875
         ],
         "type": "scatterpolar"
        },
        {
         "fill": "toself",
         "name": "Curvature 0.06 (50)",
         "r": [
          1.5424571983000361,
          1.2701719724425693,
          1.0986101078681458,
          0.9396524402127054,
          0.8451050621979679,
          0.8883594604379144,
          0.9601876430560261,
          1.044790387870862,
          1.1825536623550192,
          1.0003562294605264,
          0.843322673564489,
          0.692200489757741,
          0.5494605236381994,
          0.7295737253840522,
          0.957674296940215,
          1.201925103142577,
          1.5424571983000361
         ],
         "theta": [
          5.7983856201171875,
          21.450559616088867,
          44.92881774902344,
          68.4070816040039,
          91.88534545898438,
          115.36360168457031,
          138.84185791015625,
          154.49403381347656,
          177.97230529785156,
          201.4505615234375,
          224.92881774902344,
          248.40707397460938,
          271.8853454589844,
          295.36358642578125,
          318.84185791015625,
          334.4940490722656,
          5.7983856201171875
         ],
         "type": "scatterpolar"
        },
        {
         "fill": "toself",
         "name": "Curvature 0.08 (60)",
         "r": [
          1.6268727464148078,
          1.3028199714228919,
          1.1001639168550592,
          0.9194375125875782,
          0.7926160739857488,
          0.8714601318226016,
          0.9617931384706563,
          1.0729908805439032,
          1.2549675433515213,
          1.037213490523387,
          0.8583888591985868,
          0.6835598774910716,
          0.5028574837851544,
          0.7132123202313855,
          0.9625531132384456,
          1.2249056492209593,
          1.6268727464148078
         ],
         "theta": [
          5.7983856201171875,
          21.450559616088867,
          44.92881774902344,
          68.4070816040039,
          91.88534545898438,
          115.36360168457031,
          138.84185791015625,
          154.49403381347656,
          177.97230529785156,
          201.4505615234375,
          224.92881774902344,
          248.40707397460938,
          271.8853454589844,
          295.36358642578125,
          318.84185791015625,
          334.4940490722656,
          5.7983856201171875
         ],
         "type": "scatterpolar"
        },
        {
         "fill": "toself",
         "name": "Curvature 0.10 (70)",
         "r": [
          1.7077102294394404,
          1.3297883932237187,
          1.1041774350253708,
          0.906887813458242,
          0.7446016579591145,
          0.8585523327773945,
          0.9627746533339905,
          1.094926919125141,
          1.3243483417284867,
          1.0714304302010154,
          0.8752710777388033,
          0.6892817694175606,
          0.4636079447430379,
          0.7116903823155588,
          0.9666509176087329,
          1.2503881304987485,
          1.7077102294394404
         ],
         "theta": [
          5.7983856201171875,
          21.450559616088867,
          44.92881774902344,
          68.4070816040039,
          91.88534545898438,
          115.36360168457031,
          138.84185791015625,
          154.49403381347656,
          177.97230529785156,
          201.4505615234375,
          224.92881774902344,
          248.40707397460938,
          271.8853454589844,
          295.36358642578125,
          318.84185791015625,
          334.4940490722656,
          5.7983856201171875
         ],
         "type": "scatterpolar"
        }
       ],
       "layout": {
        "autosize": false,
        "font": {
         "color": "white"
        },
        "height": 800,
        "polar": {
         "radialaxis": {
          "range": [
           0,
           2
          ],
          "visible": true
         }
        },
        "showlegend": true,
        "template": {
         "data": {
          "bar": [
           {
            "error_x": {
             "color": "#2a3f5f"
            },
            "error_y": {
             "color": "#2a3f5f"
            },
            "marker": {
             "line": {
              "color": "#E5ECF6",
              "width": 0.5
             },
             "pattern": {
              "fillmode": "overlay",
              "size": 10,
              "solidity": 0.2
             }
            },
            "type": "bar"
           }
          ],
          "barpolar": [
           {
            "marker": {
             "line": {
              "color": "#E5ECF6",
              "width": 0.5
             },
             "pattern": {
              "fillmode": "overlay",
              "size": 10,
              "solidity": 0.2
             }
            },
            "type": "barpolar"
           }
          ],
          "carpet": [
           {
            "aaxis": {
             "endlinecolor": "#2a3f5f",
             "gridcolor": "white",
             "linecolor": "white",
             "minorgridcolor": "white",
             "startlinecolor": "#2a3f5f"
            },
            "baxis": {
             "endlinecolor": "#2a3f5f",
             "gridcolor": "white",
             "linecolor": "white",
             "minorgridcolor": "white",
             "startlinecolor": "#2a3f5f"
            },
            "type": "carpet"
           }
          ],
          "choropleth": [
           {
            "colorbar": {
             "outlinewidth": 0,
             "ticks": ""
            },
            "type": "choropleth"
           }
          ],
          "contour": [
           {
            "colorbar": {
             "outlinewidth": 0,
             "ticks": ""
            },
            "colorscale": [
             [
              0,
              "#0d0887"
             ],
             [
              0.1111111111111111,
              "#46039f"
             ],
             [
              0.2222222222222222,
              "#7201a8"
             ],
             [
              0.3333333333333333,
              "#9c179e"
             ],
             [
              0.4444444444444444,
              "#bd3786"
             ],
             [
              0.5555555555555556,
              "#d8576b"
             ],
             [
              0.6666666666666666,
              "#ed7953"
             ],
             [
              0.7777777777777778,
              "#fb9f3a"
             ],
             [
              0.8888888888888888,
              "#fdca26"
             ],
             [
              1,
              "#f0f921"
             ]
            ],
            "type": "contour"
           }
          ],
          "contourcarpet": [
           {
            "colorbar": {
             "outlinewidth": 0,
             "ticks": ""
            },
            "type": "contourcarpet"
           }
          ],
          "heatmap": [
           {
            "colorbar": {
             "outlinewidth": 0,
             "ticks": ""
            },
            "colorscale": [
             [
              0,
              "#0d0887"
             ],
             [
              0.1111111111111111,
              "#46039f"
             ],
             [
              0.2222222222222222,
              "#7201a8"
             ],
             [
              0.3333333333333333,
              "#9c179e"
             ],
             [
              0.4444444444444444,
              "#bd3786"
             ],
             [
              0.5555555555555556,
              "#d8576b"
             ],
             [
              0.6666666666666666,
              "#ed7953"
             ],
             [
              0.7777777777777778,
              "#fb9f3a"
             ],
             [
              0.8888888888888888,
              "#fdca26"
             ],
             [
              1,
              "#f0f921"
             ]
            ],
            "type": "heatmap"
           }
          ],
          "heatmapgl": [
           {
            "colorbar": {
             "outlinewidth": 0,
             "ticks": ""
            },
            "colorscale": [
             [
              0,
              "#0d0887"
             ],
             [
              0.1111111111111111,
              "#46039f"
             ],
             [
              0.2222222222222222,
              "#7201a8"
             ],
             [
              0.3333333333333333,
              "#9c179e"
             ],
             [
              0.4444444444444444,
              "#bd3786"
             ],
             [
              0.5555555555555556,
              "#d8576b"
             ],
             [
              0.6666666666666666,
              "#ed7953"
             ],
             [
              0.7777777777777778,
              "#fb9f3a"
             ],
             [
              0.8888888888888888,
              "#fdca26"
             ],
             [
              1,
              "#f0f921"
             ]
            ],
            "type": "heatmapgl"
           }
          ],
          "histogram": [
           {
            "marker": {
             "pattern": {
              "fillmode": "overlay",
              "size": 10,
              "solidity": 0.2
             }
            },
            "type": "histogram"
           }
          ],
          "histogram2d": [
           {
            "colorbar": {
             "outlinewidth": 0,
             "ticks": ""
            },
            "colorscale": [
             [
              0,
              "#0d0887"
             ],
             [
              0.1111111111111111,
              "#46039f"
             ],
             [
              0.2222222222222222,
              "#7201a8"
             ],
             [
              0.3333333333333333,
              "#9c179e"
             ],
             [
              0.4444444444444444,
              "#bd3786"
             ],
             [
              0.5555555555555556,
              "#d8576b"
             ],
             [
              0.6666666666666666,
              "#ed7953"
             ],
             [
              0.7777777777777778,
              "#fb9f3a"
             ],
             [
              0.8888888888888888,
              "#fdca26"
             ],
             [
              1,
              "#f0f921"
             ]
            ],
            "type": "histogram2d"
           }
          ],
          "histogram2dcontour": [
           {
            "colorbar": {
             "outlinewidth": 0,
             "ticks": ""
            },
            "colorscale": [
             [
              0,
              "#0d0887"
             ],
             [
              0.1111111111111111,
              "#46039f"
             ],
             [
              0.2222222222222222,
              "#7201a8"
             ],
             [
              0.3333333333333333,
              "#9c179e"
             ],
             [
              0.4444444444444444,
              "#bd3786"
             ],
             [
              0.5555555555555556,
              "#d8576b"
             ],
             [
              0.6666666666666666,
              "#ed7953"
             ],
             [
              0.7777777777777778,
              "#fb9f3a"
             ],
             [
              0.8888888888888888,
              "#fdca26"
             ],
             [
              1,
              "#f0f921"
             ]
            ],
            "type": "histogram2dcontour"
           }
          ],
          "mesh3d": [
           {
            "colorbar": {
             "outlinewidth": 0,
             "ticks": ""
            },
            "type": "mesh3d"
           }
          ],
          "parcoords": [
           {
            "line": {
             "colorbar": {
              "outlinewidth": 0,
              "ticks": ""
             }
            },
            "type": "parcoords"
           }
          ],
          "pie": [
           {
            "automargin": true,
            "type": "pie"
           }
          ],
          "scatter": [
           {
            "marker": {
             "colorbar": {
              "outlinewidth": 0,
              "ticks": ""
             }
            },
            "type": "scatter"
           }
          ],
          "scatter3d": [
           {
            "line": {
             "colorbar": {
              "outlinewidth": 0,
              "ticks": ""
             }
            },
            "marker": {
             "colorbar": {
              "outlinewidth": 0,
              "ticks": ""
             }
            },
            "type": "scatter3d"
           }
          ],
          "scattercarpet": [
           {
            "marker": {
             "colorbar": {
              "outlinewidth": 0,
              "ticks": ""
             }
            },
            "type": "scattercarpet"
           }
          ],
          "scattergeo": [
           {
            "marker": {
             "colorbar": {
              "outlinewidth": 0,
              "ticks": ""
             }
            },
            "type": "scattergeo"
           }
          ],
          "scattergl": [
           {
            "marker": {
             "colorbar": {
              "outlinewidth": 0,
              "ticks": ""
             }
            },
            "type": "scattergl"
           }
          ],
          "scattermapbox": [
           {
            "marker": {
             "colorbar": {
              "outlinewidth": 0,
              "ticks": ""
             }
            },
            "type": "scattermapbox"
           }
          ],
          "scatterpolar": [
           {
            "marker": {
             "colorbar": {
              "outlinewidth": 0,
              "ticks": ""
             }
            },
            "type": "scatterpolar"
           }
          ],
          "scatterpolargl": [
           {
            "marker": {
             "colorbar": {
              "outlinewidth": 0,
              "ticks": ""
             }
            },
            "type": "scatterpolargl"
           }
          ],
          "scatterternary": [
           {
            "marker": {
             "colorbar": {
              "outlinewidth": 0,
              "ticks": ""
             }
            },
            "type": "scatterternary"
           }
          ],
          "surface": [
           {
            "colorbar": {
             "outlinewidth": 0,
             "ticks": ""
            },
            "colorscale": [
             [
              0,
              "#0d0887"
             ],
             [
              0.1111111111111111,
              "#46039f"
             ],
             [
              0.2222222222222222,
              "#7201a8"
             ],
             [
              0.3333333333333333,
              "#9c179e"
             ],
             [
              0.4444444444444444,
              "#bd3786"
             ],
             [
              0.5555555555555556,
              "#d8576b"
             ],
             [
              0.6666666666666666,
              "#ed7953"
             ],
             [
              0.7777777777777778,
              "#fb9f3a"
             ],
             [
              0.8888888888888888,
              "#fdca26"
             ],
             [
              1,
              "#f0f921"
             ]
            ],
            "type": "surface"
           }
          ],
          "table": [
           {
            "cells": {
             "fill": {
              "color": "#EBF0F8"
             },
             "line": {
              "color": "white"
             }
            },
            "header": {
             "fill": {
              "color": "#C8D4E3"
             },
             "line": {
              "color": "white"
             }
            },
            "type": "table"
           }
          ]
         },
         "layout": {
          "annotationdefaults": {
           "arrowcolor": "#2a3f5f",
           "arrowhead": 0,
           "arrowwidth": 1
          },
          "autotypenumbers": "strict",
          "coloraxis": {
           "colorbar": {
            "outlinewidth": 0,
            "ticks": ""
           }
          },
          "colorscale": {
           "diverging": [
            [
             0,
             "#8e0152"
            ],
            [
             0.1,
             "#c51b7d"
            ],
            [
             0.2,
             "#de77ae"
            ],
            [
             0.3,
             "#f1b6da"
            ],
            [
             0.4,
             "#fde0ef"
            ],
            [
             0.5,
             "#f7f7f7"
            ],
            [
             0.6,
             "#e6f5d0"
            ],
            [
             0.7,
             "#b8e186"
            ],
            [
             0.8,
             "#7fbc41"
            ],
            [
             0.9,
             "#4d9221"
            ],
            [
             1,
             "#276419"
            ]
           ],
           "sequential": [
            [
             0,
             "#0d0887"
            ],
            [
             0.1111111111111111,
             "#46039f"
            ],
            [
             0.2222222222222222,
             "#7201a8"
            ],
            [
             0.3333333333333333,
             "#9c179e"
            ],
            [
             0.4444444444444444,
             "#bd3786"
            ],
            [
             0.5555555555555556,
             "#d8576b"
            ],
            [
             0.6666666666666666,
             "#ed7953"
            ],
            [
             0.7777777777777778,
             "#fb9f3a"
            ],
            [
             0.8888888888888888,
             "#fdca26"
            ],
            [
             1,
             "#f0f921"
            ]
           ],
           "sequentialminus": [
            [
             0,
             "#0d0887"
            ],
            [
             0.1111111111111111,
             "#46039f"
            ],
            [
             0.2222222222222222,
             "#7201a8"
            ],
            [
             0.3333333333333333,
             "#9c179e"
            ],
            [
             0.4444444444444444,
             "#bd3786"
            ],
            [
             0.5555555555555556,
             "#d8576b"
            ],
            [
             0.6666666666666666,
             "#ed7953"
            ],
            [
             0.7777777777777778,
             "#fb9f3a"
            ],
            [
             0.8888888888888888,
             "#fdca26"
            ],
            [
             1,
             "#f0f921"
            ]
           ]
          },
          "colorway": [
           "#636efa",
           "#EF553B",
           "#00cc96",
           "#ab63fa",
           "#FFA15A",
           "#19d3f3",
           "#FF6692",
           "#B6E880",
           "#FF97FF",
           "#FECB52"
          ],
          "font": {
           "color": "#2a3f5f"
          },
          "geo": {
           "bgcolor": "white",
           "lakecolor": "white",
           "landcolor": "#E5ECF6",
           "showlakes": true,
           "showland": true,
           "subunitcolor": "white"
          },
          "hoverlabel": {
           "align": "left"
          },
          "hovermode": "closest",
          "mapbox": {
           "style": "light"
          },
          "paper_bgcolor": "rgba(0,0,0,0)",
          "plot_bgcolor": "rgba(0,0,0,0)",
          "polar": {
           "angularaxis": {
            "gridcolor": "white",
            "linecolor": "white",
            "ticks": ""
           },
           "bgcolor": "#E5ECF6",
           "radialaxis": {
            "gridcolor": "white",
            "linecolor": "white",
            "ticks": ""
           }
          },
          "scene": {
           "xaxis": {
            "backgroundcolor": "#E5ECF6",
            "gridcolor": "white",
            "gridwidth": 2,
            "linecolor": "white",
            "showbackground": true,
            "ticks": "",
            "zerolinecolor": "white"
           },
           "yaxis": {
            "backgroundcolor": "#E5ECF6",
            "gridcolor": "white",
            "gridwidth": 2,
            "linecolor": "white",
            "showbackground": true,
            "ticks": "",
            "zerolinecolor": "white"
           },
           "zaxis": {
            "backgroundcolor": "#E5ECF6",
            "gridcolor": "white",
            "gridwidth": 2,
            "linecolor": "white",
            "showbackground": true,
            "ticks": "",
            "zerolinecolor": "white"
           }
          },
          "shapedefaults": {
           "line": {
            "color": "#2a3f5f"
           }
          },
          "ternary": {
           "aaxis": {
            "gridcolor": "white",
            "linecolor": "white",
            "ticks": ""
           },
           "baxis": {
            "gridcolor": "white",
            "linecolor": "white",
            "ticks": ""
           },
           "bgcolor": "#E5ECF6",
           "caxis": {
            "gridcolor": "white",
            "linecolor": "white",
            "ticks": ""
           }
          },
          "title": {
           "x": 0.05
          },
          "xaxis": {
           "automargin": true,
           "gridcolor": "white",
           "linecolor": "white",
           "ticks": "",
           "title": {
            "standoff": 15
           },
           "zerolinecolor": "white",
           "zerolinewidth": 2
          },
          "yaxis": {
           "automargin": true,
           "gridcolor": "white",
           "linecolor": "white",
           "ticks": "",
           "title": {
            "standoff": 15
           },
           "zerolinecolor": "white",
           "zerolinewidth": 2
          }
         }
        },
        "title": {
         "text": "Stress correction factor @ 1488 mm"
        },
        "width": 1000
       }
      },
      "text/html": [
       "<div>                            <div id=\"0fba430b-47f8-4d6d-a12f-a194528a3a28\" class=\"plotly-graph-div\" style=\"height:800px; width:1000px;\"></div>            <script type=\"text/javascript\">                require([\"plotly\"], function(Plotly) {                    window.PLOTLYENV=window.PLOTLYENV || {};                                    if (document.getElementById(\"0fba430b-47f8-4d6d-a12f-a194528a3a28\")) {                    Plotly.newPlot(                        \"0fba430b-47f8-4d6d-a12f-a194528a3a28\",                        [{\"fill\":\"toself\",\"name\":\"Curvature 0.00 (0)\",\"r\":[0.0,0.0,0.0,0.0,0.0,0.0,0.0,0.0,0.0,0.0,0.0,0.0,0.0,0.0,0.0,0.0,0.0],\"theta\":[5.7983856201171875,21.450559616088867,44.92881774902344,68.4070816040039,91.88534545898438,115.36360168457031,138.84185791015625,154.49403381347656,177.97230529785156,201.4505615234375,224.92881774902344,248.40707397460938,271.8853454589844,295.36358642578125,318.84185791015625,334.4940490722656,5.7983856201171875],\"type\":\"scatterpolar\"},{\"fill\":\"toself\",\"name\":\"Curvature 0.00 (10)\",\"r\":[0.9589928835359443,0.9592596507419017,0.9590193053937239,0.9589191294771626,0.9591177323426187,0.9590380162451264,0.958874537968332,0.9589441618252181,0.9587920604814555,0.9590768721729953,0.9588697304163428,0.9588624087072595,0.9591144053243033,0.9591090329838573,0.959005605540936,0.9591264214836652,0.9589928835359443],\"theta\":[5.7983856201171875,21.450559616088867,44.92881774902344,68.4070816040039,91.88534545898438,115.36360168457031,138.84185791015625,154.49403381347656,177.97230529785156,201.4505615234375,224.92881774902344,248.40707397460938,271.8853454589844,295.36358642578125,318.84185791015625,334.4940490722656,5.7983856201171875],\"type\":\"scatterpolar\"},{\"fill\":\"toself\",\"name\":\"Curvature 0.01 (20)\",\"r\":[1.2215239943282787,1.1747708573347448,1.1165374129861154,1.063851020783829,0.9779916790342353,0.9483655327186401,0.9021860336854745,0.885098509410826,0.8856105949302407,0.8432316459040574,0.819002195052306,0.8118054698170976,0.7909165964998519,0.9038095380143232,1.0124902231770283,1.1086123376777877,1.2215239943282787],\"theta\":[5.7983856201171875,21.450559616088867,44.92881774902344,68.4070816040039,91.88534545898438,115.36360168457031,138.84185791015625,154.49403381347656,177.97230529785156,201.4505615234375,224.92881774902344,248.40707397460938,271.8853454589844,295.36358642578125,318.84185791015625,334.4940490722656,5.7983856201171875],\"type\":\"scatterpolar\"},{\"fill\":\"toself\",\"name\":\"Curvature 0.03 (30)\",\"r\":[1.3356288252310127,1.200663395575346,1.1060425967974201,1.0141585458071982,0.9537410023148298,0.9363238876534623,0.9386390854895017,0.9556583344730492,0.9996548402630416,0.907366681078158,0.8199137539481862,0.7362440124139893,0.6784111362257182,0.8063907762651736,0.9691043507474535,1.1325400144983753,1.3356288252310127],\"theta\":[5.7983856201171875,21.450559616088867,44.92881774902344,68.4070816040039,91.88534545898438,115.36360168457031,138.84185791015625,154.49403381347656,177.97230529785156,201.4505615234375,224.92881774902344,248.40707397460938,271.8853454589844,295.36358642578125,318.84185791015625,334.4940490722656,5.7983856201171875],\"type\":\"scatterpolar\"},{\"fill\":\"toself\",\"name\":\"Curvature 0.05 (41)\",\"r\":[1.454804906132746,1.236606405383745,1.100257468323476,0.9661836619211447,0.8947295725674402,0.9074315562553387,0.9533639885164319,1.0107502811300797,1.1094016627342962,0.9628122843773353,0.8314999550105088,0.7036538982387259,0.600863985620333,0.7574958491794274,0.9563662923516141,1.1706154400042297,1.454804906132746],\"theta\":[5.7983856201171875,21.450559616088867,44.92881774902344,68.4070816040039,91.88534545898438,115.36360168457031,138.84185791015625,154.49403381347656,177.97230529785156,201.4505615234375,224.92881774902344,248.40707397460938,271.8853454589844,295.36358642578125,318.84185791015625,334.4940490722656,5.7983856201171875],\"type\":\"scatterpolar\"},{\"fill\":\"toself\",\"name\":\"Curvature 0.06 (50)\",\"r\":[1.5424571983000361,1.2701719724425693,1.0986101078681458,0.9396524402127054,0.8451050621979679,0.8883594604379144,0.9601876430560261,1.044790387870862,1.1825536623550192,1.0003562294605264,0.843322673564489,0.692200489757741,0.5494605236381994,0.7295737253840522,0.957674296940215,1.201925103142577,1.5424571983000361],\"theta\":[5.7983856201171875,21.450559616088867,44.92881774902344,68.4070816040039,91.88534545898438,115.36360168457031,138.84185791015625,154.49403381347656,177.97230529785156,201.4505615234375,224.92881774902344,248.40707397460938,271.8853454589844,295.36358642578125,318.84185791015625,334.4940490722656,5.7983856201171875],\"type\":\"scatterpolar\"},{\"fill\":\"toself\",\"name\":\"Curvature 0.08 (60)\",\"r\":[1.6268727464148078,1.3028199714228919,1.1001639168550592,0.9194375125875782,0.7926160739857488,0.8714601318226016,0.9617931384706563,1.0729908805439032,1.2549675433515213,1.037213490523387,0.8583888591985868,0.6835598774910716,0.5028574837851544,0.7132123202313855,0.9625531132384456,1.2249056492209593,1.6268727464148078],\"theta\":[5.7983856201171875,21.450559616088867,44.92881774902344,68.4070816040039,91.88534545898438,115.36360168457031,138.84185791015625,154.49403381347656,177.97230529785156,201.4505615234375,224.92881774902344,248.40707397460938,271.8853454589844,295.36358642578125,318.84185791015625,334.4940490722656,5.7983856201171875],\"type\":\"scatterpolar\"},{\"fill\":\"toself\",\"name\":\"Curvature 0.10 (70)\",\"r\":[1.7077102294394404,1.3297883932237187,1.1041774350253708,0.906887813458242,0.7446016579591145,0.8585523327773945,0.9627746533339905,1.094926919125141,1.3243483417284867,1.0714304302010154,0.8752710777388033,0.6892817694175606,0.4636079447430379,0.7116903823155588,0.9666509176087329,1.2503881304987485,1.7077102294394404],\"theta\":[5.7983856201171875,21.450559616088867,44.92881774902344,68.4070816040039,91.88534545898438,115.36360168457031,138.84185791015625,154.49403381347656,177.97230529785156,201.4505615234375,224.92881774902344,248.40707397460938,271.8853454589844,295.36358642578125,318.84185791015625,334.4940490722656,5.7983856201171875],\"type\":\"scatterpolar\"}],                        {\"template\":{\"data\":{\"barpolar\":[{\"marker\":{\"line\":{\"color\":\"#E5ECF6\",\"width\":0.5},\"pattern\":{\"fillmode\":\"overlay\",\"size\":10,\"solidity\":0.2}},\"type\":\"barpolar\"}],\"bar\":[{\"error_x\":{\"color\":\"#2a3f5f\"},\"error_y\":{\"color\":\"#2a3f5f\"},\"marker\":{\"line\":{\"color\":\"#E5ECF6\",\"width\":0.5},\"pattern\":{\"fillmode\":\"overlay\",\"size\":10,\"solidity\":0.2}},\"type\":\"bar\"}],\"carpet\":[{\"aaxis\":{\"endlinecolor\":\"#2a3f5f\",\"gridcolor\":\"white\",\"linecolor\":\"white\",\"minorgridcolor\":\"white\",\"startlinecolor\":\"#2a3f5f\"},\"baxis\":{\"endlinecolor\":\"#2a3f5f\",\"gridcolor\":\"white\",\"linecolor\":\"white\",\"minorgridcolor\":\"white\",\"startlinecolor\":\"#2a3f5f\"},\"type\":\"carpet\"}],\"choropleth\":[{\"colorbar\":{\"outlinewidth\":0,\"ticks\":\"\"},\"type\":\"choropleth\"}],\"contourcarpet\":[{\"colorbar\":{\"outlinewidth\":0,\"ticks\":\"\"},\"type\":\"contourcarpet\"}],\"contour\":[{\"colorbar\":{\"outlinewidth\":0,\"ticks\":\"\"},\"colorscale\":[[0.0,\"#0d0887\"],[0.1111111111111111,\"#46039f\"],[0.2222222222222222,\"#7201a8\"],[0.3333333333333333,\"#9c179e\"],[0.4444444444444444,\"#bd3786\"],[0.5555555555555556,\"#d8576b\"],[0.6666666666666666,\"#ed7953\"],[0.7777777777777778,\"#fb9f3a\"],[0.8888888888888888,\"#fdca26\"],[1.0,\"#f0f921\"]],\"type\":\"contour\"}],\"heatmapgl\":[{\"colorbar\":{\"outlinewidth\":0,\"ticks\":\"\"},\"colorscale\":[[0.0,\"#0d0887\"],[0.1111111111111111,\"#46039f\"],[0.2222222222222222,\"#7201a8\"],[0.3333333333333333,\"#9c179e\"],[0.4444444444444444,\"#bd3786\"],[0.5555555555555556,\"#d8576b\"],[0.6666666666666666,\"#ed7953\"],[0.7777777777777778,\"#fb9f3a\"],[0.8888888888888888,\"#fdca26\"],[1.0,\"#f0f921\"]],\"type\":\"heatmapgl\"}],\"heatmap\":[{\"colorbar\":{\"outlinewidth\":0,\"ticks\":\"\"},\"colorscale\":[[0.0,\"#0d0887\"],[0.1111111111111111,\"#46039f\"],[0.2222222222222222,\"#7201a8\"],[0.3333333333333333,\"#9c179e\"],[0.4444444444444444,\"#bd3786\"],[0.5555555555555556,\"#d8576b\"],[0.6666666666666666,\"#ed7953\"],[0.7777777777777778,\"#fb9f3a\"],[0.8888888888888888,\"#fdca26\"],[1.0,\"#f0f921\"]],\"type\":\"heatmap\"}],\"histogram2dcontour\":[{\"colorbar\":{\"outlinewidth\":0,\"ticks\":\"\"},\"colorscale\":[[0.0,\"#0d0887\"],[0.1111111111111111,\"#46039f\"],[0.2222222222222222,\"#7201a8\"],[0.3333333333333333,\"#9c179e\"],[0.4444444444444444,\"#bd3786\"],[0.5555555555555556,\"#d8576b\"],[0.6666666666666666,\"#ed7953\"],[0.7777777777777778,\"#fb9f3a\"],[0.8888888888888888,\"#fdca26\"],[1.0,\"#f0f921\"]],\"type\":\"histogram2dcontour\"}],\"histogram2d\":[{\"colorbar\":{\"outlinewidth\":0,\"ticks\":\"\"},\"colorscale\":[[0.0,\"#0d0887\"],[0.1111111111111111,\"#46039f\"],[0.2222222222222222,\"#7201a8\"],[0.3333333333333333,\"#9c179e\"],[0.4444444444444444,\"#bd3786\"],[0.5555555555555556,\"#d8576b\"],[0.6666666666666666,\"#ed7953\"],[0.7777777777777778,\"#fb9f3a\"],[0.8888888888888888,\"#fdca26\"],[1.0,\"#f0f921\"]],\"type\":\"histogram2d\"}],\"histogram\":[{\"marker\":{\"pattern\":{\"fillmode\":\"overlay\",\"size\":10,\"solidity\":0.2}},\"type\":\"histogram\"}],\"mesh3d\":[{\"colorbar\":{\"outlinewidth\":0,\"ticks\":\"\"},\"type\":\"mesh3d\"}],\"parcoords\":[{\"line\":{\"colorbar\":{\"outlinewidth\":0,\"ticks\":\"\"}},\"type\":\"parcoords\"}],\"pie\":[{\"automargin\":true,\"type\":\"pie\"}],\"scatter3d\":[{\"line\":{\"colorbar\":{\"outlinewidth\":0,\"ticks\":\"\"}},\"marker\":{\"colorbar\":{\"outlinewidth\":0,\"ticks\":\"\"}},\"type\":\"scatter3d\"}],\"scattercarpet\":[{\"marker\":{\"colorbar\":{\"outlinewidth\":0,\"ticks\":\"\"}},\"type\":\"scattercarpet\"}],\"scattergeo\":[{\"marker\":{\"colorbar\":{\"outlinewidth\":0,\"ticks\":\"\"}},\"type\":\"scattergeo\"}],\"scattergl\":[{\"marker\":{\"colorbar\":{\"outlinewidth\":0,\"ticks\":\"\"}},\"type\":\"scattergl\"}],\"scattermapbox\":[{\"marker\":{\"colorbar\":{\"outlinewidth\":0,\"ticks\":\"\"}},\"type\":\"scattermapbox\"}],\"scatterpolargl\":[{\"marker\":{\"colorbar\":{\"outlinewidth\":0,\"ticks\":\"\"}},\"type\":\"scatterpolargl\"}],\"scatterpolar\":[{\"marker\":{\"colorbar\":{\"outlinewidth\":0,\"ticks\":\"\"}},\"type\":\"scatterpolar\"}],\"scatter\":[{\"marker\":{\"colorbar\":{\"outlinewidth\":0,\"ticks\":\"\"}},\"type\":\"scatter\"}],\"scatterternary\":[{\"marker\":{\"colorbar\":{\"outlinewidth\":0,\"ticks\":\"\"}},\"type\":\"scatterternary\"}],\"surface\":[{\"colorbar\":{\"outlinewidth\":0,\"ticks\":\"\"},\"colorscale\":[[0.0,\"#0d0887\"],[0.1111111111111111,\"#46039f\"],[0.2222222222222222,\"#7201a8\"],[0.3333333333333333,\"#9c179e\"],[0.4444444444444444,\"#bd3786\"],[0.5555555555555556,\"#d8576b\"],[0.6666666666666666,\"#ed7953\"],[0.7777777777777778,\"#fb9f3a\"],[0.8888888888888888,\"#fdca26\"],[1.0,\"#f0f921\"]],\"type\":\"surface\"}],\"table\":[{\"cells\":{\"fill\":{\"color\":\"#EBF0F8\"},\"line\":{\"color\":\"white\"}},\"header\":{\"fill\":{\"color\":\"#C8D4E3\"},\"line\":{\"color\":\"white\"}},\"type\":\"table\"}]},\"layout\":{\"annotationdefaults\":{\"arrowcolor\":\"#2a3f5f\",\"arrowhead\":0,\"arrowwidth\":1},\"autotypenumbers\":\"strict\",\"coloraxis\":{\"colorbar\":{\"outlinewidth\":0,\"ticks\":\"\"}},\"colorscale\":{\"diverging\":[[0,\"#8e0152\"],[0.1,\"#c51b7d\"],[0.2,\"#de77ae\"],[0.3,\"#f1b6da\"],[0.4,\"#fde0ef\"],[0.5,\"#f7f7f7\"],[0.6,\"#e6f5d0\"],[0.7,\"#b8e186\"],[0.8,\"#7fbc41\"],[0.9,\"#4d9221\"],[1,\"#276419\"]],\"sequential\":[[0.0,\"#0d0887\"],[0.1111111111111111,\"#46039f\"],[0.2222222222222222,\"#7201a8\"],[0.3333333333333333,\"#9c179e\"],[0.4444444444444444,\"#bd3786\"],[0.5555555555555556,\"#d8576b\"],[0.6666666666666666,\"#ed7953\"],[0.7777777777777778,\"#fb9f3a\"],[0.8888888888888888,\"#fdca26\"],[1.0,\"#f0f921\"]],\"sequentialminus\":[[0.0,\"#0d0887\"],[0.1111111111111111,\"#46039f\"],[0.2222222222222222,\"#7201a8\"],[0.3333333333333333,\"#9c179e\"],[0.4444444444444444,\"#bd3786\"],[0.5555555555555556,\"#d8576b\"],[0.6666666666666666,\"#ed7953\"],[0.7777777777777778,\"#fb9f3a\"],[0.8888888888888888,\"#fdca26\"],[1.0,\"#f0f921\"]]},\"colorway\":[\"#636efa\",\"#EF553B\",\"#00cc96\",\"#ab63fa\",\"#FFA15A\",\"#19d3f3\",\"#FF6692\",\"#B6E880\",\"#FF97FF\",\"#FECB52\"],\"font\":{\"color\":\"#2a3f5f\"},\"geo\":{\"bgcolor\":\"white\",\"lakecolor\":\"white\",\"landcolor\":\"#E5ECF6\",\"showlakes\":true,\"showland\":true,\"subunitcolor\":\"white\"},\"hoverlabel\":{\"align\":\"left\"},\"hovermode\":\"closest\",\"mapbox\":{\"style\":\"light\"},\"paper_bgcolor\":\"rgba(0,0,0,0)\",\"plot_bgcolor\":\"rgba(0,0,0,0)\",\"polar\":{\"angularaxis\":{\"gridcolor\":\"white\",\"linecolor\":\"white\",\"ticks\":\"\"},\"bgcolor\":\"#E5ECF6\",\"radialaxis\":{\"gridcolor\":\"white\",\"linecolor\":\"white\",\"ticks\":\"\"}},\"scene\":{\"xaxis\":{\"backgroundcolor\":\"#E5ECF6\",\"gridcolor\":\"white\",\"gridwidth\":2,\"linecolor\":\"white\",\"showbackground\":true,\"ticks\":\"\",\"zerolinecolor\":\"white\"},\"yaxis\":{\"backgroundcolor\":\"#E5ECF6\",\"gridcolor\":\"white\",\"gridwidth\":2,\"linecolor\":\"white\",\"showbackground\":true,\"ticks\":\"\",\"zerolinecolor\":\"white\"},\"zaxis\":{\"backgroundcolor\":\"#E5ECF6\",\"gridcolor\":\"white\",\"gridwidth\":2,\"linecolor\":\"white\",\"showbackground\":true,\"ticks\":\"\",\"zerolinecolor\":\"white\"}},\"shapedefaults\":{\"line\":{\"color\":\"#2a3f5f\"}},\"ternary\":{\"aaxis\":{\"gridcolor\":\"white\",\"linecolor\":\"white\",\"ticks\":\"\"},\"baxis\":{\"gridcolor\":\"white\",\"linecolor\":\"white\",\"ticks\":\"\"},\"bgcolor\":\"#E5ECF6\",\"caxis\":{\"gridcolor\":\"white\",\"linecolor\":\"white\",\"ticks\":\"\"}},\"title\":{\"x\":0.05},\"xaxis\":{\"automargin\":true,\"gridcolor\":\"white\",\"linecolor\":\"white\",\"ticks\":\"\",\"title\":{\"standoff\":15},\"zerolinecolor\":\"white\",\"zerolinewidth\":2},\"yaxis\":{\"automargin\":true,\"gridcolor\":\"white\",\"linecolor\":\"white\",\"ticks\":\"\",\"title\":{\"standoff\":15},\"zerolinecolor\":\"white\",\"zerolinewidth\":2}}},\"polar\":{\"radialaxis\":{\"visible\":true,\"range\":[0,2.0]}},\"showlegend\":true,\"font\":{\"color\":\"white\"},\"title\":{\"text\":\"Stress correction factor @ 1488 mm\"},\"autosize\":false,\"width\":1000,\"height\":800},                        {\"responsive\": true}                    ).then(function(){\n",
       "                            \n",
       "var gd = document.getElementById('0fba430b-47f8-4d6d-a12f-a194528a3a28');\n",
       "var x = new MutationObserver(function (mutations, observer) {{\n",
       "        var display = window.getComputedStyle(gd).display;\n",
       "        if (!display || display === 'none') {{\n",
       "            console.log([gd, 'removed!']);\n",
       "            Plotly.purge(gd);\n",
       "            observer.disconnect();\n",
       "        }}\n",
       "}});\n",
       "\n",
       "// Listen for the removal of the full notebook cells\n",
       "var notebookContainer = gd.closest('#notebook-container');\n",
       "if (notebookContainer) {{\n",
       "    x.observe(notebookContainer, {childList: true});\n",
       "}}\n",
       "\n",
       "// Listen for the clearing of the current output cell\n",
       "var outputEl = gd.closest('.output');\n",
       "if (outputEl) {{\n",
       "    x.observe(outputEl, {childList: true});\n",
       "}}\n",
       "\n",
       "                        })                };                });            </script>        </div>"
      ]
     },
     "metadata": {},
     "output_type": "display_data"
    }
   ],
   "source": [
    "# Plotting\n",
    "fig_scf = go.Figure()\n",
    "positions = sorted(list(set(df_scf.z)))\n",
    "pos = 22\n",
    "for inc in range(0, 71, 10):\n",
    "\n",
    "    while inc in bad_incs:\n",
    "        inc += 1\n",
    "    \n",
    "    # Extrat specific positinos\n",
    "    df_plot = df_scf[(df_scf.inc==inc) & (df_scf.z==positions[pos])]\n",
    "    df_plot = df_plot.append(df_plot.iloc[0]).reset_index()\n",
    "\n",
    "    # Find curvature\n",
    "    curv = df_plot.curv.iloc[0]\n",
    "\n",
    "    # Plot\n",
    "    fig_scf.add_trace(go.Scatterpolar(r=df_plot['scf'],\n",
    "                                  theta=df_plot['theta'],\n",
    "                                  fill='toself',\n",
    "                                  name=f'Curvature {curv:.2f} ({inc})'\n",
    "                                  ))\n",
    "\n",
    "fig_scf.update_layout(\n",
    "    polar=dict(\n",
    "        radialaxis=dict(\n",
    "            visible=True,\n",
    "            range=[0, 2.]\n",
    "        )),\n",
    "    showlegend=True\n",
    ")\n",
    "\n",
    "fig_scf.update_layout(title=f'Stress correction factor @ {positions[pos]} mm',\n",
    "                      autosize=False,\n",
    "                      font=dict(color='white'),\n",
    "                      width=1000, height=800)\n",
    "\n",
    "fig_scf.show()"
   ]
  },
  {
   "cell_type": "code",
   "execution_count": 659,
   "id": "db4bf08d",
   "metadata": {},
   "outputs": [
    {
     "data": {
      "text/html": [
       "<div>\n",
       "<style scoped>\n",
       "    .dataframe tbody tr th:only-of-type {\n",
       "        vertical-align: middle;\n",
       "    }\n",
       "\n",
       "    .dataframe tbody tr th {\n",
       "        vertical-align: top;\n",
       "    }\n",
       "\n",
       "    .dataframe thead th {\n",
       "        text-align: right;\n",
       "    }\n",
       "</style>\n",
       "<table border=\"1\" class=\"dataframe\">\n",
       "  <thead>\n",
       "    <tr style=\"text-align: right;\">\n",
       "      <th></th>\n",
       "      <th>index</th>\n",
       "      <th>inc</th>\n",
       "      <th>z</th>\n",
       "      <th>theta</th>\n",
       "      <th>curv</th>\n",
       "      <th>stress</th>\n",
       "      <th>stress_bflex</th>\n",
       "      <th>scf</th>\n",
       "    </tr>\n",
       "  </thead>\n",
       "  <tbody>\n",
       "    <tr>\n",
       "      <th>0</th>\n",
       "      <td>0</td>\n",
       "      <td>70.0</td>\n",
       "      <td>1426.0</td>\n",
       "      <td>-88.48</td>\n",
       "      <td>0.1</td>\n",
       "      <td>29.35</td>\n",
       "      <td>191.36</td>\n",
       "      <td>0.15</td>\n",
       "    </tr>\n",
       "    <tr>\n",
       "      <th>1</th>\n",
       "      <td>1</td>\n",
       "      <td>70.0</td>\n",
       "      <td>1426.0</td>\n",
       "      <td>-65.00</td>\n",
       "      <td>0.1</td>\n",
       "      <td>33.88</td>\n",
       "      <td>252.76</td>\n",
       "      <td>0.13</td>\n",
       "    </tr>\n",
       "    <tr>\n",
       "      <th>2</th>\n",
       "      <td>2</td>\n",
       "      <td>70.0</td>\n",
       "      <td>1426.0</td>\n",
       "      <td>-41.52</td>\n",
       "      <td>0.1</td>\n",
       "      <td>64.52</td>\n",
       "      <td>303.53</td>\n",
       "      <td>0.21</td>\n",
       "    </tr>\n",
       "    <tr>\n",
       "      <th>3</th>\n",
       "      <td>3</td>\n",
       "      <td>70.0</td>\n",
       "      <td>1426.0</td>\n",
       "      <td>-25.87</td>\n",
       "      <td>0.1</td>\n",
       "      <td>93.19</td>\n",
       "      <td>335.93</td>\n",
       "      <td>0.28</td>\n",
       "    </tr>\n",
       "    <tr>\n",
       "      <th>4</th>\n",
       "      <td>4</td>\n",
       "      <td>70.0</td>\n",
       "      <td>1426.0</td>\n",
       "      <td>-2.39</td>\n",
       "      <td>0.1</td>\n",
       "      <td>156.89</td>\n",
       "      <td>345.10</td>\n",
       "      <td>0.45</td>\n",
       "    </tr>\n",
       "    <tr>\n",
       "      <th>5</th>\n",
       "      <td>5</td>\n",
       "      <td>70.0</td>\n",
       "      <td>1426.0</td>\n",
       "      <td>21.09</td>\n",
       "      <td>0.1</td>\n",
       "      <td>230.04</td>\n",
       "      <td>358.52</td>\n",
       "      <td>0.64</td>\n",
       "    </tr>\n",
       "    <tr>\n",
       "      <th>6</th>\n",
       "      <td>6</td>\n",
       "      <td>70.0</td>\n",
       "      <td>1426.0</td>\n",
       "      <td>44.57</td>\n",
       "      <td>0.1</td>\n",
       "      <td>288.82</td>\n",
       "      <td>345.20</td>\n",
       "      <td>0.84</td>\n",
       "    </tr>\n",
       "    <tr>\n",
       "      <th>7</th>\n",
       "      <td>7</td>\n",
       "      <td>70.0</td>\n",
       "      <td>1426.0</td>\n",
       "      <td>68.05</td>\n",
       "      <td>0.1</td>\n",
       "      <td>315.62</td>\n",
       "      <td>307.18</td>\n",
       "      <td>1.03</td>\n",
       "    </tr>\n",
       "    <tr>\n",
       "      <th>8</th>\n",
       "      <td>8</td>\n",
       "      <td>70.0</td>\n",
       "      <td>1426.0</td>\n",
       "      <td>91.52</td>\n",
       "      <td>0.1</td>\n",
       "      <td>322.32</td>\n",
       "      <td>250.56</td>\n",
       "      <td>1.29</td>\n",
       "    </tr>\n",
       "    <tr>\n",
       "      <th>9</th>\n",
       "      <td>9</td>\n",
       "      <td>70.0</td>\n",
       "      <td>1426.0</td>\n",
       "      <td>115.00</td>\n",
       "      <td>0.1</td>\n",
       "      <td>340.11</td>\n",
       "      <td>307.45</td>\n",
       "      <td>1.11</td>\n",
       "    </tr>\n",
       "    <tr>\n",
       "      <th>10</th>\n",
       "      <td>10</td>\n",
       "      <td>70.0</td>\n",
       "      <td>1426.0</td>\n",
       "      <td>138.48</td>\n",
       "      <td>0.1</td>\n",
       "      <td>333.97</td>\n",
       "      <td>345.38</td>\n",
       "      <td>0.97</td>\n",
       "    </tr>\n",
       "    <tr>\n",
       "      <th>11</th>\n",
       "      <td>11</td>\n",
       "      <td>70.0</td>\n",
       "      <td>1426.0</td>\n",
       "      <td>154.13</td>\n",
       "      <td>0.1</td>\n",
       "      <td>309.67</td>\n",
       "      <td>358.58</td>\n",
       "      <td>0.86</td>\n",
       "    </tr>\n",
       "    <tr>\n",
       "      <th>12</th>\n",
       "      <td>12</td>\n",
       "      <td>70.0</td>\n",
       "      <td>1426.0</td>\n",
       "      <td>177.61</td>\n",
       "      <td>0.1</td>\n",
       "      <td>250.34</td>\n",
       "      <td>345.10</td>\n",
       "      <td>0.73</td>\n",
       "    </tr>\n",
       "    <tr>\n",
       "      <th>13</th>\n",
       "      <td>13</td>\n",
       "      <td>70.0</td>\n",
       "      <td>1426.0</td>\n",
       "      <td>201.09</td>\n",
       "      <td>0.1</td>\n",
       "      <td>199.07</td>\n",
       "      <td>335.87</td>\n",
       "      <td>0.59</td>\n",
       "    </tr>\n",
       "    <tr>\n",
       "      <th>14</th>\n",
       "      <td>14</td>\n",
       "      <td>70.0</td>\n",
       "      <td>1426.0</td>\n",
       "      <td>224.57</td>\n",
       "      <td>0.1</td>\n",
       "      <td>122.31</td>\n",
       "      <td>303.35</td>\n",
       "      <td>0.40</td>\n",
       "    </tr>\n",
       "    <tr>\n",
       "      <th>15</th>\n",
       "      <td>15</td>\n",
       "      <td>70.0</td>\n",
       "      <td>1426.0</td>\n",
       "      <td>248.05</td>\n",
       "      <td>0.1</td>\n",
       "      <td>68.30</td>\n",
       "      <td>252.49</td>\n",
       "      <td>0.27</td>\n",
       "    </tr>\n",
       "    <tr>\n",
       "      <th>16</th>\n",
       "      <td>0</td>\n",
       "      <td>70.0</td>\n",
       "      <td>1426.0</td>\n",
       "      <td>-88.48</td>\n",
       "      <td>0.1</td>\n",
       "      <td>29.35</td>\n",
       "      <td>191.36</td>\n",
       "      <td>0.15</td>\n",
       "    </tr>\n",
       "  </tbody>\n",
       "</table>\n",
       "</div>"
      ],
      "text/plain": [
       "    index   inc       z   theta  curv  stress  stress_bflex   scf\n",
       "0       0  70.0  1426.0  -88.48   0.1   29.35        191.36  0.15\n",
       "1       1  70.0  1426.0  -65.00   0.1   33.88        252.76  0.13\n",
       "2       2  70.0  1426.0  -41.52   0.1   64.52        303.53  0.21\n",
       "3       3  70.0  1426.0  -25.87   0.1   93.19        335.93  0.28\n",
       "4       4  70.0  1426.0   -2.39   0.1  156.89        345.10  0.45\n",
       "5       5  70.0  1426.0   21.09   0.1  230.04        358.52  0.64\n",
       "6       6  70.0  1426.0   44.57   0.1  288.82        345.20  0.84\n",
       "7       7  70.0  1426.0   68.05   0.1  315.62        307.18  1.03\n",
       "8       8  70.0  1426.0   91.52   0.1  322.32        250.56  1.29\n",
       "9       9  70.0  1426.0  115.00   0.1  340.11        307.45  1.11\n",
       "10     10  70.0  1426.0  138.48   0.1  333.97        345.38  0.97\n",
       "11     11  70.0  1426.0  154.13   0.1  309.67        358.58  0.86\n",
       "12     12  70.0  1426.0  177.61   0.1  250.34        345.10  0.73\n",
       "13     13  70.0  1426.0  201.09   0.1  199.07        335.87  0.59\n",
       "14     14  70.0  1426.0  224.57   0.1  122.31        303.35  0.40\n",
       "15     15  70.0  1426.0  248.05   0.1   68.30        252.49  0.27\n",
       "16      0  70.0  1426.0  -88.48   0.1   29.35        191.36  0.15"
      ]
     },
     "execution_count": 659,
     "metadata": {},
     "output_type": "execute_result"
    }
   ],
   "source": [
    "df_plot"
   ]
  },
  {
   "cell_type": "code",
   "execution_count": 655,
   "id": "a4086424",
   "metadata": {},
   "outputs": [
    {
     "data": {
      "text/html": [
       "<div>\n",
       "<style scoped>\n",
       "    .dataframe tbody tr th:only-of-type {\n",
       "        vertical-align: middle;\n",
       "    }\n",
       "\n",
       "    .dataframe tbody tr th {\n",
       "        vertical-align: top;\n",
       "    }\n",
       "\n",
       "    .dataframe thead th {\n",
       "        text-align: right;\n",
       "    }\n",
       "</style>\n",
       "<table border=\"1\" class=\"dataframe\">\n",
       "  <thead>\n",
       "    <tr style=\"text-align: right;\">\n",
       "      <th></th>\n",
       "      <th>index</th>\n",
       "      <th>inc</th>\n",
       "      <th>z</th>\n",
       "      <th>theta</th>\n",
       "      <th>curv</th>\n",
       "      <th>stress</th>\n",
       "      <th>stress_bflex</th>\n",
       "      <th>scf</th>\n",
       "    </tr>\n",
       "  </thead>\n",
       "  <tbody>\n",
       "    <tr>\n",
       "      <th>0</th>\n",
       "      <td>0</td>\n",
       "      <td>70.0</td>\n",
       "      <td>1426.0</td>\n",
       "      <td>-88.48</td>\n",
       "      <td>0.1</td>\n",
       "      <td>29.35</td>\n",
       "      <td>191.36</td>\n",
       "      <td>0.15</td>\n",
       "    </tr>\n",
       "    <tr>\n",
       "      <th>1</th>\n",
       "      <td>1</td>\n",
       "      <td>70.0</td>\n",
       "      <td>1426.0</td>\n",
       "      <td>-65.00</td>\n",
       "      <td>0.1</td>\n",
       "      <td>33.88</td>\n",
       "      <td>252.76</td>\n",
       "      <td>0.13</td>\n",
       "    </tr>\n",
       "    <tr>\n",
       "      <th>2</th>\n",
       "      <td>2</td>\n",
       "      <td>70.0</td>\n",
       "      <td>1426.0</td>\n",
       "      <td>-41.52</td>\n",
       "      <td>0.1</td>\n",
       "      <td>64.52</td>\n",
       "      <td>303.53</td>\n",
       "      <td>0.21</td>\n",
       "    </tr>\n",
       "    <tr>\n",
       "      <th>3</th>\n",
       "      <td>3</td>\n",
       "      <td>70.0</td>\n",
       "      <td>1426.0</td>\n",
       "      <td>-25.87</td>\n",
       "      <td>0.1</td>\n",
       "      <td>93.19</td>\n",
       "      <td>335.93</td>\n",
       "      <td>0.28</td>\n",
       "    </tr>\n",
       "    <tr>\n",
       "      <th>4</th>\n",
       "      <td>4</td>\n",
       "      <td>70.0</td>\n",
       "      <td>1426.0</td>\n",
       "      <td>-2.39</td>\n",
       "      <td>0.1</td>\n",
       "      <td>156.89</td>\n",
       "      <td>345.10</td>\n",
       "      <td>0.45</td>\n",
       "    </tr>\n",
       "    <tr>\n",
       "      <th>5</th>\n",
       "      <td>5</td>\n",
       "      <td>70.0</td>\n",
       "      <td>1426.0</td>\n",
       "      <td>21.09</td>\n",
       "      <td>0.1</td>\n",
       "      <td>230.04</td>\n",
       "      <td>358.52</td>\n",
       "      <td>0.64</td>\n",
       "    </tr>\n",
       "    <tr>\n",
       "      <th>6</th>\n",
       "      <td>6</td>\n",
       "      <td>70.0</td>\n",
       "      <td>1426.0</td>\n",
       "      <td>44.57</td>\n",
       "      <td>0.1</td>\n",
       "      <td>288.82</td>\n",
       "      <td>345.20</td>\n",
       "      <td>0.84</td>\n",
       "    </tr>\n",
       "    <tr>\n",
       "      <th>7</th>\n",
       "      <td>7</td>\n",
       "      <td>70.0</td>\n",
       "      <td>1426.0</td>\n",
       "      <td>68.05</td>\n",
       "      <td>0.1</td>\n",
       "      <td>315.62</td>\n",
       "      <td>307.18</td>\n",
       "      <td>1.03</td>\n",
       "    </tr>\n",
       "    <tr>\n",
       "      <th>8</th>\n",
       "      <td>8</td>\n",
       "      <td>70.0</td>\n",
       "      <td>1426.0</td>\n",
       "      <td>91.52</td>\n",
       "      <td>0.1</td>\n",
       "      <td>322.32</td>\n",
       "      <td>250.56</td>\n",
       "      <td>1.29</td>\n",
       "    </tr>\n",
       "    <tr>\n",
       "      <th>9</th>\n",
       "      <td>9</td>\n",
       "      <td>70.0</td>\n",
       "      <td>1426.0</td>\n",
       "      <td>115.00</td>\n",
       "      <td>0.1</td>\n",
       "      <td>340.11</td>\n",
       "      <td>307.45</td>\n",
       "      <td>1.11</td>\n",
       "    </tr>\n",
       "    <tr>\n",
       "      <th>10</th>\n",
       "      <td>10</td>\n",
       "      <td>70.0</td>\n",
       "      <td>1426.0</td>\n",
       "      <td>138.48</td>\n",
       "      <td>0.1</td>\n",
       "      <td>333.97</td>\n",
       "      <td>345.38</td>\n",
       "      <td>0.97</td>\n",
       "    </tr>\n",
       "    <tr>\n",
       "      <th>11</th>\n",
       "      <td>11</td>\n",
       "      <td>70.0</td>\n",
       "      <td>1426.0</td>\n",
       "      <td>154.13</td>\n",
       "      <td>0.1</td>\n",
       "      <td>309.67</td>\n",
       "      <td>358.58</td>\n",
       "      <td>0.86</td>\n",
       "    </tr>\n",
       "    <tr>\n",
       "      <th>12</th>\n",
       "      <td>12</td>\n",
       "      <td>70.0</td>\n",
       "      <td>1426.0</td>\n",
       "      <td>177.61</td>\n",
       "      <td>0.1</td>\n",
       "      <td>250.34</td>\n",
       "      <td>345.10</td>\n",
       "      <td>0.73</td>\n",
       "    </tr>\n",
       "    <tr>\n",
       "      <th>13</th>\n",
       "      <td>13</td>\n",
       "      <td>70.0</td>\n",
       "      <td>1426.0</td>\n",
       "      <td>201.09</td>\n",
       "      <td>0.1</td>\n",
       "      <td>199.07</td>\n",
       "      <td>335.87</td>\n",
       "      <td>0.59</td>\n",
       "    </tr>\n",
       "    <tr>\n",
       "      <th>14</th>\n",
       "      <td>14</td>\n",
       "      <td>70.0</td>\n",
       "      <td>1426.0</td>\n",
       "      <td>224.57</td>\n",
       "      <td>0.1</td>\n",
       "      <td>122.31</td>\n",
       "      <td>303.35</td>\n",
       "      <td>0.40</td>\n",
       "    </tr>\n",
       "    <tr>\n",
       "      <th>15</th>\n",
       "      <td>15</td>\n",
       "      <td>70.0</td>\n",
       "      <td>1426.0</td>\n",
       "      <td>248.05</td>\n",
       "      <td>0.1</td>\n",
       "      <td>68.30</td>\n",
       "      <td>252.49</td>\n",
       "      <td>0.27</td>\n",
       "    </tr>\n",
       "    <tr>\n",
       "      <th>16</th>\n",
       "      <td>0</td>\n",
       "      <td>70.0</td>\n",
       "      <td>1426.0</td>\n",
       "      <td>-88.48</td>\n",
       "      <td>0.1</td>\n",
       "      <td>29.35</td>\n",
       "      <td>191.36</td>\n",
       "      <td>0.15</td>\n",
       "    </tr>\n",
       "  </tbody>\n",
       "</table>\n",
       "</div>"
      ],
      "text/plain": [
       "    index   inc       z   theta  curv  stress  stress_bflex   scf\n",
       "0       0  70.0  1426.0  -88.48   0.1   29.35        191.36  0.15\n",
       "1       1  70.0  1426.0  -65.00   0.1   33.88        252.76  0.13\n",
       "2       2  70.0  1426.0  -41.52   0.1   64.52        303.53  0.21\n",
       "3       3  70.0  1426.0  -25.87   0.1   93.19        335.93  0.28\n",
       "4       4  70.0  1426.0   -2.39   0.1  156.89        345.10  0.45\n",
       "5       5  70.0  1426.0   21.09   0.1  230.04        358.52  0.64\n",
       "6       6  70.0  1426.0   44.57   0.1  288.82        345.20  0.84\n",
       "7       7  70.0  1426.0   68.05   0.1  315.62        307.18  1.03\n",
       "8       8  70.0  1426.0   91.52   0.1  322.32        250.56  1.29\n",
       "9       9  70.0  1426.0  115.00   0.1  340.11        307.45  1.11\n",
       "10     10  70.0  1426.0  138.48   0.1  333.97        345.38  0.97\n",
       "11     11  70.0  1426.0  154.13   0.1  309.67        358.58  0.86\n",
       "12     12  70.0  1426.0  177.61   0.1  250.34        345.10  0.73\n",
       "13     13  70.0  1426.0  201.09   0.1  199.07        335.87  0.59\n",
       "14     14  70.0  1426.0  224.57   0.1  122.31        303.35  0.40\n",
       "15     15  70.0  1426.0  248.05   0.1   68.30        252.49  0.27\n",
       "16      0  70.0  1426.0  -88.48   0.1   29.35        191.36  0.15"
      ]
     },
     "execution_count": 655,
     "metadata": {},
     "output_type": "execute_result"
    }
   ],
   "source": [
    "df_plot.append(df_plot.iloc[0]).reset_index()\n"
   ]
  },
  {
   "cell_type": "markdown",
   "id": "4e67dcca",
   "metadata": {},
   "source": [
    "## Examples"
   ]
  },
  {
   "cell_type": "code",
   "execution_count": null,
   "id": "6e596c72",
   "metadata": {},
   "outputs": [],
   "source": [
    "# Plotly 3d surface with color - Example\n",
    "df_plot = df_marc.where(df_marc['inc']==60).dropna()\n",
    "\n",
    "df_plot['x'] = 200.0 * np.sin(df_plot['theta'])\n",
    "df_plot['y'] = 200.0 * np.cos(df_plot['theta'])\n",
    "\n",
    "fig = go.Figure()\n",
    "\n",
    "fig.add_trace(go.Surface(\n",
    "    x=df_plot['x'].tolist()[0:100],\n",
    "    y=df_plot['y'].tolist()[0:100],\n",
    "    z=[df_plot['z'].tolist()[0:100]]*100,\n",
    "    surfacecolor=df_plot['stress'].tolist()[0:10]\n",
    "))\n",
    "fig.update_layout(title='Stress', autosize=True,\n",
    "                  width=1000, height=800)\n",
    "\n",
    "fig.update_layout(scene=dict(xaxis=dict(range=[-200, 200]),\n",
    "                             yaxis=dict(range=[-200, 200]),\n",
    "                             zaxis=dict(range=[0, 4000])\n",
    "))\n",
    "fig.show()"
   ]
  },
  {
   "cell_type": "code",
   "execution_count": null,
   "id": "0a3c24ef",
   "metadata": {},
   "outputs": [],
   "source": [
    "# Plotly express\n",
    "fig = px.line_polar(df_marc, r='stress', theta='theta', line_close=True)\n",
    "fig.update_traces(fill='toself')\n",
    "fig.show()"
   ]
  },
  {
   "cell_type": "markdown",
   "id": "a4fca5db",
   "metadata": {},
   "source": [
    "## Read marc input"
   ]
  },
  {
   "cell_type": "code",
   "execution_count": null,
   "id": "d07e947a",
   "metadata": {},
   "outputs": [],
   "source": [
    "mf = Path(r'\\\\nas-ask-001\\Projects\\1993_Pierce_GIR_fatigue\\Marc\\analysis\\NOV_8inch_GIR_3p_with_bs_g3_job1.h5')\n",
    "\n",
    "with h5py.File(mf, 'r') as f:\n",
    "    print(f'Keys {f[\"Marc\"][\"Results\"][\"Element\"][\"Tensor\"][\"Cauchy Stress in Preferred Sys\"].keys()}')\n"
   ]
  },
  {
   "cell_type": "code",
   "execution_count": null,
   "id": "a313007a",
   "metadata": {},
   "outputs": [],
   "source": []
  }
 ],
 "metadata": {
  "interpreter": {
   "hash": "1baa965d5efe3ac65b79dfc60c0d706280b1da80fedb7760faf2759126c4f253"
  },
  "kernelspec": {
   "display_name": "marc-tools",
   "language": "python",
   "name": "python3"
  },
  "language_info": {
   "codemirror_mode": {
    "name": "ipython",
    "version": 3
   },
   "file_extension": ".py",
   "mimetype": "text/x-python",
   "name": "python",
   "nbconvert_exporter": "python",
   "pygments_lexer": "ipython3",
   "version": "3.8.10"
  },
  "toc": {
   "base_numbering": 1,
   "nav_menu": {},
   "number_sections": true,
   "sideBar": true,
   "skip_h1_title": false,
   "title_cell": "Table of Contents",
   "title_sidebar": "Contents",
   "toc_cell": false,
   "toc_position": {},
   "toc_section_display": true,
   "toc_window_display": false
  },
  "varInspector": {
   "cols": {
    "lenName": 16,
    "lenType": 16,
    "lenVar": 40
   },
   "kernels_config": {
    "python": {
     "delete_cmd_postfix": "",
     "delete_cmd_prefix": "del ",
     "library": "var_list.py",
     "varRefreshCmd": "print(var_dic_list())"
    },
    "r": {
     "delete_cmd_postfix": ") ",
     "delete_cmd_prefix": "rm(",
     "library": "var_list.r",
     "varRefreshCmd": "cat(var_dic_list()) "
    }
   },
   "types_to_exclude": [
    "module",
    "function",
    "builtin_function_or_method",
    "instance",
    "_Feature"
   ],
   "window_display": false
  }
 },
 "nbformat": 4,
 "nbformat_minor": 5
}

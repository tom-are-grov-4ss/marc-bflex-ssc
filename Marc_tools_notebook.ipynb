{
 "cells": [
  {
   "cell_type": "markdown",
   "id": "655ef8b7",
   "metadata": {
    "ExecuteTime": {
     "end_time": "2022-01-12T14:33:54.844078Z",
     "start_time": "2022-01-12T14:33:54.826199Z"
    }
   },
   "source": [
    "# Marc tools"
   ]
  },
  {
   "cell_type": "markdown",
   "id": "2ccf6f8c",
   "metadata": {
    "ExecuteTime": {
     "end_time": "2022-01-12T14:34:06.585963Z",
     "start_time": "2022-01-12T14:34:06.576972Z"
    }
   },
   "source": [
    "## Import"
   ]
  },
  {
   "cell_type": "code",
   "execution_count": null,
   "id": "6aca0cb9",
   "metadata": {},
   "outputs": [],
   "source": [
    "import os\n",
    "import plotly\n",
    "import importlib\n",
    "import re\n",
    "import h5py\n",
    "\n",
    "import numpy as np\n",
    "import pandas as pd\n",
    "import plotly.io as pio\n",
    "import plotly.graph_objs as go\n",
    "import marc_tools as mt\n",
    "import plotly.express as px\n",
    "\n",
    "from pathlib import Path\n",
    "from IPython.display import clear_output\n",
    "\n",
    "# Set up plotly\n",
    "plotly.offline.init_notebook_mode()\n",
    "\n",
    "pio.templates['custom'] = go.layout.Template(\n",
    "    layout_paper_bgcolor='rgba(0,0,0,0)',\n",
    "    layout_plot_bgcolor='rgba(0,0,0,0)',\n",
    "    ) \n",
    "\n",
    "# Change background color if using VSC\n",
    "if 'VSCODE_CWD' in os.environ:\n",
    "    pio.templates.default = 'plotly+custom'\n",
    "\n",
    "# Pandas decimal precision\n",
    "pd.set_option(\"display.precision\", 2)"
   ]
  },
  {
   "cell_type": "code",
   "execution_count": null,
   "id": "dfe76fdb",
   "metadata": {},
   "outputs": [],
   "source": [
    "# Define folders\n",
    "project_dir = Path(r'C:\\Projects\\1993_Pierce_GI_riser')\n",
    "bflex_dir = project_dir / 'Bflex/Local/Top_300bar'"
   ]
  },
  {
   "cell_type": "markdown",
   "id": "719e4163",
   "metadata": {},
   "source": [
    "### BFLEX - Stress and curvature"
   ]
  },
  {
   "cell_type": "code",
   "execution_count": null,
   "id": "15b5db74",
   "metadata": {},
   "outputs": [],
   "source": [
    "# Find curvature\n",
    "for curv in bflex_dir.glob(r'*elcurvY.mpf'):\n",
    "    df_curv = mt.bflex.mpf_reader(curv)\n",
    "\n",
    "df_curv.columns = ['curv']\n",
    "\n",
    "# Find mpf_files\n",
    "df_mpf = pd.DataFrame()\n",
    "\n",
    "for mpf in bflex_dir.glob(r'*nosl?.mpf'):\n",
    "    \n",
    "    df_temp = mt.bflex.mpf_reader(mpf)\n",
    "    df_mpf = pd.concat([df_mpf, df_temp], axis=1)\n",
    "\n",
    "# Manipulate df\n",
    "df = pd.DataFrame()\n",
    "\n",
    "for i in range(17, 33):\n",
    "    df[f'P{i}'] = df_mpf.filter(regex=f'{i}').max(axis=1)\n",
    "\n",
    "df_stress = pd.concat([df_curv, df], axis=1)\n",
    "\n",
    "# Interpolate curvature\n",
    "df = pd.DataFrame({'curv' : [i/100 for i in range(0, 21)]})\n",
    "\n",
    "for col in df_stress.columns[1:]:\n",
    "    df[col] = np.interp(df.curv, df_stress.curv, df_stress[col])\n",
    "\n",
    "# df_new.columns = ['Curvature'] + [i*22.5 for i in range(0, 16)]\n",
    "pd.set_option(\"display.precision\", 2)\n",
    "df_bflex = df"
   ]
  },
  {
   "cell_type": "code",
   "execution_count": null,
   "id": "e9c7e6d8",
   "metadata": {},
   "outputs": [],
   "source": [
    "# Plotting\n",
    "fig_bf = go.Figure()\n",
    "\n",
    "for inc in range(0, 21, 5):\n",
    "    fig_bf.add_trace(go.Scatterpolar(r=df.iloc[inc, 1:],\n",
    "                                  theta=[-90 + 22.5*i for i in range(0, 17, 1)],\n",
    "                                  fill='toself',\n",
    "                                  name=f'Curv {df.curv.loc[inc]}'\n",
    "                                  ))\n",
    "\n",
    "fig_bf.update_layout(\n",
    "    polar=dict(\n",
    "        radialaxis=dict(\n",
    "            visible=True,\n",
    "            range=[0, 600]\n",
    "        )),\n",
    "    showlegend=True\n",
    ")\n",
    "\n",
    "fig_bf.update_layout(title='Stress BFLEX',\n",
    "                  autosize=False,\n",
    "                  font=dict(color='white'),\n",
    "                  width=1000, height=800)\n",
    "\n",
    "fig_bf.show()"
   ]
  },
  {
   "cell_type": "markdown",
   "id": "2444f3b1",
   "metadata": {},
   "source": [
    "### Marc"
   ]
  },
  {
   "cell_type": "markdown",
   "id": "7834217a",
   "metadata": {},
   "source": [
    "#### Stress"
   ]
  },
  {
   "cell_type": "code",
   "execution_count": null,
   "id": "c99eb00f",
   "metadata": {},
   "outputs": [],
   "source": [
    "# Bad incs\n",
    "bad_incs = [26, 28, 29, 38, 39, 40, 46, 47, 51, 57, 64, 65, 67]\n",
    "\n",
    "# Read Marc files\n",
    "marc_dir = Path(r'\\\\nas-ask-001\\Projects\\1993_Pierce_GIR_fatigue\\Marc\\jupyter_notebook')\n",
    "marc_files = marc_dir.glob('*stresses_inner_ta_inc*[0-9].csv*')\n",
    "\n",
    "# Read list with coordinates per node\n",
    "df_list = pd.read_csv(marc_dir / 'angles.csv').iloc[:,1:]\n",
    "df_list.drop('node_index', axis=1, inplace=True)\n",
    "\n",
    "# Iterate over files and create dataframe\n",
    "df = pd.DataFrame()\n",
    "\n",
    "for mf in marc_files:\n",
    "    # Read increment\n",
    "    inc = int(re.findall(r'\\d+', mf.stem)[0])\n",
    "\n",
    "    if inc in bad_incs:\n",
    "        continue\n",
    "    \n",
    "    # Read dataframe and add x, y and z coordinate\n",
    "    df_read = pd.read_csv(mf, index_col=None).iloc[:,1:]\n",
    "\n",
    "    if all(df_read['node'] == df_list['node_id']):\n",
    "        df_read = pd.concat([df_read, df_list[['z', 'theta']]], axis=1)\n",
    "\n",
    "    df = pd.concat([df, df_read], axis=0)\n",
    "\n",
    "df.sort_values(['inc', 'z', 'theta'], inplace=True)\n"
   ]
  },
  {
   "cell_type": "code",
   "execution_count": null,
   "id": "9cc86f44",
   "metadata": {},
   "outputs": [],
   "source": [
    "df_marc = pd.DataFrame()\n",
    "\n",
    "for inc in range(0, 70, 10):\n",
    "    \n",
    "    if inc < 10:\n",
    "        inc_start = inc\n",
    "        inc_end = inc + 10\n",
    "    else:\n",
    "        inc_start = inc + 1\n",
    "        inc_end = inc + 10\n",
    "\n",
    "    # print(f'Checking increments {inc_start} <= inc <= {inc_end}')\n",
    "\n",
    "    dfn = df[(df.inc <= inc_end) & (df.inc >= inc_start)]\n",
    "\n",
    "    dfn['diff'] = dfn.groupby(['inc', 'z'])['theta'].diff().gt(3).cumsum()\n",
    "\n",
    "    dfg = dfn.groupby(['inc', 'z', 'diff']).max()\n",
    "    dfg.reset_index(inplace=True)\n",
    "    dfg.drop(['diff'], axis=1, inplace=True)\n",
    "\n",
    "    df_marc = pd.concat([df_marc, dfg], axis=0)\n",
    "\n",
    "# Turn around 90 degrees to orient with bflex\n",
    "df_marc['theta'] = df_marc['theta'] - 90\n",
    "\n",
    "# Round z\n",
    "df_marc['z'] = [int(i) for i in np.round(list(df_marc['z']))]\n",
    "df_marc['inc'] = [int(i) for i in df_marc['inc']]\n",
    "df_marc['node'] = [int(i) for i in df_marc['node']]\n",
    "\n",
    "# Space saving\n",
    "df_marc = df_marc.astype({'theta': 'float32', 'stress': 'float32'})"
   ]
  },
  {
   "cell_type": "code",
   "execution_count": null,
   "id": "a50ff007",
   "metadata": {},
   "outputs": [],
   "source": [
    "# Plotting\n",
    "fig_marc = go.Figure()\n",
    "\n",
    "for inc in range(0, 71, 10):\n",
    "    df_plot = df_marc[(df_marc.inc==inc) & (df_marc.z==2209)]\n",
    "    fig_marc.add_trace(go.Scatterpolar(r=df_plot['stress'][::3],\n",
    "                                  theta=df_plot['theta'][::3],\n",
    "                                  fill='toself',\n",
    "                                  name=f'Inc {inc}'\n",
    "                                  ))\n",
    "\n",
    "fig_marc.update_layout(\n",
    "    polar=dict(\n",
    "        radialaxis=dict(\n",
    "            visible=True,\n",
    "            range=[0, 500]\n",
    "        )),\n",
    "    showlegend=True\n",
    ")\n",
    "\n",
    "fig_marc.update_layout(title='Stress Marc',\n",
    "                  autosize=False,\n",
    "                  font=dict(color='white'),\n",
    "                  width=1000, height=800)\n",
    "\n",
    "fig_marc.show()"
   ]
  },
  {
   "cell_type": "markdown",
   "id": "fe01b1e8",
   "metadata": {},
   "source": [
    "## CrossSection - Read files"
   ]
  },
  {
   "cell_type": "code",
   "execution_count": 596,
   "id": "435c0223",
   "metadata": {},
   "outputs": [],
   "source": [
    "project_folder = Path(r'V:\\1993_Pierce_GIR_fatigue\\Marc\\analysis')\n",
    "runs = ['CS'] # Folder with runs\n",
    "exclude_cases = [] # optional - cases to be excluded from post-processing\n",
    "\n",
    "df_case = mt.crossection.df_cs(project_folder, runs, positions='start')"
   ]
  },
  {
   "cell_type": "code",
   "execution_count": 597,
   "id": "6d49868e",
   "metadata": {},
   "outputs": [
    {
     "name": "stdout",
     "output_type": "stream",
     "text": [
      "30.3\n"
     ]
    }
   ],
   "source": [
    "# Marc list\n",
    "marc_list = sorted(list(set(df_marc['z'])))\n",
    "\n",
    "# Cross section list\n",
    "cs_list = [int(k) for k in df_case['nov_8inch_gir_3p_with_bs_g3_job1'].keys()]\n",
    "\n",
    "# Find closest values\n",
    "cs_dict = {}\n",
    "for cs in cs_list:\n",
    "    cs_dict[cs] = min(marc_list, key=lambda x: abs(x - cs))\n",
    "\n",
    "# Add column\n",
    "df_marc['curv'] = np.nan\n",
    "\n",
    "# Reduce dataframe to points where CS data is available\n",
    "for i, (cs_pos, marc_pos) in enumerate(cs_dict.items(), 1):\n",
    "    print(f'{i/len(cs_dict)*100:.1f} %')\n",
    "    for inc in range(0, 71, 1):\n",
    "        df_marc.loc[(df_marc.z==marc_pos) & (df_marc.inc==inc), 'curv'] = df_case['nov_8inch_gir_3p_with_bs_g3_job1'][str(cs_pos)]['K3_4'][inc]\n",
    "    clear_output(wait=True)\n",
    "\n",
    "# Remove rows where curv is na\n",
    "df_marc = df_marc[df_marc.curv.notna()]"
   ]
  },
  {
   "cell_type": "code",
   "execution_count": 594,
   "id": "52579a15",
   "metadata": {},
   "outputs": [
    {
     "name": "stdout",
     "output_type": "stream",
     "text": [
      "22.5 %\n"
     ]
    }
   ],
   "source": [
    "print(f'{20/89*100:.1f} %')"
   ]
  },
  {
   "cell_type": "markdown",
   "id": "e1754d6e",
   "metadata": {},
   "source": [
    "### Create SCF"
   ]
  },
  {
   "cell_type": "code",
   "execution_count": null,
   "id": "10ca42e5",
   "metadata": {},
   "outputs": [],
   "source": [
    "df_scf = pd.DataFrame()\n",
    "bflex_name = {-90 + 22.5*i: f'P{17+i}' for i in range(0, 16, 1)}\n",
    "\n",
    "for i, marc_pos in enumerate(sorted(list(set(df_marc['z']))), 1):\n",
    "    print(f'Pos {i} of {len(list(set(df_marc[\"z\"])))}')\n",
    "\n",
    "    # Find dictionary with bflex vs marc angles\n",
    "    theta_dict = {}\n",
    "    dft = df_marc[(df_marc.z==marc_pos) & (df_marc.inc==0)]\n",
    "\n",
    "    for bf_angle in [-90 + 22.5*i for i in range(0, 16, 1)]:\n",
    "        theta_dict[bf_angle] = min(dft.theta, key=lambda x: abs(x - bf_angle))\n",
    "\n",
    "    for inc in range(0, 71, 1):\n",
    "        # Dont go through bad increments (no input?)\n",
    "        if inc in bad_incs:\n",
    "            continue\n",
    "\n",
    "        # Create dataframe containing specific position and inc only\n",
    "        dft = df_marc[(df_marc.z==marc_pos) & (df_marc.inc==inc)]\n",
    "\n",
    "        # Find stress for correct curvature and angle\n",
    "        df_temp = dft[dft.theta.isin(theta_dict.values())]\n",
    "\n",
    "        # Find corresponding bflex stress\n",
    "        curv = df_temp.curv.iloc[0]\n",
    "        df_interp = df_bflex.iloc[(df_bflex.curv - curv).abs().argsort()[:2]]\n",
    "        y1, y2 = df_interp.iloc[0,1:], df_interp.iloc[1,1:]\n",
    "\n",
    "        linfit = scipy.interpolate.interp1d(df_interp.curv, np.vstack([y1, y2]), axis=0)\n",
    "        df_temp['stress_bflex'] = linfit(curv)\n",
    "\n",
    "        # Calculate the SCF\n",
    "        df_temp['scf'] = df_temp.stress / df_temp.stress_bflex\n",
    "\n",
    "        df_scf = pd.concat([df_scf,\n",
    "                            df_temp[['inc', 'z', 'theta', 'curv', 'stress',\n",
    "                                     'stress_bflex', 'scf']]\n",
    "                            .reset_index(drop=True)], axis=0)\n",
    "        clear_output(wait=True)\n"
   ]
  },
  {
   "cell_type": "code",
   "execution_count": null,
   "id": "0e845d68",
   "metadata": {},
   "outputs": [],
   "source": [
    "df_scf[(df_scf.inc==0) & (df_scf.z==positions[pos])]"
   ]
  },
  {
   "cell_type": "markdown",
   "id": "a6c60c62",
   "metadata": {},
   "source": [
    "## Fix so that positions refer to first position"
   ]
  },
  {
   "cell_type": "code",
   "execution_count": null,
   "id": "e9cd14c8",
   "metadata": {},
   "outputs": [],
   "source": [
    "# Plotting\n",
    "fig_scf = go.Figure()\n",
    "positions = sorted(list(set(df_scf.z)))\n",
    "pos = 25\n",
    "\n",
    "for inc in range(0, 71, 10):\n",
    "\n",
    "    # Extrat specific positinos\n",
    "    df_plot = df_scf[(df_scf.inc==inc) & (df_scf.z==positions[pos])]\n",
    "    print(df_plot.curv.iloc[0])\n",
    "\n",
    "    # Find curvature\n",
    "    curv = df_plot.curv.iloc[0]\n",
    "\n",
    "    # Plot\n",
    "    fig_scf.add_trace(go.Scatterpolar(r=df_plot['scf'][::3],\n",
    "                                  theta=df_plot['theta'][::3],\n",
    "                                  fill='toself',\n",
    "                                  name=f'Curvature {curv}'\n",
    "                                  ))\n",
    "\n",
    "fig_scf.update_layout(\n",
    "    polar=dict(\n",
    "        radialaxis=dict(\n",
    "            visible=True,\n",
    "            range=[0, 1.5]\n",
    "        )),\n",
    "    showlegend=True\n",
    ")\n",
    "\n",
    "\n",
    "fig_scf.update_layout(title=f'Stress correction factor @ {positions[pos]} mm',\n",
    "                      autosize=False,\n",
    "                      font=dict(color='white'),\n",
    "                      width=1000, height=800)\n",
    "\n",
    "fig_scf.show()"
   ]
  },
  {
   "cell_type": "markdown",
   "id": "4e67dcca",
   "metadata": {},
   "source": [
    "## Examples"
   ]
  },
  {
   "cell_type": "code",
   "execution_count": null,
   "id": "6e596c72",
   "metadata": {},
   "outputs": [],
   "source": [
    "# Plotly 3d surface with color - Example\n",
    "df_plot = df_marc.where(df_marc['inc']==60).dropna()\n",
    "\n",
    "df_plot['x'] = 200.0 * np.sin(df_plot['theta'])\n",
    "df_plot['y'] = 200.0 * np.cos(df_plot['theta'])\n",
    "\n",
    "fig = go.Figure()\n",
    "\n",
    "fig.add_trace(go.Surface(\n",
    "    x=df_plot['x'].tolist()[0:100],\n",
    "    y=df_plot['y'].tolist()[0:100],\n",
    "    z=[df_plot['z'].tolist()[0:100]]*100,\n",
    "    surfacecolor=df_plot['stress'].tolist()[0:10]\n",
    "))\n",
    "fig.update_layout(title='Stress', autosize=True,\n",
    "                  width=1000, height=800)\n",
    "\n",
    "fig.update_layout(scene=dict(xaxis=dict(range=[-200, 200]),\n",
    "                             yaxis=dict(range=[-200, 200]),\n",
    "                             zaxis=dict(range=[0, 4000])\n",
    "))\n",
    "fig.show()"
   ]
  },
  {
   "cell_type": "code",
   "execution_count": null,
   "id": "0a3c24ef",
   "metadata": {},
   "outputs": [],
   "source": [
    "# Plotly express\n",
    "fig = px.line_polar(df_marc, r='stress', theta='theta', line_close=True)\n",
    "fig.update_traces(fill='toself')\n",
    "fig.show()"
   ]
  },
  {
   "cell_type": "markdown",
   "id": "a4fca5db",
   "metadata": {},
   "source": [
    "## Read marc input"
   ]
  },
  {
   "cell_type": "code",
   "execution_count": null,
   "id": "d07e947a",
   "metadata": {},
   "outputs": [],
   "source": [
    "mf = Path(r'\\\\nas-ask-001\\Projects\\1993_Pierce_GIR_fatigue\\Marc\\analysis\\NOV_8inch_GIR_3p_with_bs_g3_job1.h5')\n",
    "\n",
    "with h5py.File(mf, 'r') as f:\n",
    "    print(f'Keys {f[\"Marc\"][\"Results\"][\"Element\"][\"Tensor\"][\"Cauchy Stress in Preferred Sys\"].keys()}')\n"
   ]
  },
  {
   "cell_type": "code",
   "execution_count": null,
   "id": "a313007a",
   "metadata": {},
   "outputs": [],
   "source": []
  }
 ],
 "metadata": {
  "interpreter": {
   "hash": "1baa965d5efe3ac65b79dfc60c0d706280b1da80fedb7760faf2759126c4f253"
  },
  "kernelspec": {
   "display_name": "marc-tools",
   "language": "python",
   "name": "python3"
  },
  "language_info": {
   "codemirror_mode": {
    "name": "ipython",
    "version": 3
   },
   "file_extension": ".py",
   "mimetype": "text/x-python",
   "name": "python",
   "nbconvert_exporter": "python",
   "pygments_lexer": "ipython3",
   "version": "3.8.10"
  },
  "toc": {
   "base_numbering": 1,
   "nav_menu": {},
   "number_sections": true,
   "sideBar": true,
   "skip_h1_title": false,
   "title_cell": "Table of Contents",
   "title_sidebar": "Contents",
   "toc_cell": false,
   "toc_position": {},
   "toc_section_display": true,
   "toc_window_display": false
  },
  "varInspector": {
   "cols": {
    "lenName": 16,
    "lenType": 16,
    "lenVar": 40
   },
   "kernels_config": {
    "python": {
     "delete_cmd_postfix": "",
     "delete_cmd_prefix": "del ",
     "library": "var_list.py",
     "varRefreshCmd": "print(var_dic_list())"
    },
    "r": {
     "delete_cmd_postfix": ") ",
     "delete_cmd_prefix": "rm(",
     "library": "var_list.r",
     "varRefreshCmd": "cat(var_dic_list()) "
    }
   },
   "types_to_exclude": [
    "module",
    "function",
    "builtin_function_or_method",
    "instance",
    "_Feature"
   ],
   "window_display": false
  }
 },
 "nbformat": 4,
 "nbformat_minor": 5
}

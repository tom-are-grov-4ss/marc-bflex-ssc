{
 "cells": [
  {
   "cell_type": "markdown",
   "id": "655ef8b7",
   "metadata": {
    "ExecuteTime": {
     "end_time": "2022-01-12T14:33:54.844078Z",
     "start_time": "2022-01-12T14:33:54.826199Z"
    }
   },
   "source": [
    "# Marc tools"
   ]
  },
  {
   "cell_type": "markdown",
   "id": "2ccf6f8c",
   "metadata": {
    "ExecuteTime": {
     "end_time": "2022-01-12T14:34:06.585963Z",
     "start_time": "2022-01-12T14:34:06.576972Z"
    }
   },
   "source": [
    "## Import"
   ]
  },
  {
   "cell_type": "code",
   "execution_count": null,
   "id": "6aca0cb9",
   "metadata": {},
   "outputs": [],
   "source": [
    "import os\n",
    "import plotly\n",
    "import importlib\n",
    "import re\n",
    "import h5py\n",
    "import parquet\n",
    "\n",
    "import numpy as np\n",
    "import pandas as pd\n",
    "import plotly.io as pio\n",
    "import plotly.graph_objs as go\n",
    "import marc_tools as mt\n",
    "import plotly.express as px\n",
    "\n",
    "from pathlib import Path\n",
    "\n",
    "# Set up plotly\n",
    "plotly.offline.init_notebook_mode()\n",
    "\n",
    "pio.templates['custom'] = go.layout.Template(\n",
    "    layout_paper_bgcolor='rgba(0,0,0,0)',\n",
    "    layout_plot_bgcolor='rgba(0,0,0,0)',\n",
    "    ) \n",
    "\n",
    "# Change background color if using VSC\n",
    "if 'VSCODE_CWD' in os.environ:\n",
    "    pio.templates.default = 'plotly+custom'"
   ]
  },
  {
   "cell_type": "code",
   "execution_count": null,
   "id": "9599e811",
   "metadata": {},
   "outputs": [],
   "source": [
    "importlib.reload(mt.scf)\n",
    "importlib.reload(mt.general)\n",
    "importlib.reload(mt.bflex)"
   ]
  },
  {
   "cell_type": "code",
   "execution_count": null,
   "id": "dfe76fdb",
   "metadata": {},
   "outputs": [],
   "source": [
    "# Define folders\n",
    "project_dir = Path(r'C:\\Projects\\1993_Pierce_GI_riser')\n",
    "bflex_dir = project_dir / 'Bflex/Local/Top_300bar'"
   ]
  },
  {
   "cell_type": "code",
   "execution_count": null,
   "id": "15b5db74",
   "metadata": {},
   "outputs": [],
   "source": [
    "# Find curvature\n",
    "for curv in bflex_dir.glob(r'*elcurvY.mpf'):\n",
    "    df_curv = mt.bflex.mpf_reader(curv)\n",
    "\n",
    "df_curv.columns = ['curv']\n",
    "\n",
    "# Find mpf_files\n",
    "df_mpf = pd.DataFrame()\n",
    "\n",
    "for mpf in bflex_dir.glob(r'*nosl?.mpf'):\n",
    "    \n",
    "    df_temp = mt.bflex.mpf_reader(mpf)\n",
    "    df_mpf = pd.concat([df_mpf, df_temp], axis=1)\n",
    "\n",
    "# Manipulate df\n",
    "df = pd.DataFrame()\n",
    "\n",
    "for i in range(17, 33):\n",
    "    df[f'P{i}'] = df_mpf.filter(regex=f'{i}').max(axis=1)\n",
    "\n",
    "df_stress = pd.concat([df_curv, df], axis=1)\n",
    "\n",
    "# Interpolate curvature\n",
    "df = pd.DataFrame({'curv' : [i/100 for i in range(0, 21)]})\n",
    "\n",
    "for col in df_stress.columns[1:]:\n",
    "    df[col] = np.interp(df.curv, df_stress.curv, df_stress[col])\n",
    "\n",
    "# df_new.columns = ['Curvature'] + [i*22.5 for i in range(0, 16)]\n",
    "df"
   ]
  },
  {
   "cell_type": "code",
   "execution_count": null,
   "id": "ad8da7bb",
   "metadata": {},
   "outputs": [],
   "source": [
    "# Plot\n",
    "df_plot = df[df.columns[1:]].set_index(df.curv)\n",
    "fig = go.Figure(data=[go.Surface(z=df_plot)])\n",
    "fig.update_layout(title='Stress', autosize=False,\n",
    "                  width=1000, height=800)\n",
    "fig.show()"
   ]
  },
  {
   "cell_type": "code",
   "execution_count": null,
   "id": "c99eb00f",
   "metadata": {},
   "outputs": [],
   "source": [
    "# Bad incs\n",
    "bad_incs = [26, 28, 29, 38, 39, 40, 46, 47, 51, 57, 64, 65, 67]\n",
    "\n",
    "# Read Marc files\n",
    "marc_dir = Path(r'\\\\nas-ask-001\\Projects\\1993_Pierce_GIR_fatigue\\Marc\\jupyter_notebook')\n",
    "marc_files = marc_dir.glob('*stresses_inner_ta_inc*[0-9].csv*')\n",
    "\n",
    "# Read list with coordinates per node\n",
    "df_list = pd.read_csv(marc_dir / 'angles.csv').iloc[:,1:]\n",
    "df_list.drop('node_index', axis=1, inplace=True)\n",
    "\n",
    "# Iterate over files and create dataframe\n",
    "df = pd.DataFrame()\n",
    "\n",
    "for mf in marc_files:\n",
    "    # Read increment\n",
    "    inc = int(re.findall(r'\\d+', mf.stem)[0])\n",
    "\n",
    "    if inc in bad_incs:\n",
    "        continue\n",
    "    \n",
    "    # Read dataframe and add x, y and z coordinate\n",
    "    df_read = pd.read_csv(mf, index_col=None).iloc[:,1:]\n",
    "\n",
    "    if all(df_read['node'] == df_list['node_id']):\n",
    "        df_read = pd.concat([df_read, df_list[['z', 'theta']]], axis=1)\n",
    "\n",
    "    df = pd.concat([df, df_read], axis=0)\n",
    "\n",
    "df.sort_values(['inc', 'z', 'theta'], inplace=True)\n"
   ]
  },
  {
   "cell_type": "code",
   "execution_count": null,
   "id": "6e553467",
   "metadata": {},
   "outputs": [],
   "source": [
    "dfn = df.where(df['inc'] < 10).dropna()\n",
    "\n",
    "dfn['diff'] = dfn.groupby('inc')['theta'].diff().gt(3).cumsum()\n",
    "\n",
    "dfg = dfn.groupby(['inc', 'diff']).max()\n",
    "dfg.reset_index(inplace=True)\n",
    "dfg.drop(['diff'], axis=1, inplace=True)\n",
    "dfg"
   ]
  },
  {
   "cell_type": "code",
   "execution_count": null,
   "id": "9cc86f44",
   "metadata": {},
   "outputs": [],
   "source": [
    "df_res = pd.DataFrame()\n",
    "\n",
    "for inc in range(0, 70, 10):\n",
    "    \n",
    "    if inc < 10:\n",
    "        inc_start = inc\n",
    "        inc_end = inc + 10\n",
    "    else:\n",
    "        inc_start = inc + 1\n",
    "        inc_end = inc + 10\n",
    "\n",
    "    # print(f'Checking increments {inc_start} <= inc <= {inc_end}')\n",
    "\n",
    "    dfn = df.where(df['inc'] <= inc_end).where(df['inc'] >= inc_start).dropna()\n",
    "\n",
    "    dfn['diff'] = dfn.groupby(['inc', 'z'])['theta'].diff().gt(3).cumsum()\n",
    "\n",
    "    dfg = dfn.groupby(['inc', 'diff']).max()\n",
    "    dfg.reset_index(inplace=True)\n",
    "    dfg.drop(['diff'], axis=1, inplace=True)\n",
    "\n",
    "    df_res = pd.concat([df_res, dfg], axis=0)\n"
   ]
  },
  {
   "cell_type": "code",
   "execution_count": null,
   "id": "172820fc",
   "metadata": {},
   "outputs": [],
   "source": [
    "df_res"
   ]
  },
  {
   "cell_type": "code",
   "execution_count": null,
   "id": "a522ff32",
   "metadata": {},
   "outputs": [],
   "source": [
    "# Plotly express\n",
    "fig = px.line_polar(df_res, r='stress', theta='theta', line_close=True)\n",
    "fig.update_traces(fill='toself')\n",
    "fig.show()"
   ]
  },
  {
   "cell_type": "code",
   "execution_count": null,
   "id": "177fead2",
   "metadata": {},
   "outputs": [],
   "source": [
    "fig = go.Figure()\n",
    "\n",
    "for inc in range(0, 10, 10):\n",
    "    fig.add_trace(go.Scatterpolar(\n",
    "        r=df_res['stress'].where(df_res['inc']==inc),\n",
    "        theta = df_res['theta'].where(df_res['inc']==inc),\n",
    "        fill='toself',\n",
    "        name=f'Inc {inc}'\n",
    "    ))\n",
    "\n",
    "fig.update_layout(\n",
    "  polar=dict(\n",
    "    radialaxis=dict(\n",
    "      visible=True,\n",
    "      range=[200, 500]\n",
    "    )),\n",
    "  showlegend=False\n",
    ")\n",
    "fig.update_layout(title='Stress', autosize=False,\n",
    "                  width=1000, height=800)\n",
    "fig.show()"
   ]
  },
  {
   "cell_type": "markdown",
   "id": "b10b5723",
   "metadata": {},
   "source": [
    "## Read marc input"
   ]
  },
  {
   "cell_type": "code",
   "execution_count": null,
   "id": "b50f7391",
   "metadata": {},
   "outputs": [],
   "source": [
    "mf = Path(r'\\\\nas-ask-001\\Projects\\1993_Pierce_GIR_fatigue\\Marc\\analysis\\NOV_8inch_GIR_3p_with_bs_g3_job1.h5')"
   ]
  },
  {
   "cell_type": "code",
   "execution_count": null,
   "id": "e8d291fb",
   "metadata": {},
   "outputs": [],
   "source": [
    "with h5py.File(mf, 'r') as f:\n",
    "    print(f'Keys {f[\"Marc\"][\"Results\"][\"Element\"][\"Tensor\"][\"Cauchy Stress in Preferred Sys\"].keys()}')\n",
    "\n"
   ]
  }
 ],
 "metadata": {
  "interpreter": {
   "hash": "1baa965d5efe3ac65b79dfc60c0d706280b1da80fedb7760faf2759126c4f253"
  },
  "kernelspec": {
   "display_name": "marc-tools",
   "language": "python",
   "name": "python3"
  },
  "language_info": {
   "codemirror_mode": {
    "name": "ipython",
    "version": 3
   },
   "file_extension": ".py",
   "mimetype": "text/x-python",
   "name": "python",
   "nbconvert_exporter": "python",
   "pygments_lexer": "ipython3",
   "version": "3.8.10"
  },
  "toc": {
   "base_numbering": 1,
   "nav_menu": {},
   "number_sections": true,
   "sideBar": true,
   "skip_h1_title": false,
   "title_cell": "Table of Contents",
   "title_sidebar": "Contents",
   "toc_cell": false,
   "toc_position": {},
   "toc_section_display": true,
   "toc_window_display": false
  },
  "varInspector": {
   "cols": {
    "lenName": 16,
    "lenType": 16,
    "lenVar": 40
   },
   "kernels_config": {
    "python": {
     "delete_cmd_postfix": "",
     "delete_cmd_prefix": "del ",
     "library": "var_list.py",
     "varRefreshCmd": "print(var_dic_list())"
    },
    "r": {
     "delete_cmd_postfix": ") ",
     "delete_cmd_prefix": "rm(",
     "library": "var_list.r",
     "varRefreshCmd": "cat(var_dic_list()) "
    }
   },
   "types_to_exclude": [
    "module",
    "function",
    "builtin_function_or_method",
    "instance",
    "_Feature"
   ],
   "window_display": false
  }
 },
 "nbformat": 4,
 "nbformat_minor": 5
}
